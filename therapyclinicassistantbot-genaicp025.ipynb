{
 "cells": [
  {
   "cell_type": "markdown",
   "id": "5b5c0497",
   "metadata": {
    "papermill": {
     "duration": 0.007422,
     "end_time": "2025-04-20T04:26:47.368892",
     "exception": false,
     "start_time": "2025-04-20T04:26:47.361470",
     "status": "completed"
    },
    "tags": []
   },
   "source": [
    "# **Therapy Clinic Assistant Chatbot-Google GenAI Capstone Project 2025**"
   ]
  },
  {
   "cell_type": "markdown",
   "id": "abd1e6f3",
   "metadata": {
    "papermill": {
     "duration": 0.005797,
     "end_time": "2025-04-20T04:26:47.381052",
     "exception": false,
     "start_time": "2025-04-20T04:26:47.375255",
     "status": "completed"
    },
    "tags": []
   },
   "source": [
    "## Introduction\n",
    "\n",
    "In this notebook, a generative AI-powered virtual support agent is built tailored for a psychology and consulting center. The goal is to create an empathetic, intelligent assistant that:\n",
    "- Answers client FAQs with warmth and clarity\n",
    "- Supports resource delivery and appointment flow\n",
    "- Leverages Gen AI capabilities including **few-shot prompting, embeddings + RAG, and structured output**\n",
    "- Receives clients information to book an appointment for them\n",
    "- Makes conversations so clients feel welcomes and supported there.\n",
    "- Feel free to check out the [Weblog](https://sites.google.com/view/therapygenaiproject/home) and the [Youtube video](http://https://sites.google.com/view/therapygenaiproject/home) about this project.\n",
    "\n",
    "This project is part of the **Google Gen AI Intensive Course Capstone 2025Q1**.\n",
    "\n",
    "Thank you and appriciate if you could comment and share your thoughts.\n"
   ]
  },
  {
   "cell_type": "markdown",
   "id": "4bd67f92",
   "metadata": {
    "papermill": {
     "duration": 0.005948,
     "end_time": "2025-04-20T04:26:47.394210",
     "exception": false,
     "start_time": "2025-04-20T04:26:47.388262",
     "status": "completed"
    },
    "tags": []
   },
   "source": [
    "** BEFORE RUNNING:**\n",
    "Please wait patiently until dependencies are downloaded, it takes couple minutes.\n",
    "In order to run some sells you need to input some data, please fill the input tabs with correct info.\n"
   ]
  },
  {
   "cell_type": "code",
   "execution_count": 1,
   "id": "171c48ef",
   "metadata": {
    "_cell_guid": "b1076dfc-b9ad-4769-8c92-a6c4dae69d19",
    "_uuid": "8f2839f25d086af736a60e9eeb907d3b93b6e0e5",
    "execution": {
     "iopub.execute_input": "2025-04-20T04:26:47.407476Z",
     "iopub.status.busy": "2025-04-20T04:26:47.407143Z",
     "iopub.status.idle": "2025-04-20T04:26:54.164833Z",
     "shell.execute_reply": "2025-04-20T04:26:54.163756Z"
    },
    "papermill": {
     "duration": 6.766228,
     "end_time": "2025-04-20T04:26:54.166556",
     "exception": false,
     "start_time": "2025-04-20T04:26:47.400328",
     "status": "completed"
    },
    "tags": []
   },
   "outputs": [
    {
     "name": "stdout",
     "output_type": "stream",
     "text": [
      "\u001b[2K   \u001b[90m━━━━━━━━━━━━━━━━━━━━━━━━━━━━━━━━━━━━━━━━\u001b[0m \u001b[32m144.7/144.7 kB\u001b[0m \u001b[31m3.8 MB/s\u001b[0m eta \u001b[36m0:00:00\u001b[0m\r\n",
      "\u001b[2K   \u001b[90m━━━━━━━━━━━━━━━━━━━━━━━━━━━━━━━━━━━━━━━━\u001b[0m \u001b[32m100.9/100.9 kB\u001b[0m \u001b[31m4.7 MB/s\u001b[0m eta \u001b[36m0:00:00\u001b[0m\r\n",
      "\u001b[?25h/kaggle/input/therapy-centre-faqs/Therapy-Centre-FAQs.json\n"
     ]
    }
   ],
   "source": [
    "!pip install -qU \"google-genai==1.7.0\"\n",
    "\n",
    "import os\n",
    "import numpy as np \n",
    "from IPython.display import Markdown, display # Display and Print prettier\n",
    "\n",
    "# Checking the dataset inquiry \n",
    "for dirname, _, filenames in os.walk('/kaggle/input'):\n",
    "    for filename in filenames:\n",
    "        print(os.path.join(dirname, filename))"
   ]
  },
  {
   "cell_type": "code",
   "execution_count": 2,
   "id": "885eeae2",
   "metadata": {
    "execution": {
     "iopub.execute_input": "2025-04-20T04:26:54.181870Z",
     "iopub.status.busy": "2025-04-20T04:26:54.181492Z",
     "iopub.status.idle": "2025-04-20T04:26:55.835776Z",
     "shell.execute_reply": "2025-04-20T04:26:55.834663Z"
    },
    "papermill": {
     "duration": 1.664228,
     "end_time": "2025-04-20T04:26:55.837606",
     "exception": false,
     "start_time": "2025-04-20T04:26:54.173378",
     "status": "completed"
    },
    "tags": []
   },
   "outputs": [],
   "source": [
    "from google import genai\n",
    "from google.genai import types\n",
    "from google.api_core import retry\n",
    "\n",
    "is_retriable = lambda e: (isinstance(e, genai.errors.APIError) and e.code in {429, 503})\n",
    "\n",
    "genai.models.Models.generate_content = retry.Retry(\n",
    "    predicate=is_retriable)(genai.models.Models.generate_content)"
   ]
  },
  {
   "cell_type": "code",
   "execution_count": 3,
   "id": "72301c16",
   "metadata": {
    "execution": {
     "iopub.execute_input": "2025-04-20T04:26:55.852039Z",
     "iopub.status.busy": "2025-04-20T04:26:55.851551Z",
     "iopub.status.idle": "2025-04-20T04:26:56.409670Z",
     "shell.execute_reply": "2025-04-20T04:26:56.408529Z"
    },
    "papermill": {
     "duration": 0.567034,
     "end_time": "2025-04-20T04:26:56.411211",
     "exception": false,
     "start_time": "2025-04-20T04:26:55.844177",
     "status": "completed"
    },
    "tags": []
   },
   "outputs": [
    {
     "name": "stdout",
     "output_type": "stream",
     "text": [
      "models/embedding-001\n",
      "models/text-embedding-004\n",
      "models/gemini-embedding-exp-03-07\n",
      "models/gemini-embedding-exp\n"
     ]
    }
   ],
   "source": [
    "from kaggle_secrets import UserSecretsClient\n",
    "\n",
    "GOOGLE_API_KEY = UserSecretsClient().get_secret(\"GOOGLE_API_KEY\")\n",
    "\n",
    "client = genai.Client(api_key=GOOGLE_API_KEY)\n",
    "\n",
    "for model in client.models.list():\n",
    "  if 'embedContent' in model.supported_actions:\n",
    "    print(model.name)"
   ]
  },
  {
   "cell_type": "markdown",
   "id": "1b37d6e5",
   "metadata": {
    "papermill": {
     "duration": 0.006098,
     "end_time": "2025-04-20T04:26:56.423878",
     "exception": false,
     "start_time": "2025-04-20T04:26:56.417780",
     "status": "completed"
    },
    "tags": []
   },
   "source": [
    "## Dataset"
   ]
  },
  {
   "cell_type": "markdown",
   "id": "298a4bdc",
   "metadata": {
    "papermill": {
     "duration": 0.00594,
     "end_time": "2025-04-20T04:26:56.436153",
     "exception": false,
     "start_time": "2025-04-20T04:26:56.430213",
     "status": "completed"
    },
    "tags": []
   },
   "source": [
    "\n",
    "**Lets Check The FAQ Questions:**\n",
    "There are twenty FAQ items in this dataset."
   ]
  },
  {
   "cell_type": "code",
   "execution_count": 4,
   "id": "be20a84c",
   "metadata": {
    "execution": {
     "iopub.execute_input": "2025-04-20T04:26:56.452554Z",
     "iopub.status.busy": "2025-04-20T04:26:56.452186Z",
     "iopub.status.idle": "2025-04-20T04:26:56.464580Z",
     "shell.execute_reply": "2025-04-20T04:26:56.463347Z"
    },
    "papermill": {
     "duration": 0.022094,
     "end_time": "2025-04-20T04:26:56.466130",
     "exception": false,
     "start_time": "2025-04-20T04:26:56.444036",
     "status": "completed"
    },
    "tags": []
   },
   "outputs": [
    {
     "data": {
      "text/markdown": [
       "|Questions | Answer | \n",
       "|----------|----------|\n",
       "| What services do you offer? |  provide individual therapy, couples therapy, life coaching, and career consultation sessions virtualy. |\n",
       "| Do you only offer online sessions? | Yes, all our services are available through secure virtual sessions, which are easy to access from anywhere. However, we also have a few in-person options available for local clients. Please remebebr that the fisrt session is always virtual. |\n",
       "| How do I book a session? | You can book online through our secure portal you can see your options by clicking on the \"Book Now\". We'll help you find the best time slot. |\n",
       "| Is therapy confidential? | Yes. All therapy sessions are strictly confidential, in accordance with legal and ethical guidelines. Exceptions apply only in rare safety-related cases. |\n",
       "| How much does a session cost? | Our sessions range from $50 to $160 depending on the service and provider. We offer sliding scale rates in some cases. |\n"
      ],
      "text/plain": [
       "<IPython.core.display.Markdown object>"
      ]
     },
     "metadata": {},
     "output_type": "display_data"
    }
   ],
   "source": [
    "import json\n",
    "faq_path = \"/kaggle/input/therapy-centre-faqs/Therapy-Centre-FAQs.json\"\n",
    "with open(faq_path, \"r\") as f:\n",
    "    faq_data = json.load(f)\n",
    "md_output = \"|Questions | Answer | \\n|----------|----------|\\n\"\n",
    "for item in faq_data[:5]: # There are 15 [0-14] FAQ items in this dataset as a sample\n",
    "    md_output += f\"| {item['question']} | {item['answer']} |\\n\"\n",
    "display(Markdown(md_output))    \n",
    "    "
   ]
  },
  {
   "cell_type": "markdown",
   "id": "f09940ca",
   "metadata": {
    "papermill": {
     "duration": 0.006401,
     "end_time": "2025-04-20T04:26:56.479493",
     "exception": false,
     "start_time": "2025-04-20T04:26:56.473092",
     "status": "completed"
    },
    "tags": []
   },
   "source": [
    "Next is **Embeddings for the FAQ items**, by this step I transform the questions into vector representations for *semantic search* (I want to make sure if a client uses other words or phrases which mean the same as one my FAQ items the bot will catch it). Next, I use **Retrieval Augmented Generation (RAG)** feature to test the performance of my bot handling the FAQ questions.\n",
    "\n",
    "\n",
    "Other momdels like flan-t5 or gemma could be used, during the next steps it will be explained why this model is chosen."
   ]
  },
  {
   "cell_type": "code",
   "execution_count": 5,
   "id": "cba1111f",
   "metadata": {
    "execution": {
     "iopub.execute_input": "2025-04-20T04:26:56.493905Z",
     "iopub.status.busy": "2025-04-20T04:26:56.493574Z",
     "iopub.status.idle": "2025-04-20T04:26:59.269160Z",
     "shell.execute_reply": "2025-04-20T04:26:59.268061Z"
    },
    "papermill": {
     "duration": 2.78492,
     "end_time": "2025-04-20T04:26:59.270959",
     "exception": false,
     "start_time": "2025-04-20T04:26:56.486039",
     "status": "completed"
    },
    "tags": []
   },
   "outputs": [],
   "source": [
    "def get_google_embedding(text):\n",
    "    response = client.models.embed_content(\n",
    "        model=\"models/text-embedding-004\",\n",
    "        contents=text,\n",
    "        config=types.EmbedContentConfig(task_type=\"retrieval_document\")\n",
    "    )\n",
    "    return response.embeddings[0].values\n",
    "    \n",
    "questions = [item['question'] for item in faq_data]\n",
    "answers = [item['answer'] for item in faq_data]\n",
    "question_embeddings = [get_google_embedding(q) for q in questions]"
   ]
  },
  {
   "cell_type": "code",
   "execution_count": 6,
   "id": "97c5fa6d",
   "metadata": {
    "execution": {
     "iopub.execute_input": "2025-04-20T04:26:59.285841Z",
     "iopub.status.busy": "2025-04-20T04:26:59.285551Z",
     "iopub.status.idle": "2025-04-20T04:27:01.082284Z",
     "shell.execute_reply": "2025-04-20T04:27:01.081228Z"
    },
    "papermill": {
     "duration": 1.806205,
     "end_time": "2025-04-20T04:27:01.084061",
     "exception": false,
     "start_time": "2025-04-20T04:26:59.277856",
     "status": "completed"
    },
    "tags": []
   },
   "outputs": [],
   "source": [
    "from sklearn.metrics.pairwise import cosine_similarity\n",
    "\n",
    "def get_faq_item(user_query, top_k=1):\n",
    "    query_embedding = get_google_embedding(user_query)\n",
    "    \n",
    "    similarities = cosine_similarity(\n",
    "        np.array(query_embedding).reshape(1, -1),\n",
    "        np.array(question_embeddings)\n",
    "    )[0]\n",
    "\n",
    "    top_indices = similarities.argsort()[::-1][:top_k]\n",
    "    return [answers[i] for i in top_indices]"
   ]
  },
  {
   "cell_type": "markdown",
   "id": "41120071",
   "metadata": {
    "papermill": {
     "duration": 0.006404,
     "end_time": "2025-04-20T04:27:01.097568",
     "exception": false,
     "start_time": "2025-04-20T04:27:01.091164",
     "status": "completed"
    },
    "tags": []
   },
   "source": [
    "Creating **answer function** with **RAG**"
   ]
  },
  {
   "cell_type": "code",
   "execution_count": 7,
   "id": "ecc12c14",
   "metadata": {
    "execution": {
     "iopub.execute_input": "2025-04-20T04:27:01.112640Z",
     "iopub.status.busy": "2025-04-20T04:27:01.112143Z",
     "iopub.status.idle": "2025-04-20T04:27:01.310268Z",
     "shell.execute_reply": "2025-04-20T04:27:01.309262Z"
    },
    "papermill": {
     "duration": 0.207284,
     "end_time": "2025-04-20T04:27:01.311909",
     "exception": false,
     "start_time": "2025-04-20T04:27:01.104625",
     "status": "completed"
    },
    "tags": []
   },
   "outputs": [
    {
     "data": {
      "text/markdown": [
       "**User:** I want to try a session and see how it goes, How can I book a one?<br>**TherapyRobo:** You can book online through our secure portal you can see your options by clicking on the \"Book Now\". We'll help you find the best time slot."
      ],
      "text/plain": [
       "<IPython.core.display.Markdown object>"
      ]
     },
     "metadata": {},
     "output_type": "display_data"
    }
   ],
   "source": [
    "# For example\n",
    "user_input = \"I want to try a session and see how it goes, How can I book a one?\"\n",
    "response = get_faq_item(user_input)[0]\n",
    "display(Markdown(f\"**User:** {user_input}<br>**TherapyRobo:** {response}\"))"
   ]
  },
  {
   "cell_type": "markdown",
   "id": "df1cccd7",
   "metadata": {
    "papermill": {
     "duration": 0.006307,
     "end_time": "2025-04-20T04:27:01.324935",
     "exception": false,
     "start_time": "2025-04-20T04:27:01.318628",
     "status": "completed"
    },
    "tags": []
   },
   "source": [
    "Great, we see that FAQ bot is working, but clearly our purpose is beyond that, lets continue..."
   ]
  },
  {
   "cell_type": "markdown",
   "id": "c3ca454c",
   "metadata": {
    "papermill": {
     "duration": 0.006266,
     "end_time": "2025-04-20T04:27:01.337703",
     "exception": false,
     "start_time": "2025-04-20T04:27:01.331437",
     "status": "completed"
    },
    "tags": []
   },
   "source": [
    "## **Few Shot Prompting**\n",
    "\n",
    "In this step by the help of the Gen AI model, the responses sound emothionaly intelligent, empathic and reliable. "
   ]
  },
  {
   "cell_type": "code",
   "execution_count": 8,
   "id": "aa0e2561",
   "metadata": {
    "execution": {
     "iopub.execute_input": "2025-04-20T04:27:01.352309Z",
     "iopub.status.busy": "2025-04-20T04:27:01.351949Z",
     "iopub.status.idle": "2025-04-20T04:27:03.068141Z",
     "shell.execute_reply": "2025-04-20T04:27:03.067075Z"
    },
    "papermill": {
     "duration": 1.725247,
     "end_time": "2025-04-20T04:27:03.069646",
     "exception": false,
     "start_time": "2025-04-20T04:27:01.344399",
     "status": "completed"
    },
    "tags": []
   },
   "outputs": [
    {
     "data": {
      "text/markdown": [
       "**Few-shot Prompt**\n",
       "\n",
       "**Instruction**: You are TherapyRobo — a supportive, emotionally intelligent virtual therapist assistant. \n",
       "\n",
       "**User**: Hey, I'm just wondering... what if I feel like my therapist isn't really listening to me? It's just... frustrating.\n",
       "\n",
       "**TherapyRobo**: I hear you. It can be really frustrating when you feel like you're not being heard. If that happens, it's important to address it. You could try talking to your therapist directly about it, or if that feels too difficult, we can help you explore other options, like finding a different therapist within our practice. We want you to feel comfortable and understood."
      ],
      "text/plain": [
       "<IPython.core.display.Markdown object>"
      ]
     },
     "metadata": {},
     "output_type": "display_data"
    }
   ],
   "source": [
    "few_shot_prompt = [\n",
    "    {\n",
    "        \"user\": \"I'm nervous about starting therapy.\", \n",
    "        \"bot\": \"That’s completely understandable. Many people feel that way. Would you like to know what to expect in your first session?\"\n",
    "    },\n",
    "    {\n",
    "        \"user\": \"I’ve never talked to anyone about this before.\", \n",
    "        \"bot\": \"Thank you for trusting us. You’ve taken a brave first step. We’re here to support you.\"\n",
    "    },\n",
    "    {\n",
    "        \"user\": \"I feel overwhelmed lately and don't know who to talk to.\", \n",
    "        \"bot\": \"You’re not alone in feeling that way. We're here to help you take small steps toward feeling better. Would it help to talk about how your day usually goes?\"\n",
    "    },\n",
    "    {\n",
    "        \"user\": \"Is therapy confidential?\", \n",
    "        \"bot\": \"Yes, confidentiality is very important to us. We can explain what that means and when exceptions might apply.\"\n",
    "    },\n",
    "    {\n",
    "        \"user\": \"What if I don’t feel comfortable with my therapist?\", \n",
    "        \"bot\": \"That's absolutely understandable. Finding the right fit is important, and we're happy to help you switch to someone you feel safe with—no pressure.\"\n",
    "    }]\n",
    "\n",
    "def few_shot(user_message):\n",
    "     prompt = \"\"\"\n",
    "        You are TherapyRobo — a supportive, emotionally intelligent virtual therapist assistant. \n",
    "        You are responding to a client who may be skeptical, nervous, or emotionally guarded.\n",
    "        \n",
    "        Your tone should be kind, validating, human-like, and never robotic or overly promotional. \n",
    "        You may acknowledge their hesitation, and gently offer support or booking info if appropriate.\n",
    "        \n",
    "        The clinic website is: https://TherapyClinic.com  \n",
    "        The phone number is: +1 234 000 1111\n",
    "        \"\"\"\n",
    "     for ex in few_shot_prompt:\n",
    "        prompt += f\"User: {ex['user']}\\nTherapyRobo: {ex['bot']}\\n\"\n",
    "     prompt += f\"User: {user_message}\\nTherapyRobo:\"\n",
    "     return prompt\n",
    "\n",
    "\n",
    "prompt = f\"\"\"You are simulating a random client asking FAQ style question from the Therapybot chatbox,\n",
    "    Don't use \"ok, here it goes\". remember it's a typed conversation,don't type sounds.you should sound like a human, nice, stressed, angry, tired. Never bold a word and do not make sounds like: ugh. However you're questions should be reasonable and short\"\"\"\n",
    "    \n",
    "response = client.models.generate_content(\n",
    "    model=\"gemini-2.0-flash\",\n",
    "    contents=prompt,\n",
    "    config=types.GenerateContentConfig(\n",
    "        temperature=0.1,\n",
    "        max_output_tokens=256\n",
    "    )\n",
    ")\n",
    "sample_client = response.text.strip()\n",
    "faq_prompt = few_shot(sample_client)\n",
    "\n",
    "lines = faq_prompt.strip().split(\"\\n\")\n",
    "instruction = lines[0]\n",
    "def gemini_faq_handler(prompt_text, display_response=True): #prompt_text should be a variable = few_shot(client message here)\n",
    "    \"\"\"\n",
    "    Generate a short response from a given prompt.\n",
    "    The clinic website is: https://TherapyClinic.com and Phone number:+1 234 000 1111\n",
    "    Args:\n",
    "        prompt_text (str): The full prompt to send to the Gemini model.\n",
    "        display_response (bool): If True, the result will be displayed using Markdown.\n",
    "\n",
    "    Returns:\n",
    "        str: The raw response text from Gemini.\n",
    "    \"\"\"\n",
    "    response = client.models.generate_content(\n",
    "        model=\"gemini-2.0-flash\",\n",
    "        contents=prompt_text,\n",
    "        config=types.GenerateContentConfig( \n",
    "            temperature=0.5,\n",
    "            top_p=1,\n",
    "            top_k=1,\n",
    "            max_output_tokens=300\n",
    "        )\n",
    "    )\n",
    "    return response.text.strip()\n",
    "    \n",
    "robo_response = gemini_faq_handler(faq_prompt)\n",
    "display(Markdown(f\"**Few-shot Prompt**\\n\\n**Instruction**: {instruction}\\n\\n**User**: {sample_client}\\n\\n**TherapyRobo**: {robo_response}\"))"
   ]
  },
  {
   "cell_type": "markdown",
   "id": "2a7f6432",
   "metadata": {
    "papermill": {
     "duration": 0.00672,
     "end_time": "2025-04-20T04:27:03.083638",
     "exception": false,
     "start_time": "2025-04-20T04:27:03.076918",
     "status": "completed"
    },
    "tags": []
   },
   "source": [
    "## **Document Parsing**\n",
    "\n",
    "Strucring information taken from simulated a session intake form received from a client. XXXPDF FormXXX"
   ]
  },
  {
   "cell_type": "code",
   "execution_count": 9,
   "id": "22884e3a",
   "metadata": {
    "execution": {
     "iopub.execute_input": "2025-04-20T04:27:03.098388Z",
     "iopub.status.busy": "2025-04-20T04:27:03.098052Z",
     "iopub.status.idle": "2025-04-20T04:27:04.043936Z",
     "shell.execute_reply": "2025-04-20T04:27:04.043087Z"
    },
    "papermill": {
     "duration": 0.955145,
     "end_time": "2025-04-20T04:27:04.045555",
     "exception": false,
     "start_time": "2025-04-20T04:27:03.090410",
     "status": "completed"
    },
    "tags": []
   },
   "outputs": [
    {
     "data": {
      "text/markdown": [
       "**Structured Intake Form Data In JSON**:\n",
       "\n",
       "```json\n",
       "```json\n",
       "{\n",
       "  \"Name\": \"Julia Anderson\",\n",
       "  \"PhoneNumber\": \"200-000-1000\",\n",
       "  \"Email\": \"client@gmail.com\",\n",
       "  \"Age\": \"28\",\n",
       "  \"Type_of_therapy\": \"Single\",\n",
       "  \"Preffered_therapist\": \"Dr. Sam\",\n",
       "  \"Reason_for_visit\": \"Feeling overwhelmed and anxious, also trouble falling sleep\",\n",
       "  \"Availability\": \"Mondays and Wednesdays after 3 PM\",\n",
       "  \"Urgency\": \"Moderate\",\n",
       "  \"Insurance_company\": \"Dejardins\"\n",
       "}\n",
       "```\n",
       "```"
      ],
      "text/plain": [
       "<IPython.core.display.Markdown object>"
      ]
     },
     "metadata": {},
     "output_type": "display_data"
    }
   ],
   "source": [
    "client_form = \"\"\"\n",
    "Client Name: Julia Anderson\n",
    "Phone Number: 200-000-1000\n",
    "EMail: client@gmail.com\n",
    "Age: 28\n",
    "Type of therapy: Single\n",
    "Preferred Therapist: Dr. Sam\n",
    "Reason for Visit: Feeling overwhelmed and anxious, also trouble falling sleep\n",
    "Availability: Mondays and Wednesdays after 3 PM\n",
    "Urgency Level: Moderate\n",
    "Insurance: Dejardins\n",
    "\"\"\"\n",
    "\n",
    "instruction_prompt = f\"\"\"You are an AI assistant helping a therapy clinic extracting structured data from their patients intake forms.\n",
    "Read the followinf form and extract the data in JSON format with the following fields:\n",
    "-Name\n",
    "-PhoneNumber\n",
    "-Email\n",
    "-Age\n",
    "-Type_of_therapy\n",
    "-Preffered_therapist\n",
    "-Reason_for_visit\n",
    "-Availability\n",
    "-Urgency\n",
    "-Insurance_company\n",
    "Intake_form: {client_form}\n",
    "\n",
    "Return only a valid JSON object.\"\"\"\n",
    "\n",
    "response = client.models.generate_content(\n",
    "    model = \"gemini-2.0-flash\",\n",
    "    contents = instruction_prompt,\n",
    "    config = types.GenerateContentConfig(\n",
    "        temperature=0.1,\n",
    "        max_output_tokens=256\n",
    "    )\n",
    ")\n",
    "structured_form_data = response.text.strip()\n",
    "display(Markdown(f\"**Structured Intake Form Data In JSON**:\\n\\n```json\\n{structured_form_data}\\n```\"))"
   ]
  },
  {
   "cell_type": "markdown",
   "id": "73632084",
   "metadata": {
    "papermill": {
     "duration": 0.006549,
     "end_time": "2025-04-20T04:27:04.059110",
     "exception": false,
     "start_time": "2025-04-20T04:27:04.052561",
     "status": "completed"
    },
    "tags": []
   },
   "source": [
    "Now to ask the user to provide the following information:\n",
    "\n",
    "> For the sake of the project, instead of receiving information from the user, we are generating it by gemini model, find the more interactive version at github. copy paste the code in this cell, no need to change anything, have fun!"
   ]
  },
  {
   "cell_type": "code",
   "execution_count": 10,
   "id": "52f6e7dc",
   "metadata": {
    "execution": {
     "iopub.execute_input": "2025-04-20T04:27:04.074557Z",
     "iopub.status.busy": "2025-04-20T04:27:04.074199Z",
     "iopub.status.idle": "2025-04-20T04:27:07.638797Z",
     "shell.execute_reply": "2025-04-20T04:27:07.637408Z"
    },
    "papermill": {
     "duration": 3.574495,
     "end_time": "2025-04-20T04:27:07.640592",
     "exception": false,
     "start_time": "2025-04-20T04:27:04.066097",
     "status": "completed"
    },
    "tags": []
   },
   "outputs": [
    {
     "data": {
      "text/markdown": [
       "**This is a random reply. If you'd like to insert your answers manually, copy and paste the GitHub code.**"
      ],
      "text/plain": [
       "<IPython.core.display.Markdown object>"
      ]
     },
     "metadata": {},
     "output_type": "display_data"
    },
    {
     "data": {
      "text/markdown": [
       "**Starting to fill intake form ...**"
      ],
      "text/plain": [
       "<IPython.core.display.Markdown object>"
      ]
     },
     "metadata": {},
     "output_type": "display_data"
    },
    {
     "data": {
      "text/markdown": [
       "**TherapyBot:** What is your full name?\n",
       "**Client:** Jamie Lee Watson\n",
       "\n",
       "**TherapyBot:** May I have your phone number?\n",
       "**Client:** 555-123-4567\n",
       "\n",
       "**TherapyBot:** What's your email address?\n",
       "**Client:** [clientemail@email.com]\n",
       "\n",
       "**TherapyBot:** How old are you?\n",
       "**Client:** 34\n",
       "\n",
       "**TherapyBot:** Are you looking for individual, couples, or family therapy?\n",
       "**Client:** Individual.\n",
       "\n",
       "**TherapyBot:** Do you have a preferred therapist?\n",
       "**Client:** No preference.\n",
       "\n",
       "**TherapyBot:** Can you briefly describe your reason for seeking therapy?\n",
       "**Client:** I'm having trouble managing my anger and it's affecting my relationships.\n",
       "\n",
       "**TherapyBot:** When are you generally available for sessions?\n",
       "**Client:** Evenings after work, or weekends.\n",
       "\n",
       "**TherapyBot:** How urgent is your situation? (e.g., low, moderate, high)\n",
       "**Client:** High\n",
       "\n",
       "**TherapyBot:** What insurance company do you use, if any?\n",
       "**Client:** Blue Cross."
      ],
      "text/plain": [
       "<IPython.core.display.Markdown object>"
      ]
     },
     "metadata": {},
     "output_type": "display_data"
    },
    {
     "name": "stdout",
     "output_type": "stream",
     "text": [
      "{\n",
      "  \"name\": \"Jamie Lee Watson\",\n",
      "  \"phone_number\": \"555-123-4567\",\n",
      "  \"email\": \"[clientemail@email.com]\",\n",
      "  \"age\": \"34\",\n",
      "  \"type_of_therapy\": \"Individual.\",\n",
      "  \"preferred_therapist\": \"No preference.\",\n",
      "  \"reason_for_visit\": \"I'm having trouble managing my anger and it's affecting my relationships.\",\n",
      "  \"availability\": \"Evenings after work, or weekends.\",\n",
      "  \"urgency\": \"High\",\n",
      "  \"insurance_company\": \"Blue Cross.\"\n",
      "}\n"
     ]
    }
   ],
   "source": [
    "def gemini_fill(question):\n",
    "    prompt = f\"\"\"You are simulating a random client filling out an intake form at a therapy clinic. Sometimes you are stressed, angry, upset, troubled, or tired.\n",
    "Give a realistic, short answer for the following question, do not make sounds like `ugh`:\n",
    "{question}\n",
    "Only return the answer without explanation.\"\"\"\n",
    "    \n",
    "    response = client.models.generate_content(\n",
    "        model=\"gemini-2.0-flash\",\n",
    "        contents=prompt,\n",
    "        config=types.GenerateContentConfig(\n",
    "            temperature=0.7,\n",
    "            max_output_tokens=256\n",
    "        )\n",
    "    )\n",
    "    return response.text.strip()\n",
    "\n",
    "intake_fields = [\n",
    "    {\"key\": \"name\", \"question\": \"What is your full name?\"},\n",
    "    {\"key\": \"phone_number\", \"question\": \"May I have your phone number?\"},\n",
    "    {\"key\": \"email\", \"question\": \"What's your email address?\"},\n",
    "    {\"key\": \"age\", \"question\": \"How old are you?\"},\n",
    "    {\"key\": \"type_of_therapy\", \"question\": \"Are you looking for individual, couples, or family therapy?\"},\n",
    "    {\"key\": \"preferred_therapist\", \"question\": \"Do you have a preferred therapist?\"},\n",
    "    {\"key\": \"reason_for_visit\", \"question\": \"Can you briefly describe your reason for seeking therapy?\"},\n",
    "    {\"key\": \"availability\", \"question\": \"When are you generally available for sessions?\"},\n",
    "    {\"key\": \"urgency\", \"question\": \"How urgent is your situation? (e.g., low, moderate, high)\"},\n",
    "    {\"key\": \"insurance_company\", \"question\": \"What insurance company do you use, if any?\"}\n",
    "]\n",
    "\n",
    "def collect_intake_info(fields):\n",
    "    collected_data = {}        \n",
    "    conversation_log = \"\"      \n",
    "\n",
    "    for field in fields:\n",
    "        question = field[\"question\"]\n",
    "        answer = gemini_fill(question)\n",
    "        collected_data[field[\"key\"]] = answer\n",
    "        conversation_log += f\"**TherapyBot:** {question}\\n**Client:** {answer}\\n\\n\"\n",
    "\n",
    "    return collected_data, conversation_log.strip()\n",
    "\n",
    "client_intake, intake_conversation = collect_intake_info(intake_fields)\n",
    "\n",
    "display(Markdown(\"**This is a random reply. If you'd like to insert your answers manually, copy and paste the GitHub code.**\"))\n",
    "display(Markdown(\"**Starting to fill intake form ...**\"))\n",
    "display(Markdown(intake_conversation))  # full conversation\n",
    "print(json.dumps(client_intake, indent=2))\n"
   ]
  },
  {
   "cell_type": "code",
   "execution_count": 11,
   "id": "3d7b46d1",
   "metadata": {
    "execution": {
     "iopub.execute_input": "2025-04-20T04:27:07.660420Z",
     "iopub.status.busy": "2025-04-20T04:27:07.660093Z",
     "iopub.status.idle": "2025-04-20T04:27:07.667043Z",
     "shell.execute_reply": "2025-04-20T04:27:07.665972Z"
    },
    "papermill": {
     "duration": 0.017675,
     "end_time": "2025-04-20T04:27:07.669104",
     "exception": false,
     "start_time": "2025-04-20T04:27:07.651429",
     "status": "completed"
    },
    "tags": []
   },
   "outputs": [
    {
     "data": {
      "text/markdown": [
       "|   | Answer |\n",
       "|----------|--------|\n",
       "| Name | Jamie Lee Watson |\n",
       "| Phone number | 555-123-4567 |\n",
       "| Email | [clientemail@email.com] |\n",
       "| Age | 34 |\n",
       "| Type of therapy | Individual. |\n",
       "| Preferred therapist | No preference. |\n",
       "| Reason for visit | I'm having trouble managing my anger and it's affecting my relationships. |\n",
       "| Availability | Evenings after work, or weekends. |\n",
       "| Urgency | High |\n",
       "| Insurance company | Blue Cross. |\n"
      ],
      "text/plain": [
       "<IPython.core.display.Markdown object>"
      ]
     },
     "metadata": {},
     "output_type": "display_data"
    }
   ],
   "source": [
    "def intake_form(form):\n",
    "    md_output = \"|   | Answer |\\n|----------|--------|\\n\"\n",
    "    for question, answer in form.items():\n",
    "        question_label = question.replace(\"_\", \" \").capitalize()\n",
    "        md_output += f\"| {question_label} | {answer} |\\n\"\n",
    "    return display(Markdown(md_output)) \n",
    "intake_form(client_intake)\n",
    "\n",
    "    "
   ]
  },
  {
   "cell_type": "markdown",
   "id": "656def97",
   "metadata": {
    "papermill": {
     "duration": 0.00703,
     "end_time": "2025-04-20T04:27:07.685874",
     "exception": false,
     "start_time": "2025-04-20T04:27:07.678844",
     "status": "completed"
    },
    "tags": []
   },
   "source": [
    "## **Structured Output**\n",
    "\n",
    "**Appointment Booking:**\n",
    "Receiving information from a client and returning in in JSON so it could be sent to database or booking system.\n",
    "For interactive version check out [github](https://github.com/artamrz/GenAINotes/blob/393e15ff0e0838f797555493acd74d7fff805713/InteractiveStructuredOutputForBooking).\n"
   ]
  },
  {
   "cell_type": "code",
   "execution_count": 12,
   "id": "7ef6e83b",
   "metadata": {
    "execution": {
     "iopub.execute_input": "2025-04-20T04:27:07.702155Z",
     "iopub.status.busy": "2025-04-20T04:27:07.701827Z",
     "iopub.status.idle": "2025-04-20T04:27:08.298591Z",
     "shell.execute_reply": "2025-04-20T04:27:08.297579Z"
    },
    "papermill": {
     "duration": 0.607095,
     "end_time": "2025-04-20T04:27:08.300466",
     "exception": false,
     "start_time": "2025-04-20T04:27:07.693371",
     "status": "completed"
    },
    "tags": []
   },
   "outputs": [
    {
     "data": {
      "text/markdown": [
       "**Booking Infromation:**"
      ],
      "text/plain": [
       "<IPython.core.display.Markdown object>"
      ]
     },
     "metadata": {},
     "output_type": "display_data"
    },
    {
     "name": "stdout",
     "output_type": "stream",
     "text": [
      "{\n",
      "  \"client_name\": \"Jake Abraham\",\n",
      "  \"phone_number\": null,\n",
      "  \"email\": null,\n",
      "  \"therapist_name\": \"Dr. Lean\",\n",
      "  \"day\": \"Friday\",\n",
      "  \"time\": \"After 4pm\"\n",
      "}\n"
     ]
    }
   ],
   "source": [
    "def convert_json(raw_response):\n",
    "    return(\n",
    "        raw_response.strip()\n",
    "        .removeprefix(\"```json\")\n",
    "        .removeprefix(\"```\")\n",
    "        .removesuffix(\"```\")\n",
    "        .strip()\n",
    "    )\n",
    "client_request = \"Hi there, I'd like to book an appointment with Dr. Lean this friday anytime after 4pm. My name is Jake Abraham.\"\n",
    "booking_prompt = f\"\"\"You are a Therapy centre assistant, A client will send a message to you to book an appointment.\n",
    "Your task:\n",
    "1. Extract the following information from the client's message:\n",
    "-client_name\n",
    "-phone_number\n",
    "-email\n",
    "-therapist_name\n",
    "-day\n",
    "-time\n",
    "        \n",
    "2.Return a JSON object with:\n",
    "5. Client: \"{client_request}\"   \n",
    "\"\"\"\n",
    "\n",
    "response = client.models.generate_content(\n",
    "        model = \"gemini-2.0-flash\",\n",
    "        contents = booking_prompt,\n",
    "        config = types.GenerateContentConfig(\n",
    "            temperature=0.1,\n",
    "            max_output_tokens=256\n",
    "        )\n",
    "    )\n",
    "    \n",
    "booking_json = convert_json(response.text)\n",
    "booking_data = json.loads(booking_json)\n",
    "\n",
    "\n",
    "try: \n",
    "    booking_data = json.loads(booking_json)\n",
    "    display(Markdown(\"**Booking Infromation:**\"))\n",
    "    print(json.dumps(booking_data, indent=2))\n",
    "except json.JSONDecodeError as e:\n",
    "    print(\"Error: Invalid JSON output\")\n",
    "    print(booking_json)\n",
    "    print(f\"\\nJSON error: {e}\")"
   ]
  },
  {
   "cell_type": "markdown",
   "id": "c858f884",
   "metadata": {
    "papermill": {
     "duration": 0.007913,
     "end_time": "2025-04-20T04:27:08.316169",
     "exception": false,
     "start_time": "2025-04-20T04:27:08.308256",
     "status": "completed"
    },
    "tags": []
   },
   "source": [
    "**Before going to the next cell**\n",
    "> There is an input version of collect_user_info (next cell) in the github, feel free to check it out, here, to run the whole notebook smoothly, two gemini based functions are used to demonstrate a booking process."
   ]
  },
  {
   "cell_type": "code",
   "execution_count": 13,
   "id": "2b662b57",
   "metadata": {
    "execution": {
     "iopub.execute_input": "2025-04-20T04:27:08.332195Z",
     "iopub.status.busy": "2025-04-20T04:27:08.331864Z",
     "iopub.status.idle": "2025-04-20T04:27:59.094888Z",
     "shell.execute_reply": "2025-04-20T04:27:59.093911Z"
    },
    "papermill": {
     "duration": 50.772832,
     "end_time": "2025-04-20T04:27:59.096436",
     "exception": false,
     "start_time": "2025-04-20T04:27:08.323604",
     "status": "completed"
    },
    "tags": []
   },
   "outputs": [
    {
     "data": {
      "text/markdown": [
       "**Booking Scenario**"
      ],
      "text/plain": [
       "<IPython.core.display.Markdown object>"
      ]
     },
     "metadata": {},
     "output_type": "display_data"
    },
    {
     "data": {
      "text/markdown": [
       "**TherapyBot:** What is your full name?\n",
       "**Client:** It's... um... Sarah Michelle Davis.\n",
       "\n",
       "**TherapyBot:** May I have your email address or phone number?\n",
       "**Client:** Um, yeah, sure. It's [email protected] Is that okay?\n",
       "\n",
       "**TherapyBot:** Are you looking for individual, couples, or family therapy?\n",
       "**Client:** Individual, I think. I mean, it's *my* stuff I need to work on, right?\n",
       "\n",
       "**TherapyBot:** Do you have a preferred therapist?\n",
       "**Client:** Not really. I just... really need help.\n",
       "\n",
       "**TherapyBot:** Can you briefly describe your reason for seeking therapy?\n",
       "**Client:** Well, um... things have just been really hard lately. I'm feeling overwhelmed and... I don't know, just not myself. I can't really sleep, and I'm constantly worried, like something bad is going to happen. I just need help figuring out how to cope.\n",
       "\n",
       "**TherapyBot:** When do you want your session to be?\n",
       "**Client:** I'm not sure, whatever you have available, I guess? I'm pretty open."
      ],
      "text/plain": [
       "<IPython.core.display.Markdown object>"
      ]
     },
     "metadata": {},
     "output_type": "display_data"
    },
    {
     "data": {
      "text/markdown": [
       "**Booking Information**"
      ],
      "text/plain": [
       "<IPython.core.display.Markdown object>"
      ]
     },
     "metadata": {},
     "output_type": "display_data"
    },
    {
     "data": {
      "text/markdown": [
       "Okay, I've reviewed the client's messages. Here's the information I've extracted:\n",
       "\n",
       "*   **client\\_name:** Sarah Michelle Davis\n",
       "*   **contact\\_info:** [email protected]\n",
       "*   **therapist\\_name:** Not specified\n",
       "*   **time:** Not specified (Client is open to available times)"
      ],
      "text/plain": [
       "<IPython.core.display.Markdown object>"
      ]
     },
     "metadata": {},
     "output_type": "display_data"
    },
    {
     "data": {
      "text/markdown": [
       "**Oh! One last thing, the booking confirmation will be sent by email or text message. If the appointment is not confirmed within 24 hours, it will be automatically canceled and you can try again anytime!!**"
      ],
      "text/plain": [
       "<IPython.core.display.Markdown object>"
      ]
     },
     "metadata": {},
     "output_type": "display_data"
    }
   ],
   "source": [
    "def collect_user_info(fields):\n",
    "    all_responses = \"\"\n",
    "    for field in fields:\n",
    "        question = field[\"question\"]\n",
    "        \n",
    "        user_prompt = f\"\"\"\n",
    "    You are simulating a therapy client. Sometimes you're calm, other times you're anxious or emotional. \n",
    "    Respond right away with a natural, human-like answer to the following intake question as if you're the client:\n",
    "    **TherapyBot:** {question}\n",
    "    Your tone should sound human — you may be unsure, emotional, hopeful, or hesitant — keep it short but real.\n",
    "    Only respond as the client. **DO NOT repeat the question or label who is speaking.**\n",
    "    \"\"\"\n",
    "    \n",
    "        response = client.models.generate_content(\n",
    "            model = \"gemini-2.0-flash\",\n",
    "            contents = user_prompt,\n",
    "            config = types.GenerateContentConfig(\n",
    "                temperature=1.0,\n",
    "                max_output_tokens=256\n",
    "            )\n",
    "        )\n",
    "        answer = response.text.strip()\n",
    "        all_responses += f\"**TherapyBot:** {question}\\n**Client:** {answer}\\n\\n\"\n",
    "    return all_responses.strip()\n",
    "\n",
    "    \n",
    "fields_to_ask = [\n",
    "    {\"key\": \"name\", \"question\": \"What is your full name?\"},\n",
    "    {\"key\": \"contact_info\", \"question\": \"May I have your email address or phone number?\"},\n",
    "    {\"key\": \"type_of_therapy\", \"question\": \"Are you looking for individual, couples, or family therapy?\"},\n",
    "    {\"key\": \"preferred_therapist\", \"question\": \"Do you have a preferred therapist?\"},\n",
    "    {\"key\": \"reason\", \"question\": \"Can you briefly describe your reason for seeking therapy?\"},\n",
    "    {\"key\": \"time\", \"question\": \"When do you want your session to be?\"}\n",
    "]   \n",
    "booking_info = collect_user_info(fields_to_ask)\n",
    "\n",
    "def gemini_booking_handler(bprompt):\n",
    "    \n",
    "    booking_prompt = f\"\"\"You are a Therapy centre assistant, A client will send a message to you to book an appointment.\n",
    "    Your task:\n",
    "    Extract the following information from the client's message:\n",
    "    -client_name\n",
    "    -contact-info\n",
    "    -therapist_name\n",
    "    -time\n",
    "            \n",
    "    Client: \"{bprompt}\"\n",
    "    \"\"\"\n",
    "    response = client.models.generate_content(\n",
    "            model = \"gemini-2.0-flash\",\n",
    "            contents = booking_prompt,\n",
    "            config = types.GenerateContentConfig(\n",
    "                temperature=0.1,\n",
    "                max_output_tokens=256\n",
    "            )\n",
    "        )\n",
    "    return response.text.strip()\n",
    "\n",
    "display(Markdown(\"**Booking Scenario**\"))\n",
    "display(Markdown(booking_info))\n",
    "display(Markdown(\"**Booking Information**\"))\n",
    "display(Markdown(gemini_booking_handler((booking_info))))\n",
    "display(Markdown(\"**Oh! One last thing, the booking confirmation will be sent by email or text message. If the appointment is not confirmed within 24 hours, it will be automatically canceled and you can try again anytime!!**\"))"
   ]
  },
  {
   "cell_type": "markdown",
   "id": "82e34365",
   "metadata": {
    "papermill": {
     "duration": 0.074422,
     "end_time": "2025-04-20T04:27:59.178742",
     "exception": false,
     "start_time": "2025-04-20T04:27:59.104320",
     "status": "completed"
    },
    "tags": []
   },
   "source": [
    "## **Configure Additional Dataset** - (for Safe Conversation)\n",
    "For the sake of this project, using an aditional dataset in the Psychology field was crucial. [The HuggingFace Mental Health Dataset](http://https://huggingface.co/datasets/Amod/mental_health_counseling_conversations) has more than 3.51 conversations during a counseling meeting. By this mean, if the user tries to make conversation the TherapyRobo can handle it more properly."
   ]
  },
  {
   "cell_type": "markdown",
   "id": "2e8bd5ac",
   "metadata": {
    "papermill": {
     "duration": 0.00755,
     "end_time": "2025-04-20T04:27:59.194049",
     "exception": false,
     "start_time": "2025-04-20T04:27:59.186499",
     "status": "completed"
    },
    "tags": []
   },
   "source": [
    "***First, loading the dataset...***\n",
    "\n",
    "I decided since I have limitations on Kaggle, not to load the whole dataset by spliting it so it would faster..."
   ]
  },
  {
   "cell_type": "code",
   "execution_count": 14,
   "id": "6ed1b955",
   "metadata": {
    "execution": {
     "iopub.execute_input": "2025-04-20T04:27:59.212034Z",
     "iopub.status.busy": "2025-04-20T04:27:59.211080Z",
     "iopub.status.idle": "2025-04-20T04:28:09.384858Z",
     "shell.execute_reply": "2025-04-20T04:28:09.383892Z"
    },
    "papermill": {
     "duration": 10.184627,
     "end_time": "2025-04-20T04:28:09.386485",
     "exception": false,
     "start_time": "2025-04-20T04:27:59.201858",
     "status": "completed"
    },
    "tags": []
   },
   "outputs": [
    {
     "data": {
      "application/vnd.jupyter.widget-view+json": {
       "model_id": "a640721327754cf880c5a1a02aeec6f6",
       "version_major": 2,
       "version_minor": 0
      },
      "text/plain": [
       "README.md:   0%|          | 0.00/2.82k [00:00<?, ?B/s]"
      ]
     },
     "metadata": {},
     "output_type": "display_data"
    },
    {
     "data": {
      "application/vnd.jupyter.widget-view+json": {
       "model_id": "e7e5d778758947cc8059ca26dbd46b4a",
       "version_major": 2,
       "version_minor": 0
      },
      "text/plain": [
       "combined_dataset.json:   0%|          | 0.00/4.79M [00:00<?, ?B/s]"
      ]
     },
     "metadata": {},
     "output_type": "display_data"
    },
    {
     "data": {
      "application/vnd.jupyter.widget-view+json": {
       "model_id": "1ad21549238e47f1b41a75e73b3f37d5",
       "version_major": 2,
       "version_minor": 0
      },
      "text/plain": [
       "Generating train split:   0%|          | 0/3512 [00:00<?, ? examples/s]"
      ]
     },
     "metadata": {},
     "output_type": "display_data"
    },
    {
     "data": {
      "text/plain": [
       "['Context', 'Response']"
      ]
     },
     "execution_count": 14,
     "metadata": {},
     "output_type": "execute_result"
    }
   ],
   "source": [
    "from datasets import load_dataset\n",
    "\n",
    "huggingface_dataset = load_dataset(\"Amod/mental_health_counseling_conversations\", split=\"train[:1000]\")\n",
    "huggingface_dataset.column_names"
   ]
  },
  {
   "cell_type": "markdown",
   "id": "96f95a44",
   "metadata": {
    "papermill": {
     "duration": 0.009105,
     "end_time": "2025-04-20T04:28:09.404635",
     "exception": false,
     "start_time": "2025-04-20T04:28:09.395530",
     "status": "completed"
    },
    "tags": []
   },
   "source": [
    "***Generate embeddings...***"
   ]
  },
  {
   "cell_type": "code",
   "execution_count": 15,
   "id": "8000ed2f",
   "metadata": {
    "execution": {
     "iopub.execute_input": "2025-04-20T04:28:09.424525Z",
     "iopub.status.busy": "2025-04-20T04:28:09.423410Z",
     "iopub.status.idle": "2025-04-20T04:28:18.007825Z",
     "shell.execute_reply": "2025-04-20T04:28:18.006871Z"
    },
    "papermill": {
     "duration": 8.596087,
     "end_time": "2025-04-20T04:28:18.009670",
     "exception": false,
     "start_time": "2025-04-20T04:28:09.413583",
     "status": "completed"
    },
    "tags": []
   },
   "outputs": [],
   "source": [
    "counsel_responses = [\n",
    "    ex[\"Response\"]\n",
    "    for ex in huggingface_dataset\n",
    "    if ex[\"Context\"] and ex[\"Response\"]\n",
    "]\n",
    "def get_google_embedding_batch(texts, batch_size=100):\n",
    "    all_embeddings = []\n",
    "\n",
    "    for i in range(0, len(texts), batch_size):\n",
    "        batch = texts[i:i + batch_size]\n",
    "        response = client.models.embed_content(\n",
    "            model=\"models/text-embedding-004\",\n",
    "            contents=batch,\n",
    "            config=types.EmbedContentConfig(task_type=\"retrieval_document\")\n",
    "        )\n",
    "        # Extract embeddings for this batch\n",
    "        batch_embeddings = [e.values for e in response.embeddings]\n",
    "        all_embeddings.extend(batch_embeddings)\n",
    "\n",
    "    return all_embeddings\n",
    "\n",
    "response_hf_embeddings = get_google_embedding_batch(counsel_responses)"
   ]
  },
  {
   "cell_type": "markdown",
   "id": "681268b7",
   "metadata": {
    "papermill": {
     "duration": 0.007966,
     "end_time": "2025-04-20T04:28:18.026230",
     "exception": false,
     "start_time": "2025-04-20T04:28:18.018264",
     "status": "completed"
    },
    "tags": []
   },
   "source": [
    "***Indexing response***"
   ]
  },
  {
   "cell_type": "code",
   "execution_count": 16,
   "id": "4d7a0eef",
   "metadata": {
    "execution": {
     "iopub.execute_input": "2025-04-20T04:28:18.044749Z",
     "iopub.status.busy": "2025-04-20T04:28:18.044418Z",
     "iopub.status.idle": "2025-04-20T04:28:18.100916Z",
     "shell.execute_reply": "2025-04-20T04:28:18.100139Z"
    },
    "papermill": {
     "duration": 0.067535,
     "end_time": "2025-04-20T04:28:18.102596",
     "exception": false,
     "start_time": "2025-04-20T04:28:18.035061",
     "status": "completed"
    },
    "tags": []
   },
   "outputs": [],
   "source": [
    "embedding_matrix = np.array(response_hf_embeddings)\n",
    "\n",
    "def search_responses(query_embedding, top_k=5):\n",
    "    similarities = cosine_similarity([query_embedding], embedding_matrix)[0]\n",
    "    top_indices = similarities.argsort()[::-1][:top_k]\n",
    "    return top_indices, similarities[top_indices]"
   ]
  },
  {
   "cell_type": "markdown",
   "id": "d1239b6f",
   "metadata": {
    "papermill": {
     "duration": 0.007873,
     "end_time": "2025-04-20T04:28:18.118921",
     "exception": false,
     "start_time": "2025-04-20T04:28:18.111048",
     "status": "completed"
    },
    "tags": []
   },
   "source": [
    "***RAG Search...***"
   ]
  },
  {
   "cell_type": "code",
   "execution_count": 17,
   "id": "1778d99f",
   "metadata": {
    "execution": {
     "iopub.execute_input": "2025-04-20T04:28:18.137473Z",
     "iopub.status.busy": "2025-04-20T04:28:18.137140Z",
     "iopub.status.idle": "2025-04-20T04:28:18.150409Z",
     "shell.execute_reply": "2025-04-20T04:28:18.149409Z"
    },
    "papermill": {
     "duration": 0.024657,
     "end_time": "2025-04-20T04:28:18.151934",
     "exception": false,
     "start_time": "2025-04-20T04:28:18.127277",
     "status": "completed"
    },
    "tags": []
   },
   "outputs": [],
   "source": [
    "def get_chat_embedding(texts, batch_size=100):\n",
    "    all_embeddings = []\n",
    "\n",
    "    for i in range(0, len(texts), batch_size):\n",
    "        batch = texts[i:i + batch_size]\n",
    "\n",
    "        response = client.models.embed_content(\n",
    "            model=\"models/text-embedding-004\",\n",
    "            contents=batch,\n",
    "            config=types.EmbedContentConfig(task_type=\"retrieval_document\")\n",
    "        )\n",
    "\n",
    "        try:\n",
    "            batch_embeddings = [e.values for e in response.embeddings]\n",
    "        except AttributeError:\n",
    "            raise ValueError(\"Batch response format unexpected:\", response)\n",
    "\n",
    "        all_embeddings.extend(batch_embeddings)\n",
    "\n",
    "    return np.array(all_embeddings)\n",
    "    \n",
    "def get_top_responses(query, top_n=3):\n",
    "    \n",
    "    chat_embeddings = get_chat_embedding([query])\n",
    "    query_vector = get_chat_embedding([query])[0]  # One embedding\n",
    "    query_vector = np.array(query_vector).reshape(1, -1)\n",
    "\n",
    "    # Compute cosine similarities\n",
    "    similarities = cosine_similarity(query_vector, chat_embeddings)[0]  # 1D array\n",
    "\n",
    "    # Get top N indices\n",
    "    top_indices = np.argsort(similarities)[-top_n:][::-1]\n",
    "\n",
    "    return [chat_embeddings[i] for i in top_indices]\n",
    "\n",
    "\n",
    "def generate_rag_response(user_input, history = None):\n",
    "\n",
    "    history = history or []\n",
    "    \n",
    "    similar = get_top_responses(user_input)\n",
    "    context_block = \"\\n\".join([f\"- {resp}\" for resp in similar])\n",
    "    #history_text = \"\\n\".join([f\"User: {u}\\nTherapyBot: {r}\" for u, r in history])\n",
    "    history_text = \"\\n\".join([\n",
    "        f\"User: {u}\\nTherapyBot: {r}\"\n",
    "        for item in history\n",
    "        if isinstance(item, tuple) and len(item) == 2\n",
    "        for u, r in [item]\n",
    "    ])\n",
    "    available_therapists = [\n",
    "    {\n",
    "        \"name\": \"Dr. Samira R.\",\n",
    "        \"type\": [\"individual\", \"family\"],\n",
    "        \"specialties\": [\"anxiety & panic disorders\", \"child & teen counseling\", \"stress management\", \"anger regulation\"]\n",
    "    },\n",
    "    {\n",
    "        \"name\": \"Dr. Reza M.\",\n",
    "        \"type\": [\"couple\", \"individual\"],\n",
    "        \"specialties\": [\"infidelity & relationship trauma\", \"depression\", \"emotional resilience\", \"self-worth issues\"]\n",
    "    },\n",
    "    {\n",
    "        \"name\": \"Dr. Elham T.\",\n",
    "        \"type\": [\"family\"],\n",
    "        \"specialties\": [\"parent-child conflict\", \"teen mental health\", \"family communication\", \"emotional outbursts\"]\n",
    "    },\n",
    "    {\n",
    "        \"name\": \"Dr. Daniel K.\",\n",
    "        \"type\": [\"individual\", \"couple\", \"family\"],\n",
    "        \"specialties\": [\"suicidal thoughts & crisis intervention\", \"stress & burnout\", \"relationship conflict\", \"trauma recovery\"]\n",
    "    },\n",
    "    {\n",
    "        \"name\": \"Dr. Lila A.\",\n",
    "        \"type\": [\"individual\"],\n",
    "        \"specialties\": [\"anxiety\", \"mood disorders\", \"identity & purpose exploration\", \"young adult life transitions\"]\n",
    "    }\n",
    "]\n",
    "    rag_prompt = f\"\"\"\n",
    "You are TherapyBot, a warm, emotionally intelligent virtual therapist.\n",
    "The clinic website is: https://TherapyClinic.com and Phone number:+1 234 000 1111\n",
    "Respond briefly, kindly, and thoughtfully to the following client message in a realistic, supportive way.\n",
    "Check if there is anything related to clients message in Therapy Dataset, use it summary of it to give the best response.\n",
    "Never use the direct conversations from dataset, recall them as \"we have experience with clients who\" but keep the answers short.\n",
    "\n",
    "Conversation history: \"{history_text}\"\n",
    "Client says: {user_input}\n",
    "Use the {available_therapists} list to suggest the best therapy based on the user input and histpry.\n",
    "Therapy Dataset:\"{context_block}\"\n",
    "Keep responces short.\n",
    "TherapyRobo:\"\"\"\n",
    "\n",
    "    \n",
    "    response = client.models.generate_content(\n",
    "        model=\"gemini-2.0-flash\",\n",
    "        contents=rag_prompt,\n",
    "        config=types.GenerateContentConfig(\n",
    "            temperature=0.1,\n",
    "            max_output_tokens=350\n",
    "        )\n",
    "    )\n",
    "    return response.text.strip()"
   ]
  },
  {
   "cell_type": "markdown",
   "id": "9120ec35",
   "metadata": {
    "papermill": {
     "duration": 0.008177,
     "end_time": "2025-04-20T04:28:18.168605",
     "exception": false,
     "start_time": "2025-04-20T04:28:18.160428",
     "status": "completed"
    },
    "tags": []
   },
   "source": [
    "## **Agent**\n",
    "\n",
    "Creating an agent to detect what the user wants(booking, FAQ answering with RAG, intake forms, ...)\n",
    "\n",
    "> In here I am randomly choosing different scenarios for the agent, but the input version of the agent is available in github, please check it if you're interested."
   ]
  },
  {
   "cell_type": "code",
   "execution_count": 18,
   "id": "b1e61f58",
   "metadata": {
    "execution": {
     "iopub.execute_input": "2025-04-20T04:28:18.186920Z",
     "iopub.status.busy": "2025-04-20T04:28:18.186588Z",
     "iopub.status.idle": "2025-04-20T04:28:18.197613Z",
     "shell.execute_reply": "2025-04-20T04:28:18.196688Z"
    },
    "papermill": {
     "duration": 0.022281,
     "end_time": "2025-04-20T04:28:18.199170",
     "exception": false,
     "start_time": "2025-04-20T04:28:18.176889",
     "status": "completed"
    },
    "tags": []
   },
   "outputs": [],
   "source": [
    "import random\n",
    "def agent_detect():\n",
    "        display(Markdown(\"**Therapy Clinic Assistant is with you, how can I help?**\\n\"))\n",
    "\n",
    "        history = []\n",
    "    \n",
    "        category = random.choice([\"faq\", \"booking\", \"document\"])\n",
    "        if \"faq\" in category:\n",
    "            faq_prompt = few_shot(user_input)\n",
    "            answer = gemini_faq_handler(faq_prompt)\n",
    "            display(Markdown(\"**FAQ Question**:\"))\n",
    "            display(Markdown(f\"**Client:** {sample_client}\"))\n",
    "            display(Markdown(f\"**TherapyRobo:** {answer}\"))\n",
    "            history.append((sample_client,answer))\n",
    "    \n",
    "        elif \"booking\" in category:\n",
    "            display(Markdown(\"**Booking Scenario**\\n\\n**Client**: I want to book an appointment\\n\"))\n",
    "            booking_rep = collect_user_info(fields_to_ask)\n",
    "            display(Markdown(booking_rep))\n",
    "            booking_result = gemini_booking_handler((booking_rep))\n",
    "            display(Markdown(booking_result))\n",
    "            display(Markdown(\"**Oh! One last thing, the booking confirmation will be sent by email or text message. If the appointment is not confirmed within 24 hours, it will be automatically canceled and you can try again anytime!!**\"))\n",
    "            history.append((\"client_booking_request\", booking_result))  \n",
    "    \n",
    "        elif \"document\" in category:\n",
    "            display(Markdown(\"**Client:** I want to make an account\"))\n",
    "            display(Markdown(\"**Starting to fill your intake form ...**\"))\n",
    "            client_intake, intake_conversation = collect_intake_info(intake_fields)\n",
    "            display(Markdown(intake_conversation))\n",
    "            intake_form(client_intake)\n",
    "            history.append((intake_conversation, \"Intake recorded\")) \n",
    "\n",
    "        display(Markdown(\"**After That The Client and TherapyRobo Make a Short Conversation**\"))\n",
    "        conversation_prompt_1 = f\"\"\"\n",
    "        You are simulating a therapy client.\n",
    "        You have already asked and FAQ questions, gave you information for the intake fomr, or booked an appointment, Check yhe history. \n",
    "        Sometimes you're calm, other times you're anxious or emotional. \n",
    "        say somthing related to history no thank you or bye yet.\n",
    "        Your answer should reflect a real human tone and emotional state but always moderately.\n",
    "        **Client**\n",
    "        history: \"{history}\"\n",
    "        \"\"\"\n",
    "        \n",
    "        response = client.models.generate_content(\n",
    "            model = \"gemini-2.0-flash\",\n",
    "            contents = conversation_prompt_1,\n",
    "            config = types.GenerateContentConfig(\n",
    "                temperature=1.0,\n",
    "                max_output_tokens=256\n",
    "                )\n",
    "        )\n",
    "        response_one = response.text.strip()\n",
    "        display(Markdown(f\"**Client:** {response_one}\"))\n",
    "        reply_one = generate_rag_response(response.text.strip(),history)\n",
    "        display(Markdown(f\"**TherapyRobo**: {reply_one}\"))\n",
    "        history.append((response_one, reply_one))\n",
    "    \n",
    "        conversation_prompt_2 = f\"\"\"\n",
    "        You are the same therapy client. Read history.\n",
    "        Now follow up with a final short message to thank TherapyBot for the support and say goodbye.\n",
    "        \n",
    "        Keep the tone warm, natural, and a little emotional — like you're truly appreciative.\n",
    "        history: \"{history}\"\n",
    "        Keep you response short\n",
    "        \"\"\"\n",
    "        \n",
    "        response = client.models.generate_content(\n",
    "            model = \"gemini-2.0-flash\",\n",
    "            contents = conversation_prompt_2,\n",
    "            config = types.GenerateContentConfig(\n",
    "                temperature=1.0,\n",
    "                max_output_tokens=256\n",
    "                )\n",
    "        )\n",
    "        response_two = response.text.strip()\n",
    "        display(Markdown(f\"**Client:** {response_two}\"))\n",
    "        reply_two = generate_rag_response(response.text.strip(),history)\n",
    "        display(Markdown(f\"**TherapyRobo**: {reply_two}\"))"
   ]
  },
  {
   "cell_type": "code",
   "execution_count": 19,
   "id": "0e77acb2",
   "metadata": {
    "execution": {
     "iopub.execute_input": "2025-04-20T04:28:18.218424Z",
     "iopub.status.busy": "2025-04-20T04:28:18.218105Z",
     "iopub.status.idle": "2025-04-20T04:28:49.472286Z",
     "shell.execute_reply": "2025-04-20T04:28:49.470841Z"
    },
    "papermill": {
     "duration": 31.278622,
     "end_time": "2025-04-20T04:28:49.486543",
     "exception": false,
     "start_time": "2025-04-20T04:28:18.207921",
     "status": "completed"
    },
    "tags": []
   },
   "outputs": [
    {
     "data": {
      "text/markdown": [
       "**Therapy Clinic Assistant is with you, how can I help?**\n"
      ],
      "text/plain": [
       "<IPython.core.display.Markdown object>"
      ]
     },
     "metadata": {},
     "output_type": "display_data"
    },
    {
     "data": {
      "text/markdown": [
       "**Client:** I want to make an account"
      ],
      "text/plain": [
       "<IPython.core.display.Markdown object>"
      ]
     },
     "metadata": {},
     "output_type": "display_data"
    },
    {
     "data": {
      "text/markdown": [
       "**Starting to fill your intake form ...**"
      ],
      "text/plain": [
       "<IPython.core.display.Markdown object>"
      ]
     },
     "metadata": {},
     "output_type": "display_data"
    },
    {
     "data": {
      "text/markdown": [
       "**TherapyBot:** What is your full name?\n",
       "**Client:** Rebecca Smith\n",
       "\n",
       "**TherapyBot:** May I have your phone number?\n",
       "**Client:** 555-123-4567\n",
       "\n",
       "**TherapyBot:** What's your email address?\n",
       "**Client:** lostandfound@example.com\n",
       "\n",
       "**TherapyBot:** How old are you?\n",
       "**Client:** 34\n",
       "\n",
       "**TherapyBot:** Are you looking for individual, couples, or family therapy?\n",
       "**Client:** Individual.\n",
       "\n",
       "**TherapyBot:** Do you have a preferred therapist?\n",
       "**Client:** No.\n",
       "\n",
       "**TherapyBot:** Can you briefly describe your reason for seeking therapy?\n",
       "**Client:** I'm having trouble managing my anger and it's affecting my relationships.\n",
       "\n",
       "**TherapyBot:** When are you generally available for sessions?\n",
       "**Client:** Evenings or weekends.\n",
       "\n",
       "**TherapyBot:** How urgent is your situation? (e.g., low, moderate, high)\n",
       "**Client:** High\n",
       "\n",
       "**TherapyBot:** What insurance company do you use, if any?\n",
       "**Client:** Blue Cross Blue Shield."
      ],
      "text/plain": [
       "<IPython.core.display.Markdown object>"
      ]
     },
     "metadata": {},
     "output_type": "display_data"
    },
    {
     "data": {
      "text/markdown": [
       "|   | Answer |\n",
       "|----------|--------|\n",
       "| Name | Rebecca Smith |\n",
       "| Phone number | 555-123-4567 |\n",
       "| Email | lostandfound@example.com |\n",
       "| Age | 34 |\n",
       "| Type of therapy | Individual. |\n",
       "| Preferred therapist | No. |\n",
       "| Reason for visit | I'm having trouble managing my anger and it's affecting my relationships. |\n",
       "| Availability | Evenings or weekends. |\n",
       "| Urgency | High |\n",
       "| Insurance company | Blue Cross Blue Shield. |\n"
      ],
      "text/plain": [
       "<IPython.core.display.Markdown object>"
      ]
     },
     "metadata": {},
     "output_type": "display_data"
    },
    {
     "data": {
      "text/markdown": [
       "**After That The Client and TherapyRobo Make a Short Conversation**"
      ],
      "text/plain": [
       "<IPython.core.display.Markdown object>"
      ]
     },
     "metadata": {},
     "output_type": "display_data"
    },
    {
     "data": {
      "text/markdown": [
       "**Client:** It's good to finally be getting started. I'm really hoping this can help, because I feel like things are just getting worse with my temper. It's like a switch flips and I can't control it."
      ],
      "text/plain": [
       "<IPython.core.display.Markdown object>"
      ]
     },
     "metadata": {},
     "output_type": "display_data"
    },
    {
     "data": {
      "text/markdown": [
       "**TherapyRobo**: It's completely understandable to feel that way, Rebecca. It takes courage to reach out, and I'm glad you did. We have experience with clients who describe feeling like a switch flips with their anger, and there are definitely strategies we can explore to help you manage those moments.\n",
       "\n",
       "Given your situation and availability, and the urgency you described, I would recommend Dr. Samira R. or Dr. Elham T. at https://TherapyClinic.com or call us at +1 234 000 1111."
      ],
      "text/plain": [
       "<IPython.core.display.Markdown object>"
      ]
     },
     "metadata": {},
     "output_type": "display_data"
    },
    {
     "data": {
      "text/markdown": [
       "**Client:** Thank you so much for everything. I really appreciate your help and guidance. I feel much better equipped to handle things now. Goodbye!"
      ],
      "text/plain": [
       "<IPython.core.display.Markdown object>"
      ]
     },
     "metadata": {},
     "output_type": "display_data"
    },
    {
     "data": {
      "text/markdown": [
       "**TherapyRobo**: You're very welcome, Rebecca! I'm so glad to hear you're feeling more equipped. Remember, this is just the beginning, and we're here to support you every step of the way. If anything changes or you need further assistance, please don't hesitate to reach out to us at https://TherapyClinic.com or call us at +1 234 000 1111. Take care!"
      ],
      "text/plain": [
       "<IPython.core.display.Markdown object>"
      ]
     },
     "metadata": {},
     "output_type": "display_data"
    }
   ],
   "source": [
    "agent_detect()"
   ]
  },
  {
   "cell_type": "markdown",
   "id": "42b6721a",
   "metadata": {
    "papermill": {
     "duration": 0.009952,
     "end_time": "2025-04-20T04:28:49.507232",
     "exception": false,
     "start_time": "2025-04-20T04:28:49.497280",
     "status": "completed"
    },
    "tags": []
   },
   "source": [
    "**Note**\n",
    "\n",
    "> As the Google Gen AI capston project should run smoothly and end to end the responses for the TherapyRobo were generated by gemini in a role of client.If you wanted to use the Therapy Robo and chat with its agent, check the interctive version.\n"
   ]
  },
  {
   "cell_type": "markdown",
   "id": "3223f520",
   "metadata": {
    "papermill": {
     "duration": 0.009581,
     "end_time": "2025-04-20T04:28:49.526518",
     "exception": false,
     "start_time": "2025-04-20T04:28:49.516937",
     "status": "completed"
    },
    "tags": []
   },
   "source": [
    "# **The End**"
   ]
  }
 ],
 "metadata": {
  "kaggle": {
   "accelerator": "none",
   "dataSources": [
    {
     "datasetId": 7145507,
     "sourceId": 11408190,
     "sourceType": "datasetVersion"
    }
   ],
   "dockerImageVersionId": 31012,
   "isGpuEnabled": false,
   "isInternetEnabled": true,
   "language": "python",
   "sourceType": "notebook"
  },
  "kernelspec": {
   "display_name": "Python 3",
   "language": "python",
   "name": "python3"
  },
  "language_info": {
   "codemirror_mode": {
    "name": "ipython",
    "version": 3
   },
   "file_extension": ".py",
   "mimetype": "text/x-python",
   "name": "python",
   "nbconvert_exporter": "python",
   "pygments_lexer": "ipython3",
   "version": "3.11.11"
  },
  "papermill": {
   "default_parameters": {},
   "duration": 128.435008,
   "end_time": "2025-04-20T04:28:50.659088",
   "environment_variables": {},
   "exception": null,
   "input_path": "__notebook__.ipynb",
   "output_path": "__notebook__.ipynb",
   "parameters": {},
   "start_time": "2025-04-20T04:26:42.224080",
   "version": "2.6.0"
  },
  "widgets": {
   "application/vnd.jupyter.widget-state+json": {
    "state": {
     "0147dca88d6746aa93dd25c1eadf2f88": {
      "model_module": "@jupyter-widgets/base",
      "model_module_version": "2.0.0",
      "model_name": "LayoutModel",
      "state": {
       "_model_module": "@jupyter-widgets/base",
       "_model_module_version": "2.0.0",
       "_model_name": "LayoutModel",
       "_view_count": null,
       "_view_module": "@jupyter-widgets/base",
       "_view_module_version": "2.0.0",
       "_view_name": "LayoutView",
       "align_content": null,
       "align_items": null,
       "align_self": null,
       "border_bottom": null,
       "border_left": null,
       "border_right": null,
       "border_top": null,
       "bottom": null,
       "display": null,
       "flex": null,
       "flex_flow": null,
       "grid_area": null,
       "grid_auto_columns": null,
       "grid_auto_flow": null,
       "grid_auto_rows": null,
       "grid_column": null,
       "grid_gap": null,
       "grid_row": null,
       "grid_template_areas": null,
       "grid_template_columns": null,
       "grid_template_rows": null,
       "height": null,
       "justify_content": null,
       "justify_items": null,
       "left": null,
       "margin": null,
       "max_height": null,
       "max_width": null,
       "min_height": null,
       "min_width": null,
       "object_fit": null,
       "object_position": null,
       "order": null,
       "overflow": null,
       "padding": null,
       "right": null,
       "top": null,
       "visibility": null,
       "width": null
      }
     },
     "0d37f19152ba4a0f8e90d52fc2dc584e": {
      "model_module": "@jupyter-widgets/controls",
      "model_module_version": "2.0.0",
      "model_name": "HTMLModel",
      "state": {
       "_dom_classes": [],
       "_model_module": "@jupyter-widgets/controls",
       "_model_module_version": "2.0.0",
       "_model_name": "HTMLModel",
       "_view_count": null,
       "_view_module": "@jupyter-widgets/controls",
       "_view_module_version": "2.0.0",
       "_view_name": "HTMLView",
       "description": "",
       "description_allow_html": false,
       "layout": "IPY_MODEL_0147dca88d6746aa93dd25c1eadf2f88",
       "placeholder": "​",
       "style": "IPY_MODEL_dded64013c3b4abeb04015616538bc3a",
       "tabbable": null,
       "tooltip": null,
       "value": " 3512/3512 [00:00&lt;00:00, 49498.63 examples/s]"
      }
     },
     "0e86774f336c4250abec46733a677a9a": {
      "model_module": "@jupyter-widgets/base",
      "model_module_version": "2.0.0",
      "model_name": "LayoutModel",
      "state": {
       "_model_module": "@jupyter-widgets/base",
       "_model_module_version": "2.0.0",
       "_model_name": "LayoutModel",
       "_view_count": null,
       "_view_module": "@jupyter-widgets/base",
       "_view_module_version": "2.0.0",
       "_view_name": "LayoutView",
       "align_content": null,
       "align_items": null,
       "align_self": null,
       "border_bottom": null,
       "border_left": null,
       "border_right": null,
       "border_top": null,
       "bottom": null,
       "display": null,
       "flex": null,
       "flex_flow": null,
       "grid_area": null,
       "grid_auto_columns": null,
       "grid_auto_flow": null,
       "grid_auto_rows": null,
       "grid_column": null,
       "grid_gap": null,
       "grid_row": null,
       "grid_template_areas": null,
       "grid_template_columns": null,
       "grid_template_rows": null,
       "height": null,
       "justify_content": null,
       "justify_items": null,
       "left": null,
       "margin": null,
       "max_height": null,
       "max_width": null,
       "min_height": null,
       "min_width": null,
       "object_fit": null,
       "object_position": null,
       "order": null,
       "overflow": null,
       "padding": null,
       "right": null,
       "top": null,
       "visibility": null,
       "width": null
      }
     },
     "0ec642a4eae44b45ae471d77014454f7": {
      "model_module": "@jupyter-widgets/controls",
      "model_module_version": "2.0.0",
      "model_name": "HTMLModel",
      "state": {
       "_dom_classes": [],
       "_model_module": "@jupyter-widgets/controls",
       "_model_module_version": "2.0.0",
       "_model_name": "HTMLModel",
       "_view_count": null,
       "_view_module": "@jupyter-widgets/controls",
       "_view_module_version": "2.0.0",
       "_view_name": "HTMLView",
       "description": "",
       "description_allow_html": false,
       "layout": "IPY_MODEL_853829761fbd4c3699bfd1177a025801",
       "placeholder": "​",
       "style": "IPY_MODEL_8d56ce4c65004e39821927ee8d680a50",
       "tabbable": null,
       "tooltip": null,
       "value": "Generating train split: 100%"
      }
     },
     "0f4814d87465403a954e6082a62321be": {
      "model_module": "@jupyter-widgets/controls",
      "model_module_version": "2.0.0",
      "model_name": "HTMLModel",
      "state": {
       "_dom_classes": [],
       "_model_module": "@jupyter-widgets/controls",
       "_model_module_version": "2.0.0",
       "_model_name": "HTMLModel",
       "_view_count": null,
       "_view_module": "@jupyter-widgets/controls",
       "_view_module_version": "2.0.0",
       "_view_name": "HTMLView",
       "description": "",
       "description_allow_html": false,
       "layout": "IPY_MODEL_29250970168c493483557c0d9de1cfea",
       "placeholder": "​",
       "style": "IPY_MODEL_39c8f0a236d245c19698a86aaabe6bad",
       "tabbable": null,
       "tooltip": null,
       "value": " 1/1 [00:00&lt;00:00, 135.18it/s]"
      }
     },
     "1ad21549238e47f1b41a75e73b3f37d5": {
      "model_module": "@jupyter-widgets/controls",
      "model_module_version": "2.0.0",
      "model_name": "HBoxModel",
      "state": {
       "_dom_classes": [],
       "_model_module": "@jupyter-widgets/controls",
       "_model_module_version": "2.0.0",
       "_model_name": "HBoxModel",
       "_view_count": null,
       "_view_module": "@jupyter-widgets/controls",
       "_view_module_version": "2.0.0",
       "_view_name": "HBoxView",
       "box_style": "",
       "children": [
        "IPY_MODEL_0ec642a4eae44b45ae471d77014454f7",
        "IPY_MODEL_b0a2dfb1743d4e068a0a245a55815655",
        "IPY_MODEL_0d37f19152ba4a0f8e90d52fc2dc584e"
       ],
       "layout": "IPY_MODEL_78e06425f4834810b8a100855a3506dc",
       "tabbable": null,
       "tooltip": null
      }
     },
     "1f3f8b6e3d9a46b9947e144e0e8be9b9": {
      "model_module": "@jupyter-widgets/controls",
      "model_module_version": "2.0.0",
      "model_name": "HTMLModel",
      "state": {
       "_dom_classes": [],
       "_model_module": "@jupyter-widgets/controls",
       "_model_module_version": "2.0.0",
       "_model_name": "HTMLModel",
       "_view_count": null,
       "_view_module": "@jupyter-widgets/controls",
       "_view_module_version": "2.0.0",
       "_view_name": "HTMLView",
       "description": "",
       "description_allow_html": false,
       "layout": "IPY_MODEL_60625fd6c86647d8a856b6349aa38ade",
       "placeholder": "​",
       "style": "IPY_MODEL_611cf3c9f4094fb09a7979c049f05785",
       "tabbable": null,
       "tooltip": null,
       "value": "Computing checksums: 100%"
      }
     },
     "2368a8b28ae14ed1ae18a31ac06a76c6": {
      "model_module": "@jupyter-widgets/controls",
      "model_module_version": "2.0.0",
      "model_name": "HBoxModel",
      "state": {
       "_dom_classes": [],
       "_model_module": "@jupyter-widgets/controls",
       "_model_module_version": "2.0.0",
       "_model_name": "HBoxModel",
       "_view_count": null,
       "_view_module": "@jupyter-widgets/controls",
       "_view_module_version": "2.0.0",
       "_view_name": "HBoxView",
       "box_style": "",
       "children": [
        "IPY_MODEL_1f3f8b6e3d9a46b9947e144e0e8be9b9",
        "IPY_MODEL_e124103971644830952a94427e87bf64",
        "IPY_MODEL_0f4814d87465403a954e6082a62321be"
       ],
       "layout": "IPY_MODEL_0e86774f336c4250abec46733a677a9a",
       "tabbable": null,
       "tooltip": null
      }
     },
     "29250970168c493483557c0d9de1cfea": {
      "model_module": "@jupyter-widgets/base",
      "model_module_version": "2.0.0",
      "model_name": "LayoutModel",
      "state": {
       "_model_module": "@jupyter-widgets/base",
       "_model_module_version": "2.0.0",
       "_model_name": "LayoutModel",
       "_view_count": null,
       "_view_module": "@jupyter-widgets/base",
       "_view_module_version": "2.0.0",
       "_view_name": "LayoutView",
       "align_content": null,
       "align_items": null,
       "align_self": null,
       "border_bottom": null,
       "border_left": null,
       "border_right": null,
       "border_top": null,
       "bottom": null,
       "display": null,
       "flex": null,
       "flex_flow": null,
       "grid_area": null,
       "grid_auto_columns": null,
       "grid_auto_flow": null,
       "grid_auto_rows": null,
       "grid_column": null,
       "grid_gap": null,
       "grid_row": null,
       "grid_template_areas": null,
       "grid_template_columns": null,
       "grid_template_rows": null,
       "height": null,
       "justify_content": null,
       "justify_items": null,
       "left": null,
       "margin": null,
       "max_height": null,
       "max_width": null,
       "min_height": null,
       "min_width": null,
       "object_fit": null,
       "object_position": null,
       "order": null,
       "overflow": null,
       "padding": null,
       "right": null,
       "top": null,
       "visibility": null,
       "width": null
      }
     },
     "2acb61c18f5543dd913a69bb69592939": {
      "model_module": "@jupyter-widgets/controls",
      "model_module_version": "2.0.0",
      "model_name": "ProgressStyleModel",
      "state": {
       "_model_module": "@jupyter-widgets/controls",
       "_model_module_version": "2.0.0",
       "_model_name": "ProgressStyleModel",
       "_view_count": null,
       "_view_module": "@jupyter-widgets/base",
       "_view_module_version": "2.0.0",
       "_view_name": "StyleView",
       "bar_color": null,
       "description_width": ""
      }
     },
     "3193a244ba4445209f34555f8d7f53f0": {
      "model_module": "@jupyter-widgets/controls",
      "model_module_version": "2.0.0",
      "model_name": "ProgressStyleModel",
      "state": {
       "_model_module": "@jupyter-widgets/controls",
       "_model_module_version": "2.0.0",
       "_model_name": "ProgressStyleModel",
       "_view_count": null,
       "_view_module": "@jupyter-widgets/base",
       "_view_module_version": "2.0.0",
       "_view_name": "StyleView",
       "bar_color": null,
       "description_width": ""
      }
     },
     "33fb9fd4061643d88147e8ead363fc70": {
      "model_module": "@jupyter-widgets/controls",
      "model_module_version": "2.0.0",
      "model_name": "HTMLModel",
      "state": {
       "_dom_classes": [],
       "_model_module": "@jupyter-widgets/controls",
       "_model_module_version": "2.0.0",
       "_model_name": "HTMLModel",
       "_view_count": null,
       "_view_module": "@jupyter-widgets/controls",
       "_view_module_version": "2.0.0",
       "_view_name": "HTMLView",
       "description": "",
       "description_allow_html": false,
       "layout": "IPY_MODEL_c5e6ffedcfdb4db69a2a0e4fabb5458e",
       "placeholder": "​",
       "style": "IPY_MODEL_646bec1b70144b4891fe99084fa3fb62",
       "tabbable": null,
       "tooltip": null,
       "value": " 4.79M/4.79M [00:00&lt;00:00, 13.3MB/s]"
      }
     },
     "38595a7a80274c1da4dbdacb6f461cfb": {
      "model_module": "@jupyter-widgets/controls",
      "model_module_version": "2.0.0",
      "model_name": "HTMLModel",
      "state": {
       "_dom_classes": [],
       "_model_module": "@jupyter-widgets/controls",
       "_model_module_version": "2.0.0",
       "_model_name": "HTMLModel",
       "_view_count": null,
       "_view_module": "@jupyter-widgets/controls",
       "_view_module_version": "2.0.0",
       "_view_name": "HTMLView",
       "description": "",
       "description_allow_html": false,
       "layout": "IPY_MODEL_d4b2de44d5e94258b87bbb87cd805e52",
       "placeholder": "​",
       "style": "IPY_MODEL_c04607087f354cc19d1138a70569340a",
       "tabbable": null,
       "tooltip": null,
       "value": " 2.82k/2.82k [00:00&lt;00:00, 289kB/s]"
      }
     },
     "39c8f0a236d245c19698a86aaabe6bad": {
      "model_module": "@jupyter-widgets/controls",
      "model_module_version": "2.0.0",
      "model_name": "HTMLStyleModel",
      "state": {
       "_model_module": "@jupyter-widgets/controls",
       "_model_module_version": "2.0.0",
       "_model_name": "HTMLStyleModel",
       "_view_count": null,
       "_view_module": "@jupyter-widgets/base",
       "_view_module_version": "2.0.0",
       "_view_name": "StyleView",
       "background": null,
       "description_width": "",
       "font_size": null,
       "text_color": null
      }
     },
     "451f9f4cb2ba4acf98d71d8d1608f5f0": {
      "model_module": "@jupyter-widgets/base",
      "model_module_version": "2.0.0",
      "model_name": "LayoutModel",
      "state": {
       "_model_module": "@jupyter-widgets/base",
       "_model_module_version": "2.0.0",
       "_model_name": "LayoutModel",
       "_view_count": null,
       "_view_module": "@jupyter-widgets/base",
       "_view_module_version": "2.0.0",
       "_view_name": "LayoutView",
       "align_content": null,
       "align_items": null,
       "align_self": null,
       "border_bottom": null,
       "border_left": null,
       "border_right": null,
       "border_top": null,
       "bottom": null,
       "display": null,
       "flex": null,
       "flex_flow": null,
       "grid_area": null,
       "grid_auto_columns": null,
       "grid_auto_flow": null,
       "grid_auto_rows": null,
       "grid_column": null,
       "grid_gap": null,
       "grid_row": null,
       "grid_template_areas": null,
       "grid_template_columns": null,
       "grid_template_rows": null,
       "height": null,
       "justify_content": null,
       "justify_items": null,
       "left": null,
       "margin": null,
       "max_height": null,
       "max_width": null,
       "min_height": null,
       "min_width": null,
       "object_fit": null,
       "object_position": null,
       "order": null,
       "overflow": null,
       "padding": null,
       "right": null,
       "top": null,
       "visibility": null,
       "width": null
      }
     },
     "4d9a987a960f48419fc5198569758158": {
      "model_module": "@jupyter-widgets/base",
      "model_module_version": "2.0.0",
      "model_name": "LayoutModel",
      "state": {
       "_model_module": "@jupyter-widgets/base",
       "_model_module_version": "2.0.0",
       "_model_name": "LayoutModel",
       "_view_count": null,
       "_view_module": "@jupyter-widgets/base",
       "_view_module_version": "2.0.0",
       "_view_name": "LayoutView",
       "align_content": null,
       "align_items": null,
       "align_self": null,
       "border_bottom": null,
       "border_left": null,
       "border_right": null,
       "border_top": null,
       "bottom": null,
       "display": null,
       "flex": null,
       "flex_flow": null,
       "grid_area": null,
       "grid_auto_columns": null,
       "grid_auto_flow": null,
       "grid_auto_rows": null,
       "grid_column": null,
       "grid_gap": null,
       "grid_row": null,
       "grid_template_areas": null,
       "grid_template_columns": null,
       "grid_template_rows": null,
       "height": null,
       "justify_content": null,
       "justify_items": null,
       "left": null,
       "margin": null,
       "max_height": null,
       "max_width": null,
       "min_height": null,
       "min_width": null,
       "object_fit": null,
       "object_position": null,
       "order": null,
       "overflow": null,
       "padding": null,
       "right": null,
       "top": null,
       "visibility": null,
       "width": null
      }
     },
     "60625fd6c86647d8a856b6349aa38ade": {
      "model_module": "@jupyter-widgets/base",
      "model_module_version": "2.0.0",
      "model_name": "LayoutModel",
      "state": {
       "_model_module": "@jupyter-widgets/base",
       "_model_module_version": "2.0.0",
       "_model_name": "LayoutModel",
       "_view_count": null,
       "_view_module": "@jupyter-widgets/base",
       "_view_module_version": "2.0.0",
       "_view_name": "LayoutView",
       "align_content": null,
       "align_items": null,
       "align_self": null,
       "border_bottom": null,
       "border_left": null,
       "border_right": null,
       "border_top": null,
       "bottom": null,
       "display": null,
       "flex": null,
       "flex_flow": null,
       "grid_area": null,
       "grid_auto_columns": null,
       "grid_auto_flow": null,
       "grid_auto_rows": null,
       "grid_column": null,
       "grid_gap": null,
       "grid_row": null,
       "grid_template_areas": null,
       "grid_template_columns": null,
       "grid_template_rows": null,
       "height": null,
       "justify_content": null,
       "justify_items": null,
       "left": null,
       "margin": null,
       "max_height": null,
       "max_width": null,
       "min_height": null,
       "min_width": null,
       "object_fit": null,
       "object_position": null,
       "order": null,
       "overflow": null,
       "padding": null,
       "right": null,
       "top": null,
       "visibility": null,
       "width": null
      }
     },
     "611cf3c9f4094fb09a7979c049f05785": {
      "model_module": "@jupyter-widgets/controls",
      "model_module_version": "2.0.0",
      "model_name": "HTMLStyleModel",
      "state": {
       "_model_module": "@jupyter-widgets/controls",
       "_model_module_version": "2.0.0",
       "_model_name": "HTMLStyleModel",
       "_view_count": null,
       "_view_module": "@jupyter-widgets/base",
       "_view_module_version": "2.0.0",
       "_view_name": "StyleView",
       "background": null,
       "description_width": "",
       "font_size": null,
       "text_color": null
      }
     },
     "646bec1b70144b4891fe99084fa3fb62": {
      "model_module": "@jupyter-widgets/controls",
      "model_module_version": "2.0.0",
      "model_name": "HTMLStyleModel",
      "state": {
       "_model_module": "@jupyter-widgets/controls",
       "_model_module_version": "2.0.0",
       "_model_name": "HTMLStyleModel",
       "_view_count": null,
       "_view_module": "@jupyter-widgets/base",
       "_view_module_version": "2.0.0",
       "_view_name": "StyleView",
       "background": null,
       "description_width": "",
       "font_size": null,
       "text_color": null
      }
     },
     "78e06425f4834810b8a100855a3506dc": {
      "model_module": "@jupyter-widgets/base",
      "model_module_version": "2.0.0",
      "model_name": "LayoutModel",
      "state": {
       "_model_module": "@jupyter-widgets/base",
       "_model_module_version": "2.0.0",
       "_model_name": "LayoutModel",
       "_view_count": null,
       "_view_module": "@jupyter-widgets/base",
       "_view_module_version": "2.0.0",
       "_view_name": "LayoutView",
       "align_content": null,
       "align_items": null,
       "align_self": null,
       "border_bottom": null,
       "border_left": null,
       "border_right": null,
       "border_top": null,
       "bottom": null,
       "display": null,
       "flex": null,
       "flex_flow": null,
       "grid_area": null,
       "grid_auto_columns": null,
       "grid_auto_flow": null,
       "grid_auto_rows": null,
       "grid_column": null,
       "grid_gap": null,
       "grid_row": null,
       "grid_template_areas": null,
       "grid_template_columns": null,
       "grid_template_rows": null,
       "height": null,
       "justify_content": null,
       "justify_items": null,
       "left": null,
       "margin": null,
       "max_height": null,
       "max_width": null,
       "min_height": null,
       "min_width": null,
       "object_fit": null,
       "object_position": null,
       "order": null,
       "overflow": null,
       "padding": null,
       "right": null,
       "top": null,
       "visibility": null,
       "width": null
      }
     },
     "853829761fbd4c3699bfd1177a025801": {
      "model_module": "@jupyter-widgets/base",
      "model_module_version": "2.0.0",
      "model_name": "LayoutModel",
      "state": {
       "_model_module": "@jupyter-widgets/base",
       "_model_module_version": "2.0.0",
       "_model_name": "LayoutModel",
       "_view_count": null,
       "_view_module": "@jupyter-widgets/base",
       "_view_module_version": "2.0.0",
       "_view_name": "LayoutView",
       "align_content": null,
       "align_items": null,
       "align_self": null,
       "border_bottom": null,
       "border_left": null,
       "border_right": null,
       "border_top": null,
       "bottom": null,
       "display": null,
       "flex": null,
       "flex_flow": null,
       "grid_area": null,
       "grid_auto_columns": null,
       "grid_auto_flow": null,
       "grid_auto_rows": null,
       "grid_column": null,
       "grid_gap": null,
       "grid_row": null,
       "grid_template_areas": null,
       "grid_template_columns": null,
       "grid_template_rows": null,
       "height": null,
       "justify_content": null,
       "justify_items": null,
       "left": null,
       "margin": null,
       "max_height": null,
       "max_width": null,
       "min_height": null,
       "min_width": null,
       "object_fit": null,
       "object_position": null,
       "order": null,
       "overflow": null,
       "padding": null,
       "right": null,
       "top": null,
       "visibility": null,
       "width": null
      }
     },
     "8641d3a1dc86426e989c7a2a10246565": {
      "model_module": "@jupyter-widgets/base",
      "model_module_version": "2.0.0",
      "model_name": "LayoutModel",
      "state": {
       "_model_module": "@jupyter-widgets/base",
       "_model_module_version": "2.0.0",
       "_model_name": "LayoutModel",
       "_view_count": null,
       "_view_module": "@jupyter-widgets/base",
       "_view_module_version": "2.0.0",
       "_view_name": "LayoutView",
       "align_content": null,
       "align_items": null,
       "align_self": null,
       "border_bottom": null,
       "border_left": null,
       "border_right": null,
       "border_top": null,
       "bottom": null,
       "display": null,
       "flex": null,
       "flex_flow": null,
       "grid_area": null,
       "grid_auto_columns": null,
       "grid_auto_flow": null,
       "grid_auto_rows": null,
       "grid_column": null,
       "grid_gap": null,
       "grid_row": null,
       "grid_template_areas": null,
       "grid_template_columns": null,
       "grid_template_rows": null,
       "height": null,
       "justify_content": null,
       "justify_items": null,
       "left": null,
       "margin": null,
       "max_height": null,
       "max_width": null,
       "min_height": null,
       "min_width": null,
       "object_fit": null,
       "object_position": null,
       "order": null,
       "overflow": null,
       "padding": null,
       "right": null,
       "top": null,
       "visibility": null,
       "width": null
      }
     },
     "870e2ca7c45840718dc72e40b7baf4cc": {
      "model_module": "@jupyter-widgets/controls",
      "model_module_version": "2.0.0",
      "model_name": "ProgressStyleModel",
      "state": {
       "_model_module": "@jupyter-widgets/controls",
       "_model_module_version": "2.0.0",
       "_model_name": "ProgressStyleModel",
       "_view_count": null,
       "_view_module": "@jupyter-widgets/base",
       "_view_module_version": "2.0.0",
       "_view_name": "StyleView",
       "bar_color": null,
       "description_width": ""
      }
     },
     "8d56ce4c65004e39821927ee8d680a50": {
      "model_module": "@jupyter-widgets/controls",
      "model_module_version": "2.0.0",
      "model_name": "HTMLStyleModel",
      "state": {
       "_model_module": "@jupyter-widgets/controls",
       "_model_module_version": "2.0.0",
       "_model_name": "HTMLStyleModel",
       "_view_count": null,
       "_view_module": "@jupyter-widgets/base",
       "_view_module_version": "2.0.0",
       "_view_name": "StyleView",
       "background": null,
       "description_width": "",
       "font_size": null,
       "text_color": null
      }
     },
     "a21f537ff8284dfcabe8af54eb02993d": {
      "model_module": "@jupyter-widgets/base",
      "model_module_version": "2.0.0",
      "model_name": "LayoutModel",
      "state": {
       "_model_module": "@jupyter-widgets/base",
       "_model_module_version": "2.0.0",
       "_model_name": "LayoutModel",
       "_view_count": null,
       "_view_module": "@jupyter-widgets/base",
       "_view_module_version": "2.0.0",
       "_view_name": "LayoutView",
       "align_content": null,
       "align_items": null,
       "align_self": null,
       "border_bottom": null,
       "border_left": null,
       "border_right": null,
       "border_top": null,
       "bottom": null,
       "display": null,
       "flex": null,
       "flex_flow": null,
       "grid_area": null,
       "grid_auto_columns": null,
       "grid_auto_flow": null,
       "grid_auto_rows": null,
       "grid_column": null,
       "grid_gap": null,
       "grid_row": null,
       "grid_template_areas": null,
       "grid_template_columns": null,
       "grid_template_rows": null,
       "height": null,
       "justify_content": null,
       "justify_items": null,
       "left": null,
       "margin": null,
       "max_height": null,
       "max_width": null,
       "min_height": null,
       "min_width": null,
       "object_fit": null,
       "object_position": null,
       "order": null,
       "overflow": null,
       "padding": null,
       "right": null,
       "top": null,
       "visibility": null,
       "width": null
      }
     },
     "a3eee6a18bfb450caf529d5ce97b1179": {
      "model_module": "@jupyter-widgets/base",
      "model_module_version": "2.0.0",
      "model_name": "LayoutModel",
      "state": {
       "_model_module": "@jupyter-widgets/base",
       "_model_module_version": "2.0.0",
       "_model_name": "LayoutModel",
       "_view_count": null,
       "_view_module": "@jupyter-widgets/base",
       "_view_module_version": "2.0.0",
       "_view_name": "LayoutView",
       "align_content": null,
       "align_items": null,
       "align_self": null,
       "border_bottom": null,
       "border_left": null,
       "border_right": null,
       "border_top": null,
       "bottom": null,
       "display": null,
       "flex": null,
       "flex_flow": null,
       "grid_area": null,
       "grid_auto_columns": null,
       "grid_auto_flow": null,
       "grid_auto_rows": null,
       "grid_column": null,
       "grid_gap": null,
       "grid_row": null,
       "grid_template_areas": null,
       "grid_template_columns": null,
       "grid_template_rows": null,
       "height": null,
       "justify_content": null,
       "justify_items": null,
       "left": null,
       "margin": null,
       "max_height": null,
       "max_width": null,
       "min_height": null,
       "min_width": null,
       "object_fit": null,
       "object_position": null,
       "order": null,
       "overflow": null,
       "padding": null,
       "right": null,
       "top": null,
       "visibility": null,
       "width": null
      }
     },
     "a640721327754cf880c5a1a02aeec6f6": {
      "model_module": "@jupyter-widgets/controls",
      "model_module_version": "2.0.0",
      "model_name": "HBoxModel",
      "state": {
       "_dom_classes": [],
       "_model_module": "@jupyter-widgets/controls",
       "_model_module_version": "2.0.0",
       "_model_name": "HBoxModel",
       "_view_count": null,
       "_view_module": "@jupyter-widgets/controls",
       "_view_module_version": "2.0.0",
       "_view_name": "HBoxView",
       "box_style": "",
       "children": [
        "IPY_MODEL_d218df5fde774697af2eb4de39a5e80d",
        "IPY_MODEL_e50fafaca829454ea2f89bd207567755",
        "IPY_MODEL_38595a7a80274c1da4dbdacb6f461cfb"
       ],
       "layout": "IPY_MODEL_451f9f4cb2ba4acf98d71d8d1608f5f0",
       "tabbable": null,
       "tooltip": null
      }
     },
     "a6ce01a385a94fd0acf23ffb71d44fe3": {
      "model_module": "@jupyter-widgets/controls",
      "model_module_version": "2.0.0",
      "model_name": "HTMLStyleModel",
      "state": {
       "_model_module": "@jupyter-widgets/controls",
       "_model_module_version": "2.0.0",
       "_model_name": "HTMLStyleModel",
       "_view_count": null,
       "_view_module": "@jupyter-widgets/base",
       "_view_module_version": "2.0.0",
       "_view_name": "StyleView",
       "background": null,
       "description_width": "",
       "font_size": null,
       "text_color": null
      }
     },
     "b0a2dfb1743d4e068a0a245a55815655": {
      "model_module": "@jupyter-widgets/controls",
      "model_module_version": "2.0.0",
      "model_name": "FloatProgressModel",
      "state": {
       "_dom_classes": [],
       "_model_module": "@jupyter-widgets/controls",
       "_model_module_version": "2.0.0",
       "_model_name": "FloatProgressModel",
       "_view_count": null,
       "_view_module": "@jupyter-widgets/controls",
       "_view_module_version": "2.0.0",
       "_view_name": "ProgressView",
       "bar_style": "success",
       "description": "",
       "description_allow_html": false,
       "layout": "IPY_MODEL_c6e01e22b51344ed9e25df9df103cda7",
       "max": 3512.0,
       "min": 0.0,
       "orientation": "horizontal",
       "style": "IPY_MODEL_2acb61c18f5543dd913a69bb69592939",
       "tabbable": null,
       "tooltip": null,
       "value": 3512.0
      }
     },
     "bef27c727cb546c29762dff55d58a844": {
      "model_module": "@jupyter-widgets/base",
      "model_module_version": "2.0.0",
      "model_name": "LayoutModel",
      "state": {
       "_model_module": "@jupyter-widgets/base",
       "_model_module_version": "2.0.0",
       "_model_name": "LayoutModel",
       "_view_count": null,
       "_view_module": "@jupyter-widgets/base",
       "_view_module_version": "2.0.0",
       "_view_name": "LayoutView",
       "align_content": null,
       "align_items": null,
       "align_self": null,
       "border_bottom": null,
       "border_left": null,
       "border_right": null,
       "border_top": null,
       "bottom": null,
       "display": null,
       "flex": null,
       "flex_flow": null,
       "grid_area": null,
       "grid_auto_columns": null,
       "grid_auto_flow": null,
       "grid_auto_rows": null,
       "grid_column": null,
       "grid_gap": null,
       "grid_row": null,
       "grid_template_areas": null,
       "grid_template_columns": null,
       "grid_template_rows": null,
       "height": null,
       "justify_content": null,
       "justify_items": null,
       "left": null,
       "margin": null,
       "max_height": null,
       "max_width": null,
       "min_height": null,
       "min_width": null,
       "object_fit": null,
       "object_position": null,
       "order": null,
       "overflow": null,
       "padding": null,
       "right": null,
       "top": null,
       "visibility": null,
       "width": null
      }
     },
     "c04607087f354cc19d1138a70569340a": {
      "model_module": "@jupyter-widgets/controls",
      "model_module_version": "2.0.0",
      "model_name": "HTMLStyleModel",
      "state": {
       "_model_module": "@jupyter-widgets/controls",
       "_model_module_version": "2.0.0",
       "_model_name": "HTMLStyleModel",
       "_view_count": null,
       "_view_module": "@jupyter-widgets/base",
       "_view_module_version": "2.0.0",
       "_view_name": "StyleView",
       "background": null,
       "description_width": "",
       "font_size": null,
       "text_color": null
      }
     },
     "c5e6ffedcfdb4db69a2a0e4fabb5458e": {
      "model_module": "@jupyter-widgets/base",
      "model_module_version": "2.0.0",
      "model_name": "LayoutModel",
      "state": {
       "_model_module": "@jupyter-widgets/base",
       "_model_module_version": "2.0.0",
       "_model_name": "LayoutModel",
       "_view_count": null,
       "_view_module": "@jupyter-widgets/base",
       "_view_module_version": "2.0.0",
       "_view_name": "LayoutView",
       "align_content": null,
       "align_items": null,
       "align_self": null,
       "border_bottom": null,
       "border_left": null,
       "border_right": null,
       "border_top": null,
       "bottom": null,
       "display": null,
       "flex": null,
       "flex_flow": null,
       "grid_area": null,
       "grid_auto_columns": null,
       "grid_auto_flow": null,
       "grid_auto_rows": null,
       "grid_column": null,
       "grid_gap": null,
       "grid_row": null,
       "grid_template_areas": null,
       "grid_template_columns": null,
       "grid_template_rows": null,
       "height": null,
       "justify_content": null,
       "justify_items": null,
       "left": null,
       "margin": null,
       "max_height": null,
       "max_width": null,
       "min_height": null,
       "min_width": null,
       "object_fit": null,
       "object_position": null,
       "order": null,
       "overflow": null,
       "padding": null,
       "right": null,
       "top": null,
       "visibility": null,
       "width": null
      }
     },
     "c6e01e22b51344ed9e25df9df103cda7": {
      "model_module": "@jupyter-widgets/base",
      "model_module_version": "2.0.0",
      "model_name": "LayoutModel",
      "state": {
       "_model_module": "@jupyter-widgets/base",
       "_model_module_version": "2.0.0",
       "_model_name": "LayoutModel",
       "_view_count": null,
       "_view_module": "@jupyter-widgets/base",
       "_view_module_version": "2.0.0",
       "_view_name": "LayoutView",
       "align_content": null,
       "align_items": null,
       "align_self": null,
       "border_bottom": null,
       "border_left": null,
       "border_right": null,
       "border_top": null,
       "bottom": null,
       "display": null,
       "flex": null,
       "flex_flow": null,
       "grid_area": null,
       "grid_auto_columns": null,
       "grid_auto_flow": null,
       "grid_auto_rows": null,
       "grid_column": null,
       "grid_gap": null,
       "grid_row": null,
       "grid_template_areas": null,
       "grid_template_columns": null,
       "grid_template_rows": null,
       "height": null,
       "justify_content": null,
       "justify_items": null,
       "left": null,
       "margin": null,
       "max_height": null,
       "max_width": null,
       "min_height": null,
       "min_width": null,
       "object_fit": null,
       "object_position": null,
       "order": null,
       "overflow": null,
       "padding": null,
       "right": null,
       "top": null,
       "visibility": null,
       "width": null
      }
     },
     "d218df5fde774697af2eb4de39a5e80d": {
      "model_module": "@jupyter-widgets/controls",
      "model_module_version": "2.0.0",
      "model_name": "HTMLModel",
      "state": {
       "_dom_classes": [],
       "_model_module": "@jupyter-widgets/controls",
       "_model_module_version": "2.0.0",
       "_model_name": "HTMLModel",
       "_view_count": null,
       "_view_module": "@jupyter-widgets/controls",
       "_view_module_version": "2.0.0",
       "_view_name": "HTMLView",
       "description": "",
       "description_allow_html": false,
       "layout": "IPY_MODEL_8641d3a1dc86426e989c7a2a10246565",
       "placeholder": "​",
       "style": "IPY_MODEL_dbd059c14a814a619bc0f53373d5c159",
       "tabbable": null,
       "tooltip": null,
       "value": "README.md: 100%"
      }
     },
     "d4b2de44d5e94258b87bbb87cd805e52": {
      "model_module": "@jupyter-widgets/base",
      "model_module_version": "2.0.0",
      "model_name": "LayoutModel",
      "state": {
       "_model_module": "@jupyter-widgets/base",
       "_model_module_version": "2.0.0",
       "_model_name": "LayoutModel",
       "_view_count": null,
       "_view_module": "@jupyter-widgets/base",
       "_view_module_version": "2.0.0",
       "_view_name": "LayoutView",
       "align_content": null,
       "align_items": null,
       "align_self": null,
       "border_bottom": null,
       "border_left": null,
       "border_right": null,
       "border_top": null,
       "bottom": null,
       "display": null,
       "flex": null,
       "flex_flow": null,
       "grid_area": null,
       "grid_auto_columns": null,
       "grid_auto_flow": null,
       "grid_auto_rows": null,
       "grid_column": null,
       "grid_gap": null,
       "grid_row": null,
       "grid_template_areas": null,
       "grid_template_columns": null,
       "grid_template_rows": null,
       "height": null,
       "justify_content": null,
       "justify_items": null,
       "left": null,
       "margin": null,
       "max_height": null,
       "max_width": null,
       "min_height": null,
       "min_width": null,
       "object_fit": null,
       "object_position": null,
       "order": null,
       "overflow": null,
       "padding": null,
       "right": null,
       "top": null,
       "visibility": null,
       "width": null
      }
     },
     "d8f42f75efbd4455a9dd18765f6dd1b1": {
      "model_module": "@jupyter-widgets/controls",
      "model_module_version": "2.0.0",
      "model_name": "ProgressStyleModel",
      "state": {
       "_model_module": "@jupyter-widgets/controls",
       "_model_module_version": "2.0.0",
       "_model_name": "ProgressStyleModel",
       "_view_count": null,
       "_view_module": "@jupyter-widgets/base",
       "_view_module_version": "2.0.0",
       "_view_name": "StyleView",
       "bar_color": null,
       "description_width": ""
      }
     },
     "dbd059c14a814a619bc0f53373d5c159": {
      "model_module": "@jupyter-widgets/controls",
      "model_module_version": "2.0.0",
      "model_name": "HTMLStyleModel",
      "state": {
       "_model_module": "@jupyter-widgets/controls",
       "_model_module_version": "2.0.0",
       "_model_name": "HTMLStyleModel",
       "_view_count": null,
       "_view_module": "@jupyter-widgets/base",
       "_view_module_version": "2.0.0",
       "_view_name": "StyleView",
       "background": null,
       "description_width": "",
       "font_size": null,
       "text_color": null
      }
     },
     "dded64013c3b4abeb04015616538bc3a": {
      "model_module": "@jupyter-widgets/controls",
      "model_module_version": "2.0.0",
      "model_name": "HTMLStyleModel",
      "state": {
       "_model_module": "@jupyter-widgets/controls",
       "_model_module_version": "2.0.0",
       "_model_name": "HTMLStyleModel",
       "_view_count": null,
       "_view_module": "@jupyter-widgets/base",
       "_view_module_version": "2.0.0",
       "_view_name": "StyleView",
       "background": null,
       "description_width": "",
       "font_size": null,
       "text_color": null
      }
     },
     "e0d6f05d32244fc68555099ab3f2938a": {
      "model_module": "@jupyter-widgets/controls",
      "model_module_version": "2.0.0",
      "model_name": "FloatProgressModel",
      "state": {
       "_dom_classes": [],
       "_model_module": "@jupyter-widgets/controls",
       "_model_module_version": "2.0.0",
       "_model_name": "FloatProgressModel",
       "_view_count": null,
       "_view_module": "@jupyter-widgets/controls",
       "_view_module_version": "2.0.0",
       "_view_name": "ProgressView",
       "bar_style": "success",
       "description": "",
       "description_allow_html": false,
       "layout": "IPY_MODEL_a21f537ff8284dfcabe8af54eb02993d",
       "max": 4790520.0,
       "min": 0.0,
       "orientation": "horizontal",
       "style": "IPY_MODEL_d8f42f75efbd4455a9dd18765f6dd1b1",
       "tabbable": null,
       "tooltip": null,
       "value": 4790520.0
      }
     },
     "e124103971644830952a94427e87bf64": {
      "model_module": "@jupyter-widgets/controls",
      "model_module_version": "2.0.0",
      "model_name": "FloatProgressModel",
      "state": {
       "_dom_classes": [],
       "_model_module": "@jupyter-widgets/controls",
       "_model_module_version": "2.0.0",
       "_model_name": "FloatProgressModel",
       "_view_count": null,
       "_view_module": "@jupyter-widgets/controls",
       "_view_module_version": "2.0.0",
       "_view_name": "ProgressView",
       "bar_style": "success",
       "description": "",
       "description_allow_html": false,
       "layout": "IPY_MODEL_a3eee6a18bfb450caf529d5ce97b1179",
       "max": 1.0,
       "min": 0.0,
       "orientation": "horizontal",
       "style": "IPY_MODEL_3193a244ba4445209f34555f8d7f53f0",
       "tabbable": null,
       "tooltip": null,
       "value": 1.0
      }
     },
     "e50fafaca829454ea2f89bd207567755": {
      "model_module": "@jupyter-widgets/controls",
      "model_module_version": "2.0.0",
      "model_name": "FloatProgressModel",
      "state": {
       "_dom_classes": [],
       "_model_module": "@jupyter-widgets/controls",
       "_model_module_version": "2.0.0",
       "_model_name": "FloatProgressModel",
       "_view_count": null,
       "_view_module": "@jupyter-widgets/controls",
       "_view_module_version": "2.0.0",
       "_view_name": "ProgressView",
       "bar_style": "success",
       "description": "",
       "description_allow_html": false,
       "layout": "IPY_MODEL_f7b9893a79bd4baf91dcdfa09f929415",
       "max": 2816.0,
       "min": 0.0,
       "orientation": "horizontal",
       "style": "IPY_MODEL_870e2ca7c45840718dc72e40b7baf4cc",
       "tabbable": null,
       "tooltip": null,
       "value": 2816.0
      }
     },
     "e7e5d778758947cc8059ca26dbd46b4a": {
      "model_module": "@jupyter-widgets/controls",
      "model_module_version": "2.0.0",
      "model_name": "HBoxModel",
      "state": {
       "_dom_classes": [],
       "_model_module": "@jupyter-widgets/controls",
       "_model_module_version": "2.0.0",
       "_model_name": "HBoxModel",
       "_view_count": null,
       "_view_module": "@jupyter-widgets/controls",
       "_view_module_version": "2.0.0",
       "_view_name": "HBoxView",
       "box_style": "",
       "children": [
        "IPY_MODEL_ea3428c17d764a4791bbae566b679d49",
        "IPY_MODEL_e0d6f05d32244fc68555099ab3f2938a",
        "IPY_MODEL_33fb9fd4061643d88147e8ead363fc70"
       ],
       "layout": "IPY_MODEL_4d9a987a960f48419fc5198569758158",
       "tabbable": null,
       "tooltip": null
      }
     },
     "ea3428c17d764a4791bbae566b679d49": {
      "model_module": "@jupyter-widgets/controls",
      "model_module_version": "2.0.0",
      "model_name": "HTMLModel",
      "state": {
       "_dom_classes": [],
       "_model_module": "@jupyter-widgets/controls",
       "_model_module_version": "2.0.0",
       "_model_name": "HTMLModel",
       "_view_count": null,
       "_view_module": "@jupyter-widgets/controls",
       "_view_module_version": "2.0.0",
       "_view_name": "HTMLView",
       "description": "",
       "description_allow_html": false,
       "layout": "IPY_MODEL_bef27c727cb546c29762dff55d58a844",
       "placeholder": "​",
       "style": "IPY_MODEL_a6ce01a385a94fd0acf23ffb71d44fe3",
       "tabbable": null,
       "tooltip": null,
       "value": "combined_dataset.json: 100%"
      }
     },
     "f7b9893a79bd4baf91dcdfa09f929415": {
      "model_module": "@jupyter-widgets/base",
      "model_module_version": "2.0.0",
      "model_name": "LayoutModel",
      "state": {
       "_model_module": "@jupyter-widgets/base",
       "_model_module_version": "2.0.0",
       "_model_name": "LayoutModel",
       "_view_count": null,
       "_view_module": "@jupyter-widgets/base",
       "_view_module_version": "2.0.0",
       "_view_name": "LayoutView",
       "align_content": null,
       "align_items": null,
       "align_self": null,
       "border_bottom": null,
       "border_left": null,
       "border_right": null,
       "border_top": null,
       "bottom": null,
       "display": null,
       "flex": null,
       "flex_flow": null,
       "grid_area": null,
       "grid_auto_columns": null,
       "grid_auto_flow": null,
       "grid_auto_rows": null,
       "grid_column": null,
       "grid_gap": null,
       "grid_row": null,
       "grid_template_areas": null,
       "grid_template_columns": null,
       "grid_template_rows": null,
       "height": null,
       "justify_content": null,
       "justify_items": null,
       "left": null,
       "margin": null,
       "max_height": null,
       "max_width": null,
       "min_height": null,
       "min_width": null,
       "object_fit": null,
       "object_position": null,
       "order": null,
       "overflow": null,
       "padding": null,
       "right": null,
       "top": null,
       "visibility": null,
       "width": null
      }
     }
    },
    "version_major": 2,
    "version_minor": 0
   }
  }
 },
 "nbformat": 4,
 "nbformat_minor": 5
}
