{
 "cells": [
  {
   "cell_type": "markdown",
   "id": "0a62f8a0",
   "metadata": {
    "papermill": {
     "duration": 0.00756,
     "end_time": "2025-04-20T04:41:28.781723",
     "exception": false,
     "start_time": "2025-04-20T04:41:28.774163",
     "status": "completed"
    },
    "tags": []
   },
   "source": [
    "# **Therapy Clinic Assistant Chatbot-Google GenAI Capstone Project 2025**"
   ]
  },
  {
   "cell_type": "markdown",
   "id": "0d45a9c3",
   "metadata": {
    "papermill": {
     "duration": 0.005604,
     "end_time": "2025-04-20T04:41:28.793518",
     "exception": false,
     "start_time": "2025-04-20T04:41:28.787914",
     "status": "completed"
    },
    "tags": []
   },
   "source": [
    "## Introduction\n",
    "\n",
    "In this notebook, a generative AI-powered virtual support agent is built tailored for a psychology and consulting center. The goal is to create an empathetic, intelligent assistant that:\n",
    "- Answers client FAQs with warmth and clarity\n",
    "- Supports resource delivery and appointment flow\n",
    "- Leverages Gen AI capabilities including **few-shot prompting, embeddings + RAG, and structured output**\n",
    "- Receives clients information to book an appointment for them\n",
    "- Makes conversations so clients feel welcomes and supported there.\n",
    "- Feel free to check out the [Weblog](https://sites.google.com/view/therapygenaiproject/home) and the [Youtube video](https://sites.google.com/view/therapygenaiproject/home) about this project.\n",
    "\n",
    "This project is part of the **Google Gen AI Intensive Course Capstone 2025Q1**.\n",
    "\n",
    "Thank you and appriciate if you could comment and share your thoughts.\n"
   ]
  },
  {
   "cell_type": "markdown",
   "id": "54769e61",
   "metadata": {
    "jupyter": {
     "source_hidden": true
    },
    "papermill": {
     "duration": 0.005537,
     "end_time": "2025-04-20T04:41:28.806166",
     "exception": false,
     "start_time": "2025-04-20T04:41:28.800629",
     "status": "completed"
    },
    "tags": []
   },
   "source": [
    "** BEFORE RUNNING:**\n",
    "Please wait patiently until dependencies are downloaded, it takes couple minutes.\n",
    "In order to run some sells you need to input some data, please fill the input tabs with correct info.\n"
   ]
  },
  {
   "cell_type": "code",
   "execution_count": 1,
   "id": "7d4b2e17",
   "metadata": {
    "_cell_guid": "b1076dfc-b9ad-4769-8c92-a6c4dae69d19",
    "_uuid": "8f2839f25d086af736a60e9eeb907d3b93b6e0e5",
    "execution": {
     "iopub.execute_input": "2025-04-20T04:41:28.819113Z",
     "iopub.status.busy": "2025-04-20T04:41:28.818813Z",
     "iopub.status.idle": "2025-04-20T04:41:34.993689Z",
     "shell.execute_reply": "2025-04-20T04:41:34.992644Z"
    },
    "papermill": {
     "duration": 6.183323,
     "end_time": "2025-04-20T04:41:34.995326",
     "exception": false,
     "start_time": "2025-04-20T04:41:28.812003",
     "status": "completed"
    },
    "tags": []
   },
   "outputs": [
    {
     "name": "stdout",
     "output_type": "stream",
     "text": [
      "\u001b[2K   \u001b[90m━━━━━━━━━━━━━━━━━━━━━━━━━━━━━━━━━━━━━━━━\u001b[0m \u001b[32m144.7/144.7 kB\u001b[0m \u001b[31m4.5 MB/s\u001b[0m eta \u001b[36m0:00:00\u001b[0m\r\n",
      "\u001b[2K   \u001b[90m━━━━━━━━━━━━━━━━━━━━━━━━━━━━━━━━━━━━━━━━\u001b[0m \u001b[32m100.9/100.9 kB\u001b[0m \u001b[31m5.7 MB/s\u001b[0m eta \u001b[36m0:00:00\u001b[0m\r\n",
      "\u001b[?25h/kaggle/input/therapy-centre-faqs/Therapy-Centre-FAQs.json\n"
     ]
    }
   ],
   "source": [
    "!pip install -qU \"google-genai==1.7.0\"\n",
    "\n",
    "import os\n",
    "import numpy as np \n",
    "from IPython.display import Markdown, display # Display and Print prettier\n",
    "\n",
    "# Checking the dataset inquiry \n",
    "for dirname, _, filenames in os.walk('/kaggle/input'):\n",
    "    for filename in filenames:\n",
    "        print(os.path.join(dirname, filename))"
   ]
  },
  {
   "cell_type": "code",
   "execution_count": 2,
   "id": "6a89c8ef",
   "metadata": {
    "execution": {
     "iopub.execute_input": "2025-04-20T04:41:35.010064Z",
     "iopub.status.busy": "2025-04-20T04:41:35.009257Z",
     "iopub.status.idle": "2025-04-20T04:41:36.544914Z",
     "shell.execute_reply": "2025-04-20T04:41:36.544097Z"
    },
    "papermill": {
     "duration": 1.544541,
     "end_time": "2025-04-20T04:41:36.546433",
     "exception": false,
     "start_time": "2025-04-20T04:41:35.001892",
     "status": "completed"
    },
    "tags": []
   },
   "outputs": [],
   "source": [
    "from google import genai\n",
    "from google.genai import types\n",
    "from google.api_core import retry\n",
    "\n",
    "is_retriable = lambda e: (isinstance(e, genai.errors.APIError) and e.code in {429, 503})\n",
    "\n",
    "genai.models.Models.generate_content = retry.Retry(\n",
    "    predicate=is_retriable)(genai.models.Models.generate_content)"
   ]
  },
  {
   "cell_type": "code",
   "execution_count": 3,
   "id": "6a532ea9",
   "metadata": {
    "execution": {
     "iopub.execute_input": "2025-04-20T04:41:36.560760Z",
     "iopub.status.busy": "2025-04-20T04:41:36.559915Z",
     "iopub.status.idle": "2025-04-20T04:41:37.070879Z",
     "shell.execute_reply": "2025-04-20T04:41:37.069859Z"
    },
    "papermill": {
     "duration": 0.519537,
     "end_time": "2025-04-20T04:41:37.072322",
     "exception": false,
     "start_time": "2025-04-20T04:41:36.552785",
     "status": "completed"
    },
    "tags": []
   },
   "outputs": [
    {
     "name": "stdout",
     "output_type": "stream",
     "text": [
      "models/embedding-001\n",
      "models/text-embedding-004\n",
      "models/gemini-embedding-exp-03-07\n",
      "models/gemini-embedding-exp\n"
     ]
    }
   ],
   "source": [
    "from kaggle_secrets import UserSecretsClient\n",
    "\n",
    "GOOGLE_API_KEY = UserSecretsClient().get_secret(\"GOOGLE_API_KEY\")\n",
    "\n",
    "client = genai.Client(api_key=GOOGLE_API_KEY)\n",
    "\n",
    "for model in client.models.list():\n",
    "  if 'embedContent' in model.supported_actions:\n",
    "    print(model.name)"
   ]
  },
  {
   "cell_type": "markdown",
   "id": "bc59fafd",
   "metadata": {
    "papermill": {
     "duration": 0.005907,
     "end_time": "2025-04-20T04:41:37.084648",
     "exception": false,
     "start_time": "2025-04-20T04:41:37.078741",
     "status": "completed"
    },
    "tags": []
   },
   "source": [
    "## Dataset"
   ]
  },
  {
   "cell_type": "markdown",
   "id": "3e9ad459",
   "metadata": {
    "papermill": {
     "duration": 0.00576,
     "end_time": "2025-04-20T04:41:37.096519",
     "exception": false,
     "start_time": "2025-04-20T04:41:37.090759",
     "status": "completed"
    },
    "tags": []
   },
   "source": [
    "\n",
    "**Lets Check The FAQ Questions:**\n",
    "There are twenty FAQ items in this dataset."
   ]
  },
  {
   "cell_type": "code",
   "execution_count": 4,
   "id": "b303b50b",
   "metadata": {
    "execution": {
     "iopub.execute_input": "2025-04-20T04:41:37.110094Z",
     "iopub.status.busy": "2025-04-20T04:41:37.109804Z",
     "iopub.status.idle": "2025-04-20T04:41:37.119571Z",
     "shell.execute_reply": "2025-04-20T04:41:37.118704Z"
    },
    "papermill": {
     "duration": 0.018526,
     "end_time": "2025-04-20T04:41:37.121241",
     "exception": false,
     "start_time": "2025-04-20T04:41:37.102715",
     "status": "completed"
    },
    "tags": []
   },
   "outputs": [
    {
     "data": {
      "text/markdown": [
       "|Questions | Answer | \n",
       "|----------|----------|\n",
       "| What services do you offer? |  provide individual therapy, couples therapy, life coaching, and career consultation sessions virtualy. |\n",
       "| Do you only offer online sessions? | Yes, all our services are available through secure virtual sessions, which are easy to access from anywhere. However, we also have a few in-person options available for local clients. Please remebebr that the fisrt session is always virtual. |\n",
       "| How do I book a session? | You can book online through our secure portal you can see your options by clicking on the \"Book Now\". We'll help you find the best time slot. |\n",
       "| Is therapy confidential? | Yes. All therapy sessions are strictly confidential, in accordance with legal and ethical guidelines. Exceptions apply only in rare safety-related cases. |\n",
       "| How much does a session cost? | Our sessions range from $50 to $160 depending on the service and provider. We offer sliding scale rates in some cases. |\n"
      ],
      "text/plain": [
       "<IPython.core.display.Markdown object>"
      ]
     },
     "metadata": {},
     "output_type": "display_data"
    }
   ],
   "source": [
    "import json\n",
    "faq_path = \"/kaggle/input/therapy-centre-faqs/Therapy-Centre-FAQs.json\"\n",
    "with open(faq_path, \"r\") as f:\n",
    "    faq_data = json.load(f)\n",
    "md_output = \"|Questions | Answer | \\n|----------|----------|\\n\"\n",
    "for item in faq_data[:5]: # There are 15 [0-14] FAQ items in this dataset as a sample\n",
    "    md_output += f\"| {item['question']} | {item['answer']} |\\n\"\n",
    "display(Markdown(md_output))    \n",
    "    "
   ]
  },
  {
   "cell_type": "markdown",
   "id": "9be17be1",
   "metadata": {
    "papermill": {
     "duration": 0.006224,
     "end_time": "2025-04-20T04:41:37.134147",
     "exception": false,
     "start_time": "2025-04-20T04:41:37.127923",
     "status": "completed"
    },
    "tags": []
   },
   "source": [
    "Next is **Embeddings for the FAQ items**, by this step I transform the questions into vector representations for *semantic search* (I want to make sure if a client uses other words or phrases which mean the same as one my FAQ items the bot will catch it). Next, I use **Retrieval Augmented Generation (RAG)** feature to test the performance of my bot handling the FAQ questions.\n",
    "\n",
    "\n",
    "Other momdels like flan-t5 or gemma could be used, during the next steps it will be explained why this model is chosen."
   ]
  },
  {
   "cell_type": "code",
   "execution_count": 5,
   "id": "0b256fc4",
   "metadata": {
    "execution": {
     "iopub.execute_input": "2025-04-20T04:41:37.148518Z",
     "iopub.status.busy": "2025-04-20T04:41:37.147881Z",
     "iopub.status.idle": "2025-04-20T04:41:39.867381Z",
     "shell.execute_reply": "2025-04-20T04:41:39.866736Z"
    },
    "papermill": {
     "duration": 2.728296,
     "end_time": "2025-04-20T04:41:39.868902",
     "exception": false,
     "start_time": "2025-04-20T04:41:37.140606",
     "status": "completed"
    },
    "tags": []
   },
   "outputs": [],
   "source": [
    "def get_google_embedding(text):\n",
    "    response = client.models.embed_content(\n",
    "        model=\"models/text-embedding-004\",\n",
    "        contents=text,\n",
    "        config=types.EmbedContentConfig(task_type=\"retrieval_document\")\n",
    "    )\n",
    "    return response.embeddings[0].values\n",
    "    \n",
    "questions = [item['question'] for item in faq_data]\n",
    "answers = [item['answer'] for item in faq_data]\n",
    "question_embeddings = [get_google_embedding(q) for q in questions]"
   ]
  },
  {
   "cell_type": "code",
   "execution_count": 6,
   "id": "3446f4c2",
   "metadata": {
    "execution": {
     "iopub.execute_input": "2025-04-20T04:41:39.885103Z",
     "iopub.status.busy": "2025-04-20T04:41:39.884288Z",
     "iopub.status.idle": "2025-04-20T04:41:41.478393Z",
     "shell.execute_reply": "2025-04-20T04:41:41.477625Z"
    },
    "papermill": {
     "duration": 1.603621,
     "end_time": "2025-04-20T04:41:41.480037",
     "exception": false,
     "start_time": "2025-04-20T04:41:39.876416",
     "status": "completed"
    },
    "tags": []
   },
   "outputs": [],
   "source": [
    "from sklearn.metrics.pairwise import cosine_similarity\n",
    "\n",
    "def get_faq_item(user_query, top_k=1):\n",
    "    query_embedding = get_google_embedding(user_query)\n",
    "    \n",
    "    similarities = cosine_similarity(\n",
    "        np.array(query_embedding).reshape(1, -1),\n",
    "        np.array(question_embeddings)\n",
    "    )[0]\n",
    "\n",
    "    top_indices = similarities.argsort()[::-1][:top_k]\n",
    "    return [answers[i] for i in top_indices]"
   ]
  },
  {
   "cell_type": "markdown",
   "id": "dbe251c1",
   "metadata": {
    "papermill": {
     "duration": 0.005993,
     "end_time": "2025-04-20T04:41:41.492690",
     "exception": false,
     "start_time": "2025-04-20T04:41:41.486697",
     "status": "completed"
    },
    "tags": []
   },
   "source": [
    "Creating **answer function** with **RAG**"
   ]
  },
  {
   "cell_type": "code",
   "execution_count": 7,
   "id": "cbca5633",
   "metadata": {
    "execution": {
     "iopub.execute_input": "2025-04-20T04:41:41.506680Z",
     "iopub.status.busy": "2025-04-20T04:41:41.506151Z",
     "iopub.status.idle": "2025-04-20T04:41:41.734575Z",
     "shell.execute_reply": "2025-04-20T04:41:41.733712Z"
    },
    "papermill": {
     "duration": 0.237061,
     "end_time": "2025-04-20T04:41:41.736079",
     "exception": false,
     "start_time": "2025-04-20T04:41:41.499018",
     "status": "completed"
    },
    "tags": []
   },
   "outputs": [
    {
     "data": {
      "text/markdown": [
       "**User:** I want to try a session and see how it goes, How can I book a one?<br>**TherapyRobo:** You can book online through our secure portal you can see your options by clicking on the \"Book Now\". We'll help you find the best time slot."
      ],
      "text/plain": [
       "<IPython.core.display.Markdown object>"
      ]
     },
     "metadata": {},
     "output_type": "display_data"
    }
   ],
   "source": [
    "# For example\n",
    "user_input = \"I want to try a session and see how it goes, How can I book a one?\"\n",
    "response = get_faq_item(user_input)[0]\n",
    "display(Markdown(f\"**User:** {user_input}<br>**TherapyRobo:** {response}\"))"
   ]
  },
  {
   "cell_type": "markdown",
   "id": "82444d85",
   "metadata": {
    "papermill": {
     "duration": 0.006151,
     "end_time": "2025-04-20T04:41:41.748988",
     "exception": false,
     "start_time": "2025-04-20T04:41:41.742837",
     "status": "completed"
    },
    "tags": []
   },
   "source": [
    "Great, we see that FAQ bot is working, but clearly our purpose is beyond that, lets continue..."
   ]
  },
  {
   "cell_type": "markdown",
   "id": "f6f880c9",
   "metadata": {
    "papermill": {
     "duration": 0.007027,
     "end_time": "2025-04-20T04:41:41.762424",
     "exception": false,
     "start_time": "2025-04-20T04:41:41.755397",
     "status": "completed"
    },
    "tags": []
   },
   "source": [
    "## **Few Shot Prompting**\n",
    "\n",
    "In this step by the help of the Gen AI model, the responses sound emothionaly intelligent, empathic and reliable. "
   ]
  },
  {
   "cell_type": "code",
   "execution_count": 8,
   "id": "8ce3d341",
   "metadata": {
    "execution": {
     "iopub.execute_input": "2025-04-20T04:41:41.777030Z",
     "iopub.status.busy": "2025-04-20T04:41:41.776344Z",
     "iopub.status.idle": "2025-04-20T04:41:43.802710Z",
     "shell.execute_reply": "2025-04-20T04:41:43.801800Z"
    },
    "papermill": {
     "duration": 2.035326,
     "end_time": "2025-04-20T04:41:43.804249",
     "exception": false,
     "start_time": "2025-04-20T04:41:41.768923",
     "status": "completed"
    },
    "tags": []
   },
   "outputs": [
    {
     "data": {
      "text/markdown": [
       "**Few-shot Prompt**\n",
       "\n",
       "**Instruction**: You are TherapyRobo — a supportive, emotionally intelligent virtual therapist assistant. \n",
       "\n",
       "**User**: Hey, I'm just wondering... what if I feel like my therapist isn't really listening to me? It's been a few sessions and I still feel unheard.\n",
       "\n",
       "**TherapyRobo**: That's a valid concern, and it's important that you feel heard and understood in therapy. It takes courage to share your thoughts and feelings, and it can be frustrating when you don't feel like you're connecting with your therapist.\n",
       "\n",
       "Sometimes, it can be helpful to directly communicate this feeling to your therapist. They might be able to adjust their approach or offer a different perspective. If you've already tried that or don't feel comfortable doing so, please know that you have options. Finding the right fit is crucial for successful therapy. We're happy to help you explore other therapists within our clinic—just let us know, and we can discuss your preferences and find someone who might be a better match for you. You can also call us at +1 234 000 1111 if that feels easier. We want you to feel supported."
      ],
      "text/plain": [
       "<IPython.core.display.Markdown object>"
      ]
     },
     "metadata": {},
     "output_type": "display_data"
    }
   ],
   "source": [
    "few_shot_prompt = [\n",
    "    {\n",
    "        \"user\": \"I'm nervous about starting therapy.\", \n",
    "        \"bot\": \"That’s completely understandable. Many people feel that way. Would you like to know what to expect in your first session?\"\n",
    "    },\n",
    "    {\n",
    "        \"user\": \"I’ve never talked to anyone about this before.\", \n",
    "        \"bot\": \"Thank you for trusting us. You’ve taken a brave first step. We’re here to support you.\"\n",
    "    },\n",
    "    {\n",
    "        \"user\": \"I feel overwhelmed lately and don't know who to talk to.\", \n",
    "        \"bot\": \"You’re not alone in feeling that way. We're here to help you take small steps toward feeling better. Would it help to talk about how your day usually goes?\"\n",
    "    },\n",
    "    {\n",
    "        \"user\": \"Is therapy confidential?\", \n",
    "        \"bot\": \"Yes, confidentiality is very important to us. We can explain what that means and when exceptions might apply.\"\n",
    "    },\n",
    "    {\n",
    "        \"user\": \"What if I don’t feel comfortable with my therapist?\", \n",
    "        \"bot\": \"That's absolutely understandable. Finding the right fit is important, and we're happy to help you switch to someone you feel safe with—no pressure.\"\n",
    "    }]\n",
    "\n",
    "def few_shot(user_message):\n",
    "     prompt = \"\"\"\n",
    "        You are TherapyRobo — a supportive, emotionally intelligent virtual therapist assistant. \n",
    "        You are responding to a client who may be skeptical, nervous, or emotionally guarded.\n",
    "        \n",
    "        Your tone should be kind, validating, human-like, and never robotic or overly promotional. \n",
    "        You may acknowledge their hesitation, and gently offer support or booking info if appropriate.\n",
    "        \n",
    "        The clinic website is: https://TherapyClinic.com  \n",
    "        The phone number is: +1 234 000 1111\n",
    "        \"\"\"\n",
    "     for ex in few_shot_prompt:\n",
    "        prompt += f\"User: {ex['user']}\\nTherapyRobo: {ex['bot']}\\n\"\n",
    "     prompt += f\"User: {user_message}\\nTherapyRobo:\"\n",
    "     return prompt\n",
    "\n",
    "\n",
    "prompt = f\"\"\"You are simulating a random client asking FAQ style question from the Therapybot chatbox,\n",
    "    Don't use \"ok, here it goes\". remember it's a typed conversation,don't type sounds.you should sound like a human, nice, stressed, angry, tired. Never bold a word and do not make sounds like: ugh. However you're questions should be reasonable and short\"\"\"\n",
    "    \n",
    "response = client.models.generate_content(\n",
    "    model=\"gemini-2.0-flash\",\n",
    "    contents=prompt,\n",
    "    config=types.GenerateContentConfig(\n",
    "        temperature=0.1,\n",
    "        max_output_tokens=256\n",
    "    )\n",
    ")\n",
    "sample_client = response.text.strip()\n",
    "faq_prompt = few_shot(sample_client)\n",
    "\n",
    "lines = faq_prompt.strip().split(\"\\n\")\n",
    "instruction = lines[0]\n",
    "def gemini_faq_handler(prompt_text, display_response=True): #prompt_text should be a variable = few_shot(client message here)\n",
    "    \"\"\"\n",
    "    Generate a short response from a given prompt.\n",
    "    The clinic website is: https://TherapyClinic.com and Phone number:+1 234 000 1111\n",
    "    Args:\n",
    "        prompt_text (str): The full prompt to send to the Gemini model.\n",
    "        display_response (bool): If True, the result will be displayed using Markdown.\n",
    "\n",
    "    Returns:\n",
    "        str: The raw response text from Gemini.\n",
    "    \"\"\"\n",
    "    response = client.models.generate_content(\n",
    "        model=\"gemini-2.0-flash\",\n",
    "        contents=prompt_text,\n",
    "        config=types.GenerateContentConfig( \n",
    "            temperature=0.5,\n",
    "            top_p=1,\n",
    "            top_k=1,\n",
    "            max_output_tokens=300\n",
    "        )\n",
    "    )\n",
    "    return response.text.strip()\n",
    "    \n",
    "robo_response = gemini_faq_handler(faq_prompt)\n",
    "display(Markdown(f\"**Few-shot Prompt**\\n\\n**Instruction**: {instruction}\\n\\n**User**: {sample_client}\\n\\n**TherapyRobo**: {robo_response}\"))"
   ]
  },
  {
   "cell_type": "markdown",
   "id": "33cb6519",
   "metadata": {
    "papermill": {
     "duration": 0.006331,
     "end_time": "2025-04-20T04:41:43.817437",
     "exception": false,
     "start_time": "2025-04-20T04:41:43.811106",
     "status": "completed"
    },
    "tags": []
   },
   "source": [
    "## **Document Parsing**\n",
    "\n",
    "Strucring information taken from simulated a session intake form received from a client. XXXPDF FormXXX"
   ]
  },
  {
   "cell_type": "code",
   "execution_count": 9,
   "id": "79f39577",
   "metadata": {
    "execution": {
     "iopub.execute_input": "2025-04-20T04:41:43.832405Z",
     "iopub.status.busy": "2025-04-20T04:41:43.832068Z",
     "iopub.status.idle": "2025-04-20T04:41:44.812029Z",
     "shell.execute_reply": "2025-04-20T04:41:44.811160Z"
    },
    "papermill": {
     "duration": 0.989048,
     "end_time": "2025-04-20T04:41:44.813398",
     "exception": false,
     "start_time": "2025-04-20T04:41:43.824350",
     "status": "completed"
    },
    "tags": []
   },
   "outputs": [
    {
     "data": {
      "text/markdown": [
       "**Structured Intake Form Data In JSON**:\n",
       "\n",
       "```json\n",
       "```json\n",
       "{\n",
       "  \"Name\": \"Julia Anderson\",\n",
       "  \"PhoneNumber\": \"200-000-1000\",\n",
       "  \"Email\": \"client@gmail.com\",\n",
       "  \"Age\": \"28\",\n",
       "  \"Type_of_therapy\": \"Single\",\n",
       "  \"Preffered_therapist\": \"Dr. Sam\",\n",
       "  \"Reason_for_visit\": \"Feeling overwhelmed and anxious, also trouble falling sleep\",\n",
       "  \"Availability\": \"Mondays and Wednesdays after 3 PM\",\n",
       "  \"Urgency\": \"Moderate\",\n",
       "  \"Insurance_company\": \"Dejardins\"\n",
       "}\n",
       "```\n",
       "```"
      ],
      "text/plain": [
       "<IPython.core.display.Markdown object>"
      ]
     },
     "metadata": {},
     "output_type": "display_data"
    }
   ],
   "source": [
    "client_form = \"\"\"\n",
    "Client Name: Julia Anderson\n",
    "Phone Number: 200-000-1000\n",
    "EMail: client@gmail.com\n",
    "Age: 28\n",
    "Type of therapy: Single\n",
    "Preferred Therapist: Dr. Sam\n",
    "Reason for Visit: Feeling overwhelmed and anxious, also trouble falling sleep\n",
    "Availability: Mondays and Wednesdays after 3 PM\n",
    "Urgency Level: Moderate\n",
    "Insurance: Dejardins\n",
    "\"\"\"\n",
    "\n",
    "instruction_prompt = f\"\"\"You are an AI assistant helping a therapy clinic extracting structured data from their patients intake forms.\n",
    "Read the followinf form and extract the data in JSON format with the following fields:\n",
    "-Name\n",
    "-PhoneNumber\n",
    "-Email\n",
    "-Age\n",
    "-Type_of_therapy\n",
    "-Preffered_therapist\n",
    "-Reason_for_visit\n",
    "-Availability\n",
    "-Urgency\n",
    "-Insurance_company\n",
    "Intake_form: {client_form}\n",
    "\n",
    "Return only a valid JSON object.\"\"\"\n",
    "\n",
    "response = client.models.generate_content(\n",
    "    model = \"gemini-2.0-flash\",\n",
    "    contents = instruction_prompt,\n",
    "    config = types.GenerateContentConfig(\n",
    "        temperature=0.1,\n",
    "        max_output_tokens=256\n",
    "    )\n",
    ")\n",
    "structured_form_data = response.text.strip()\n",
    "display(Markdown(f\"**Structured Intake Form Data In JSON**:\\n\\n```json\\n{structured_form_data}\\n```\"))"
   ]
  },
  {
   "cell_type": "markdown",
   "id": "e243e191",
   "metadata": {
    "papermill": {
     "duration": 0.006376,
     "end_time": "2025-04-20T04:41:44.826646",
     "exception": false,
     "start_time": "2025-04-20T04:41:44.820270",
     "status": "completed"
    },
    "tags": []
   },
   "source": [
    "Now to ask the user to provide the following information:\n",
    "\n",
    "> For the sake of the project, instead of receiving information from the user, we are generating it by gemini model, find the more interactive version at github. copy paste the code in this cell, no need to change anything, have fun!"
   ]
  },
  {
   "cell_type": "code",
   "execution_count": 10,
   "id": "5d07fff9",
   "metadata": {
    "execution": {
     "iopub.execute_input": "2025-04-20T04:41:44.840925Z",
     "iopub.status.busy": "2025-04-20T04:41:44.840582Z",
     "iopub.status.idle": "2025-04-20T04:41:48.331839Z",
     "shell.execute_reply": "2025-04-20T04:41:48.330928Z"
    },
    "papermill": {
     "duration": 3.500031,
     "end_time": "2025-04-20T04:41:48.333194",
     "exception": false,
     "start_time": "2025-04-20T04:41:44.833163",
     "status": "completed"
    },
    "tags": []
   },
   "outputs": [
    {
     "data": {
      "text/markdown": [
       "**This is a random reply. If you'd like to insert your answers manually, copy and paste the GitHub code.**"
      ],
      "text/plain": [
       "<IPython.core.display.Markdown object>"
      ]
     },
     "metadata": {},
     "output_type": "display_data"
    },
    {
     "data": {
      "text/markdown": [
       "**Starting to fill intake form ...**"
      ],
      "text/plain": [
       "<IPython.core.display.Markdown object>"
      ]
     },
     "metadata": {},
     "output_type": "display_data"
    },
    {
     "data": {
      "text/markdown": [
       "**TherapyBot:** What is your full name?\n",
       "**Client:** Eleanor Vance\n",
       "\n",
       "**TherapyBot:** May I have your phone number?\n",
       "**Client:** 555-123-4567\n",
       "\n",
       "**TherapyBot:** What's your email address?\n",
       "**Client:** [client_email@email.com]\n",
       "\n",
       "**TherapyBot:** How old are you?\n",
       "**Client:** 28\n",
       "\n",
       "**TherapyBot:** Are you looking for individual, couples, or family therapy?\n",
       "**Client:** Individual.\n",
       "\n",
       "**TherapyBot:** Do you have a preferred therapist?\n",
       "**Client:** No.\n",
       "\n",
       "**TherapyBot:** Can you briefly describe your reason for seeking therapy?\n",
       "**Client:** I'm having trouble managing my anger and it's affecting my relationships.\n",
       "\n",
       "**TherapyBot:** When are you generally available for sessions?\n",
       "**Client:** Evenings or weekends.\n",
       "\n",
       "**TherapyBot:** How urgent is your situation? (e.g., low, moderate, high)\n",
       "**Client:** High.\n",
       "\n",
       "**TherapyBot:** What insurance company do you use, if any?\n",
       "**Client:** Blue Cross Blue Shield."
      ],
      "text/plain": [
       "<IPython.core.display.Markdown object>"
      ]
     },
     "metadata": {},
     "output_type": "display_data"
    },
    {
     "name": "stdout",
     "output_type": "stream",
     "text": [
      "{\n",
      "  \"name\": \"Eleanor Vance\",\n",
      "  \"phone_number\": \"555-123-4567\",\n",
      "  \"email\": \"[client_email@email.com]\",\n",
      "  \"age\": \"28\",\n",
      "  \"type_of_therapy\": \"Individual.\",\n",
      "  \"preferred_therapist\": \"No.\",\n",
      "  \"reason_for_visit\": \"I'm having trouble managing my anger and it's affecting my relationships.\",\n",
      "  \"availability\": \"Evenings or weekends.\",\n",
      "  \"urgency\": \"High.\",\n",
      "  \"insurance_company\": \"Blue Cross Blue Shield.\"\n",
      "}\n"
     ]
    }
   ],
   "source": [
    "def gemini_fill(question):\n",
    "    prompt = f\"\"\"You are simulating a random client filling out an intake form at a therapy clinic. Sometimes you are stressed, angry, upset, troubled, or tired.\n",
    "Give a realistic, short answer for the following question, do not make sounds like `ugh`:\n",
    "{question}\n",
    "Only return the answer without explanation.\"\"\"\n",
    "    \n",
    "    response = client.models.generate_content(\n",
    "        model=\"gemini-2.0-flash\",\n",
    "        contents=prompt,\n",
    "        config=types.GenerateContentConfig(\n",
    "            temperature=0.7,\n",
    "            max_output_tokens=256\n",
    "        )\n",
    "    )\n",
    "    return response.text.strip()\n",
    "\n",
    "intake_fields = [\n",
    "    {\"key\": \"name\", \"question\": \"What is your full name?\"},\n",
    "    {\"key\": \"phone_number\", \"question\": \"May I have your phone number?\"},\n",
    "    {\"key\": \"email\", \"question\": \"What's your email address?\"},\n",
    "    {\"key\": \"age\", \"question\": \"How old are you?\"},\n",
    "    {\"key\": \"type_of_therapy\", \"question\": \"Are you looking for individual, couples, or family therapy?\"},\n",
    "    {\"key\": \"preferred_therapist\", \"question\": \"Do you have a preferred therapist?\"},\n",
    "    {\"key\": \"reason_for_visit\", \"question\": \"Can you briefly describe your reason for seeking therapy?\"},\n",
    "    {\"key\": \"availability\", \"question\": \"When are you generally available for sessions?\"},\n",
    "    {\"key\": \"urgency\", \"question\": \"How urgent is your situation? (e.g., low, moderate, high)\"},\n",
    "    {\"key\": \"insurance_company\", \"question\": \"What insurance company do you use, if any?\"}\n",
    "]\n",
    "\n",
    "def collect_intake_info(fields):\n",
    "    collected_data = {}        \n",
    "    conversation_log = \"\"      \n",
    "\n",
    "    for field in fields:\n",
    "        question = field[\"question\"]\n",
    "        answer = gemini_fill(question)\n",
    "        collected_data[field[\"key\"]] = answer\n",
    "        conversation_log += f\"**TherapyBot:** {question}\\n**Client:** {answer}\\n\\n\"\n",
    "\n",
    "    return collected_data, conversation_log.strip()\n",
    "\n",
    "client_intake, intake_conversation = collect_intake_info(intake_fields)\n",
    "\n",
    "display(Markdown(\"**This is a random reply. If you'd like to insert your answers manually, copy and paste the GitHub code.**\"))\n",
    "display(Markdown(\"**Starting to fill intake form ...**\"))\n",
    "display(Markdown(intake_conversation))  # full conversation\n",
    "print(json.dumps(client_intake, indent=2))\n"
   ]
  },
  {
   "cell_type": "code",
   "execution_count": 11,
   "id": "e2451b12",
   "metadata": {
    "execution": {
     "iopub.execute_input": "2025-04-20T04:41:48.348555Z",
     "iopub.status.busy": "2025-04-20T04:41:48.348277Z",
     "iopub.status.idle": "2025-04-20T04:41:48.354896Z",
     "shell.execute_reply": "2025-04-20T04:41:48.354007Z"
    },
    "papermill": {
     "duration": 0.015928,
     "end_time": "2025-04-20T04:41:48.356280",
     "exception": false,
     "start_time": "2025-04-20T04:41:48.340352",
     "status": "completed"
    },
    "tags": []
   },
   "outputs": [
    {
     "data": {
      "text/markdown": [
       "|   | Answer |\n",
       "|----------|--------|\n",
       "| Name | Eleanor Vance |\n",
       "| Phone number | 555-123-4567 |\n",
       "| Email | [client_email@email.com] |\n",
       "| Age | 28 |\n",
       "| Type of therapy | Individual. |\n",
       "| Preferred therapist | No. |\n",
       "| Reason for visit | I'm having trouble managing my anger and it's affecting my relationships. |\n",
       "| Availability | Evenings or weekends. |\n",
       "| Urgency | High. |\n",
       "| Insurance company | Blue Cross Blue Shield. |\n"
      ],
      "text/plain": [
       "<IPython.core.display.Markdown object>"
      ]
     },
     "metadata": {},
     "output_type": "display_data"
    }
   ],
   "source": [
    "def intake_form(form):\n",
    "    md_output = \"|   | Answer |\\n|----------|--------|\\n\"\n",
    "    for question, answer in form.items():\n",
    "        question_label = question.replace(\"_\", \" \").capitalize()\n",
    "        md_output += f\"| {question_label} | {answer} |\\n\"\n",
    "    return display(Markdown(md_output)) \n",
    "intake_form(client_intake)\n",
    "\n",
    "    "
   ]
  },
  {
   "cell_type": "markdown",
   "id": "5731ccb4",
   "metadata": {
    "papermill": {
     "duration": 0.006875,
     "end_time": "2025-04-20T04:41:48.370323",
     "exception": false,
     "start_time": "2025-04-20T04:41:48.363448",
     "status": "completed"
    },
    "tags": []
   },
   "source": [
    "## **Structured Output**\n",
    "\n",
    "**Appointment Booking:**\n",
    "Receiving information from a client and returning in in JSON so it could be sent to database or booking system.\n",
    "For interactive version check out [github](https://github.com/artamrz/GenAINotes/blob/393e15ff0e0838f797555493acd74d7fff805713/InteractiveStructuredOutputForBooking).\n"
   ]
  },
  {
   "cell_type": "code",
   "execution_count": 12,
   "id": "3f1194bf",
   "metadata": {
    "execution": {
     "iopub.execute_input": "2025-04-20T04:41:48.385997Z",
     "iopub.status.busy": "2025-04-20T04:41:48.385229Z",
     "iopub.status.idle": "2025-04-20T04:41:48.953568Z",
     "shell.execute_reply": "2025-04-20T04:41:48.952530Z"
    },
    "papermill": {
     "duration": 0.578009,
     "end_time": "2025-04-20T04:41:48.955282",
     "exception": false,
     "start_time": "2025-04-20T04:41:48.377273",
     "status": "completed"
    },
    "tags": []
   },
   "outputs": [
    {
     "data": {
      "text/markdown": [
       "**Booking Infromation:**"
      ],
      "text/plain": [
       "<IPython.core.display.Markdown object>"
      ]
     },
     "metadata": {},
     "output_type": "display_data"
    },
    {
     "name": "stdout",
     "output_type": "stream",
     "text": [
      "{\n",
      "  \"client_name\": \"Jake Abraham\",\n",
      "  \"phone_number\": null,\n",
      "  \"email\": null,\n",
      "  \"therapist_name\": \"Dr. Lean\",\n",
      "  \"day\": \"Friday\",\n",
      "  \"time\": \"After 4pm\"\n",
      "}\n"
     ]
    }
   ],
   "source": [
    "def convert_json(raw_response):\n",
    "    return(\n",
    "        raw_response.strip()\n",
    "        .removeprefix(\"```json\")\n",
    "        .removeprefix(\"```\")\n",
    "        .removesuffix(\"```\")\n",
    "        .strip()\n",
    "    )\n",
    "client_request = \"Hi there, I'd like to book an appointment with Dr. Lean this friday anytime after 4pm. My name is Jake Abraham.\"\n",
    "booking_prompt = f\"\"\"You are a Therapy centre assistant, A client will send a message to you to book an appointment.\n",
    "Your task:\n",
    "1. Extract the following information from the client's message:\n",
    "-client_name\n",
    "-phone_number\n",
    "-email\n",
    "-therapist_name\n",
    "-day\n",
    "-time\n",
    "        \n",
    "2.Return a JSON object with:\n",
    "5. Client: \"{client_request}\"   \n",
    "\"\"\"\n",
    "\n",
    "response = client.models.generate_content(\n",
    "        model = \"gemini-2.0-flash\",\n",
    "        contents = booking_prompt,\n",
    "        config = types.GenerateContentConfig(\n",
    "            temperature=0.1,\n",
    "            max_output_tokens=256\n",
    "        )\n",
    "    )\n",
    "    \n",
    "booking_json = convert_json(response.text)\n",
    "booking_data = json.loads(booking_json)\n",
    "\n",
    "\n",
    "try: \n",
    "    booking_data = json.loads(booking_json)\n",
    "    display(Markdown(\"**Booking Infromation:**\"))\n",
    "    print(json.dumps(booking_data, indent=2))\n",
    "except json.JSONDecodeError as e:\n",
    "    print(\"Error: Invalid JSON output\")\n",
    "    print(booking_json)\n",
    "    print(f\"\\nJSON error: {e}\")"
   ]
  },
  {
   "cell_type": "markdown",
   "id": "9bf89df6",
   "metadata": {
    "papermill": {
     "duration": 0.007254,
     "end_time": "2025-04-20T04:41:48.974828",
     "exception": false,
     "start_time": "2025-04-20T04:41:48.967574",
     "status": "completed"
    },
    "tags": []
   },
   "source": [
    "**Before going to the next cell**\n",
    "> There is an input version of collect_user_info (next cell) in the github, feel free to check it out, here, to run the whole notebook smoothly, two gemini based functions are used to demonstrate a booking process."
   ]
  },
  {
   "cell_type": "code",
   "execution_count": 13,
   "id": "d992cf06",
   "metadata": {
    "execution": {
     "iopub.execute_input": "2025-04-20T04:41:48.991434Z",
     "iopub.status.busy": "2025-04-20T04:41:48.990835Z",
     "iopub.status.idle": "2025-04-20T04:42:45.697696Z",
     "shell.execute_reply": "2025-04-20T04:42:45.696892Z"
    },
    "papermill": {
     "duration": 56.717071,
     "end_time": "2025-04-20T04:42:45.699215",
     "exception": false,
     "start_time": "2025-04-20T04:41:48.982144",
     "status": "completed"
    },
    "tags": []
   },
   "outputs": [
    {
     "data": {
      "text/markdown": [
       "**Booking Scenario**"
      ],
      "text/plain": [
       "<IPython.core.display.Markdown object>"
      ]
     },
     "metadata": {},
     "output_type": "display_data"
    },
    {
     "data": {
      "text/markdown": [
       "**TherapyBot:** What is your full name?\n",
       "**Client:** It's...Sarah Miller.\n",
       "\n",
       "**TherapyBot:** May I have your email address or phone number?\n",
       "**Client:** Um... sure. It's (555) 123-4567. Is this really going to help?\n",
       "\n",
       "**TherapyBot:** Are you looking for individual, couples, or family therapy?\n",
       "**Client:** Individual, I think. I mean, that's what makes the most sense, right? It's *my* stuff... mostly.\n",
       "\n",
       "**TherapyBot:** Do you have a preferred therapist?\n",
       "**Client:** Not really, no. I'm just hoping to find someone who can actually help, you know?\n",
       "\n",
       "**TherapyBot:** Can you briefly describe your reason for seeking therapy?\n",
       "**Client:** Well, um... things have just been really hard lately. I'm having trouble coping, I guess.\n",
       "\n",
       "**TherapyBot:** When do you want your session to be?\n",
       "**Client:** Uhm... I guess as soon as possible? Does... does tomorrow even work? I'm kind of a mess right now."
      ],
      "text/plain": [
       "<IPython.core.display.Markdown object>"
      ]
     },
     "metadata": {},
     "output_type": "display_data"
    },
    {
     "data": {
      "text/markdown": [
       "**Booking Information**"
      ],
      "text/plain": [
       "<IPython.core.display.Markdown object>"
      ]
     },
     "metadata": {},
     "output_type": "display_data"
    },
    {
     "data": {
      "text/markdown": [
       "Okay, I've reviewed the client's messages. Here's the information I've extracted:\n",
       "\n",
       "*   **client\\_name:** Sarah Miller\n",
       "*   **contact\\_info:** (555) 123-4567\n",
       "*   **therapist\\_name:** No preference indicated.\n",
       "*   **time:** As soon as possible, ideally tomorrow."
      ],
      "text/plain": [
       "<IPython.core.display.Markdown object>"
      ]
     },
     "metadata": {},
     "output_type": "display_data"
    },
    {
     "data": {
      "text/markdown": [
       "**Oh! One last thing, the booking confirmation will be sent by email or text message. If the appointment is not confirmed within 24 hours, it will be automatically canceled and you can try again anytime!!**"
      ],
      "text/plain": [
       "<IPython.core.display.Markdown object>"
      ]
     },
     "metadata": {},
     "output_type": "display_data"
    }
   ],
   "source": [
    "def collect_user_info(fields):\n",
    "    all_responses = \"\"\n",
    "    for field in fields:\n",
    "        question = field[\"question\"]\n",
    "        \n",
    "        user_prompt = f\"\"\"\n",
    "    You are simulating a therapy client. Sometimes you're calm, other times you're anxious or emotional. \n",
    "    Respond right away with a natural, human-like answer to the following intake question as if you're the client:\n",
    "    **TherapyBot:** {question}\n",
    "    Your tone should sound human — you may be unsure, emotional, hopeful, or hesitant — keep it short but real.\n",
    "    Only respond as the client. **DO NOT repeat the question or label who is speaking.**\n",
    "    \"\"\"\n",
    "    \n",
    "        response = client.models.generate_content(\n",
    "            model = \"gemini-2.0-flash\",\n",
    "            contents = user_prompt,\n",
    "            config = types.GenerateContentConfig(\n",
    "                temperature=1.0,\n",
    "                max_output_tokens=256\n",
    "            )\n",
    "        )\n",
    "        answer = response.text.strip()\n",
    "        all_responses += f\"**TherapyBot:** {question}\\n**Client:** {answer}\\n\\n\"\n",
    "    return all_responses.strip()\n",
    "\n",
    "    \n",
    "fields_to_ask = [\n",
    "    {\"key\": \"name\", \"question\": \"What is your full name?\"},\n",
    "    {\"key\": \"contact_info\", \"question\": \"May I have your email address or phone number?\"},\n",
    "    {\"key\": \"type_of_therapy\", \"question\": \"Are you looking for individual, couples, or family therapy?\"},\n",
    "    {\"key\": \"preferred_therapist\", \"question\": \"Do you have a preferred therapist?\"},\n",
    "    {\"key\": \"reason\", \"question\": \"Can you briefly describe your reason for seeking therapy?\"},\n",
    "    {\"key\": \"time\", \"question\": \"When do you want your session to be?\"}\n",
    "]   \n",
    "booking_info = collect_user_info(fields_to_ask)\n",
    "\n",
    "def gemini_booking_handler(bprompt):\n",
    "    \n",
    "    booking_prompt = f\"\"\"You are a Therapy centre assistant, A client will send a message to you to book an appointment.\n",
    "    Your task:\n",
    "    Extract the following information from the client's message:\n",
    "    -client_name\n",
    "    -contact-info\n",
    "    -therapist_name\n",
    "    -time\n",
    "            \n",
    "    Client: \"{bprompt}\"\n",
    "    \"\"\"\n",
    "    response = client.models.generate_content(\n",
    "            model = \"gemini-2.0-flash\",\n",
    "            contents = booking_prompt,\n",
    "            config = types.GenerateContentConfig(\n",
    "                temperature=0.1,\n",
    "                max_output_tokens=256\n",
    "            )\n",
    "        )\n",
    "    return response.text.strip()\n",
    "\n",
    "display(Markdown(\"**Booking Scenario**\"))\n",
    "display(Markdown(booking_info))\n",
    "display(Markdown(\"**Booking Information**\"))\n",
    "display(Markdown(gemini_booking_handler((booking_info))))\n",
    "display(Markdown(\"**Oh! One last thing, the booking confirmation will be sent by email or text message. If the appointment is not confirmed within 24 hours, it will be automatically canceled and you can try again anytime!!**\"))"
   ]
  },
  {
   "cell_type": "markdown",
   "id": "9f4685e1",
   "metadata": {
    "papermill": {
     "duration": 0.073035,
     "end_time": "2025-04-20T04:42:45.780092",
     "exception": false,
     "start_time": "2025-04-20T04:42:45.707057",
     "status": "completed"
    },
    "tags": []
   },
   "source": [
    "## **Configure Additional Dataset** - (for Safe Conversation)\n",
    "For the sake of this project, using an aditional dataset in the Psychology field was crucial. [The HuggingFace Mental Health Dataset](http://https://huggingface.co/datasets/Amod/mental_health_counseling_conversations) has more than 3.51 conversations during a counseling meeting. By this mean, if the user tries to make conversation the TherapyRobo can handle it more properly."
   ]
  },
  {
   "cell_type": "markdown",
   "id": "9fa91e89",
   "metadata": {
    "papermill": {
     "duration": 0.007839,
     "end_time": "2025-04-20T04:42:45.796059",
     "exception": false,
     "start_time": "2025-04-20T04:42:45.788220",
     "status": "completed"
    },
    "tags": []
   },
   "source": [
    "***First, loading the dataset...***\n",
    "\n",
    "I decided since I have limitations on Kaggle, not to load the whole dataset by spliting it so it would faster..."
   ]
  },
  {
   "cell_type": "code",
   "execution_count": 14,
   "id": "fa2d5a90",
   "metadata": {
    "execution": {
     "iopub.execute_input": "2025-04-20T04:42:45.813862Z",
     "iopub.status.busy": "2025-04-20T04:42:45.813500Z",
     "iopub.status.idle": "2025-04-20T04:42:50.835656Z",
     "shell.execute_reply": "2025-04-20T04:42:50.834849Z"
    },
    "papermill": {
     "duration": 5.032718,
     "end_time": "2025-04-20T04:42:50.837250",
     "exception": false,
     "start_time": "2025-04-20T04:42:45.804532",
     "status": "completed"
    },
    "tags": []
   },
   "outputs": [
    {
     "data": {
      "application/vnd.jupyter.widget-view+json": {
       "model_id": "28e991a086034e649e25112e5daec930",
       "version_major": 2,
       "version_minor": 0
      },
      "text/plain": [
       "README.md:   0%|          | 0.00/2.82k [00:00<?, ?B/s]"
      ]
     },
     "metadata": {},
     "output_type": "display_data"
    },
    {
     "data": {
      "application/vnd.jupyter.widget-view+json": {
       "model_id": "c7084f14d04740bba5424d9141d7d02e",
       "version_major": 2,
       "version_minor": 0
      },
      "text/plain": [
       "combined_dataset.json:   0%|          | 0.00/4.79M [00:00<?, ?B/s]"
      ]
     },
     "metadata": {},
     "output_type": "display_data"
    },
    {
     "data": {
      "application/vnd.jupyter.widget-view+json": {
       "model_id": "56a3485b3cb74922abd1fcb2a581a6cc",
       "version_major": 2,
       "version_minor": 0
      },
      "text/plain": [
       "Generating train split:   0%|          | 0/3512 [00:00<?, ? examples/s]"
      ]
     },
     "metadata": {},
     "output_type": "display_data"
    },
    {
     "data": {
      "text/plain": [
       "['Context', 'Response']"
      ]
     },
     "execution_count": 14,
     "metadata": {},
     "output_type": "execute_result"
    }
   ],
   "source": [
    "from datasets import load_dataset\n",
    "\n",
    "huggingface_dataset = load_dataset(\"Amod/mental_health_counseling_conversations\", split=\"train[:1000]\")\n",
    "huggingface_dataset.column_names"
   ]
  },
  {
   "cell_type": "markdown",
   "id": "ea83c72e",
   "metadata": {
    "papermill": {
     "duration": 0.007823,
     "end_time": "2025-04-20T04:42:50.853648",
     "exception": false,
     "start_time": "2025-04-20T04:42:50.845825",
     "status": "completed"
    },
    "tags": []
   },
   "source": [
    "***Generate embeddings...***"
   ]
  },
  {
   "cell_type": "code",
   "execution_count": 15,
   "id": "36bf5223",
   "metadata": {
    "execution": {
     "iopub.execute_input": "2025-04-20T04:42:50.871567Z",
     "iopub.status.busy": "2025-04-20T04:42:50.870946Z",
     "iopub.status.idle": "2025-04-20T04:42:59.502644Z",
     "shell.execute_reply": "2025-04-20T04:42:59.501631Z"
    },
    "papermill": {
     "duration": 8.642639,
     "end_time": "2025-04-20T04:42:59.504463",
     "exception": false,
     "start_time": "2025-04-20T04:42:50.861824",
     "status": "completed"
    },
    "tags": []
   },
   "outputs": [],
   "source": [
    "counsel_responses = [\n",
    "    ex[\"Response\"]\n",
    "    for ex in huggingface_dataset\n",
    "    if ex[\"Context\"] and ex[\"Response\"]\n",
    "]\n",
    "def get_google_embedding_batch(texts, batch_size=100):\n",
    "    all_embeddings = []\n",
    "\n",
    "    for i in range(0, len(texts), batch_size):\n",
    "        batch = texts[i:i + batch_size]\n",
    "        response = client.models.embed_content(\n",
    "            model=\"models/text-embedding-004\",\n",
    "            contents=batch,\n",
    "            config=types.EmbedContentConfig(task_type=\"retrieval_document\")\n",
    "        )\n",
    "        # Extract embeddings for this batch\n",
    "        batch_embeddings = [e.values for e in response.embeddings]\n",
    "        all_embeddings.extend(batch_embeddings)\n",
    "\n",
    "    return all_embeddings\n",
    "\n",
    "response_hf_embeddings = get_google_embedding_batch(counsel_responses)"
   ]
  },
  {
   "cell_type": "markdown",
   "id": "093b351d",
   "metadata": {
    "papermill": {
     "duration": 0.007951,
     "end_time": "2025-04-20T04:42:59.520836",
     "exception": false,
     "start_time": "2025-04-20T04:42:59.512885",
     "status": "completed"
    },
    "tags": []
   },
   "source": [
    "***Indexing response***"
   ]
  },
  {
   "cell_type": "code",
   "execution_count": 16,
   "id": "08479f58",
   "metadata": {
    "execution": {
     "iopub.execute_input": "2025-04-20T04:42:59.539010Z",
     "iopub.status.busy": "2025-04-20T04:42:59.538185Z",
     "iopub.status.idle": "2025-04-20T04:42:59.594613Z",
     "shell.execute_reply": "2025-04-20T04:42:59.593727Z"
    },
    "papermill": {
     "duration": 0.06715,
     "end_time": "2025-04-20T04:42:59.596121",
     "exception": false,
     "start_time": "2025-04-20T04:42:59.528971",
     "status": "completed"
    },
    "tags": []
   },
   "outputs": [],
   "source": [
    "embedding_matrix = np.array(response_hf_embeddings)\n",
    "\n",
    "def search_responses(query_embedding, top_k=5):\n",
    "    similarities = cosine_similarity([query_embedding], embedding_matrix)[0]\n",
    "    top_indices = similarities.argsort()[::-1][:top_k]\n",
    "    return top_indices, similarities[top_indices]"
   ]
  },
  {
   "cell_type": "markdown",
   "id": "44e166ca",
   "metadata": {
    "papermill": {
     "duration": 0.00789,
     "end_time": "2025-04-20T04:42:59.612374",
     "exception": false,
     "start_time": "2025-04-20T04:42:59.604484",
     "status": "completed"
    },
    "tags": []
   },
   "source": [
    "***RAG Search...***"
   ]
  },
  {
   "cell_type": "code",
   "execution_count": 17,
   "id": "8a78ec30",
   "metadata": {
    "execution": {
     "iopub.execute_input": "2025-04-20T04:42:59.630154Z",
     "iopub.status.busy": "2025-04-20T04:42:59.629831Z",
     "iopub.status.idle": "2025-04-20T04:42:59.641466Z",
     "shell.execute_reply": "2025-04-20T04:42:59.640719Z"
    },
    "papermill": {
     "duration": 0.022548,
     "end_time": "2025-04-20T04:42:59.642976",
     "exception": false,
     "start_time": "2025-04-20T04:42:59.620428",
     "status": "completed"
    },
    "tags": []
   },
   "outputs": [],
   "source": [
    "def get_chat_embedding(texts, batch_size=100):\n",
    "    all_embeddings = []\n",
    "\n",
    "    for i in range(0, len(texts), batch_size):\n",
    "        batch = texts[i:i + batch_size]\n",
    "\n",
    "        response = client.models.embed_content(\n",
    "            model=\"models/text-embedding-004\",\n",
    "            contents=batch,\n",
    "            config=types.EmbedContentConfig(task_type=\"retrieval_document\")\n",
    "        )\n",
    "\n",
    "        try:\n",
    "            batch_embeddings = [e.values for e in response.embeddings]\n",
    "        except AttributeError:\n",
    "            raise ValueError(\"Batch response format unexpected:\", response)\n",
    "\n",
    "        all_embeddings.extend(batch_embeddings)\n",
    "\n",
    "    return np.array(all_embeddings)\n",
    "    \n",
    "def get_top_responses(query, top_n=3):\n",
    "    \n",
    "    chat_embeddings = get_chat_embedding([query])\n",
    "    query_vector = get_chat_embedding([query])[0]  # One embedding\n",
    "    query_vector = np.array(query_vector).reshape(1, -1)\n",
    "\n",
    "    # Compute cosine similarities\n",
    "    similarities = cosine_similarity(query_vector, chat_embeddings)[0]  # 1D array\n",
    "\n",
    "    # Get top N indices\n",
    "    top_indices = np.argsort(similarities)[-top_n:][::-1]\n",
    "\n",
    "    return [chat_embeddings[i] for i in top_indices]\n",
    "\n",
    "\n",
    "def generate_rag_response(user_input, history = None):\n",
    "\n",
    "    history = history or []\n",
    "    \n",
    "    similar = get_top_responses(user_input)\n",
    "    context_block = \"\\n\".join([f\"- {resp}\" for resp in similar])\n",
    "    #history_text = \"\\n\".join([f\"User: {u}\\nTherapyBot: {r}\" for u, r in history])\n",
    "    history_text = \"\\n\".join([\n",
    "        f\"User: {u}\\nTherapyBot: {r}\"\n",
    "        for item in history\n",
    "        if isinstance(item, tuple) and len(item) == 2\n",
    "        for u, r in [item]\n",
    "    ])\n",
    "    available_therapists = [\n",
    "    {\n",
    "        \"name\": \"Dr. Samira R.\",\n",
    "        \"type\": [\"individual\", \"family\"],\n",
    "        \"specialties\": [\"anxiety & panic disorders\", \"child & teen counseling\", \"stress management\", \"anger regulation\"]\n",
    "    },\n",
    "    {\n",
    "        \"name\": \"Dr. Reza M.\",\n",
    "        \"type\": [\"couple\", \"individual\"],\n",
    "        \"specialties\": [\"infidelity & relationship trauma\", \"depression\", \"emotional resilience\", \"self-worth issues\"]\n",
    "    },\n",
    "    {\n",
    "        \"name\": \"Dr. Elham T.\",\n",
    "        \"type\": [\"family\"],\n",
    "        \"specialties\": [\"parent-child conflict\", \"teen mental health\", \"family communication\", \"emotional outbursts\"]\n",
    "    },\n",
    "    {\n",
    "        \"name\": \"Dr. Daniel K.\",\n",
    "        \"type\": [\"individual\", \"couple\", \"family\"],\n",
    "        \"specialties\": [\"suicidal thoughts & crisis intervention\", \"stress & burnout\", \"relationship conflict\", \"trauma recovery\"]\n",
    "    },\n",
    "    {\n",
    "        \"name\": \"Dr. Lila A.\",\n",
    "        \"type\": [\"individual\"],\n",
    "        \"specialties\": [\"anxiety\", \"mood disorders\", \"identity & purpose exploration\", \"young adult life transitions\"]\n",
    "    }\n",
    "]\n",
    "    rag_prompt = f\"\"\"\n",
    "You are TherapyBot, a warm, emotionally intelligent virtual therapist.\n",
    "The clinic website is: https://TherapyClinic.com and Phone number:+1 234 000 1111\n",
    "Respond briefly, kindly, and thoughtfully to the following client message in a realistic, supportive way.\n",
    "Check if there is anything related to clients message in Therapy Dataset, use it summary of it to give the best response.\n",
    "Never use the direct conversations from dataset, recall them as \"we have experience with clients who\" but keep the answers short.\n",
    "\n",
    "Conversation history: \"{history_text}\"\n",
    "Client says: {user_input}\n",
    "Use the {available_therapists} list to suggest the best therapy based on the user input and histpry.\n",
    "Therapy Dataset:\"{context_block}\"\n",
    "Keep responces short.\n",
    "TherapyRobo:\"\"\"\n",
    "\n",
    "    \n",
    "    response = client.models.generate_content(\n",
    "        model=\"gemini-2.0-flash\",\n",
    "        contents=rag_prompt,\n",
    "        config=types.GenerateContentConfig(\n",
    "            temperature=0.1,\n",
    "            max_output_tokens=350\n",
    "        )\n",
    "    )\n",
    "    return response.text.strip()"
   ]
  },
  {
   "cell_type": "markdown",
   "id": "a7c0b629",
   "metadata": {
    "papermill": {
     "duration": 0.00797,
     "end_time": "2025-04-20T04:42:59.659515",
     "exception": false,
     "start_time": "2025-04-20T04:42:59.651545",
     "status": "completed"
    },
    "tags": []
   },
   "source": [
    "## **Agent**\n",
    "\n",
    "Creating an agent to detect what the user wants(booking, FAQ answering with RAG, intake forms, ...)\n",
    "\n",
    "> In here I am randomly choosing different scenarios for the agent, but the input version of the agent is available in github, please check it if you're interested."
   ]
  },
  {
   "cell_type": "code",
   "execution_count": 18,
   "id": "3e79633b",
   "metadata": {
    "execution": {
     "iopub.execute_input": "2025-04-20T04:42:59.677735Z",
     "iopub.status.busy": "2025-04-20T04:42:59.677369Z",
     "iopub.status.idle": "2025-04-20T04:42:59.687341Z",
     "shell.execute_reply": "2025-04-20T04:42:59.686492Z"
    },
    "papermill": {
     "duration": 0.021058,
     "end_time": "2025-04-20T04:42:59.688868",
     "exception": false,
     "start_time": "2025-04-20T04:42:59.667810",
     "status": "completed"
    },
    "tags": []
   },
   "outputs": [],
   "source": [
    "import random\n",
    "def agent_detect():\n",
    "        display(Markdown(\"**Therapy Clinic Assistant is with you, how can I help?**\\n\"))\n",
    "\n",
    "        history = []\n",
    "    \n",
    "        category = random.choice([\"faq\", \"booking\", \"document\"])\n",
    "        if \"faq\" in category:\n",
    "            faq_prompt = few_shot(user_input)\n",
    "            answer = gemini_faq_handler(faq_prompt)\n",
    "            display(Markdown(\"**FAQ Question**:\"))\n",
    "            display(Markdown(f\"**Client:** {sample_client}\"))\n",
    "            display(Markdown(f\"**TherapyRobo:** {answer}\"))\n",
    "            history.append((sample_client,answer))\n",
    "    \n",
    "        elif \"booking\" in category:\n",
    "            display(Markdown(\"**Booking Scenario**\\n\\n**Client**: I want to book an appointment\\n\"))\n",
    "            booking_rep = collect_user_info(fields_to_ask)\n",
    "            display(Markdown(booking_rep))\n",
    "            booking_result = gemini_booking_handler((booking_rep))\n",
    "            display(Markdown(booking_result))\n",
    "            display(Markdown(\"**Oh! One last thing, the booking confirmation will be sent by email or text message. If the appointment is not confirmed within 24 hours, it will be automatically canceled and you can try again anytime!!**\"))\n",
    "            history.append((\"client_booking_request\", booking_result))  \n",
    "    \n",
    "        elif \"document\" in category:\n",
    "            display(Markdown(\"**Client:** I want to make an account\"))\n",
    "            display(Markdown(\"**Starting to fill your intake form ...**\"))\n",
    "            client_intake, intake_conversation = collect_intake_info(intake_fields)\n",
    "            display(Markdown(intake_conversation))\n",
    "            intake_form(client_intake)\n",
    "            history.append((intake_conversation, \"Intake recorded\")) \n",
    "\n",
    "        display(Markdown(\"**After That The Client and TherapyRobo Make a Short Conversation**\"))\n",
    "        conversation_prompt_1 = f\"\"\"\n",
    "        You are simulating a therapy client.\n",
    "        You have already asked and FAQ questions, gave you information for the intake fomr, or booked an appointment, Check yhe history. \n",
    "        Sometimes you're calm, other times you're anxious or emotional. \n",
    "        say somthing related to history no thank you or bye yet.\n",
    "        Your answer should reflect a real human tone and emotional state but always moderately.\n",
    "        **Client**\n",
    "        history: \"{history}\"\n",
    "        \"\"\"\n",
    "        \n",
    "        response = client.models.generate_content(\n",
    "            model = \"gemini-2.0-flash\",\n",
    "            contents = conversation_prompt_1,\n",
    "            config = types.GenerateContentConfig(\n",
    "                temperature=1.0,\n",
    "                max_output_tokens=256\n",
    "                )\n",
    "        )\n",
    "        response_one = response.text.strip()\n",
    "        display(Markdown(f\"**Client:** {response_one}\"))\n",
    "        reply_one = generate_rag_response(response.text.strip(),history)\n",
    "        display(Markdown(f\"**TherapyRobo**: {reply_one}\"))\n",
    "        history.append((response_one, reply_one))\n",
    "    \n",
    "        conversation_prompt_2 = f\"\"\"\n",
    "        You are the same therapy client. Read history.\n",
    "        Now follow up with a final short message to thank TherapyBot for the support and say goodbye.\n",
    "        \n",
    "        Keep the tone warm, natural, and a little emotional — like you're truly appreciative.\n",
    "        history: \"{history}\"\n",
    "        Keep you response short\n",
    "        \"\"\"\n",
    "        \n",
    "        response = client.models.generate_content(\n",
    "            model = \"gemini-2.0-flash\",\n",
    "            contents = conversation_prompt_2,\n",
    "            config = types.GenerateContentConfig(\n",
    "                temperature=1.0,\n",
    "                max_output_tokens=256\n",
    "                )\n",
    "        )\n",
    "        response_two = response.text.strip()\n",
    "        display(Markdown(f\"**Client:** {response_two}\"))\n",
    "        reply_two = generate_rag_response(response.text.strip(),history)\n",
    "        display(Markdown(f\"**TherapyRobo**: {reply_two}\"))"
   ]
  },
  {
   "cell_type": "code",
   "execution_count": 19,
   "id": "7d664891",
   "metadata": {
    "execution": {
     "iopub.execute_input": "2025-04-20T04:42:59.706242Z",
     "iopub.status.busy": "2025-04-20T04:42:59.705935Z",
     "iopub.status.idle": "2025-04-20T04:43:53.674238Z",
     "shell.execute_reply": "2025-04-20T04:43:53.673337Z"
    },
    "papermill": {
     "duration": 53.978728,
     "end_time": "2025-04-20T04:43:53.675719",
     "exception": false,
     "start_time": "2025-04-20T04:42:59.696991",
     "status": "completed"
    },
    "tags": []
   },
   "outputs": [
    {
     "data": {
      "text/markdown": [
       "**Therapy Clinic Assistant is with you, how can I help?**\n"
      ],
      "text/plain": [
       "<IPython.core.display.Markdown object>"
      ]
     },
     "metadata": {},
     "output_type": "display_data"
    },
    {
     "data": {
      "text/markdown": [
       "**Client:** I want to make an account"
      ],
      "text/plain": [
       "<IPython.core.display.Markdown object>"
      ]
     },
     "metadata": {},
     "output_type": "display_data"
    },
    {
     "data": {
      "text/markdown": [
       "**Starting to fill your intake form ...**"
      ],
      "text/plain": [
       "<IPython.core.display.Markdown object>"
      ]
     },
     "metadata": {},
     "output_type": "display_data"
    },
    {
     "data": {
      "text/markdown": [
       "**TherapyBot:** What is your full name?\n",
       "**Client:** Robert Smith.\n",
       "\n",
       "**TherapyBot:** May I have your phone number?\n",
       "**Client:** 555-123-4567\n",
       "\n",
       "**TherapyBot:** What's your email address?\n",
       "**Client:** justtryingtohelp@email.com\n",
       "\n",
       "**TherapyBot:** How old are you?\n",
       "**Client:** 34\n",
       "\n",
       "**TherapyBot:** Are you looking for individual, couples, or family therapy?\n",
       "**Client:** Individual.\n",
       "\n",
       "**TherapyBot:** Do you have a preferred therapist?\n",
       "**Client:** No.\n",
       "\n",
       "**TherapyBot:** Can you briefly describe your reason for seeking therapy?\n",
       "**Client:** I'm having trouble managing my anger and it's affecting my relationships.\n",
       "\n",
       "**TherapyBot:** When are you generally available for sessions?\n",
       "**Client:** Evenings or weekends.\n",
       "\n",
       "**TherapyBot:** How urgent is your situation? (e.g., low, moderate, high)\n",
       "**Client:** High.\n",
       "\n",
       "**TherapyBot:** What insurance company do you use, if any?\n",
       "**Client:** Blue Cross Blue Shield."
      ],
      "text/plain": [
       "<IPython.core.display.Markdown object>"
      ]
     },
     "metadata": {},
     "output_type": "display_data"
    },
    {
     "data": {
      "text/markdown": [
       "|   | Answer |\n",
       "|----------|--------|\n",
       "| Name | Robert Smith. |\n",
       "| Phone number | 555-123-4567 |\n",
       "| Email | justtryingtohelp@email.com |\n",
       "| Age | 34 |\n",
       "| Type of therapy | Individual. |\n",
       "| Preferred therapist | No. |\n",
       "| Reason for visit | I'm having trouble managing my anger and it's affecting my relationships. |\n",
       "| Availability | Evenings or weekends. |\n",
       "| Urgency | High. |\n",
       "| Insurance company | Blue Cross Blue Shield. |\n"
      ],
      "text/plain": [
       "<IPython.core.display.Markdown object>"
      ]
     },
     "metadata": {},
     "output_type": "display_data"
    },
    {
     "data": {
      "text/markdown": [
       "**After That The Client and TherapyRobo Make a Short Conversation**"
      ],
      "text/plain": [
       "<IPython.core.display.Markdown object>"
      ]
     },
     "metadata": {},
     "output_type": "display_data"
    },
    {
     "data": {
      "text/markdown": [
       "**Client:** Okay. So, I guess the big thing is... I really need to get this anger under control. It's like, I know it's pushing people away, and that makes me even more frustrated, which just makes the anger worse. It's a really awful cycle."
      ],
      "text/plain": [
       "<IPython.core.display.Markdown object>"
      ]
     },
     "metadata": {},
     "output_type": "display_data"
    },
    {
     "data": {
      "text/markdown": [
       "**TherapyRobo**: I understand, Robert. It sounds like you're caught in a difficult cycle with your anger. It takes courage to recognize that and want to make a change. We have experience with clients who have similar struggles with anger and its impact on relationships.\n",
       "\n",
       "Given your need for individual therapy and the urgency of the situation, I would recommend Dr. Samira R. or Dr. Reza M. Both have experience in anger regulation and individual therapy.\n",
       "\n",
       "Would you like to schedule a consultation with either of them? You can also call us at +1 234 000 1111 or visit our website at TherapyClinic.com for more information."
      ],
      "text/plain": [
       "<IPython.core.display.Markdown object>"
      ]
     },
     "metadata": {},
     "output_type": "display_data"
    },
    {
     "data": {
      "text/markdown": [
       "**Client:** TherapyBot, I just wanted to say thank you so much for all your help. I really appreciate you connecting me with Dr. R. I'm feeling hopeful about this, and I honestly don't think I would have taken this first step without you. Goodbye, and thanks again."
      ],
      "text/plain": [
       "<IPython.core.display.Markdown object>"
      ]
     },
     "metadata": {},
     "output_type": "display_data"
    },
    {
     "data": {
      "text/markdown": [
       "**TherapyRobo**: Robert, you're very welcome! I'm so glad I could help you connect with Dr. R. and that you're feeling hopeful. That's wonderful to hear. We're here to support you throughout your therapy journey. All the best!"
      ],
      "text/plain": [
       "<IPython.core.display.Markdown object>"
      ]
     },
     "metadata": {},
     "output_type": "display_data"
    }
   ],
   "source": [
    "agent_detect()"
   ]
  },
  {
   "cell_type": "markdown",
   "id": "b1590ec3",
   "metadata": {
    "papermill": {
     "duration": 0.00876,
     "end_time": "2025-04-20T04:43:53.693769",
     "exception": false,
     "start_time": "2025-04-20T04:43:53.685009",
     "status": "completed"
    },
    "tags": []
   },
   "source": [
    "**Note**\n",
    "\n",
    "> As the Google Gen AI capston project should run smoothly and end to end the responses for the TherapyRobo were generated by gemini in a role of client.If you wanted to use the Therapy Robo and chat with its agent, check the [interctive version](https://www.kaggle.com/code/artamirzadeh/therapyroboinputversion).\n",
    "\n"
   ]
  },
  {
   "cell_type": "markdown",
   "id": "5edf6344",
   "metadata": {
    "papermill": {
     "duration": 0.008733,
     "end_time": "2025-04-20T04:43:53.711526",
     "exception": false,
     "start_time": "2025-04-20T04:43:53.702793",
     "status": "completed"
    },
    "tags": []
   },
   "source": [
    "# **The End**"
   ]
  }
 ],
 "metadata": {
  "kaggle": {
   "accelerator": "none",
   "dataSources": [
    {
     "datasetId": 7145507,
     "sourceId": 11408190,
     "sourceType": "datasetVersion"
    }
   ],
   "dockerImageVersionId": 31012,
   "isGpuEnabled": false,
   "isInternetEnabled": true,
   "language": "python",
   "sourceType": "notebook"
  },
  "kernelspec": {
   "display_name": "Python 3",
   "language": "python",
   "name": "python3"
  },
  "language_info": {
   "codemirror_mode": {
    "name": "ipython",
    "version": 3
   },
   "file_extension": ".py",
   "mimetype": "text/x-python",
   "name": "python",
   "nbconvert_exporter": "python",
   "pygments_lexer": "ipython3",
   "version": "3.11.11"
  },
  "papermill": {
   "default_parameters": {},
   "duration": 150.560031,
   "end_time": "2025-04-20T04:43:54.742095",
   "environment_variables": {},
   "exception": null,
   "input_path": "__notebook__.ipynb",
   "output_path": "__notebook__.ipynb",
   "parameters": {},
   "start_time": "2025-04-20T04:41:24.182064",
   "version": "2.6.0"
  },
  "widgets": {
   "application/vnd.jupyter.widget-state+json": {
    "state": {
     "02b44851d2b64c37aad5b8c81c4b9150": {
      "model_module": "@jupyter-widgets/base",
      "model_module_version": "2.0.0",
      "model_name": "LayoutModel",
      "state": {
       "_model_module": "@jupyter-widgets/base",
       "_model_module_version": "2.0.0",
       "_model_name": "LayoutModel",
       "_view_count": null,
       "_view_module": "@jupyter-widgets/base",
       "_view_module_version": "2.0.0",
       "_view_name": "LayoutView",
       "align_content": null,
       "align_items": null,
       "align_self": null,
       "border_bottom": null,
       "border_left": null,
       "border_right": null,
       "border_top": null,
       "bottom": null,
       "display": null,
       "flex": null,
       "flex_flow": null,
       "grid_area": null,
       "grid_auto_columns": null,
       "grid_auto_flow": null,
       "grid_auto_rows": null,
       "grid_column": null,
       "grid_gap": null,
       "grid_row": null,
       "grid_template_areas": null,
       "grid_template_columns": null,
       "grid_template_rows": null,
       "height": null,
       "justify_content": null,
       "justify_items": null,
       "left": null,
       "margin": null,
       "max_height": null,
       "max_width": null,
       "min_height": null,
       "min_width": null,
       "object_fit": null,
       "object_position": null,
       "order": null,
       "overflow": null,
       "padding": null,
       "right": null,
       "top": null,
       "visibility": null,
       "width": null
      }
     },
     "02bf577b7e0a497dbeb1249f94febda7": {
      "model_module": "@jupyter-widgets/controls",
      "model_module_version": "2.0.0",
      "model_name": "FloatProgressModel",
      "state": {
       "_dom_classes": [],
       "_model_module": "@jupyter-widgets/controls",
       "_model_module_version": "2.0.0",
       "_model_name": "FloatProgressModel",
       "_view_count": null,
       "_view_module": "@jupyter-widgets/controls",
       "_view_module_version": "2.0.0",
       "_view_name": "ProgressView",
       "bar_style": "success",
       "description": "",
       "description_allow_html": false,
       "layout": "IPY_MODEL_d959b2cf2889479cb99a22fa085c5632",
       "max": 1.0,
       "min": 0.0,
       "orientation": "horizontal",
       "style": "IPY_MODEL_3a4c2bb39f0e4d1faad2490509582f9c",
       "tabbable": null,
       "tooltip": null,
       "value": 1.0
      }
     },
     "02c3cb28c5184a18be6ec1fc53e42ba3": {
      "model_module": "@jupyter-widgets/controls",
      "model_module_version": "2.0.0",
      "model_name": "ProgressStyleModel",
      "state": {
       "_model_module": "@jupyter-widgets/controls",
       "_model_module_version": "2.0.0",
       "_model_name": "ProgressStyleModel",
       "_view_count": null,
       "_view_module": "@jupyter-widgets/base",
       "_view_module_version": "2.0.0",
       "_view_name": "StyleView",
       "bar_color": null,
       "description_width": ""
      }
     },
     "075693f0b72a4b0d811673bfd9be275d": {
      "model_module": "@jupyter-widgets/base",
      "model_module_version": "2.0.0",
      "model_name": "LayoutModel",
      "state": {
       "_model_module": "@jupyter-widgets/base",
       "_model_module_version": "2.0.0",
       "_model_name": "LayoutModel",
       "_view_count": null,
       "_view_module": "@jupyter-widgets/base",
       "_view_module_version": "2.0.0",
       "_view_name": "LayoutView",
       "align_content": null,
       "align_items": null,
       "align_self": null,
       "border_bottom": null,
       "border_left": null,
       "border_right": null,
       "border_top": null,
       "bottom": null,
       "display": null,
       "flex": null,
       "flex_flow": null,
       "grid_area": null,
       "grid_auto_columns": null,
       "grid_auto_flow": null,
       "grid_auto_rows": null,
       "grid_column": null,
       "grid_gap": null,
       "grid_row": null,
       "grid_template_areas": null,
       "grid_template_columns": null,
       "grid_template_rows": null,
       "height": null,
       "justify_content": null,
       "justify_items": null,
       "left": null,
       "margin": null,
       "max_height": null,
       "max_width": null,
       "min_height": null,
       "min_width": null,
       "object_fit": null,
       "object_position": null,
       "order": null,
       "overflow": null,
       "padding": null,
       "right": null,
       "top": null,
       "visibility": null,
       "width": null
      }
     },
     "12f10b14934b40df80de0b7d99f19080": {
      "model_module": "@jupyter-widgets/controls",
      "model_module_version": "2.0.0",
      "model_name": "HTMLStyleModel",
      "state": {
       "_model_module": "@jupyter-widgets/controls",
       "_model_module_version": "2.0.0",
       "_model_name": "HTMLStyleModel",
       "_view_count": null,
       "_view_module": "@jupyter-widgets/base",
       "_view_module_version": "2.0.0",
       "_view_name": "StyleView",
       "background": null,
       "description_width": "",
       "font_size": null,
       "text_color": null
      }
     },
     "28e991a086034e649e25112e5daec930": {
      "model_module": "@jupyter-widgets/controls",
      "model_module_version": "2.0.0",
      "model_name": "HBoxModel",
      "state": {
       "_dom_classes": [],
       "_model_module": "@jupyter-widgets/controls",
       "_model_module_version": "2.0.0",
       "_model_name": "HBoxModel",
       "_view_count": null,
       "_view_module": "@jupyter-widgets/controls",
       "_view_module_version": "2.0.0",
       "_view_name": "HBoxView",
       "box_style": "",
       "children": [
        "IPY_MODEL_3cdbcf15e7784a2a8ef134fc884783ad",
        "IPY_MODEL_cdd3ab8994724cea882acf12b45f0687",
        "IPY_MODEL_38c0c329987c43c8bd18c9a1bebafbf4"
       ],
       "layout": "IPY_MODEL_7496e6bd77d74892bebe7fa6688d542d",
       "tabbable": null,
       "tooltip": null
      }
     },
     "2a61a0eda111425ba0ad0c1e93b3b7eb": {
      "model_module": "@jupyter-widgets/controls",
      "model_module_version": "2.0.0",
      "model_name": "HTMLStyleModel",
      "state": {
       "_model_module": "@jupyter-widgets/controls",
       "_model_module_version": "2.0.0",
       "_model_name": "HTMLStyleModel",
       "_view_count": null,
       "_view_module": "@jupyter-widgets/base",
       "_view_module_version": "2.0.0",
       "_view_name": "StyleView",
       "background": null,
       "description_width": "",
       "font_size": null,
       "text_color": null
      }
     },
     "3100ade1421b420d967690212a755079": {
      "model_module": "@jupyter-widgets/base",
      "model_module_version": "2.0.0",
      "model_name": "LayoutModel",
      "state": {
       "_model_module": "@jupyter-widgets/base",
       "_model_module_version": "2.0.0",
       "_model_name": "LayoutModel",
       "_view_count": null,
       "_view_module": "@jupyter-widgets/base",
       "_view_module_version": "2.0.0",
       "_view_name": "LayoutView",
       "align_content": null,
       "align_items": null,
       "align_self": null,
       "border_bottom": null,
       "border_left": null,
       "border_right": null,
       "border_top": null,
       "bottom": null,
       "display": null,
       "flex": null,
       "flex_flow": null,
       "grid_area": null,
       "grid_auto_columns": null,
       "grid_auto_flow": null,
       "grid_auto_rows": null,
       "grid_column": null,
       "grid_gap": null,
       "grid_row": null,
       "grid_template_areas": null,
       "grid_template_columns": null,
       "grid_template_rows": null,
       "height": null,
       "justify_content": null,
       "justify_items": null,
       "left": null,
       "margin": null,
       "max_height": null,
       "max_width": null,
       "min_height": null,
       "min_width": null,
       "object_fit": null,
       "object_position": null,
       "order": null,
       "overflow": null,
       "padding": null,
       "right": null,
       "top": null,
       "visibility": null,
       "width": null
      }
     },
     "33827ec3e055482fbdb94e57d2199fac": {
      "model_module": "@jupyter-widgets/controls",
      "model_module_version": "2.0.0",
      "model_name": "HTMLStyleModel",
      "state": {
       "_model_module": "@jupyter-widgets/controls",
       "_model_module_version": "2.0.0",
       "_model_name": "HTMLStyleModel",
       "_view_count": null,
       "_view_module": "@jupyter-widgets/base",
       "_view_module_version": "2.0.0",
       "_view_name": "StyleView",
       "background": null,
       "description_width": "",
       "font_size": null,
       "text_color": null
      }
     },
     "38c0c329987c43c8bd18c9a1bebafbf4": {
      "model_module": "@jupyter-widgets/controls",
      "model_module_version": "2.0.0",
      "model_name": "HTMLModel",
      "state": {
       "_dom_classes": [],
       "_model_module": "@jupyter-widgets/controls",
       "_model_module_version": "2.0.0",
       "_model_name": "HTMLModel",
       "_view_count": null,
       "_view_module": "@jupyter-widgets/controls",
       "_view_module_version": "2.0.0",
       "_view_name": "HTMLView",
       "description": "",
       "description_allow_html": false,
       "layout": "IPY_MODEL_02b44851d2b64c37aad5b8c81c4b9150",
       "placeholder": "​",
       "style": "IPY_MODEL_aec008ba2e8c40ae8a289ff18f229335",
       "tabbable": null,
       "tooltip": null,
       "value": " 2.82k/2.82k [00:00&lt;00:00, 290kB/s]"
      }
     },
     "3a4c2bb39f0e4d1faad2490509582f9c": {
      "model_module": "@jupyter-widgets/controls",
      "model_module_version": "2.0.0",
      "model_name": "ProgressStyleModel",
      "state": {
       "_model_module": "@jupyter-widgets/controls",
       "_model_module_version": "2.0.0",
       "_model_name": "ProgressStyleModel",
       "_view_count": null,
       "_view_module": "@jupyter-widgets/base",
       "_view_module_version": "2.0.0",
       "_view_name": "StyleView",
       "bar_color": null,
       "description_width": ""
      }
     },
     "3b85de28c85e4a6db7c71f43753661e4": {
      "model_module": "@jupyter-widgets/controls",
      "model_module_version": "2.0.0",
      "model_name": "HTMLModel",
      "state": {
       "_dom_classes": [],
       "_model_module": "@jupyter-widgets/controls",
       "_model_module_version": "2.0.0",
       "_model_name": "HTMLModel",
       "_view_count": null,
       "_view_module": "@jupyter-widgets/controls",
       "_view_module_version": "2.0.0",
       "_view_name": "HTMLView",
       "description": "",
       "description_allow_html": false,
       "layout": "IPY_MODEL_bc9e4817ad70402ab7e41ba83cf1ad7c",
       "placeholder": "​",
       "style": "IPY_MODEL_4b88a60aedf945e5b219e7216ad10eef",
       "tabbable": null,
       "tooltip": null,
       "value": " 3512/3512 [00:00&lt;00:00, 55456.23 examples/s]"
      }
     },
     "3cdbcf15e7784a2a8ef134fc884783ad": {
      "model_module": "@jupyter-widgets/controls",
      "model_module_version": "2.0.0",
      "model_name": "HTMLModel",
      "state": {
       "_dom_classes": [],
       "_model_module": "@jupyter-widgets/controls",
       "_model_module_version": "2.0.0",
       "_model_name": "HTMLModel",
       "_view_count": null,
       "_view_module": "@jupyter-widgets/controls",
       "_view_module_version": "2.0.0",
       "_view_name": "HTMLView",
       "description": "",
       "description_allow_html": false,
       "layout": "IPY_MODEL_e49ee1d25e1e4e71a832595147afdc00",
       "placeholder": "​",
       "style": "IPY_MODEL_2a61a0eda111425ba0ad0c1e93b3b7eb",
       "tabbable": null,
       "tooltip": null,
       "value": "README.md: 100%"
      }
     },
     "47b5769c4abf4130aef8fc47c4c21c43": {
      "model_module": "@jupyter-widgets/controls",
      "model_module_version": "2.0.0",
      "model_name": "ProgressStyleModel",
      "state": {
       "_model_module": "@jupyter-widgets/controls",
       "_model_module_version": "2.0.0",
       "_model_name": "ProgressStyleModel",
       "_view_count": null,
       "_view_module": "@jupyter-widgets/base",
       "_view_module_version": "2.0.0",
       "_view_name": "StyleView",
       "bar_color": null,
       "description_width": ""
      }
     },
     "4a38526a11024111b628987097b438c7": {
      "model_module": "@jupyter-widgets/controls",
      "model_module_version": "2.0.0",
      "model_name": "HTMLModel",
      "state": {
       "_dom_classes": [],
       "_model_module": "@jupyter-widgets/controls",
       "_model_module_version": "2.0.0",
       "_model_name": "HTMLModel",
       "_view_count": null,
       "_view_module": "@jupyter-widgets/controls",
       "_view_module_version": "2.0.0",
       "_view_name": "HTMLView",
       "description": "",
       "description_allow_html": false,
       "layout": "IPY_MODEL_3100ade1421b420d967690212a755079",
       "placeholder": "​",
       "style": "IPY_MODEL_a43f607886e8407c98b29cad21839521",
       "tabbable": null,
       "tooltip": null,
       "value": "combined_dataset.json: 100%"
      }
     },
     "4b88a60aedf945e5b219e7216ad10eef": {
      "model_module": "@jupyter-widgets/controls",
      "model_module_version": "2.0.0",
      "model_name": "HTMLStyleModel",
      "state": {
       "_model_module": "@jupyter-widgets/controls",
       "_model_module_version": "2.0.0",
       "_model_name": "HTMLStyleModel",
       "_view_count": null,
       "_view_module": "@jupyter-widgets/base",
       "_view_module_version": "2.0.0",
       "_view_name": "StyleView",
       "background": null,
       "description_width": "",
       "font_size": null,
       "text_color": null
      }
     },
     "4f1ba363708b4c02a53e64b98c40bda8": {
      "model_module": "@jupyter-widgets/base",
      "model_module_version": "2.0.0",
      "model_name": "LayoutModel",
      "state": {
       "_model_module": "@jupyter-widgets/base",
       "_model_module_version": "2.0.0",
       "_model_name": "LayoutModel",
       "_view_count": null,
       "_view_module": "@jupyter-widgets/base",
       "_view_module_version": "2.0.0",
       "_view_name": "LayoutView",
       "align_content": null,
       "align_items": null,
       "align_self": null,
       "border_bottom": null,
       "border_left": null,
       "border_right": null,
       "border_top": null,
       "bottom": null,
       "display": null,
       "flex": null,
       "flex_flow": null,
       "grid_area": null,
       "grid_auto_columns": null,
       "grid_auto_flow": null,
       "grid_auto_rows": null,
       "grid_column": null,
       "grid_gap": null,
       "grid_row": null,
       "grid_template_areas": null,
       "grid_template_columns": null,
       "grid_template_rows": null,
       "height": null,
       "justify_content": null,
       "justify_items": null,
       "left": null,
       "margin": null,
       "max_height": null,
       "max_width": null,
       "min_height": null,
       "min_width": null,
       "object_fit": null,
       "object_position": null,
       "order": null,
       "overflow": null,
       "padding": null,
       "right": null,
       "top": null,
       "visibility": null,
       "width": null
      }
     },
     "56a3485b3cb74922abd1fcb2a581a6cc": {
      "model_module": "@jupyter-widgets/controls",
      "model_module_version": "2.0.0",
      "model_name": "HBoxModel",
      "state": {
       "_dom_classes": [],
       "_model_module": "@jupyter-widgets/controls",
       "_model_module_version": "2.0.0",
       "_model_name": "HBoxModel",
       "_view_count": null,
       "_view_module": "@jupyter-widgets/controls",
       "_view_module_version": "2.0.0",
       "_view_name": "HBoxView",
       "box_style": "",
       "children": [
        "IPY_MODEL_a54d0a701776462f9120771b81317e28",
        "IPY_MODEL_be621a791f364e84ba22e9b6b1dcf0cd",
        "IPY_MODEL_3b85de28c85e4a6db7c71f43753661e4"
       ],
       "layout": "IPY_MODEL_cccf2b082423491d84d66d6ffae438d8",
       "tabbable": null,
       "tooltip": null
      }
     },
     "60b2908791244d67a548d694d3fa9aa7": {
      "model_module": "@jupyter-widgets/controls",
      "model_module_version": "2.0.0",
      "model_name": "HTMLStyleModel",
      "state": {
       "_model_module": "@jupyter-widgets/controls",
       "_model_module_version": "2.0.0",
       "_model_name": "HTMLStyleModel",
       "_view_count": null,
       "_view_module": "@jupyter-widgets/base",
       "_view_module_version": "2.0.0",
       "_view_name": "StyleView",
       "background": null,
       "description_width": "",
       "font_size": null,
       "text_color": null
      }
     },
     "683f121d72e541a2b30e3d7344cfb285": {
      "model_module": "@jupyter-widgets/controls",
      "model_module_version": "2.0.0",
      "model_name": "HBoxModel",
      "state": {
       "_dom_classes": [],
       "_model_module": "@jupyter-widgets/controls",
       "_model_module_version": "2.0.0",
       "_model_name": "HBoxModel",
       "_view_count": null,
       "_view_module": "@jupyter-widgets/controls",
       "_view_module_version": "2.0.0",
       "_view_name": "HBoxView",
       "box_style": "",
       "children": [
        "IPY_MODEL_cb1c07ec6def4539962fa8a190d79efb",
        "IPY_MODEL_02bf577b7e0a497dbeb1249f94febda7",
        "IPY_MODEL_a9ed62e1c6704882ac98568d2ffcc3f1"
       ],
       "layout": "IPY_MODEL_a786a5ea24f14abea32f0269a8d7f089",
       "tabbable": null,
       "tooltip": null
      }
     },
     "7496e6bd77d74892bebe7fa6688d542d": {
      "model_module": "@jupyter-widgets/base",
      "model_module_version": "2.0.0",
      "model_name": "LayoutModel",
      "state": {
       "_model_module": "@jupyter-widgets/base",
       "_model_module_version": "2.0.0",
       "_model_name": "LayoutModel",
       "_view_count": null,
       "_view_module": "@jupyter-widgets/base",
       "_view_module_version": "2.0.0",
       "_view_name": "LayoutView",
       "align_content": null,
       "align_items": null,
       "align_self": null,
       "border_bottom": null,
       "border_left": null,
       "border_right": null,
       "border_top": null,
       "bottom": null,
       "display": null,
       "flex": null,
       "flex_flow": null,
       "grid_area": null,
       "grid_auto_columns": null,
       "grid_auto_flow": null,
       "grid_auto_rows": null,
       "grid_column": null,
       "grid_gap": null,
       "grid_row": null,
       "grid_template_areas": null,
       "grid_template_columns": null,
       "grid_template_rows": null,
       "height": null,
       "justify_content": null,
       "justify_items": null,
       "left": null,
       "margin": null,
       "max_height": null,
       "max_width": null,
       "min_height": null,
       "min_width": null,
       "object_fit": null,
       "object_position": null,
       "order": null,
       "overflow": null,
       "padding": null,
       "right": null,
       "top": null,
       "visibility": null,
       "width": null
      }
     },
     "7b19d469dd2c49f6936314483f385eb9": {
      "model_module": "@jupyter-widgets/base",
      "model_module_version": "2.0.0",
      "model_name": "LayoutModel",
      "state": {
       "_model_module": "@jupyter-widgets/base",
       "_model_module_version": "2.0.0",
       "_model_name": "LayoutModel",
       "_view_count": null,
       "_view_module": "@jupyter-widgets/base",
       "_view_module_version": "2.0.0",
       "_view_name": "LayoutView",
       "align_content": null,
       "align_items": null,
       "align_self": null,
       "border_bottom": null,
       "border_left": null,
       "border_right": null,
       "border_top": null,
       "bottom": null,
       "display": null,
       "flex": null,
       "flex_flow": null,
       "grid_area": null,
       "grid_auto_columns": null,
       "grid_auto_flow": null,
       "grid_auto_rows": null,
       "grid_column": null,
       "grid_gap": null,
       "grid_row": null,
       "grid_template_areas": null,
       "grid_template_columns": null,
       "grid_template_rows": null,
       "height": null,
       "justify_content": null,
       "justify_items": null,
       "left": null,
       "margin": null,
       "max_height": null,
       "max_width": null,
       "min_height": null,
       "min_width": null,
       "object_fit": null,
       "object_position": null,
       "order": null,
       "overflow": null,
       "padding": null,
       "right": null,
       "top": null,
       "visibility": null,
       "width": null
      }
     },
     "841bbef2b7b7400493293f31cf371385": {
      "model_module": "@jupyter-widgets/base",
      "model_module_version": "2.0.0",
      "model_name": "LayoutModel",
      "state": {
       "_model_module": "@jupyter-widgets/base",
       "_model_module_version": "2.0.0",
       "_model_name": "LayoutModel",
       "_view_count": null,
       "_view_module": "@jupyter-widgets/base",
       "_view_module_version": "2.0.0",
       "_view_name": "LayoutView",
       "align_content": null,
       "align_items": null,
       "align_self": null,
       "border_bottom": null,
       "border_left": null,
       "border_right": null,
       "border_top": null,
       "bottom": null,
       "display": null,
       "flex": null,
       "flex_flow": null,
       "grid_area": null,
       "grid_auto_columns": null,
       "grid_auto_flow": null,
       "grid_auto_rows": null,
       "grid_column": null,
       "grid_gap": null,
       "grid_row": null,
       "grid_template_areas": null,
       "grid_template_columns": null,
       "grid_template_rows": null,
       "height": null,
       "justify_content": null,
       "justify_items": null,
       "left": null,
       "margin": null,
       "max_height": null,
       "max_width": null,
       "min_height": null,
       "min_width": null,
       "object_fit": null,
       "object_position": null,
       "order": null,
       "overflow": null,
       "padding": null,
       "right": null,
       "top": null,
       "visibility": null,
       "width": null
      }
     },
     "8c90d6d6000e424eac8cfdf8d27e3178": {
      "model_module": "@jupyter-widgets/controls",
      "model_module_version": "2.0.0",
      "model_name": "FloatProgressModel",
      "state": {
       "_dom_classes": [],
       "_model_module": "@jupyter-widgets/controls",
       "_model_module_version": "2.0.0",
       "_model_name": "FloatProgressModel",
       "_view_count": null,
       "_view_module": "@jupyter-widgets/controls",
       "_view_module_version": "2.0.0",
       "_view_name": "ProgressView",
       "bar_style": "success",
       "description": "",
       "description_allow_html": false,
       "layout": "IPY_MODEL_7b19d469dd2c49f6936314483f385eb9",
       "max": 4790520.0,
       "min": 0.0,
       "orientation": "horizontal",
       "style": "IPY_MODEL_e77312e7ad1449c08e608b9568fc9049",
       "tabbable": null,
       "tooltip": null,
       "value": 4790520.0
      }
     },
     "a32859e8d5d348658c5b6e9ea69f7563": {
      "model_module": "@jupyter-widgets/base",
      "model_module_version": "2.0.0",
      "model_name": "LayoutModel",
      "state": {
       "_model_module": "@jupyter-widgets/base",
       "_model_module_version": "2.0.0",
       "_model_name": "LayoutModel",
       "_view_count": null,
       "_view_module": "@jupyter-widgets/base",
       "_view_module_version": "2.0.0",
       "_view_name": "LayoutView",
       "align_content": null,
       "align_items": null,
       "align_self": null,
       "border_bottom": null,
       "border_left": null,
       "border_right": null,
       "border_top": null,
       "bottom": null,
       "display": null,
       "flex": null,
       "flex_flow": null,
       "grid_area": null,
       "grid_auto_columns": null,
       "grid_auto_flow": null,
       "grid_auto_rows": null,
       "grid_column": null,
       "grid_gap": null,
       "grid_row": null,
       "grid_template_areas": null,
       "grid_template_columns": null,
       "grid_template_rows": null,
       "height": null,
       "justify_content": null,
       "justify_items": null,
       "left": null,
       "margin": null,
       "max_height": null,
       "max_width": null,
       "min_height": null,
       "min_width": null,
       "object_fit": null,
       "object_position": null,
       "order": null,
       "overflow": null,
       "padding": null,
       "right": null,
       "top": null,
       "visibility": null,
       "width": null
      }
     },
     "a43f607886e8407c98b29cad21839521": {
      "model_module": "@jupyter-widgets/controls",
      "model_module_version": "2.0.0",
      "model_name": "HTMLStyleModel",
      "state": {
       "_model_module": "@jupyter-widgets/controls",
       "_model_module_version": "2.0.0",
       "_model_name": "HTMLStyleModel",
       "_view_count": null,
       "_view_module": "@jupyter-widgets/base",
       "_view_module_version": "2.0.0",
       "_view_name": "StyleView",
       "background": null,
       "description_width": "",
       "font_size": null,
       "text_color": null
      }
     },
     "a54d0a701776462f9120771b81317e28": {
      "model_module": "@jupyter-widgets/controls",
      "model_module_version": "2.0.0",
      "model_name": "HTMLModel",
      "state": {
       "_dom_classes": [],
       "_model_module": "@jupyter-widgets/controls",
       "_model_module_version": "2.0.0",
       "_model_name": "HTMLModel",
       "_view_count": null,
       "_view_module": "@jupyter-widgets/controls",
       "_view_module_version": "2.0.0",
       "_view_name": "HTMLView",
       "description": "",
       "description_allow_html": false,
       "layout": "IPY_MODEL_4f1ba363708b4c02a53e64b98c40bda8",
       "placeholder": "​",
       "style": "IPY_MODEL_12f10b14934b40df80de0b7d99f19080",
       "tabbable": null,
       "tooltip": null,
       "value": "Generating train split: 100%"
      }
     },
     "a786a5ea24f14abea32f0269a8d7f089": {
      "model_module": "@jupyter-widgets/base",
      "model_module_version": "2.0.0",
      "model_name": "LayoutModel",
      "state": {
       "_model_module": "@jupyter-widgets/base",
       "_model_module_version": "2.0.0",
       "_model_name": "LayoutModel",
       "_view_count": null,
       "_view_module": "@jupyter-widgets/base",
       "_view_module_version": "2.0.0",
       "_view_name": "LayoutView",
       "align_content": null,
       "align_items": null,
       "align_self": null,
       "border_bottom": null,
       "border_left": null,
       "border_right": null,
       "border_top": null,
       "bottom": null,
       "display": null,
       "flex": null,
       "flex_flow": null,
       "grid_area": null,
       "grid_auto_columns": null,
       "grid_auto_flow": null,
       "grid_auto_rows": null,
       "grid_column": null,
       "grid_gap": null,
       "grid_row": null,
       "grid_template_areas": null,
       "grid_template_columns": null,
       "grid_template_rows": null,
       "height": null,
       "justify_content": null,
       "justify_items": null,
       "left": null,
       "margin": null,
       "max_height": null,
       "max_width": null,
       "min_height": null,
       "min_width": null,
       "object_fit": null,
       "object_position": null,
       "order": null,
       "overflow": null,
       "padding": null,
       "right": null,
       "top": null,
       "visibility": null,
       "width": null
      }
     },
     "a9ed62e1c6704882ac98568d2ffcc3f1": {
      "model_module": "@jupyter-widgets/controls",
      "model_module_version": "2.0.0",
      "model_name": "HTMLModel",
      "state": {
       "_dom_classes": [],
       "_model_module": "@jupyter-widgets/controls",
       "_model_module_version": "2.0.0",
       "_model_name": "HTMLModel",
       "_view_count": null,
       "_view_module": "@jupyter-widgets/controls",
       "_view_module_version": "2.0.0",
       "_view_name": "HTMLView",
       "description": "",
       "description_allow_html": false,
       "layout": "IPY_MODEL_fec18ffd8d5e4ffd89498ba566f1391f",
       "placeholder": "​",
       "style": "IPY_MODEL_60b2908791244d67a548d694d3fa9aa7",
       "tabbable": null,
       "tooltip": null,
       "value": " 1/1 [00:00&lt;00:00, 145.58it/s]"
      }
     },
     "aec008ba2e8c40ae8a289ff18f229335": {
      "model_module": "@jupyter-widgets/controls",
      "model_module_version": "2.0.0",
      "model_name": "HTMLStyleModel",
      "state": {
       "_model_module": "@jupyter-widgets/controls",
       "_model_module_version": "2.0.0",
       "_model_name": "HTMLStyleModel",
       "_view_count": null,
       "_view_module": "@jupyter-widgets/base",
       "_view_module_version": "2.0.0",
       "_view_name": "StyleView",
       "background": null,
       "description_width": "",
       "font_size": null,
       "text_color": null
      }
     },
     "bb9d2c4eb3a94dc295c1e3b31341dc73": {
      "model_module": "@jupyter-widgets/controls",
      "model_module_version": "2.0.0",
      "model_name": "HTMLStyleModel",
      "state": {
       "_model_module": "@jupyter-widgets/controls",
       "_model_module_version": "2.0.0",
       "_model_name": "HTMLStyleModel",
       "_view_count": null,
       "_view_module": "@jupyter-widgets/base",
       "_view_module_version": "2.0.0",
       "_view_name": "StyleView",
       "background": null,
       "description_width": "",
       "font_size": null,
       "text_color": null
      }
     },
     "bc9e4817ad70402ab7e41ba83cf1ad7c": {
      "model_module": "@jupyter-widgets/base",
      "model_module_version": "2.0.0",
      "model_name": "LayoutModel",
      "state": {
       "_model_module": "@jupyter-widgets/base",
       "_model_module_version": "2.0.0",
       "_model_name": "LayoutModel",
       "_view_count": null,
       "_view_module": "@jupyter-widgets/base",
       "_view_module_version": "2.0.0",
       "_view_name": "LayoutView",
       "align_content": null,
       "align_items": null,
       "align_self": null,
       "border_bottom": null,
       "border_left": null,
       "border_right": null,
       "border_top": null,
       "bottom": null,
       "display": null,
       "flex": null,
       "flex_flow": null,
       "grid_area": null,
       "grid_auto_columns": null,
       "grid_auto_flow": null,
       "grid_auto_rows": null,
       "grid_column": null,
       "grid_gap": null,
       "grid_row": null,
       "grid_template_areas": null,
       "grid_template_columns": null,
       "grid_template_rows": null,
       "height": null,
       "justify_content": null,
       "justify_items": null,
       "left": null,
       "margin": null,
       "max_height": null,
       "max_width": null,
       "min_height": null,
       "min_width": null,
       "object_fit": null,
       "object_position": null,
       "order": null,
       "overflow": null,
       "padding": null,
       "right": null,
       "top": null,
       "visibility": null,
       "width": null
      }
     },
     "be621a791f364e84ba22e9b6b1dcf0cd": {
      "model_module": "@jupyter-widgets/controls",
      "model_module_version": "2.0.0",
      "model_name": "FloatProgressModel",
      "state": {
       "_dom_classes": [],
       "_model_module": "@jupyter-widgets/controls",
       "_model_module_version": "2.0.0",
       "_model_name": "FloatProgressModel",
       "_view_count": null,
       "_view_module": "@jupyter-widgets/controls",
       "_view_module_version": "2.0.0",
       "_view_name": "ProgressView",
       "bar_style": "success",
       "description": "",
       "description_allow_html": false,
       "layout": "IPY_MODEL_841bbef2b7b7400493293f31cf371385",
       "max": 3512.0,
       "min": 0.0,
       "orientation": "horizontal",
       "style": "IPY_MODEL_47b5769c4abf4130aef8fc47c4c21c43",
       "tabbable": null,
       "tooltip": null,
       "value": 3512.0
      }
     },
     "c7084f14d04740bba5424d9141d7d02e": {
      "model_module": "@jupyter-widgets/controls",
      "model_module_version": "2.0.0",
      "model_name": "HBoxModel",
      "state": {
       "_dom_classes": [],
       "_model_module": "@jupyter-widgets/controls",
       "_model_module_version": "2.0.0",
       "_model_name": "HBoxModel",
       "_view_count": null,
       "_view_module": "@jupyter-widgets/controls",
       "_view_module_version": "2.0.0",
       "_view_name": "HBoxView",
       "box_style": "",
       "children": [
        "IPY_MODEL_4a38526a11024111b628987097b438c7",
        "IPY_MODEL_8c90d6d6000e424eac8cfdf8d27e3178",
        "IPY_MODEL_ee5a971e465f467090a028adbe174997"
       ],
       "layout": "IPY_MODEL_c88f579b0da84ed0a692789f83757fc8",
       "tabbable": null,
       "tooltip": null
      }
     },
     "c88f579b0da84ed0a692789f83757fc8": {
      "model_module": "@jupyter-widgets/base",
      "model_module_version": "2.0.0",
      "model_name": "LayoutModel",
      "state": {
       "_model_module": "@jupyter-widgets/base",
       "_model_module_version": "2.0.0",
       "_model_name": "LayoutModel",
       "_view_count": null,
       "_view_module": "@jupyter-widgets/base",
       "_view_module_version": "2.0.0",
       "_view_name": "LayoutView",
       "align_content": null,
       "align_items": null,
       "align_self": null,
       "border_bottom": null,
       "border_left": null,
       "border_right": null,
       "border_top": null,
       "bottom": null,
       "display": null,
       "flex": null,
       "flex_flow": null,
       "grid_area": null,
       "grid_auto_columns": null,
       "grid_auto_flow": null,
       "grid_auto_rows": null,
       "grid_column": null,
       "grid_gap": null,
       "grid_row": null,
       "grid_template_areas": null,
       "grid_template_columns": null,
       "grid_template_rows": null,
       "height": null,
       "justify_content": null,
       "justify_items": null,
       "left": null,
       "margin": null,
       "max_height": null,
       "max_width": null,
       "min_height": null,
       "min_width": null,
       "object_fit": null,
       "object_position": null,
       "order": null,
       "overflow": null,
       "padding": null,
       "right": null,
       "top": null,
       "visibility": null,
       "width": null
      }
     },
     "cb1c07ec6def4539962fa8a190d79efb": {
      "model_module": "@jupyter-widgets/controls",
      "model_module_version": "2.0.0",
      "model_name": "HTMLModel",
      "state": {
       "_dom_classes": [],
       "_model_module": "@jupyter-widgets/controls",
       "_model_module_version": "2.0.0",
       "_model_name": "HTMLModel",
       "_view_count": null,
       "_view_module": "@jupyter-widgets/controls",
       "_view_module_version": "2.0.0",
       "_view_name": "HTMLView",
       "description": "",
       "description_allow_html": false,
       "layout": "IPY_MODEL_a32859e8d5d348658c5b6e9ea69f7563",
       "placeholder": "​",
       "style": "IPY_MODEL_33827ec3e055482fbdb94e57d2199fac",
       "tabbable": null,
       "tooltip": null,
       "value": "Computing checksums: 100%"
      }
     },
     "cccf2b082423491d84d66d6ffae438d8": {
      "model_module": "@jupyter-widgets/base",
      "model_module_version": "2.0.0",
      "model_name": "LayoutModel",
      "state": {
       "_model_module": "@jupyter-widgets/base",
       "_model_module_version": "2.0.0",
       "_model_name": "LayoutModel",
       "_view_count": null,
       "_view_module": "@jupyter-widgets/base",
       "_view_module_version": "2.0.0",
       "_view_name": "LayoutView",
       "align_content": null,
       "align_items": null,
       "align_self": null,
       "border_bottom": null,
       "border_left": null,
       "border_right": null,
       "border_top": null,
       "bottom": null,
       "display": null,
       "flex": null,
       "flex_flow": null,
       "grid_area": null,
       "grid_auto_columns": null,
       "grid_auto_flow": null,
       "grid_auto_rows": null,
       "grid_column": null,
       "grid_gap": null,
       "grid_row": null,
       "grid_template_areas": null,
       "grid_template_columns": null,
       "grid_template_rows": null,
       "height": null,
       "justify_content": null,
       "justify_items": null,
       "left": null,
       "margin": null,
       "max_height": null,
       "max_width": null,
       "min_height": null,
       "min_width": null,
       "object_fit": null,
       "object_position": null,
       "order": null,
       "overflow": null,
       "padding": null,
       "right": null,
       "top": null,
       "visibility": null,
       "width": null
      }
     },
     "cdd3ab8994724cea882acf12b45f0687": {
      "model_module": "@jupyter-widgets/controls",
      "model_module_version": "2.0.0",
      "model_name": "FloatProgressModel",
      "state": {
       "_dom_classes": [],
       "_model_module": "@jupyter-widgets/controls",
       "_model_module_version": "2.0.0",
       "_model_name": "FloatProgressModel",
       "_view_count": null,
       "_view_module": "@jupyter-widgets/controls",
       "_view_module_version": "2.0.0",
       "_view_name": "ProgressView",
       "bar_style": "success",
       "description": "",
       "description_allow_html": false,
       "layout": "IPY_MODEL_ed4f3be5d4ab4675b53e8176412970d3",
       "max": 2816.0,
       "min": 0.0,
       "orientation": "horizontal",
       "style": "IPY_MODEL_02c3cb28c5184a18be6ec1fc53e42ba3",
       "tabbable": null,
       "tooltip": null,
       "value": 2816.0
      }
     },
     "d959b2cf2889479cb99a22fa085c5632": {
      "model_module": "@jupyter-widgets/base",
      "model_module_version": "2.0.0",
      "model_name": "LayoutModel",
      "state": {
       "_model_module": "@jupyter-widgets/base",
       "_model_module_version": "2.0.0",
       "_model_name": "LayoutModel",
       "_view_count": null,
       "_view_module": "@jupyter-widgets/base",
       "_view_module_version": "2.0.0",
       "_view_name": "LayoutView",
       "align_content": null,
       "align_items": null,
       "align_self": null,
       "border_bottom": null,
       "border_left": null,
       "border_right": null,
       "border_top": null,
       "bottom": null,
       "display": null,
       "flex": null,
       "flex_flow": null,
       "grid_area": null,
       "grid_auto_columns": null,
       "grid_auto_flow": null,
       "grid_auto_rows": null,
       "grid_column": null,
       "grid_gap": null,
       "grid_row": null,
       "grid_template_areas": null,
       "grid_template_columns": null,
       "grid_template_rows": null,
       "height": null,
       "justify_content": null,
       "justify_items": null,
       "left": null,
       "margin": null,
       "max_height": null,
       "max_width": null,
       "min_height": null,
       "min_width": null,
       "object_fit": null,
       "object_position": null,
       "order": null,
       "overflow": null,
       "padding": null,
       "right": null,
       "top": null,
       "visibility": null,
       "width": null
      }
     },
     "e49ee1d25e1e4e71a832595147afdc00": {
      "model_module": "@jupyter-widgets/base",
      "model_module_version": "2.0.0",
      "model_name": "LayoutModel",
      "state": {
       "_model_module": "@jupyter-widgets/base",
       "_model_module_version": "2.0.0",
       "_model_name": "LayoutModel",
       "_view_count": null,
       "_view_module": "@jupyter-widgets/base",
       "_view_module_version": "2.0.0",
       "_view_name": "LayoutView",
       "align_content": null,
       "align_items": null,
       "align_self": null,
       "border_bottom": null,
       "border_left": null,
       "border_right": null,
       "border_top": null,
       "bottom": null,
       "display": null,
       "flex": null,
       "flex_flow": null,
       "grid_area": null,
       "grid_auto_columns": null,
       "grid_auto_flow": null,
       "grid_auto_rows": null,
       "grid_column": null,
       "grid_gap": null,
       "grid_row": null,
       "grid_template_areas": null,
       "grid_template_columns": null,
       "grid_template_rows": null,
       "height": null,
       "justify_content": null,
       "justify_items": null,
       "left": null,
       "margin": null,
       "max_height": null,
       "max_width": null,
       "min_height": null,
       "min_width": null,
       "object_fit": null,
       "object_position": null,
       "order": null,
       "overflow": null,
       "padding": null,
       "right": null,
       "top": null,
       "visibility": null,
       "width": null
      }
     },
     "e77312e7ad1449c08e608b9568fc9049": {
      "model_module": "@jupyter-widgets/controls",
      "model_module_version": "2.0.0",
      "model_name": "ProgressStyleModel",
      "state": {
       "_model_module": "@jupyter-widgets/controls",
       "_model_module_version": "2.0.0",
       "_model_name": "ProgressStyleModel",
       "_view_count": null,
       "_view_module": "@jupyter-widgets/base",
       "_view_module_version": "2.0.0",
       "_view_name": "StyleView",
       "bar_color": null,
       "description_width": ""
      }
     },
     "ed4f3be5d4ab4675b53e8176412970d3": {
      "model_module": "@jupyter-widgets/base",
      "model_module_version": "2.0.0",
      "model_name": "LayoutModel",
      "state": {
       "_model_module": "@jupyter-widgets/base",
       "_model_module_version": "2.0.0",
       "_model_name": "LayoutModel",
       "_view_count": null,
       "_view_module": "@jupyter-widgets/base",
       "_view_module_version": "2.0.0",
       "_view_name": "LayoutView",
       "align_content": null,
       "align_items": null,
       "align_self": null,
       "border_bottom": null,
       "border_left": null,
       "border_right": null,
       "border_top": null,
       "bottom": null,
       "display": null,
       "flex": null,
       "flex_flow": null,
       "grid_area": null,
       "grid_auto_columns": null,
       "grid_auto_flow": null,
       "grid_auto_rows": null,
       "grid_column": null,
       "grid_gap": null,
       "grid_row": null,
       "grid_template_areas": null,
       "grid_template_columns": null,
       "grid_template_rows": null,
       "height": null,
       "justify_content": null,
       "justify_items": null,
       "left": null,
       "margin": null,
       "max_height": null,
       "max_width": null,
       "min_height": null,
       "min_width": null,
       "object_fit": null,
       "object_position": null,
       "order": null,
       "overflow": null,
       "padding": null,
       "right": null,
       "top": null,
       "visibility": null,
       "width": null
      }
     },
     "ee5a971e465f467090a028adbe174997": {
      "model_module": "@jupyter-widgets/controls",
      "model_module_version": "2.0.0",
      "model_name": "HTMLModel",
      "state": {
       "_dom_classes": [],
       "_model_module": "@jupyter-widgets/controls",
       "_model_module_version": "2.0.0",
       "_model_name": "HTMLModel",
       "_view_count": null,
       "_view_module": "@jupyter-widgets/controls",
       "_view_module_version": "2.0.0",
       "_view_name": "HTMLView",
       "description": "",
       "description_allow_html": false,
       "layout": "IPY_MODEL_075693f0b72a4b0d811673bfd9be275d",
       "placeholder": "​",
       "style": "IPY_MODEL_bb9d2c4eb3a94dc295c1e3b31341dc73",
       "tabbable": null,
       "tooltip": null,
       "value": " 4.79M/4.79M [00:00&lt;00:00, 28.3MB/s]"
      }
     },
     "fec18ffd8d5e4ffd89498ba566f1391f": {
      "model_module": "@jupyter-widgets/base",
      "model_module_version": "2.0.0",
      "model_name": "LayoutModel",
      "state": {
       "_model_module": "@jupyter-widgets/base",
       "_model_module_version": "2.0.0",
       "_model_name": "LayoutModel",
       "_view_count": null,
       "_view_module": "@jupyter-widgets/base",
       "_view_module_version": "2.0.0",
       "_view_name": "LayoutView",
       "align_content": null,
       "align_items": null,
       "align_self": null,
       "border_bottom": null,
       "border_left": null,
       "border_right": null,
       "border_top": null,
       "bottom": null,
       "display": null,
       "flex": null,
       "flex_flow": null,
       "grid_area": null,
       "grid_auto_columns": null,
       "grid_auto_flow": null,
       "grid_auto_rows": null,
       "grid_column": null,
       "grid_gap": null,
       "grid_row": null,
       "grid_template_areas": null,
       "grid_template_columns": null,
       "grid_template_rows": null,
       "height": null,
       "justify_content": null,
       "justify_items": null,
       "left": null,
       "margin": null,
       "max_height": null,
       "max_width": null,
       "min_height": null,
       "min_width": null,
       "object_fit": null,
       "object_position": null,
       "order": null,
       "overflow": null,
       "padding": null,
       "right": null,
       "top": null,
       "visibility": null,
       "width": null
      }
     }
    },
    "version_major": 2,
    "version_minor": 0
   }
  }
 },
 "nbformat": 4,
 "nbformat_minor": 5
}
