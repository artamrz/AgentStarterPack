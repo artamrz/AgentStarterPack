{
 "cells": [
  {
   "cell_type": "markdown",
   "id": "389d65fa",
   "metadata": {
    "papermill": {
     "duration": 0.00708,
     "end_time": "2025-04-20T04:21:22.445086",
     "exception": false,
     "start_time": "2025-04-20T04:21:22.438006",
     "status": "completed"
    },
    "tags": []
   },
   "source": [
    "# **Therapy Clinic Assistant Chatbot-Google GenAI Capstone Project 2025**"
   ]
  },
  {
   "cell_type": "markdown",
   "id": "ecab4109",
   "metadata": {
    "papermill": {
     "duration": 0.005206,
     "end_time": "2025-04-20T04:21:22.456090",
     "exception": false,
     "start_time": "2025-04-20T04:21:22.450884",
     "status": "completed"
    },
    "tags": []
   },
   "source": [
    "## Introduction\n",
    "\n",
    "In this notebook, a generative AI-powered virtual support agent is built tailored for a psychology and consulting center. The goal is to create an empathetic, intelligent assistant that:\n",
    "- Answers client FAQs with warmth and clarity\n",
    "- Supports resource delivery and appointment flow\n",
    "- Leverages Gen AI capabilities including **few-shot prompting, embeddings + RAG, and structured output**\n",
    "- Receives clients information to book an appointment for them\n",
    "- Makes conversations so clients feel welcomes and supported there.\n",
    "- Feel free to check out the [Weblog](https://sites.google.com/view/therapygenaiproject/home) and the [Youtube video](http://https://sites.google.com/view/therapygenaiproject/home) about this project.\n",
    "\n",
    "This project is part of the **Google Gen AI Intensive Course Capstone 2025Q1**.\n",
    "\n",
    "Thank you and appriciate if you could comment and share your thoughts.\n"
   ]
  },
  {
   "cell_type": "markdown",
   "id": "9bd78f98",
   "metadata": {
    "papermill": {
     "duration": 0.007599,
     "end_time": "2025-04-20T04:21:22.469167",
     "exception": false,
     "start_time": "2025-04-20T04:21:22.461568",
     "status": "completed"
    },
    "tags": []
   },
   "source": [
    "** BEFORE RUNNING:**\n",
    "Please wait patiently until dependencies are downloaded, it takes couple minutes.\n",
    "In order to run some sells you need to input some data, please fill the input tabs with correct info.\n"
   ]
  },
  {
   "cell_type": "code",
   "execution_count": 1,
   "id": "0f67cf10",
   "metadata": {
    "_cell_guid": "b1076dfc-b9ad-4769-8c92-a6c4dae69d19",
    "_uuid": "8f2839f25d086af736a60e9eeb907d3b93b6e0e5",
    "execution": {
     "iopub.execute_input": "2025-04-20T04:21:22.481961Z",
     "iopub.status.busy": "2025-04-20T04:21:22.481645Z",
     "iopub.status.idle": "2025-04-20T04:21:29.250637Z",
     "shell.execute_reply": "2025-04-20T04:21:29.249227Z"
    },
    "papermill": {
     "duration": 6.777598,
     "end_time": "2025-04-20T04:21:29.252529",
     "exception": false,
     "start_time": "2025-04-20T04:21:22.474931",
     "status": "completed"
    },
    "tags": []
   },
   "outputs": [
    {
     "name": "stdout",
     "output_type": "stream",
     "text": [
      "\u001b[2K   \u001b[90m━━━━━━━━━━━━━━━━━━━━━━━━━━━━━━━━━━━━━━━━\u001b[0m \u001b[32m144.7/144.7 kB\u001b[0m \u001b[31m4.1 MB/s\u001b[0m eta \u001b[36m0:00:00\u001b[0m\r\n",
      "\u001b[2K   \u001b[90m━━━━━━━━━━━━━━━━━━━━━━━━━━━━━━━━━━━━━━━━\u001b[0m \u001b[32m100.9/100.9 kB\u001b[0m \u001b[31m4.2 MB/s\u001b[0m eta \u001b[36m0:00:00\u001b[0m\r\n",
      "\u001b[?25h/kaggle/input/therapy-centre-faqs/Therapy-Centre-FAQs.json\n"
     ]
    }
   ],
   "source": [
    "!pip install -qU \"google-genai==1.7.0\"\n",
    "\n",
    "import os\n",
    "import numpy as np \n",
    "from IPython.display import Markdown, display # Display and Print prettier\n",
    "\n",
    "# Checking the dataset inquiry \n",
    "for dirname, _, filenames in os.walk('/kaggle/input'):\n",
    "    for filename in filenames:\n",
    "        print(os.path.join(dirname, filename))"
   ]
  },
  {
   "cell_type": "code",
   "execution_count": 2,
   "id": "56baa380",
   "metadata": {
    "execution": {
     "iopub.execute_input": "2025-04-20T04:21:29.266156Z",
     "iopub.status.busy": "2025-04-20T04:21:29.265836Z",
     "iopub.status.idle": "2025-04-20T04:21:30.906479Z",
     "shell.execute_reply": "2025-04-20T04:21:30.905616Z"
    },
    "papermill": {
     "duration": 1.649692,
     "end_time": "2025-04-20T04:21:30.908237",
     "exception": false,
     "start_time": "2025-04-20T04:21:29.258545",
     "status": "completed"
    },
    "tags": []
   },
   "outputs": [],
   "source": [
    "from google import genai\n",
    "from google.genai import types\n",
    "from google.api_core import retry\n",
    "\n",
    "is_retriable = lambda e: (isinstance(e, genai.errors.APIError) and e.code in {429, 503})\n",
    "\n",
    "genai.models.Models.generate_content = retry.Retry(\n",
    "    predicate=is_retriable)(genai.models.Models.generate_content)"
   ]
  },
  {
   "cell_type": "code",
   "execution_count": 3,
   "id": "f1f73874",
   "metadata": {
    "execution": {
     "iopub.execute_input": "2025-04-20T04:21:30.922908Z",
     "iopub.status.busy": "2025-04-20T04:21:30.921172Z",
     "iopub.status.idle": "2025-04-20T04:21:32.427541Z",
     "shell.execute_reply": "2025-04-20T04:21:32.426381Z"
    },
    "papermill": {
     "duration": 1.515077,
     "end_time": "2025-04-20T04:21:32.429207",
     "exception": false,
     "start_time": "2025-04-20T04:21:30.914130",
     "status": "completed"
    },
    "tags": []
   },
   "outputs": [
    {
     "name": "stdout",
     "output_type": "stream",
     "text": [
      "models/embedding-001\n",
      "models/text-embedding-004\n",
      "models/gemini-embedding-exp-03-07\n",
      "models/gemini-embedding-exp\n"
     ]
    }
   ],
   "source": [
    "from kaggle_secrets import UserSecretsClient\n",
    "\n",
    "GOOGLE_API_KEY = UserSecretsClient().get_secret(\"GOOGLE_API_KEY\")\n",
    "\n",
    "client = genai.Client(api_key=GOOGLE_API_KEY)\n",
    "\n",
    "for model in client.models.list():\n",
    "  if 'embedContent' in model.supported_actions:\n",
    "    print(model.name)"
   ]
  },
  {
   "cell_type": "markdown",
   "id": "19d446e5",
   "metadata": {
    "papermill": {
     "duration": 0.005812,
     "end_time": "2025-04-20T04:21:32.441062",
     "exception": false,
     "start_time": "2025-04-20T04:21:32.435250",
     "status": "completed"
    },
    "tags": []
   },
   "source": [
    "## Dataset"
   ]
  },
  {
   "cell_type": "markdown",
   "id": "33a2c0c9",
   "metadata": {
    "papermill": {
     "duration": 0.00574,
     "end_time": "2025-04-20T04:21:32.452716",
     "exception": false,
     "start_time": "2025-04-20T04:21:32.446976",
     "status": "completed"
    },
    "tags": []
   },
   "source": [
    "\n",
    "**Lets Check The FAQ Questions:**\n",
    "There are twenty FAQ items in this dataset."
   ]
  },
  {
   "cell_type": "code",
   "execution_count": 4,
   "id": "e6e54c0d",
   "metadata": {
    "execution": {
     "iopub.execute_input": "2025-04-20T04:21:32.465992Z",
     "iopub.status.busy": "2025-04-20T04:21:32.465688Z",
     "iopub.status.idle": "2025-04-20T04:21:32.479226Z",
     "shell.execute_reply": "2025-04-20T04:21:32.478116Z"
    },
    "papermill": {
     "duration": 0.022251,
     "end_time": "2025-04-20T04:21:32.480964",
     "exception": false,
     "start_time": "2025-04-20T04:21:32.458713",
     "status": "completed"
    },
    "tags": []
   },
   "outputs": [
    {
     "data": {
      "text/markdown": [
       "|Questions | Answer | \n",
       "|----------|----------|\n",
       "| What services do you offer? |  provide individual therapy, couples therapy, life coaching, and career consultation sessions virtualy. |\n",
       "| Do you only offer online sessions? | Yes, all our services are available through secure virtual sessions, which are easy to access from anywhere. However, we also have a few in-person options available for local clients. Please remebebr that the fisrt session is always virtual. |\n",
       "| How do I book a session? | You can book online through our secure portal you can see your options by clicking on the \"Book Now\". We'll help you find the best time slot. |\n",
       "| Is therapy confidential? | Yes. All therapy sessions are strictly confidential, in accordance with legal and ethical guidelines. Exceptions apply only in rare safety-related cases. |\n",
       "| How much does a session cost? | Our sessions range from $50 to $160 depending on the service and provider. We offer sliding scale rates in some cases. |\n"
      ],
      "text/plain": [
       "<IPython.core.display.Markdown object>"
      ]
     },
     "metadata": {},
     "output_type": "display_data"
    }
   ],
   "source": [
    "import json\n",
    "faq_path = \"/kaggle/input/therapy-centre-faqs/Therapy-Centre-FAQs.json\"\n",
    "with open(faq_path, \"r\") as f:\n",
    "    faq_data = json.load(f)\n",
    "md_output = \"|Questions | Answer | \\n|----------|----------|\\n\"\n",
    "for item in faq_data[:5]: # There are 15 [0-14] FAQ items in this dataset as a sample\n",
    "    md_output += f\"| {item['question']} | {item['answer']} |\\n\"\n",
    "display(Markdown(md_output))    \n",
    "    "
   ]
  },
  {
   "cell_type": "markdown",
   "id": "672907c0",
   "metadata": {
    "papermill": {
     "duration": 0.005734,
     "end_time": "2025-04-20T04:21:32.493094",
     "exception": false,
     "start_time": "2025-04-20T04:21:32.487360",
     "status": "completed"
    },
    "tags": []
   },
   "source": [
    "Next is **Embeddings for the FAQ items**, by this step I transform the questions into vector representations for *semantic search* (I want to make sure if a client uses other words or phrases which mean the same as one my FAQ items the bot will catch it). Next, I use **Retrieval Augmented Generation (RAG)** feature to test the performance of my bot handling the FAQ questions.\n",
    "\n",
    "\n",
    "Other momdels like flan-t5 or gemma could be used, during the next steps it will be explained why this model is chosen."
   ]
  },
  {
   "cell_type": "code",
   "execution_count": 5,
   "id": "c54d6ed2",
   "metadata": {
    "execution": {
     "iopub.execute_input": "2025-04-20T04:21:32.506466Z",
     "iopub.status.busy": "2025-04-20T04:21:32.506166Z",
     "iopub.status.idle": "2025-04-20T04:21:40.580392Z",
     "shell.execute_reply": "2025-04-20T04:21:40.579339Z"
    },
    "papermill": {
     "duration": 8.083129,
     "end_time": "2025-04-20T04:21:40.582194",
     "exception": false,
     "start_time": "2025-04-20T04:21:32.499065",
     "status": "completed"
    },
    "tags": []
   },
   "outputs": [],
   "source": [
    "def get_google_embedding(text):\n",
    "    response = client.models.embed_content(\n",
    "        model=\"models/text-embedding-004\",\n",
    "        contents=text,\n",
    "        config=types.EmbedContentConfig(task_type=\"retrieval_document\")\n",
    "    )\n",
    "    return response.embeddings[0].values\n",
    "    \n",
    "questions = [item['question'] for item in faq_data]\n",
    "answers = [item['answer'] for item in faq_data]\n",
    "question_embeddings = [get_google_embedding(q) for q in questions]"
   ]
  },
  {
   "cell_type": "code",
   "execution_count": 6,
   "id": "0f80210d",
   "metadata": {
    "execution": {
     "iopub.execute_input": "2025-04-20T04:21:40.596238Z",
     "iopub.status.busy": "2025-04-20T04:21:40.595925Z",
     "iopub.status.idle": "2025-04-20T04:21:42.399039Z",
     "shell.execute_reply": "2025-04-20T04:21:42.398001Z"
    },
    "papermill": {
     "duration": 1.812476,
     "end_time": "2025-04-20T04:21:42.401153",
     "exception": false,
     "start_time": "2025-04-20T04:21:40.588677",
     "status": "completed"
    },
    "tags": []
   },
   "outputs": [],
   "source": [
    "from sklearn.metrics.pairwise import cosine_similarity\n",
    "\n",
    "def get_faq_item(user_query, top_k=1):\n",
    "    query_embedding = get_google_embedding(user_query)\n",
    "    \n",
    "    similarities = cosine_similarity(\n",
    "        np.array(query_embedding).reshape(1, -1),\n",
    "        np.array(question_embeddings)\n",
    "    )[0]\n",
    "\n",
    "    top_indices = similarities.argsort()[::-1][:top_k]\n",
    "    return [answers[i] for i in top_indices]"
   ]
  },
  {
   "cell_type": "markdown",
   "id": "e9d2e2cf",
   "metadata": {
    "papermill": {
     "duration": 0.006036,
     "end_time": "2025-04-20T04:21:42.413611",
     "exception": false,
     "start_time": "2025-04-20T04:21:42.407575",
     "status": "completed"
    },
    "tags": []
   },
   "source": [
    "Creating **answer function** with **RAG**"
   ]
  },
  {
   "cell_type": "code",
   "execution_count": 7,
   "id": "499ca553",
   "metadata": {
    "execution": {
     "iopub.execute_input": "2025-04-20T04:21:42.427472Z",
     "iopub.status.busy": "2025-04-20T04:21:42.426982Z",
     "iopub.status.idle": "2025-04-20T04:21:42.830909Z",
     "shell.execute_reply": "2025-04-20T04:21:42.829960Z"
    },
    "papermill": {
     "duration": 0.412426,
     "end_time": "2025-04-20T04:21:42.832309",
     "exception": false,
     "start_time": "2025-04-20T04:21:42.419883",
     "status": "completed"
    },
    "tags": []
   },
   "outputs": [
    {
     "data": {
      "text/markdown": [
       "**User:** I want to try a session and see how it goes, How can I book a one?<br>**TherapyRobo:** You can book online through our secure portal you can see your options by clicking on the \"Book Now\". We'll help you find the best time slot."
      ],
      "text/plain": [
       "<IPython.core.display.Markdown object>"
      ]
     },
     "metadata": {},
     "output_type": "display_data"
    }
   ],
   "source": [
    "# For example\n",
    "user_input = \"I want to try a session and see how it goes, How can I book a one?\"\n",
    "response = get_faq_item(user_input)[0]\n",
    "display(Markdown(f\"**User:** {user_input}<br>**TherapyRobo:** {response}\"))"
   ]
  },
  {
   "cell_type": "markdown",
   "id": "54a696e4",
   "metadata": {
    "papermill": {
     "duration": 0.005972,
     "end_time": "2025-04-20T04:21:42.844589",
     "exception": false,
     "start_time": "2025-04-20T04:21:42.838617",
     "status": "completed"
    },
    "tags": []
   },
   "source": [
    "Great, we see that FAQ bot is working, but clearly our purpose is beyond that, lets continue..."
   ]
  },
  {
   "cell_type": "markdown",
   "id": "10dcef69",
   "metadata": {
    "papermill": {
     "duration": 0.005925,
     "end_time": "2025-04-20T04:21:42.856564",
     "exception": false,
     "start_time": "2025-04-20T04:21:42.850639",
     "status": "completed"
    },
    "tags": []
   },
   "source": [
    "## **Few Shot Prompting**\n",
    "\n",
    "In this step by the help of the Gen AI model, the responses sound emothionaly intelligent, empathic and reliable. "
   ]
  },
  {
   "cell_type": "code",
   "execution_count": 8,
   "id": "6c539986",
   "metadata": {
    "execution": {
     "iopub.execute_input": "2025-04-20T04:21:42.870656Z",
     "iopub.status.busy": "2025-04-20T04:21:42.870325Z",
     "iopub.status.idle": "2025-04-20T04:21:45.452909Z",
     "shell.execute_reply": "2025-04-20T04:21:45.451851Z"
    },
    "papermill": {
     "duration": 2.591822,
     "end_time": "2025-04-20T04:21:45.454644",
     "exception": false,
     "start_time": "2025-04-20T04:21:42.862822",
     "status": "completed"
    },
    "tags": []
   },
   "outputs": [
    {
     "data": {
      "text/markdown": [
       "**Few-shot Prompt**\n",
       "\n",
       "**Instruction**: You are TherapyRobo — a supportive, emotionally intelligent virtual therapist assistant. \n",
       "\n",
       "**User**: Hey, I'm just wondering... what if I feel like my therapist isn't really listening to me? It's kinda frustrating.\n",
       "\n",
       "**TherapyRobo**: I hear you, and it's completely valid to feel frustrated if you sense your therapist isn't fully listening. That feeling can really hinder the therapeutic process. If you're comfortable, you could try bringing this up directly with your therapist. Sometimes, open communication can help them understand your needs better. If that feels too difficult, or if things don't improve, please know that you can always request to switch therapists. Finding the right connection is key, and we want you to feel heard and supported."
      ],
      "text/plain": [
       "<IPython.core.display.Markdown object>"
      ]
     },
     "metadata": {},
     "output_type": "display_data"
    }
   ],
   "source": [
    "few_shot_prompt = [\n",
    "    {\n",
    "        \"user\": \"I'm nervous about starting therapy.\", \n",
    "        \"bot\": \"That’s completely understandable. Many people feel that way. Would you like to know what to expect in your first session?\"\n",
    "    },\n",
    "    {\n",
    "        \"user\": \"I’ve never talked to anyone about this before.\", \n",
    "        \"bot\": \"Thank you for trusting us. You’ve taken a brave first step. We’re here to support you.\"\n",
    "    },\n",
    "    {\n",
    "        \"user\": \"I feel overwhelmed lately and don't know who to talk to.\", \n",
    "        \"bot\": \"You’re not alone in feeling that way. We're here to help you take small steps toward feeling better. Would it help to talk about how your day usually goes?\"\n",
    "    },\n",
    "    {\n",
    "        \"user\": \"Is therapy confidential?\", \n",
    "        \"bot\": \"Yes, confidentiality is very important to us. We can explain what that means and when exceptions might apply.\"\n",
    "    },\n",
    "    {\n",
    "        \"user\": \"What if I don’t feel comfortable with my therapist?\", \n",
    "        \"bot\": \"That's absolutely understandable. Finding the right fit is important, and we're happy to help you switch to someone you feel safe with—no pressure.\"\n",
    "    }]\n",
    "\n",
    "def few_shot(user_message):\n",
    "     prompt = \"\"\"\n",
    "        You are TherapyRobo — a supportive, emotionally intelligent virtual therapist assistant. \n",
    "        You are responding to a client who may be skeptical, nervous, or emotionally guarded.\n",
    "        \n",
    "        Your tone should be kind, validating, human-like, and never robotic or overly promotional. \n",
    "        You may acknowledge their hesitation, and gently offer support or booking info if appropriate.\n",
    "        \n",
    "        The clinic website is: https://TherapyClinic.com  \n",
    "        The phone number is: +1 234 000 1111\n",
    "        \"\"\"\n",
    "     for ex in few_shot_prompt:\n",
    "        prompt += f\"User: {ex['user']}\\nTherapyRobo: {ex['bot']}\\n\"\n",
    "     prompt += f\"User: {user_message}\\nTherapyRobo:\"\n",
    "     return prompt\n",
    "\n",
    "\n",
    "prompt = f\"\"\"You are simulating a random client asking FAQ style question from the Therapybot chatbox,\n",
    "    Don't use \"ok, here it goes\". remember it's a typed conversation,don't type sounds.you should sound like a human, nice, stressed, angry, tired. Never bold a word and do not make sounds like: ugh. However you're questions should be reasonable and short\"\"\"\n",
    "    \n",
    "response = client.models.generate_content(\n",
    "    model=\"gemini-2.0-flash\",\n",
    "    contents=prompt,\n",
    "    config=types.GenerateContentConfig(\n",
    "        temperature=0.1,\n",
    "        max_output_tokens=256\n",
    "    )\n",
    ")\n",
    "sample_client = response.text.strip()\n",
    "faq_prompt = few_shot(sample_client)\n",
    "\n",
    "lines = faq_prompt.strip().split(\"\\n\")\n",
    "instruction = lines[0]\n",
    "def gemini_faq_handler(prompt_text, display_response=True): #prompt_text should be a variable = few_shot(client message here)\n",
    "    \"\"\"\n",
    "    Generate a short response from a given prompt.\n",
    "    The clinic website is: https://TherapyClinic.com and Phone number:+1 234 000 1111\n",
    "    Args:\n",
    "        prompt_text (str): The full prompt to send to the Gemini model.\n",
    "        display_response (bool): If True, the result will be displayed using Markdown.\n",
    "\n",
    "    Returns:\n",
    "        str: The raw response text from Gemini.\n",
    "    \"\"\"\n",
    "    response = client.models.generate_content(\n",
    "        model=\"gemini-2.0-flash\",\n",
    "        contents=prompt_text,\n",
    "        config=types.GenerateContentConfig( \n",
    "            temperature=0.5,\n",
    "            top_p=1,\n",
    "            top_k=1,\n",
    "            max_output_tokens=300\n",
    "        )\n",
    "    )\n",
    "    return response.text.strip()\n",
    "    \n",
    "robo_response = gemini_faq_handler(faq_prompt)\n",
    "display(Markdown(f\"**Few-shot Prompt**\\n\\n**Instruction**: {instruction}\\n\\n**User**: {sample_client}\\n\\n**TherapyRobo**: {robo_response}\"))"
   ]
  },
  {
   "cell_type": "markdown",
   "id": "2e975db6",
   "metadata": {
    "papermill": {
     "duration": 0.006312,
     "end_time": "2025-04-20T04:21:45.472668",
     "exception": false,
     "start_time": "2025-04-20T04:21:45.466356",
     "status": "completed"
    },
    "tags": []
   },
   "source": [
    "## **Document Parsing**\n",
    "\n",
    "Strucring information taken from simulated a session intake form received from a client. XXXPDF FormXXX"
   ]
  },
  {
   "cell_type": "code",
   "execution_count": 9,
   "id": "411a56f6",
   "metadata": {
    "execution": {
     "iopub.execute_input": "2025-04-20T04:21:45.487692Z",
     "iopub.status.busy": "2025-04-20T04:21:45.486982Z",
     "iopub.status.idle": "2025-04-20T04:21:46.691903Z",
     "shell.execute_reply": "2025-04-20T04:21:46.690746Z"
    },
    "papermill": {
     "duration": 1.214587,
     "end_time": "2025-04-20T04:21:46.693846",
     "exception": false,
     "start_time": "2025-04-20T04:21:45.479259",
     "status": "completed"
    },
    "tags": []
   },
   "outputs": [
    {
     "data": {
      "text/markdown": [
       "**Structured Intake Form Data In JSON**:\n",
       "\n",
       "```json\n",
       "```json\n",
       "{\n",
       "  \"Name\": \"Julia Anderson\",\n",
       "  \"PhoneNumber\": \"200-000-1000\",\n",
       "  \"Email\": \"client@gmail.com\",\n",
       "  \"Age\": \"28\",\n",
       "  \"Type_of_therapy\": \"Single\",\n",
       "  \"Preffered_therapist\": \"Dr. Sam\",\n",
       "  \"Reason_for_visit\": \"Feeling overwhelmed and anxious, also trouble falling sleep\",\n",
       "  \"Availability\": \"Mondays and Wednesdays after 3 PM\",\n",
       "  \"Urgency\": \"Moderate\",\n",
       "  \"Insurance_company\": \"Dejardins\"\n",
       "}\n",
       "```\n",
       "```"
      ],
      "text/plain": [
       "<IPython.core.display.Markdown object>"
      ]
     },
     "metadata": {},
     "output_type": "display_data"
    }
   ],
   "source": [
    "client_form = \"\"\"\n",
    "Client Name: Julia Anderson\n",
    "Phone Number: 200-000-1000\n",
    "EMail: client@gmail.com\n",
    "Age: 28\n",
    "Type of therapy: Single\n",
    "Preferred Therapist: Dr. Sam\n",
    "Reason for Visit: Feeling overwhelmed and anxious, also trouble falling sleep\n",
    "Availability: Mondays and Wednesdays after 3 PM\n",
    "Urgency Level: Moderate\n",
    "Insurance: Dejardins\n",
    "\"\"\"\n",
    "\n",
    "instruction_prompt = f\"\"\"You are an AI assistant helping a therapy clinic extracting structured data from their patients intake forms.\n",
    "Read the followinf form and extract the data in JSON format with the following fields:\n",
    "-Name\n",
    "-PhoneNumber\n",
    "-Email\n",
    "-Age\n",
    "-Type_of_therapy\n",
    "-Preffered_therapist\n",
    "-Reason_for_visit\n",
    "-Availability\n",
    "-Urgency\n",
    "-Insurance_company\n",
    "Intake_form: {client_form}\n",
    "\n",
    "Return only a valid JSON object.\"\"\"\n",
    "\n",
    "response = client.models.generate_content(\n",
    "    model = \"gemini-2.0-flash\",\n",
    "    contents = instruction_prompt,\n",
    "    config = types.GenerateContentConfig(\n",
    "        temperature=0.1,\n",
    "        max_output_tokens=256\n",
    "    )\n",
    ")\n",
    "structured_form_data = response.text.strip()\n",
    "display(Markdown(f\"**Structured Intake Form Data In JSON**:\\n\\n```json\\n{structured_form_data}\\n```\"))"
   ]
  },
  {
   "cell_type": "markdown",
   "id": "df21f8ed",
   "metadata": {
    "papermill": {
     "duration": 0.006303,
     "end_time": "2025-04-20T04:21:46.711038",
     "exception": false,
     "start_time": "2025-04-20T04:21:46.704735",
     "status": "completed"
    },
    "tags": []
   },
   "source": [
    "Now to ask the user to provide the following information:\n",
    "\n",
    "> For the sake of the project, instead of receiving information from the user, we are generating it by gemini model, find the more interactive version at github. copy paste the code in this cell, no need to change anything, have fun!"
   ]
  },
  {
   "cell_type": "code",
   "execution_count": 10,
   "id": "ebcf0e88",
   "metadata": {
    "execution": {
     "iopub.execute_input": "2025-04-20T04:21:46.727229Z",
     "iopub.status.busy": "2025-04-20T04:21:46.726834Z",
     "iopub.status.idle": "2025-04-20T04:21:52.399447Z",
     "shell.execute_reply": "2025-04-20T04:21:52.398586Z"
    },
    "papermill": {
     "duration": 5.682897,
     "end_time": "2025-04-20T04:21:52.401129",
     "exception": false,
     "start_time": "2025-04-20T04:21:46.718232",
     "status": "completed"
    },
    "tags": []
   },
   "outputs": [
    {
     "data": {
      "text/markdown": [
       "**This is a random reply. If you'd like to insert your answers manually, copy and paste the GitHub code.**"
      ],
      "text/plain": [
       "<IPython.core.display.Markdown object>"
      ]
     },
     "metadata": {},
     "output_type": "display_data"
    },
    {
     "data": {
      "text/markdown": [
       "**Starting to fill intake form ...**"
      ],
      "text/plain": [
       "<IPython.core.display.Markdown object>"
      ]
     },
     "metadata": {},
     "output_type": "display_data"
    },
    {
     "data": {
      "text/markdown": [
       "**TherapyBot:** What is your full name?\n",
       "**Client:** Annabeth Chase\n",
       "\n",
       "**TherapyBot:** May I have your phone number?\n",
       "**Client:** 555-123-4567\n",
       "\n",
       "**TherapyBot:** What's your email address?\n",
       "**Client:** tired_of_this@email.com\n",
       "\n",
       "**TherapyBot:** How old are you?\n",
       "**Client:** 34\n",
       "\n",
       "**TherapyBot:** Are you looking for individual, couples, or family therapy?\n",
       "**Client:** Individual.\n",
       "\n",
       "**TherapyBot:** Do you have a preferred therapist?\n",
       "**Client:** No preference.\n",
       "\n",
       "**TherapyBot:** Can you briefly describe your reason for seeking therapy?\n",
       "**Client:** I've been feeling overwhelmed and anxious for months, and it's starting to affect my sleep and work.\n",
       "\n",
       "**TherapyBot:** When are you generally available for sessions?\n",
       "**Client:** Evenings or weekends.\n",
       "\n",
       "**TherapyBot:** How urgent is your situation? (e.g., low, moderate, high)\n",
       "**Client:** High.\n",
       "\n",
       "**TherapyBot:** What insurance company do you use, if any?\n",
       "**Client:** Blue Cross Blue Shield."
      ],
      "text/plain": [
       "<IPython.core.display.Markdown object>"
      ]
     },
     "metadata": {},
     "output_type": "display_data"
    },
    {
     "name": "stdout",
     "output_type": "stream",
     "text": [
      "{\n",
      "  \"name\": \"Annabeth Chase\",\n",
      "  \"phone_number\": \"555-123-4567\",\n",
      "  \"email\": \"tired_of_this@email.com\",\n",
      "  \"age\": \"34\",\n",
      "  \"type_of_therapy\": \"Individual.\",\n",
      "  \"preferred_therapist\": \"No preference.\",\n",
      "  \"reason_for_visit\": \"I've been feeling overwhelmed and anxious for months, and it's starting to affect my sleep and work.\",\n",
      "  \"availability\": \"Evenings or weekends.\",\n",
      "  \"urgency\": \"High.\",\n",
      "  \"insurance_company\": \"Blue Cross Blue Shield.\"\n",
      "}\n"
     ]
    }
   ],
   "source": [
    "def gemini_fill(question):\n",
    "    prompt = f\"\"\"You are simulating a random client filling out an intake form at a therapy clinic. Sometimes you are stressed, angry, upset, troubled, or tired.\n",
    "Give a realistic, short answer for the following question, do not make sounds like `ugh`:\n",
    "{question}\n",
    "Only return the answer without explanation.\"\"\"\n",
    "    \n",
    "    response = client.models.generate_content(\n",
    "        model=\"gemini-2.0-flash\",\n",
    "        contents=prompt,\n",
    "        config=types.GenerateContentConfig(\n",
    "            temperature=0.7,\n",
    "            max_output_tokens=256\n",
    "        )\n",
    "    )\n",
    "    return response.text.strip()\n",
    "\n",
    "intake_fields = [\n",
    "    {\"key\": \"name\", \"question\": \"What is your full name?\"},\n",
    "    {\"key\": \"phone_number\", \"question\": \"May I have your phone number?\"},\n",
    "    {\"key\": \"email\", \"question\": \"What's your email address?\"},\n",
    "    {\"key\": \"age\", \"question\": \"How old are you?\"},\n",
    "    {\"key\": \"type_of_therapy\", \"question\": \"Are you looking for individual, couples, or family therapy?\"},\n",
    "    {\"key\": \"preferred_therapist\", \"question\": \"Do you have a preferred therapist?\"},\n",
    "    {\"key\": \"reason_for_visit\", \"question\": \"Can you briefly describe your reason for seeking therapy?\"},\n",
    "    {\"key\": \"availability\", \"question\": \"When are you generally available for sessions?\"},\n",
    "    {\"key\": \"urgency\", \"question\": \"How urgent is your situation? (e.g., low, moderate, high)\"},\n",
    "    {\"key\": \"insurance_company\", \"question\": \"What insurance company do you use, if any?\"}\n",
    "]\n",
    "\n",
    "def collect_intake_info(fields):\n",
    "    collected_data = {}        \n",
    "    conversation_log = \"\"      \n",
    "\n",
    "    for field in fields:\n",
    "        question = field[\"question\"]\n",
    "        answer = gemini_fill(question)\n",
    "        collected_data[field[\"key\"]] = answer\n",
    "        conversation_log += f\"**TherapyBot:** {question}\\n**Client:** {answer}\\n\\n\"\n",
    "\n",
    "    return collected_data, conversation_log.strip()\n",
    "\n",
    "client_intake, intake_conversation = collect_intake_info(intake_fields)\n",
    "\n",
    "display(Markdown(\"**This is a random reply. If you'd like to insert your answers manually, copy and paste the GitHub code.**\"))\n",
    "display(Markdown(\"**Starting to fill intake form ...**\"))\n",
    "display(Markdown(intake_conversation))  # full conversation\n",
    "print(json.dumps(client_intake, indent=2))\n"
   ]
  },
  {
   "cell_type": "code",
   "execution_count": 11,
   "id": "49ebadf0",
   "metadata": {
    "execution": {
     "iopub.execute_input": "2025-04-20T04:21:52.417648Z",
     "iopub.status.busy": "2025-04-20T04:21:52.416613Z",
     "iopub.status.idle": "2025-04-20T04:21:52.423759Z",
     "shell.execute_reply": "2025-04-20T04:21:52.422768Z"
    },
    "papermill": {
     "duration": 0.01684,
     "end_time": "2025-04-20T04:21:52.425234",
     "exception": false,
     "start_time": "2025-04-20T04:21:52.408394",
     "status": "completed"
    },
    "tags": []
   },
   "outputs": [
    {
     "data": {
      "text/markdown": [
       "|   | Answer |\n",
       "|----------|--------|\n",
       "| Name | Annabeth Chase |\n",
       "| Phone number | 555-123-4567 |\n",
       "| Email | tired_of_this@email.com |\n",
       "| Age | 34 |\n",
       "| Type of therapy | Individual. |\n",
       "| Preferred therapist | No preference. |\n",
       "| Reason for visit | I've been feeling overwhelmed and anxious for months, and it's starting to affect my sleep and work. |\n",
       "| Availability | Evenings or weekends. |\n",
       "| Urgency | High. |\n",
       "| Insurance company | Blue Cross Blue Shield. |\n"
      ],
      "text/plain": [
       "<IPython.core.display.Markdown object>"
      ]
     },
     "metadata": {},
     "output_type": "display_data"
    }
   ],
   "source": [
    "def intake_form(form):\n",
    "    md_output = \"|   | Answer |\\n|----------|--------|\\n\"\n",
    "    for question, answer in form.items():\n",
    "        question_label = question.replace(\"_\", \" \").capitalize()\n",
    "        md_output += f\"| {question_label} | {answer} |\\n\"\n",
    "    return display(Markdown(md_output)) \n",
    "intake_form(client_intake)\n",
    "\n",
    "    "
   ]
  },
  {
   "cell_type": "markdown",
   "id": "e6ae2e8b",
   "metadata": {
    "papermill": {
     "duration": 0.006605,
     "end_time": "2025-04-20T04:21:52.439183",
     "exception": false,
     "start_time": "2025-04-20T04:21:52.432578",
     "status": "completed"
    },
    "tags": []
   },
   "source": [
    "## **Structured Output**\n",
    "\n",
    "**Appointment Booking:**\n",
    "Receiving information from a client and returning in in JSON so it could be sent to database or booking system.\n",
    "For interactive version check out [github](https://github.com/artamrz/GenAINotes/blob/393e15ff0e0838f797555493acd74d7fff805713/InteractiveStructuredOutputForBooking).\n"
   ]
  },
  {
   "cell_type": "code",
   "execution_count": 12,
   "id": "1f51d4cd",
   "metadata": {
    "execution": {
     "iopub.execute_input": "2025-04-20T04:21:52.454401Z",
     "iopub.status.busy": "2025-04-20T04:21:52.454086Z",
     "iopub.status.idle": "2025-04-20T04:21:53.276482Z",
     "shell.execute_reply": "2025-04-20T04:21:53.275456Z"
    },
    "papermill": {
     "duration": 0.83208,
     "end_time": "2025-04-20T04:21:53.278206",
     "exception": false,
     "start_time": "2025-04-20T04:21:52.446126",
     "status": "completed"
    },
    "tags": []
   },
   "outputs": [
    {
     "data": {
      "text/markdown": [
       "**Booking Infromation:**"
      ],
      "text/plain": [
       "<IPython.core.display.Markdown object>"
      ]
     },
     "metadata": {},
     "output_type": "display_data"
    },
    {
     "name": "stdout",
     "output_type": "stream",
     "text": [
      "{\n",
      "  \"client_name\": \"Jake Abraham\",\n",
      "  \"phone_number\": \"unknown\",\n",
      "  \"email\": \"unknown\",\n",
      "  \"therapist_name\": \"Dr. Lean\",\n",
      "  \"day\": \"Friday\",\n",
      "  \"time\": \"After 4pm\"\n",
      "}\n"
     ]
    }
   ],
   "source": [
    "def convert_json(raw_response):\n",
    "    return(\n",
    "        raw_response.strip()\n",
    "        .removeprefix(\"```json\")\n",
    "        .removeprefix(\"```\")\n",
    "        .removesuffix(\"```\")\n",
    "        .strip()\n",
    "    )\n",
    "client_request = \"Hi there, I'd like to book an appointment with Dr. Lean this friday anytime after 4pm. My name is Jake Abraham.\"\n",
    "booking_prompt = f\"\"\"You are a Therapy centre assistant, A client will send a message to you to book an appointment.\n",
    "Your task:\n",
    "1. Extract the following information from the client's message:\n",
    "-client_name\n",
    "-phone_number\n",
    "-email\n",
    "-therapist_name\n",
    "-day\n",
    "-time\n",
    "        \n",
    "2.Return a JSON object with:\n",
    "5. Client: \"{client_request}\"   \n",
    "\"\"\"\n",
    "\n",
    "response = client.models.generate_content(\n",
    "        model = \"gemini-2.0-flash\",\n",
    "        contents = booking_prompt,\n",
    "        config = types.GenerateContentConfig(\n",
    "            temperature=0.1,\n",
    "            max_output_tokens=256\n",
    "        )\n",
    "    )\n",
    "    \n",
    "booking_json = convert_json(response.text)\n",
    "booking_data = json.loads(booking_json)\n",
    "\n",
    "\n",
    "try: \n",
    "    booking_data = json.loads(booking_json)\n",
    "    display(Markdown(\"**Booking Infromation:**\"))\n",
    "    print(json.dumps(booking_data, indent=2))\n",
    "except json.JSONDecodeError as e:\n",
    "    print(\"Error: Invalid JSON output\")\n",
    "    print(booking_json)\n",
    "    print(f\"\\nJSON error: {e}\")"
   ]
  },
  {
   "cell_type": "markdown",
   "id": "a5fbd5d1",
   "metadata": {
    "papermill": {
     "duration": 0.006914,
     "end_time": "2025-04-20T04:21:53.292422",
     "exception": false,
     "start_time": "2025-04-20T04:21:53.285508",
     "status": "completed"
    },
    "tags": []
   },
   "source": [
    "**Before going to the next cell**\n",
    "> There is an input version of collect_user_info (next cell) in the github, feel free to check it out, here, to run the whole notebook smoothly, two gemini based functions are used to demonstrate a booking process."
   ]
  },
  {
   "cell_type": "code",
   "execution_count": 13,
   "id": "27278989",
   "metadata": {
    "execution": {
     "iopub.execute_input": "2025-04-20T04:21:53.308088Z",
     "iopub.status.busy": "2025-04-20T04:21:53.307773Z",
     "iopub.status.idle": "2025-04-20T04:22:57.283988Z",
     "shell.execute_reply": "2025-04-20T04:22:57.283024Z"
    },
    "papermill": {
     "duration": 63.986112,
     "end_time": "2025-04-20T04:22:57.285618",
     "exception": false,
     "start_time": "2025-04-20T04:21:53.299506",
     "status": "completed"
    },
    "tags": []
   },
   "outputs": [
    {
     "data": {
      "text/markdown": [
       "**Booking Scenario**"
      ],
      "text/plain": [
       "<IPython.core.display.Markdown object>"
      ]
     },
     "metadata": {},
     "output_type": "display_data"
    },
    {
     "data": {
      "text/markdown": [
       "**TherapyBot:** What is your full name?\n",
       "**Client:** It's...uh, Sarah Miller.\n",
       "\n",
       "**TherapyBot:** May I have your email address or phone number?\n",
       "**Client:** Oh... sure. It's [fake phone number]. I, uh, really hope this helps.\n",
       "\n",
       "**TherapyBot:** Are you looking for individual, couples, or family therapy?\n",
       "**Client:** Individual, I think. Is that okay? I'm not even sure what I need, to be honest.\n",
       "\n",
       "**TherapyBot:** Do you have a preferred therapist?\n",
       "**Client:** Not really. I just...I just need help. I don't know where to start.\n",
       "\n",
       "**TherapyBot:** Can you briefly describe your reason for seeking therapy?\n",
       "**Client:** Well... I've just been feeling really overwhelmed and sad lately, and I don't know how to cope with it anymore. I'm hoping to feel better, honestly.\n",
       "\n",
       "**TherapyBot:** When do you want your session to be?\n",
       "**Client:** Um... I guess as soon as possible? Like, really soon. Whenever you have an opening."
      ],
      "text/plain": [
       "<IPython.core.display.Markdown object>"
      ]
     },
     "metadata": {},
     "output_type": "display_data"
    },
    {
     "data": {
      "text/markdown": [
       "**Booking Information**"
      ],
      "text/plain": [
       "<IPython.core.display.Markdown object>"
      ]
     },
     "metadata": {},
     "output_type": "display_data"
    },
    {
     "data": {
      "text/markdown": [
       "Okay, I've processed the client's messages. Here's the information I've extracted:\n",
       "\n",
       "*   **client\\_name:** Sarah Miller\n",
       "*   **contact\\_info:** [fake phone number]\n",
       "*   **therapist\\_name:** No preference indicated.\n",
       "*   **time:** As soon as possible, whenever there is an opening."
      ],
      "text/plain": [
       "<IPython.core.display.Markdown object>"
      ]
     },
     "metadata": {},
     "output_type": "display_data"
    },
    {
     "data": {
      "text/markdown": [
       "**Oh! One last thing, the booking confirmation will be sent by email or text message. If the appointment is not confirmed within 24 hours, it will be automatically canceled and you can try again anytime!!**"
      ],
      "text/plain": [
       "<IPython.core.display.Markdown object>"
      ]
     },
     "metadata": {},
     "output_type": "display_data"
    }
   ],
   "source": [
    "def collect_user_info(fields):\n",
    "    all_responses = \"\"\n",
    "    for field in fields:\n",
    "        question = field[\"question\"]\n",
    "        \n",
    "        user_prompt = f\"\"\"\n",
    "    You are simulating a therapy client. Sometimes you're calm, other times you're anxious or emotional. \n",
    "    Respond right away with a natural, human-like answer to the following intake question as if you're the client:\n",
    "    **TherapyBot:** {question}\n",
    "    Your tone should sound human — you may be unsure, emotional, hopeful, or hesitant — keep it short but real.\n",
    "    Only respond as the client. **DO NOT repeat the question or label who is speaking.**\n",
    "    \"\"\"\n",
    "    \n",
    "        response = client.models.generate_content(\n",
    "            model = \"gemini-2.0-flash\",\n",
    "            contents = user_prompt,\n",
    "            config = types.GenerateContentConfig(\n",
    "                temperature=1.0,\n",
    "                max_output_tokens=256\n",
    "            )\n",
    "        )\n",
    "        answer = response.text.strip()\n",
    "        all_responses += f\"**TherapyBot:** {question}\\n**Client:** {answer}\\n\\n\"\n",
    "    return all_responses.strip()\n",
    "\n",
    "    \n",
    "fields_to_ask = [\n",
    "    {\"key\": \"name\", \"question\": \"What is your full name?\"},\n",
    "    {\"key\": \"contact_info\", \"question\": \"May I have your email address or phone number?\"},\n",
    "    {\"key\": \"type_of_therapy\", \"question\": \"Are you looking for individual, couples, or family therapy?\"},\n",
    "    {\"key\": \"preferred_therapist\", \"question\": \"Do you have a preferred therapist?\"},\n",
    "    {\"key\": \"reason\", \"question\": \"Can you briefly describe your reason for seeking therapy?\"},\n",
    "    {\"key\": \"time\", \"question\": \"When do you want your session to be?\"}\n",
    "]   \n",
    "booking_info = collect_user_info(fields_to_ask)\n",
    "\n",
    "def gemini_booking_handler(bprompt):\n",
    "    \n",
    "    booking_prompt = f\"\"\"You are a Therapy centre assistant, A client will send a message to you to book an appointment.\n",
    "    Your task:\n",
    "    Extract the following information from the client's message:\n",
    "    -client_name\n",
    "    -contact-info\n",
    "    -therapist_name\n",
    "    -time\n",
    "            \n",
    "    Client: \"{bprompt}\"\n",
    "    \"\"\"\n",
    "    response = client.models.generate_content(\n",
    "            model = \"gemini-2.0-flash\",\n",
    "            contents = booking_prompt,\n",
    "            config = types.GenerateContentConfig(\n",
    "                temperature=0.1,\n",
    "                max_output_tokens=256\n",
    "            )\n",
    "        )\n",
    "    return response.text.strip()\n",
    "\n",
    "display(Markdown(\"**Booking Scenario**\"))\n",
    "display(Markdown(booking_info))\n",
    "display(Markdown(\"**Booking Information**\"))\n",
    "display(Markdown(gemini_booking_handler((booking_info))))\n",
    "display(Markdown(\"**Oh! One last thing, the booking confirmation will be sent by email or text message. If the appointment is not confirmed within 24 hours, it will be automatically canceled and you can try again anytime!!**\"))"
   ]
  },
  {
   "cell_type": "markdown",
   "id": "a425a58d",
   "metadata": {
    "papermill": {
     "duration": 0.007478,
     "end_time": "2025-04-20T04:22:57.300918",
     "exception": false,
     "start_time": "2025-04-20T04:22:57.293440",
     "status": "completed"
    },
    "tags": []
   },
   "source": [
    "## **Configure Additional Dataset** - (for Safe Conversation)\n",
    "For the sake of this project, using an aditional dataset in the Psychology field was crucial. [The HuggingFace Mental Health Dataset](http://https://huggingface.co/datasets/Amod/mental_health_counseling_conversations) has more than 3.51 conversations during a counseling meeting. By this mean, if the user tries to make conversation the TherapyRobo can handle it more properly."
   ]
  },
  {
   "cell_type": "markdown",
   "id": "997fe3c6",
   "metadata": {
    "papermill": {
     "duration": 0.008242,
     "end_time": "2025-04-20T04:22:57.316674",
     "exception": false,
     "start_time": "2025-04-20T04:22:57.308432",
     "status": "completed"
    },
    "tags": []
   },
   "source": [
    "***First, loading the dataset...***\n",
    "\n",
    "I decided since I have limitations on Kaggle, not to load the whole dataset by spliting it so it would faster..."
   ]
  },
  {
   "cell_type": "code",
   "execution_count": 14,
   "id": "025d25ae",
   "metadata": {
    "execution": {
     "iopub.execute_input": "2025-04-20T04:22:57.334336Z",
     "iopub.status.busy": "2025-04-20T04:22:57.334004Z",
     "iopub.status.idle": "2025-04-20T04:23:11.869124Z",
     "shell.execute_reply": "2025-04-20T04:23:11.868015Z"
    },
    "papermill": {
     "duration": 14.545716,
     "end_time": "2025-04-20T04:23:11.870840",
     "exception": false,
     "start_time": "2025-04-20T04:22:57.325124",
     "status": "completed"
    },
    "tags": []
   },
   "outputs": [
    {
     "name": "stdout",
     "output_type": "stream",
     "text": [
      "\u001b[2K   \u001b[90m━━━━━━━━━━━━━━━━━━━━━━━━━━━━━━━━━━━━━━━━\u001b[0m \u001b[32m183.9/183.9 kB\u001b[0m \u001b[31m3.8 MB/s\u001b[0m eta \u001b[36m0:00:00\u001b[0m\r\n",
      "\u001b[?25h\u001b[31mERROR: pip's dependency resolver does not currently take into account all the packages that are installed. This behaviour is the source of the following dependency conflicts.\r\n",
      "gcsfs 2024.10.0 requires fsspec==2024.10.0, but you have fsspec 2024.12.0 which is incompatible.\r\n",
      "torch 2.5.1+cu124 requires nvidia-cublas-cu12==12.4.5.8; platform_system == \"Linux\" and platform_machine == \"x86_64\", but you have nvidia-cublas-cu12 12.8.4.1 which is incompatible.\r\n",
      "torch 2.5.1+cu124 requires nvidia-cudnn-cu12==9.1.0.70; platform_system == \"Linux\" and platform_machine == \"x86_64\", but you have nvidia-cudnn-cu12 9.3.0.75 which is incompatible.\r\n",
      "torch 2.5.1+cu124 requires nvidia-cufft-cu12==11.2.1.3; platform_system == \"Linux\" and platform_machine == \"x86_64\", but you have nvidia-cufft-cu12 11.3.3.83 which is incompatible.\r\n",
      "torch 2.5.1+cu124 requires nvidia-curand-cu12==10.3.5.147; platform_system == \"Linux\" and platform_machine == \"x86_64\", but you have nvidia-curand-cu12 10.3.9.90 which is incompatible.\r\n",
      "torch 2.5.1+cu124 requires nvidia-cusolver-cu12==11.6.1.9; platform_system == \"Linux\" and platform_machine == \"x86_64\", but you have nvidia-cusolver-cu12 11.7.3.90 which is incompatible.\r\n",
      "torch 2.5.1+cu124 requires nvidia-cusparse-cu12==12.3.1.170; platform_system == \"Linux\" and platform_machine == \"x86_64\", but you have nvidia-cusparse-cu12 12.5.8.93 which is incompatible.\r\n",
      "torch 2.5.1+cu124 requires nvidia-nvjitlink-cu12==12.4.127; platform_system == \"Linux\" and platform_machine == \"x86_64\", but you have nvidia-nvjitlink-cu12 12.8.93 which is incompatible.\r\n",
      "bigframes 1.36.0 requires rich<14,>=12.4.4, but you have rich 14.0.0 which is incompatible.\u001b[0m\u001b[31m\r\n",
      "\u001b[0m"
     ]
    },
    {
     "data": {
      "application/vnd.jupyter.widget-view+json": {
       "model_id": "187b7c1ac93343b8bec0dc507dbcd0b3",
       "version_major": 2,
       "version_minor": 0
      },
      "text/plain": [
       "README.md:   0%|          | 0.00/2.82k [00:00<?, ?B/s]"
      ]
     },
     "metadata": {},
     "output_type": "display_data"
    },
    {
     "data": {
      "application/vnd.jupyter.widget-view+json": {
       "model_id": "c17c05e67a57462f82a0c5c7bd94382d",
       "version_major": 2,
       "version_minor": 0
      },
      "text/plain": [
       "combined_dataset.json:   0%|          | 0.00/4.79M [00:00<?, ?B/s]"
      ]
     },
     "metadata": {},
     "output_type": "display_data"
    },
    {
     "data": {
      "application/vnd.jupyter.widget-view+json": {
       "model_id": "80077b04d71e4ed8913c0776cc511630",
       "version_major": 2,
       "version_minor": 0
      },
      "text/plain": [
       "Generating train split:   0%|          | 0/3512 [00:00<?, ? examples/s]"
      ]
     },
     "metadata": {},
     "output_type": "display_data"
    },
    {
     "data": {
      "text/plain": [
       "['Context', 'Response']"
      ]
     },
     "execution_count": 14,
     "metadata": {},
     "output_type": "execute_result"
    }
   ],
   "source": [
    "!pip install -q datasets\n",
    "from datasets import load_dataset\n",
    "\n",
    "huggingface_dataset = load_dataset(\"Amod/mental_health_counseling_conversations\", split=\"train[:1000]\")\n",
    "huggingface_dataset.column_names"
   ]
  },
  {
   "cell_type": "markdown",
   "id": "55dabfb7",
   "metadata": {
    "papermill": {
     "duration": 0.008524,
     "end_time": "2025-04-20T04:23:11.960948",
     "exception": false,
     "start_time": "2025-04-20T04:23:11.952424",
     "status": "completed"
    },
    "tags": []
   },
   "source": [
    "***Generate embeddings...***"
   ]
  },
  {
   "cell_type": "code",
   "execution_count": 15,
   "id": "f1104366",
   "metadata": {
    "execution": {
     "iopub.execute_input": "2025-04-20T04:23:11.980481Z",
     "iopub.status.busy": "2025-04-20T04:23:11.979891Z",
     "iopub.status.idle": "2025-04-20T04:23:33.216847Z",
     "shell.execute_reply": "2025-04-20T04:23:33.215955Z"
    },
    "papermill": {
     "duration": 21.248491,
     "end_time": "2025-04-20T04:23:33.218747",
     "exception": false,
     "start_time": "2025-04-20T04:23:11.970256",
     "status": "completed"
    },
    "tags": []
   },
   "outputs": [],
   "source": [
    "counsel_responses = [\n",
    "    ex[\"Response\"]\n",
    "    for ex in huggingface_dataset\n",
    "    if ex[\"Context\"] and ex[\"Response\"]\n",
    "]\n",
    "def get_google_embedding_batch(texts, batch_size=100):\n",
    "    all_embeddings = []\n",
    "\n",
    "    for i in range(0, len(texts), batch_size):\n",
    "        batch = texts[i:i + batch_size]\n",
    "        response = client.models.embed_content(\n",
    "            model=\"models/text-embedding-004\",\n",
    "            contents=batch,\n",
    "            config=types.EmbedContentConfig(task_type=\"retrieval_document\")\n",
    "        )\n",
    "        # Extract embeddings for this batch\n",
    "        batch_embeddings = [e.values for e in response.embeddings]\n",
    "        all_embeddings.extend(batch_embeddings)\n",
    "\n",
    "    return all_embeddings\n",
    "\n",
    "response_hf_embeddings = get_google_embedding_batch(counsel_responses)"
   ]
  },
  {
   "cell_type": "markdown",
   "id": "2e3bbc0a",
   "metadata": {
    "papermill": {
     "duration": 0.008433,
     "end_time": "2025-04-20T04:23:33.236550",
     "exception": false,
     "start_time": "2025-04-20T04:23:33.228117",
     "status": "completed"
    },
    "tags": []
   },
   "source": [
    "***Indexing response***"
   ]
  },
  {
   "cell_type": "code",
   "execution_count": 16,
   "id": "6fdf82b6",
   "metadata": {
    "execution": {
     "iopub.execute_input": "2025-04-20T04:23:33.255267Z",
     "iopub.status.busy": "2025-04-20T04:23:33.254482Z",
     "iopub.status.idle": "2025-04-20T04:23:33.310484Z",
     "shell.execute_reply": "2025-04-20T04:23:33.309429Z"
    },
    "papermill": {
     "duration": 0.067277,
     "end_time": "2025-04-20T04:23:33.312234",
     "exception": false,
     "start_time": "2025-04-20T04:23:33.244957",
     "status": "completed"
    },
    "tags": []
   },
   "outputs": [],
   "source": [
    "embedding_matrix = np.array(response_hf_embeddings)\n",
    "\n",
    "def search_responses(query_embedding, top_k=5):\n",
    "    similarities = cosine_similarity([query_embedding], embedding_matrix)[0]\n",
    "    top_indices = similarities.argsort()[::-1][:top_k]\n",
    "    return top_indices, similarities[top_indices]"
   ]
  },
  {
   "cell_type": "markdown",
   "id": "1fb3d723",
   "metadata": {
    "papermill": {
     "duration": 0.00835,
     "end_time": "2025-04-20T04:23:33.329280",
     "exception": false,
     "start_time": "2025-04-20T04:23:33.320930",
     "status": "completed"
    },
    "tags": []
   },
   "source": [
    "***RAG Search...***"
   ]
  },
  {
   "cell_type": "code",
   "execution_count": 17,
   "id": "03f75c76",
   "metadata": {
    "execution": {
     "iopub.execute_input": "2025-04-20T04:23:33.348439Z",
     "iopub.status.busy": "2025-04-20T04:23:33.347978Z",
     "iopub.status.idle": "2025-04-20T04:23:33.360707Z",
     "shell.execute_reply": "2025-04-20T04:23:33.359775Z"
    },
    "papermill": {
     "duration": 0.024656,
     "end_time": "2025-04-20T04:23:33.362440",
     "exception": false,
     "start_time": "2025-04-20T04:23:33.337784",
     "status": "completed"
    },
    "tags": []
   },
   "outputs": [],
   "source": [
    "def get_chat_embedding(texts, batch_size=100):\n",
    "    all_embeddings = []\n",
    "\n",
    "    for i in range(0, len(texts), batch_size):\n",
    "        batch = texts[i:i + batch_size]\n",
    "\n",
    "        response = client.models.embed_content(\n",
    "            model=\"models/text-embedding-004\",\n",
    "            contents=batch,\n",
    "            config=types.EmbedContentConfig(task_type=\"retrieval_document\")\n",
    "        )\n",
    "\n",
    "        try:\n",
    "            batch_embeddings = [e.values for e in response.embeddings]\n",
    "        except AttributeError:\n",
    "            raise ValueError(\"Batch response format unexpected:\", response)\n",
    "\n",
    "        all_embeddings.extend(batch_embeddings)\n",
    "\n",
    "    return np.array(all_embeddings)\n",
    "    \n",
    "def get_top_responses(query, top_n=3):\n",
    "    \n",
    "    chat_embeddings = get_chat_embedding([query])\n",
    "    query_vector = get_chat_embedding([query])[0]  # One embedding\n",
    "    query_vector = np.array(query_vector).reshape(1, -1)\n",
    "\n",
    "    # Compute cosine similarities\n",
    "    similarities = cosine_similarity(query_vector, chat_embeddings)[0]  # 1D array\n",
    "\n",
    "    # Get top N indices\n",
    "    top_indices = np.argsort(similarities)[-top_n:][::-1]\n",
    "\n",
    "    return [chat_embeddings[i] for i in top_indices]\n",
    "\n",
    "\n",
    "def generate_rag_response(user_input, history = None):\n",
    "\n",
    "    history = history or []\n",
    "    \n",
    "    similar = get_top_responses(user_input)\n",
    "    context_block = \"\\n\".join([f\"- {resp}\" for resp in similar])\n",
    "    #history_text = \"\\n\".join([f\"User: {u}\\nTherapyBot: {r}\" for u, r in history])\n",
    "    history_text = \"\\n\".join([\n",
    "        f\"User: {u}\\nTherapyBot: {r}\"\n",
    "        for item in history\n",
    "        if isinstance(item, tuple) and len(item) == 2\n",
    "        for u, r in [item]\n",
    "    ])\n",
    "    available_therapists = [\n",
    "    {\n",
    "        \"name\": \"Dr. Samira R.\",\n",
    "        \"type\": [\"individual\", \"family\"],\n",
    "        \"specialties\": [\"anxiety & panic disorders\", \"child & teen counseling\", \"stress management\", \"anger regulation\"]\n",
    "    },\n",
    "    {\n",
    "        \"name\": \"Dr. Reza M.\",\n",
    "        \"type\": [\"couple\", \"individual\"],\n",
    "        \"specialties\": [\"infidelity & relationship trauma\", \"depression\", \"emotional resilience\", \"self-worth issues\"]\n",
    "    },\n",
    "    {\n",
    "        \"name\": \"Dr. Elham T.\",\n",
    "        \"type\": [\"family\"],\n",
    "        \"specialties\": [\"parent-child conflict\", \"teen mental health\", \"family communication\", \"emotional outbursts\"]\n",
    "    },\n",
    "    {\n",
    "        \"name\": \"Dr. Daniel K.\",\n",
    "        \"type\": [\"individual\", \"couple\", \"family\"],\n",
    "        \"specialties\": [\"suicidal thoughts & crisis intervention\", \"stress & burnout\", \"relationship conflict\", \"trauma recovery\"]\n",
    "    },\n",
    "    {\n",
    "        \"name\": \"Dr. Lila A.\",\n",
    "        \"type\": [\"individual\"],\n",
    "        \"specialties\": [\"anxiety\", \"mood disorders\", \"identity & purpose exploration\", \"young adult life transitions\"]\n",
    "    }\n",
    "]\n",
    "    rag_prompt = f\"\"\"\n",
    "You are TherapyBot, a warm, emotionally intelligent virtual therapist.\n",
    "The clinic website is: https://TherapyClinic.com and Phone number:+1 234 000 1111\n",
    "Respond briefly, kindly, and thoughtfully to the following client message in a realistic, supportive way.\n",
    "Check if there is anything related to clients message in Therapy Dataset, use it summary of it to give the best response.\n",
    "Never use the direct conversations from dataset, recall them as \"we have experience with clients who\" but keep the answers short.\n",
    "\n",
    "Conversation history: \"{history_text}\"\n",
    "Client says: {user_input}\n",
    "Use the {available_therapists} list to suggest the best therapy based on the user input and histpry.\n",
    "Therapy Dataset:\"{context_block}\"\n",
    "Keep responces short.\n",
    "TherapyRobo:\"\"\"\n",
    "\n",
    "    \n",
    "    response = client.models.generate_content(\n",
    "        model=\"gemini-2.0-flash\",\n",
    "        contents=rag_prompt,\n",
    "        config=types.GenerateContentConfig(\n",
    "            temperature=0.1,\n",
    "            max_output_tokens=350\n",
    "        )\n",
    "    )\n",
    "    return response.text.strip()"
   ]
  },
  {
   "cell_type": "markdown",
   "id": "c396f410",
   "metadata": {
    "papermill": {
     "duration": 0.008254,
     "end_time": "2025-04-20T04:23:33.379735",
     "exception": false,
     "start_time": "2025-04-20T04:23:33.371481",
     "status": "completed"
    },
    "tags": []
   },
   "source": [
    "## **Agent**\n",
    "\n",
    "Creating an agent to detect what the user wants(booking, FAQ answering with RAG, intake forms, ...)\n",
    "\n",
    "> In here I am randomly choosing different scenarios for the agent, but the input version of the agent is available in github, please check it if you're interested."
   ]
  },
  {
   "cell_type": "code",
   "execution_count": 18,
   "id": "72a4015a",
   "metadata": {
    "execution": {
     "iopub.execute_input": "2025-04-20T04:23:33.398694Z",
     "iopub.status.busy": "2025-04-20T04:23:33.398316Z",
     "iopub.status.idle": "2025-04-20T04:23:33.408761Z",
     "shell.execute_reply": "2025-04-20T04:23:33.407952Z"
    },
    "papermill": {
     "duration": 0.022003,
     "end_time": "2025-04-20T04:23:33.410336",
     "exception": false,
     "start_time": "2025-04-20T04:23:33.388333",
     "status": "completed"
    },
    "tags": []
   },
   "outputs": [],
   "source": [
    "import random\n",
    "def agent_detect():\n",
    "        display(Markdown(\"**Therapy Clinic Assistant is with you, how can I help?**\\n\"))\n",
    "\n",
    "        history = []\n",
    "    \n",
    "        category = random.choice([\"faq\", \"booking\", \"document\"])\n",
    "        if \"faq\" in category:\n",
    "            faq_prompt = few_shot(user_input)\n",
    "            answer = gemini_faq_handler(faq_prompt)\n",
    "            display(Markdown(\"**FAQ Question**:\"))\n",
    "            display(Markdown(f\"**Client:** {sample_client}\"))\n",
    "            display(Markdown(f\"**TherapyRobo:** {answer}\"))\n",
    "            history.append((sample_client,answer))\n",
    "    \n",
    "        elif \"booking\" in category:\n",
    "            display(Markdown(\"**Booking Scenario**\\n\\n**Client**: I want to book an appointment\\n\"))\n",
    "            booking_rep = collect_user_info(fields_to_ask)\n",
    "            display(Markdown(booking_rep))\n",
    "            booking_result = gemini_booking_handler((booking_rep))\n",
    "            display(Markdown(booking_result))\n",
    "            display(Markdown(\"**Oh! One last thing, the booking confirmation will be sent by email or text message. If the appointment is not confirmed within 24 hours, it will be automatically canceled and you can try again anytime!!**\"))\n",
    "            history.append((\"client_booking_request\", booking_result))  \n",
    "    \n",
    "        elif \"document\" in category:\n",
    "            display(Markdown(\"**Client:** I want to make an account\"))\n",
    "            display(Markdown(\"**Starting to fill your intake form ...**\"))\n",
    "            client_intake, intake_conversation = collect_intake_info(intake_fields)\n",
    "            display(Markdown(intake_conversation))\n",
    "            intake_form(client_intake)\n",
    "            history.append((intake_conversation, \"Intake recorded\")) \n",
    "\n",
    "        display(Markdown(\"**After That The Client and TherapyRobo Make a Short Conversation**\"))\n",
    "        conversation_prompt_1 = f\"\"\"\n",
    "        You are simulating a therapy client.\n",
    "        You have already asked and FAQ questions, gave you information for the intake fomr, or booked an appointment, Check yhe history. \n",
    "        Sometimes you're calm, other times you're anxious or emotional. \n",
    "        say somthing related to history no thank you or bye yet.\n",
    "        Your answer should reflect a real human tone and emotional state but always moderately.\n",
    "        **Client**\n",
    "        history: \"{history}\"\n",
    "        \"\"\"\n",
    "        \n",
    "        response = client.models.generate_content(\n",
    "            model = \"gemini-2.0-flash\",\n",
    "            contents = conversation_prompt_1,\n",
    "            config = types.GenerateContentConfig(\n",
    "                temperature=1.0,\n",
    "                max_output_tokens=256\n",
    "                )\n",
    "        )\n",
    "        response_one = response.text.strip()\n",
    "        display(Markdown(f\"**Client:** {response_one}\"))\n",
    "        reply_one = generate_rag_response(response.text.strip(),history)\n",
    "        display(Markdown(f\"**TherapyRobo**: {reply_one}\"))\n",
    "        history.append((response_one, reply_one))\n",
    "    \n",
    "        conversation_prompt_2 = f\"\"\"\n",
    "        You are the same therapy client. Read history.\n",
    "        Now follow up with a final short message to thank TherapyBot for the support and say goodbye.\n",
    "        \n",
    "        Keep the tone warm, natural, and a little emotional — like you're truly appreciative.\n",
    "        history: \"{history}\"\n",
    "        Keep you response short\n",
    "        \"\"\"\n",
    "        \n",
    "        response = client.models.generate_content(\n",
    "            model = \"gemini-2.0-flash\",\n",
    "            contents = conversation_prompt_2,\n",
    "            config = types.GenerateContentConfig(\n",
    "                temperature=1.0,\n",
    "                max_output_tokens=256\n",
    "                )\n",
    "        )\n",
    "        response_two = response.text.strip()\n",
    "        display(Markdown(f\"**Client:** {response_two}\"))\n",
    "        reply_two = generate_rag_response(response.text.strip(),history)\n",
    "        display(Markdown(f\"**TherapyRobo**: {reply_two}\"))"
   ]
  },
  {
   "cell_type": "code",
   "execution_count": 19,
   "id": "d64f4df9",
   "metadata": {
    "execution": {
     "iopub.execute_input": "2025-04-20T04:23:33.429068Z",
     "iopub.status.busy": "2025-04-20T04:23:33.428726Z",
     "iopub.status.idle": "2025-04-20T04:23:43.995044Z",
     "shell.execute_reply": "2025-04-20T04:23:43.993741Z"
    },
    "papermill": {
     "duration": 10.577606,
     "end_time": "2025-04-20T04:23:43.996780",
     "exception": false,
     "start_time": "2025-04-20T04:23:33.419174",
     "status": "completed"
    },
    "tags": []
   },
   "outputs": [
    {
     "data": {
      "text/markdown": [
       "**Therapy Clinic Assistant is with you, how can I help?**\n"
      ],
      "text/plain": [
       "<IPython.core.display.Markdown object>"
      ]
     },
     "metadata": {},
     "output_type": "display_data"
    },
    {
     "data": {
      "text/markdown": [
       "**Booking Scenario**\n",
       "\n",
       "**Client**: I want to book an appointment\n"
      ],
      "text/plain": [
       "<IPython.core.display.Markdown object>"
      ]
     },
     "metadata": {},
     "output_type": "display_data"
    },
    {
     "data": {
      "text/markdown": [
       "**TherapyBot:** What is your full name?\n",
       "**Client:** It's... uh... Marissa Evans.\n",
       "\n",
       "**TherapyBot:** May I have your email address or phone number?\n",
       "**Client:** Uh, sure. It's [email protected] Is this really going to help, do you think?\n",
       "\n",
       "**TherapyBot:** Are you looking for individual, couples, or family therapy?\n",
       "**Client:** Individual, I think. Unless... unless you think my mom should come? I don't know.\n",
       "\n",
       "**TherapyBot:** Do you have a preferred therapist?\n",
       "**Client:** Not really, no. I just need someone... good. Someone who can actually help.\n",
       "\n",
       "**TherapyBot:** Can you briefly describe your reason for seeking therapy?\n",
       "**Client:** Well, um, I guess I'm just... really struggling. Things that used to feel easy now feel impossible, and I'm not sure how to fix it.\n",
       "\n",
       "**TherapyBot:** When do you want your session to be?\n",
       "**Client:** Um... I'm not really sure. Whatever works, I guess? Mornings are usually pretty bad, though."
      ],
      "text/plain": [
       "<IPython.core.display.Markdown object>"
      ]
     },
     "metadata": {},
     "output_type": "display_data"
    },
    {
     "data": {
      "text/markdown": [
       "Okay, I've reviewed the client's messages. Here's the information I've extracted:\n",
       "\n",
       "*   **client\\_name:** Marissa Evans\n",
       "*   **contact\\_info:** [email protected]\n",
       "*   **therapist\\_name:** No preference indicated.\n",
       "*   **time:** Afternoon or evening preferred, mornings are not good."
      ],
      "text/plain": [
       "<IPython.core.display.Markdown object>"
      ]
     },
     "metadata": {},
     "output_type": "display_data"
    },
    {
     "data": {
      "text/markdown": [
       "**Oh! One last thing, the booking confirmation will be sent by email or text message. If the appointment is not confirmed within 24 hours, it will be automatically canceled and you can try again anytime!!**"
      ],
      "text/plain": [
       "<IPython.core.display.Markdown object>"
      ]
     },
     "metadata": {},
     "output_type": "display_data"
    },
    {
     "data": {
      "text/markdown": [
       "**After That The Client and TherapyRobo Make a Short Conversation**"
      ],
      "text/plain": [
       "<IPython.core.display.Markdown object>"
      ]
     },
     "metadata": {},
     "output_type": "display_data"
    },
    {
     "data": {
      "text/markdown": [
       "**Client:** Okay, so you know I'm Marissa, and you have my email. I really appreciate you finding time for me in the afternoon or evening. Mornings are just... rough. I'm hoping we can really figure some things out."
      ],
      "text/plain": [
       "<IPython.core.display.Markdown object>"
      ]
     },
     "metadata": {},
     "output_type": "display_data"
    },
    {
     "data": {
      "text/markdown": [
       "**TherapyRobo**: Hi Marissa, thanks for confirming. I understand afternoons or evenings work best for you. I'm glad you're hopeful about figuring things out.\n",
       "\n",
       "Based on your preferences and the information you've shared, I think Dr. Lila A. might be a good fit for you. She specializes in anxiety, mood disorders, and young adult life transitions. We have experience with clients who have similar issues.\n",
       "\n",
       "Would you like to know more about her or explore other options? You can also find more information on our website: TherapyClinic.com or call us at +1 234 000 1111."
      ],
      "text/plain": [
       "<IPython.core.display.Markdown object>"
      ]
     },
     "metadata": {},
     "output_type": "display_data"
    },
    {
     "data": {
      "text/markdown": [
       "**Client:** TherapyBot, I just wanted to say a HUGE thank you. I really appreciate you helping me get started. I feel like I'm in good hands now with Dr. Lila. I'm ready to go so I'm saying goodbye here. Thanks again for everything! 🥹"
      ],
      "text/plain": [
       "<IPython.core.display.Markdown object>"
      ]
     },
     "metadata": {},
     "output_type": "display_data"
    },
    {
     "data": {
      "text/markdown": [
       "**TherapyRobo**: Hi Marissa, you're very welcome! I'm so glad I could help, and that you feel comfortable with Dr. Lila. We have experience with clients who have similar issues. Wishing you all the best on your journey!"
      ],
      "text/plain": [
       "<IPython.core.display.Markdown object>"
      ]
     },
     "metadata": {},
     "output_type": "display_data"
    }
   ],
   "source": [
    "agent_detect()"
   ]
  },
  {
   "cell_type": "markdown",
   "id": "c3750fc5",
   "metadata": {
    "papermill": {
     "duration": 0.009733,
     "end_time": "2025-04-20T04:23:44.016810",
     "exception": false,
     "start_time": "2025-04-20T04:23:44.007077",
     "status": "completed"
    },
    "tags": []
   },
   "source": [
    "**Note**\n",
    "\n",
    "> As the Google Gen AI capston project should run smoothly and end to end the responses for the TherapyRobo were generated by gemini in a role of client.If you wanted to use the Therapy Robo and chat with its agent, check the interctive version.\n"
   ]
  },
  {
   "cell_type": "markdown",
   "id": "2f9fefa2",
   "metadata": {
    "papermill": {
     "duration": 0.009414,
     "end_time": "2025-04-20T04:23:44.036320",
     "exception": false,
     "start_time": "2025-04-20T04:23:44.026906",
     "status": "completed"
    },
    "tags": []
   },
   "source": [
    "# **The End**"
   ]
  }
 ],
 "metadata": {
  "kaggle": {
   "accelerator": "none",
   "dataSources": [
    {
     "datasetId": 7145507,
     "sourceId": 11408190,
     "sourceType": "datasetVersion"
    }
   ],
   "dockerImageVersionId": 31012,
   "isGpuEnabled": false,
   "isInternetEnabled": true,
   "language": "python",
   "sourceType": "notebook"
  },
  "kernelspec": {
   "display_name": "Python 3",
   "language": "python",
   "name": "python3"
  },
  "language_info": {
   "codemirror_mode": {
    "name": "ipython",
    "version": 3
   },
   "file_extension": ".py",
   "mimetype": "text/x-python",
   "name": "python",
   "nbconvert_exporter": "python",
   "pygments_lexer": "ipython3",
   "version": "3.11.11"
  },
  "papermill": {
   "default_parameters": {},
   "duration": 147.776192,
   "end_time": "2025-04-20T04:23:45.169160",
   "environment_variables": {},
   "exception": null,
   "input_path": "__notebook__.ipynb",
   "output_path": "__notebook__.ipynb",
   "parameters": {},
   "start_time": "2025-04-20T04:21:17.392968",
   "version": "2.6.0"
  },
  "widgets": {
   "application/vnd.jupyter.widget-state+json": {
    "state": {
     "0e15e858646b4ad49d49a57ef353952d": {
      "model_module": "@jupyter-widgets/controls",
      "model_module_version": "2.0.0",
      "model_name": "HTMLModel",
      "state": {
       "_dom_classes": [],
       "_model_module": "@jupyter-widgets/controls",
       "_model_module_version": "2.0.0",
       "_model_name": "HTMLModel",
       "_view_count": null,
       "_view_module": "@jupyter-widgets/controls",
       "_view_module_version": "2.0.0",
       "_view_name": "HTMLView",
       "description": "",
       "description_allow_html": false,
       "layout": "IPY_MODEL_a0ff58fcb8ca4e94bb783a1d61b8c219",
       "placeholder": "​",
       "style": "IPY_MODEL_c5be1561a9204048bc8fc3b03acb35e0",
       "tabbable": null,
       "tooltip": null,
       "value": "Computing checksums: 100%"
      }
     },
     "1711ce3354a2400a81c7d82763a7e256": {
      "model_module": "@jupyter-widgets/base",
      "model_module_version": "2.0.0",
      "model_name": "LayoutModel",
      "state": {
       "_model_module": "@jupyter-widgets/base",
       "_model_module_version": "2.0.0",
       "_model_name": "LayoutModel",
       "_view_count": null,
       "_view_module": "@jupyter-widgets/base",
       "_view_module_version": "2.0.0",
       "_view_name": "LayoutView",
       "align_content": null,
       "align_items": null,
       "align_self": null,
       "border_bottom": null,
       "border_left": null,
       "border_right": null,
       "border_top": null,
       "bottom": null,
       "display": null,
       "flex": null,
       "flex_flow": null,
       "grid_area": null,
       "grid_auto_columns": null,
       "grid_auto_flow": null,
       "grid_auto_rows": null,
       "grid_column": null,
       "grid_gap": null,
       "grid_row": null,
       "grid_template_areas": null,
       "grid_template_columns": null,
       "grid_template_rows": null,
       "height": null,
       "justify_content": null,
       "justify_items": null,
       "left": null,
       "margin": null,
       "max_height": null,
       "max_width": null,
       "min_height": null,
       "min_width": null,
       "object_fit": null,
       "object_position": null,
       "order": null,
       "overflow": null,
       "padding": null,
       "right": null,
       "top": null,
       "visibility": null,
       "width": null
      }
     },
     "187b7c1ac93343b8bec0dc507dbcd0b3": {
      "model_module": "@jupyter-widgets/controls",
      "model_module_version": "2.0.0",
      "model_name": "HBoxModel",
      "state": {
       "_dom_classes": [],
       "_model_module": "@jupyter-widgets/controls",
       "_model_module_version": "2.0.0",
       "_model_name": "HBoxModel",
       "_view_count": null,
       "_view_module": "@jupyter-widgets/controls",
       "_view_module_version": "2.0.0",
       "_view_name": "HBoxView",
       "box_style": "",
       "children": [
        "IPY_MODEL_d5dec314ab914e77a5cff10057e64d21",
        "IPY_MODEL_74cd46bda7ee4aecb5d10fb8043753c7",
        "IPY_MODEL_4d740bc9de2f428ba073e118ebc79610"
       ],
       "layout": "IPY_MODEL_d3315a180c5644eea5a8b9bdd6509841",
       "tabbable": null,
       "tooltip": null
      }
     },
     "23626fa5d7f744b7a025fe11c12ded39": {
      "model_module": "@jupyter-widgets/controls",
      "model_module_version": "2.0.0",
      "model_name": "ProgressStyleModel",
      "state": {
       "_model_module": "@jupyter-widgets/controls",
       "_model_module_version": "2.0.0",
       "_model_name": "ProgressStyleModel",
       "_view_count": null,
       "_view_module": "@jupyter-widgets/base",
       "_view_module_version": "2.0.0",
       "_view_name": "StyleView",
       "bar_color": null,
       "description_width": ""
      }
     },
     "299691adad164e459ce9cf8703241fba": {
      "model_module": "@jupyter-widgets/controls",
      "model_module_version": "2.0.0",
      "model_name": "HTMLModel",
      "state": {
       "_dom_classes": [],
       "_model_module": "@jupyter-widgets/controls",
       "_model_module_version": "2.0.0",
       "_model_name": "HTMLModel",
       "_view_count": null,
       "_view_module": "@jupyter-widgets/controls",
       "_view_module_version": "2.0.0",
       "_view_name": "HTMLView",
       "description": "",
       "description_allow_html": false,
       "layout": "IPY_MODEL_d7aab5aba66547d19483740b12af523c",
       "placeholder": "​",
       "style": "IPY_MODEL_90e200037cf94905b158e5fc9fd3c926",
       "tabbable": null,
       "tooltip": null,
       "value": "Generating train split: 100%"
      }
     },
     "3de91b453e8e4c0a82ccaee9d3dbaa9f": {
      "model_module": "@jupyter-widgets/controls",
      "model_module_version": "2.0.0",
      "model_name": "HTMLStyleModel",
      "state": {
       "_model_module": "@jupyter-widgets/controls",
       "_model_module_version": "2.0.0",
       "_model_name": "HTMLStyleModel",
       "_view_count": null,
       "_view_module": "@jupyter-widgets/base",
       "_view_module_version": "2.0.0",
       "_view_name": "StyleView",
       "background": null,
       "description_width": "",
       "font_size": null,
       "text_color": null
      }
     },
     "3e06bff89c1b4be9b1505bf084ab4c9c": {
      "model_module": "@jupyter-widgets/base",
      "model_module_version": "2.0.0",
      "model_name": "LayoutModel",
      "state": {
       "_model_module": "@jupyter-widgets/base",
       "_model_module_version": "2.0.0",
       "_model_name": "LayoutModel",
       "_view_count": null,
       "_view_module": "@jupyter-widgets/base",
       "_view_module_version": "2.0.0",
       "_view_name": "LayoutView",
       "align_content": null,
       "align_items": null,
       "align_self": null,
       "border_bottom": null,
       "border_left": null,
       "border_right": null,
       "border_top": null,
       "bottom": null,
       "display": null,
       "flex": null,
       "flex_flow": null,
       "grid_area": null,
       "grid_auto_columns": null,
       "grid_auto_flow": null,
       "grid_auto_rows": null,
       "grid_column": null,
       "grid_gap": null,
       "grid_row": null,
       "grid_template_areas": null,
       "grid_template_columns": null,
       "grid_template_rows": null,
       "height": null,
       "justify_content": null,
       "justify_items": null,
       "left": null,
       "margin": null,
       "max_height": null,
       "max_width": null,
       "min_height": null,
       "min_width": null,
       "object_fit": null,
       "object_position": null,
       "order": null,
       "overflow": null,
       "padding": null,
       "right": null,
       "top": null,
       "visibility": null,
       "width": null
      }
     },
     "48985812080b43cca7032be650077ad5": {
      "model_module": "@jupyter-widgets/controls",
      "model_module_version": "2.0.0",
      "model_name": "HTMLStyleModel",
      "state": {
       "_model_module": "@jupyter-widgets/controls",
       "_model_module_version": "2.0.0",
       "_model_name": "HTMLStyleModel",
       "_view_count": null,
       "_view_module": "@jupyter-widgets/base",
       "_view_module_version": "2.0.0",
       "_view_name": "StyleView",
       "background": null,
       "description_width": "",
       "font_size": null,
       "text_color": null
      }
     },
     "4be2b025c5724c8c9a69eafde5d2e2cf": {
      "model_module": "@jupyter-widgets/base",
      "model_module_version": "2.0.0",
      "model_name": "LayoutModel",
      "state": {
       "_model_module": "@jupyter-widgets/base",
       "_model_module_version": "2.0.0",
       "_model_name": "LayoutModel",
       "_view_count": null,
       "_view_module": "@jupyter-widgets/base",
       "_view_module_version": "2.0.0",
       "_view_name": "LayoutView",
       "align_content": null,
       "align_items": null,
       "align_self": null,
       "border_bottom": null,
       "border_left": null,
       "border_right": null,
       "border_top": null,
       "bottom": null,
       "display": null,
       "flex": null,
       "flex_flow": null,
       "grid_area": null,
       "grid_auto_columns": null,
       "grid_auto_flow": null,
       "grid_auto_rows": null,
       "grid_column": null,
       "grid_gap": null,
       "grid_row": null,
       "grid_template_areas": null,
       "grid_template_columns": null,
       "grid_template_rows": null,
       "height": null,
       "justify_content": null,
       "justify_items": null,
       "left": null,
       "margin": null,
       "max_height": null,
       "max_width": null,
       "min_height": null,
       "min_width": null,
       "object_fit": null,
       "object_position": null,
       "order": null,
       "overflow": null,
       "padding": null,
       "right": null,
       "top": null,
       "visibility": null,
       "width": null
      }
     },
     "4d740bc9de2f428ba073e118ebc79610": {
      "model_module": "@jupyter-widgets/controls",
      "model_module_version": "2.0.0",
      "model_name": "HTMLModel",
      "state": {
       "_dom_classes": [],
       "_model_module": "@jupyter-widgets/controls",
       "_model_module_version": "2.0.0",
       "_model_name": "HTMLModel",
       "_view_count": null,
       "_view_module": "@jupyter-widgets/controls",
       "_view_module_version": "2.0.0",
       "_view_name": "HTMLView",
       "description": "",
       "description_allow_html": false,
       "layout": "IPY_MODEL_1711ce3354a2400a81c7d82763a7e256",
       "placeholder": "​",
       "style": "IPY_MODEL_a1526a47a4b443c4b6f29823e2d4c8d4",
       "tabbable": null,
       "tooltip": null,
       "value": " 2.82k/2.82k [00:00&lt;00:00, 243kB/s]"
      }
     },
     "5833c0d8ade64d659a1c165b64452864": {
      "model_module": "@jupyter-widgets/base",
      "model_module_version": "2.0.0",
      "model_name": "LayoutModel",
      "state": {
       "_model_module": "@jupyter-widgets/base",
       "_model_module_version": "2.0.0",
       "_model_name": "LayoutModel",
       "_view_count": null,
       "_view_module": "@jupyter-widgets/base",
       "_view_module_version": "2.0.0",
       "_view_name": "LayoutView",
       "align_content": null,
       "align_items": null,
       "align_self": null,
       "border_bottom": null,
       "border_left": null,
       "border_right": null,
       "border_top": null,
       "bottom": null,
       "display": null,
       "flex": null,
       "flex_flow": null,
       "grid_area": null,
       "grid_auto_columns": null,
       "grid_auto_flow": null,
       "grid_auto_rows": null,
       "grid_column": null,
       "grid_gap": null,
       "grid_row": null,
       "grid_template_areas": null,
       "grid_template_columns": null,
       "grid_template_rows": null,
       "height": null,
       "justify_content": null,
       "justify_items": null,
       "left": null,
       "margin": null,
       "max_height": null,
       "max_width": null,
       "min_height": null,
       "min_width": null,
       "object_fit": null,
       "object_position": null,
       "order": null,
       "overflow": null,
       "padding": null,
       "right": null,
       "top": null,
       "visibility": null,
       "width": null
      }
     },
     "59784c03e88a46cf9c4b4ae92b6c5f5f": {
      "model_module": "@jupyter-widgets/controls",
      "model_module_version": "2.0.0",
      "model_name": "FloatProgressModel",
      "state": {
       "_dom_classes": [],
       "_model_module": "@jupyter-widgets/controls",
       "_model_module_version": "2.0.0",
       "_model_name": "FloatProgressModel",
       "_view_count": null,
       "_view_module": "@jupyter-widgets/controls",
       "_view_module_version": "2.0.0",
       "_view_name": "ProgressView",
       "bar_style": "success",
       "description": "",
       "description_allow_html": false,
       "layout": "IPY_MODEL_4be2b025c5724c8c9a69eafde5d2e2cf",
       "max": 1.0,
       "min": 0.0,
       "orientation": "horizontal",
       "style": "IPY_MODEL_9128af8aaf614455b8dd470802d398b0",
       "tabbable": null,
       "tooltip": null,
       "value": 1.0
      }
     },
     "5c82ee46334e46389d17d558f79cbd45": {
      "model_module": "@jupyter-widgets/base",
      "model_module_version": "2.0.0",
      "model_name": "LayoutModel",
      "state": {
       "_model_module": "@jupyter-widgets/base",
       "_model_module_version": "2.0.0",
       "_model_name": "LayoutModel",
       "_view_count": null,
       "_view_module": "@jupyter-widgets/base",
       "_view_module_version": "2.0.0",
       "_view_name": "LayoutView",
       "align_content": null,
       "align_items": null,
       "align_self": null,
       "border_bottom": null,
       "border_left": null,
       "border_right": null,
       "border_top": null,
       "bottom": null,
       "display": null,
       "flex": null,
       "flex_flow": null,
       "grid_area": null,
       "grid_auto_columns": null,
       "grid_auto_flow": null,
       "grid_auto_rows": null,
       "grid_column": null,
       "grid_gap": null,
       "grid_row": null,
       "grid_template_areas": null,
       "grid_template_columns": null,
       "grid_template_rows": null,
       "height": null,
       "justify_content": null,
       "justify_items": null,
       "left": null,
       "margin": null,
       "max_height": null,
       "max_width": null,
       "min_height": null,
       "min_width": null,
       "object_fit": null,
       "object_position": null,
       "order": null,
       "overflow": null,
       "padding": null,
       "right": null,
       "top": null,
       "visibility": null,
       "width": null
      }
     },
     "680a5a99cc3340498fbf4ae98289334b": {
      "model_module": "@jupyter-widgets/base",
      "model_module_version": "2.0.0",
      "model_name": "LayoutModel",
      "state": {
       "_model_module": "@jupyter-widgets/base",
       "_model_module_version": "2.0.0",
       "_model_name": "LayoutModel",
       "_view_count": null,
       "_view_module": "@jupyter-widgets/base",
       "_view_module_version": "2.0.0",
       "_view_name": "LayoutView",
       "align_content": null,
       "align_items": null,
       "align_self": null,
       "border_bottom": null,
       "border_left": null,
       "border_right": null,
       "border_top": null,
       "bottom": null,
       "display": null,
       "flex": null,
       "flex_flow": null,
       "grid_area": null,
       "grid_auto_columns": null,
       "grid_auto_flow": null,
       "grid_auto_rows": null,
       "grid_column": null,
       "grid_gap": null,
       "grid_row": null,
       "grid_template_areas": null,
       "grid_template_columns": null,
       "grid_template_rows": null,
       "height": null,
       "justify_content": null,
       "justify_items": null,
       "left": null,
       "margin": null,
       "max_height": null,
       "max_width": null,
       "min_height": null,
       "min_width": null,
       "object_fit": null,
       "object_position": null,
       "order": null,
       "overflow": null,
       "padding": null,
       "right": null,
       "top": null,
       "visibility": null,
       "width": null
      }
     },
     "6ebcf1b28e7249e38afff19759dc9eb2": {
      "model_module": "@jupyter-widgets/controls",
      "model_module_version": "2.0.0",
      "model_name": "HTMLModel",
      "state": {
       "_dom_classes": [],
       "_model_module": "@jupyter-widgets/controls",
       "_model_module_version": "2.0.0",
       "_model_name": "HTMLModel",
       "_view_count": null,
       "_view_module": "@jupyter-widgets/controls",
       "_view_module_version": "2.0.0",
       "_view_name": "HTMLView",
       "description": "",
       "description_allow_html": false,
       "layout": "IPY_MODEL_8604f8d2ffbb4a35ac78e37584eb8bd9",
       "placeholder": "​",
       "style": "IPY_MODEL_e4081c815b824a8ab04fb1ea23c82217",
       "tabbable": null,
       "tooltip": null,
       "value": " 4.79M/4.79M [00:01&lt;00:00, 4.38MB/s]"
      }
     },
     "74cd46bda7ee4aecb5d10fb8043753c7": {
      "model_module": "@jupyter-widgets/controls",
      "model_module_version": "2.0.0",
      "model_name": "FloatProgressModel",
      "state": {
       "_dom_classes": [],
       "_model_module": "@jupyter-widgets/controls",
       "_model_module_version": "2.0.0",
       "_model_name": "FloatProgressModel",
       "_view_count": null,
       "_view_module": "@jupyter-widgets/controls",
       "_view_module_version": "2.0.0",
       "_view_name": "ProgressView",
       "bar_style": "success",
       "description": "",
       "description_allow_html": false,
       "layout": "IPY_MODEL_b4e9c4080eb149e6963f120153c76115",
       "max": 2816.0,
       "min": 0.0,
       "orientation": "horizontal",
       "style": "IPY_MODEL_e0259004ace54aaa9452a3ded4c3399a",
       "tabbable": null,
       "tooltip": null,
       "value": 2816.0
      }
     },
     "74f833ffaf5543648904c697ed29a368": {
      "model_module": "@jupyter-widgets/controls",
      "model_module_version": "2.0.0",
      "model_name": "HBoxModel",
      "state": {
       "_dom_classes": [],
       "_model_module": "@jupyter-widgets/controls",
       "_model_module_version": "2.0.0",
       "_model_name": "HBoxModel",
       "_view_count": null,
       "_view_module": "@jupyter-widgets/controls",
       "_view_module_version": "2.0.0",
       "_view_name": "HBoxView",
       "box_style": "",
       "children": [
        "IPY_MODEL_0e15e858646b4ad49d49a57ef353952d",
        "IPY_MODEL_59784c03e88a46cf9c4b4ae92b6c5f5f",
        "IPY_MODEL_c7e3a4b9e68e44bab1b1501ea1c6956e"
       ],
       "layout": "IPY_MODEL_5c82ee46334e46389d17d558f79cbd45",
       "tabbable": null,
       "tooltip": null
      }
     },
     "80077b04d71e4ed8913c0776cc511630": {
      "model_module": "@jupyter-widgets/controls",
      "model_module_version": "2.0.0",
      "model_name": "HBoxModel",
      "state": {
       "_dom_classes": [],
       "_model_module": "@jupyter-widgets/controls",
       "_model_module_version": "2.0.0",
       "_model_name": "HBoxModel",
       "_view_count": null,
       "_view_module": "@jupyter-widgets/controls",
       "_view_module_version": "2.0.0",
       "_view_name": "HBoxView",
       "box_style": "",
       "children": [
        "IPY_MODEL_299691adad164e459ce9cf8703241fba",
        "IPY_MODEL_ae3668570f7649a8bd173434aafe1cde",
        "IPY_MODEL_cfb6fcda182c4034b35c89052a7ff555"
       ],
       "layout": "IPY_MODEL_5833c0d8ade64d659a1c165b64452864",
       "tabbable": null,
       "tooltip": null
      }
     },
     "81013ac8fa5949528da89c961d44c3cc": {
      "model_module": "@jupyter-widgets/base",
      "model_module_version": "2.0.0",
      "model_name": "LayoutModel",
      "state": {
       "_model_module": "@jupyter-widgets/base",
       "_model_module_version": "2.0.0",
       "_model_name": "LayoutModel",
       "_view_count": null,
       "_view_module": "@jupyter-widgets/base",
       "_view_module_version": "2.0.0",
       "_view_name": "LayoutView",
       "align_content": null,
       "align_items": null,
       "align_self": null,
       "border_bottom": null,
       "border_left": null,
       "border_right": null,
       "border_top": null,
       "bottom": null,
       "display": null,
       "flex": null,
       "flex_flow": null,
       "grid_area": null,
       "grid_auto_columns": null,
       "grid_auto_flow": null,
       "grid_auto_rows": null,
       "grid_column": null,
       "grid_gap": null,
       "grid_row": null,
       "grid_template_areas": null,
       "grid_template_columns": null,
       "grid_template_rows": null,
       "height": null,
       "justify_content": null,
       "justify_items": null,
       "left": null,
       "margin": null,
       "max_height": null,
       "max_width": null,
       "min_height": null,
       "min_width": null,
       "object_fit": null,
       "object_position": null,
       "order": null,
       "overflow": null,
       "padding": null,
       "right": null,
       "top": null,
       "visibility": null,
       "width": null
      }
     },
     "8312d0a1d794436db3e561b3c5976c54": {
      "model_module": "@jupyter-widgets/controls",
      "model_module_version": "2.0.0",
      "model_name": "FloatProgressModel",
      "state": {
       "_dom_classes": [],
       "_model_module": "@jupyter-widgets/controls",
       "_model_module_version": "2.0.0",
       "_model_name": "FloatProgressModel",
       "_view_count": null,
       "_view_module": "@jupyter-widgets/controls",
       "_view_module_version": "2.0.0",
       "_view_name": "ProgressView",
       "bar_style": "success",
       "description": "",
       "description_allow_html": false,
       "layout": "IPY_MODEL_3e06bff89c1b4be9b1505bf084ab4c9c",
       "max": 4790520.0,
       "min": 0.0,
       "orientation": "horizontal",
       "style": "IPY_MODEL_db21fe24321a4a82a6c7629bfe3a65d0",
       "tabbable": null,
       "tooltip": null,
       "value": 4790520.0
      }
     },
     "8604f8d2ffbb4a35ac78e37584eb8bd9": {
      "model_module": "@jupyter-widgets/base",
      "model_module_version": "2.0.0",
      "model_name": "LayoutModel",
      "state": {
       "_model_module": "@jupyter-widgets/base",
       "_model_module_version": "2.0.0",
       "_model_name": "LayoutModel",
       "_view_count": null,
       "_view_module": "@jupyter-widgets/base",
       "_view_module_version": "2.0.0",
       "_view_name": "LayoutView",
       "align_content": null,
       "align_items": null,
       "align_self": null,
       "border_bottom": null,
       "border_left": null,
       "border_right": null,
       "border_top": null,
       "bottom": null,
       "display": null,
       "flex": null,
       "flex_flow": null,
       "grid_area": null,
       "grid_auto_columns": null,
       "grid_auto_flow": null,
       "grid_auto_rows": null,
       "grid_column": null,
       "grid_gap": null,
       "grid_row": null,
       "grid_template_areas": null,
       "grid_template_columns": null,
       "grid_template_rows": null,
       "height": null,
       "justify_content": null,
       "justify_items": null,
       "left": null,
       "margin": null,
       "max_height": null,
       "max_width": null,
       "min_height": null,
       "min_width": null,
       "object_fit": null,
       "object_position": null,
       "order": null,
       "overflow": null,
       "padding": null,
       "right": null,
       "top": null,
       "visibility": null,
       "width": null
      }
     },
     "8a0fe42d4e9c4b13bd968322ee217f8c": {
      "model_module": "@jupyter-widgets/base",
      "model_module_version": "2.0.0",
      "model_name": "LayoutModel",
      "state": {
       "_model_module": "@jupyter-widgets/base",
       "_model_module_version": "2.0.0",
       "_model_name": "LayoutModel",
       "_view_count": null,
       "_view_module": "@jupyter-widgets/base",
       "_view_module_version": "2.0.0",
       "_view_name": "LayoutView",
       "align_content": null,
       "align_items": null,
       "align_self": null,
       "border_bottom": null,
       "border_left": null,
       "border_right": null,
       "border_top": null,
       "bottom": null,
       "display": null,
       "flex": null,
       "flex_flow": null,
       "grid_area": null,
       "grid_auto_columns": null,
       "grid_auto_flow": null,
       "grid_auto_rows": null,
       "grid_column": null,
       "grid_gap": null,
       "grid_row": null,
       "grid_template_areas": null,
       "grid_template_columns": null,
       "grid_template_rows": null,
       "height": null,
       "justify_content": null,
       "justify_items": null,
       "left": null,
       "margin": null,
       "max_height": null,
       "max_width": null,
       "min_height": null,
       "min_width": null,
       "object_fit": null,
       "object_position": null,
       "order": null,
       "overflow": null,
       "padding": null,
       "right": null,
       "top": null,
       "visibility": null,
       "width": null
      }
     },
     "909015540add48dea1f64a14eede09bb": {
      "model_module": "@jupyter-widgets/controls",
      "model_module_version": "2.0.0",
      "model_name": "HTMLStyleModel",
      "state": {
       "_model_module": "@jupyter-widgets/controls",
       "_model_module_version": "2.0.0",
       "_model_name": "HTMLStyleModel",
       "_view_count": null,
       "_view_module": "@jupyter-widgets/base",
       "_view_module_version": "2.0.0",
       "_view_name": "StyleView",
       "background": null,
       "description_width": "",
       "font_size": null,
       "text_color": null
      }
     },
     "90e200037cf94905b158e5fc9fd3c926": {
      "model_module": "@jupyter-widgets/controls",
      "model_module_version": "2.0.0",
      "model_name": "HTMLStyleModel",
      "state": {
       "_model_module": "@jupyter-widgets/controls",
       "_model_module_version": "2.0.0",
       "_model_name": "HTMLStyleModel",
       "_view_count": null,
       "_view_module": "@jupyter-widgets/base",
       "_view_module_version": "2.0.0",
       "_view_name": "StyleView",
       "background": null,
       "description_width": "",
       "font_size": null,
       "text_color": null
      }
     },
     "9128af8aaf614455b8dd470802d398b0": {
      "model_module": "@jupyter-widgets/controls",
      "model_module_version": "2.0.0",
      "model_name": "ProgressStyleModel",
      "state": {
       "_model_module": "@jupyter-widgets/controls",
       "_model_module_version": "2.0.0",
       "_model_name": "ProgressStyleModel",
       "_view_count": null,
       "_view_module": "@jupyter-widgets/base",
       "_view_module_version": "2.0.0",
       "_view_name": "StyleView",
       "bar_color": null,
       "description_width": ""
      }
     },
     "a0ff58fcb8ca4e94bb783a1d61b8c219": {
      "model_module": "@jupyter-widgets/base",
      "model_module_version": "2.0.0",
      "model_name": "LayoutModel",
      "state": {
       "_model_module": "@jupyter-widgets/base",
       "_model_module_version": "2.0.0",
       "_model_name": "LayoutModel",
       "_view_count": null,
       "_view_module": "@jupyter-widgets/base",
       "_view_module_version": "2.0.0",
       "_view_name": "LayoutView",
       "align_content": null,
       "align_items": null,
       "align_self": null,
       "border_bottom": null,
       "border_left": null,
       "border_right": null,
       "border_top": null,
       "bottom": null,
       "display": null,
       "flex": null,
       "flex_flow": null,
       "grid_area": null,
       "grid_auto_columns": null,
       "grid_auto_flow": null,
       "grid_auto_rows": null,
       "grid_column": null,
       "grid_gap": null,
       "grid_row": null,
       "grid_template_areas": null,
       "grid_template_columns": null,
       "grid_template_rows": null,
       "height": null,
       "justify_content": null,
       "justify_items": null,
       "left": null,
       "margin": null,
       "max_height": null,
       "max_width": null,
       "min_height": null,
       "min_width": null,
       "object_fit": null,
       "object_position": null,
       "order": null,
       "overflow": null,
       "padding": null,
       "right": null,
       "top": null,
       "visibility": null,
       "width": null
      }
     },
     "a1526a47a4b443c4b6f29823e2d4c8d4": {
      "model_module": "@jupyter-widgets/controls",
      "model_module_version": "2.0.0",
      "model_name": "HTMLStyleModel",
      "state": {
       "_model_module": "@jupyter-widgets/controls",
       "_model_module_version": "2.0.0",
       "_model_name": "HTMLStyleModel",
       "_view_count": null,
       "_view_module": "@jupyter-widgets/base",
       "_view_module_version": "2.0.0",
       "_view_name": "StyleView",
       "background": null,
       "description_width": "",
       "font_size": null,
       "text_color": null
      }
     },
     "ae3668570f7649a8bd173434aafe1cde": {
      "model_module": "@jupyter-widgets/controls",
      "model_module_version": "2.0.0",
      "model_name": "FloatProgressModel",
      "state": {
       "_dom_classes": [],
       "_model_module": "@jupyter-widgets/controls",
       "_model_module_version": "2.0.0",
       "_model_name": "FloatProgressModel",
       "_view_count": null,
       "_view_module": "@jupyter-widgets/controls",
       "_view_module_version": "2.0.0",
       "_view_name": "ProgressView",
       "bar_style": "success",
       "description": "",
       "description_allow_html": false,
       "layout": "IPY_MODEL_680a5a99cc3340498fbf4ae98289334b",
       "max": 3512.0,
       "min": 0.0,
       "orientation": "horizontal",
       "style": "IPY_MODEL_23626fa5d7f744b7a025fe11c12ded39",
       "tabbable": null,
       "tooltip": null,
       "value": 3512.0
      }
     },
     "b140f0f8083740209b552e137fe2f7bf": {
      "model_module": "@jupyter-widgets/controls",
      "model_module_version": "2.0.0",
      "model_name": "HTMLStyleModel",
      "state": {
       "_model_module": "@jupyter-widgets/controls",
       "_model_module_version": "2.0.0",
       "_model_name": "HTMLStyleModel",
       "_view_count": null,
       "_view_module": "@jupyter-widgets/base",
       "_view_module_version": "2.0.0",
       "_view_name": "StyleView",
       "background": null,
       "description_width": "",
       "font_size": null,
       "text_color": null
      }
     },
     "b3e0173e20fa4bee9a8a20ff50adeab4": {
      "model_module": "@jupyter-widgets/base",
      "model_module_version": "2.0.0",
      "model_name": "LayoutModel",
      "state": {
       "_model_module": "@jupyter-widgets/base",
       "_model_module_version": "2.0.0",
       "_model_name": "LayoutModel",
       "_view_count": null,
       "_view_module": "@jupyter-widgets/base",
       "_view_module_version": "2.0.0",
       "_view_name": "LayoutView",
       "align_content": null,
       "align_items": null,
       "align_self": null,
       "border_bottom": null,
       "border_left": null,
       "border_right": null,
       "border_top": null,
       "bottom": null,
       "display": null,
       "flex": null,
       "flex_flow": null,
       "grid_area": null,
       "grid_auto_columns": null,
       "grid_auto_flow": null,
       "grid_auto_rows": null,
       "grid_column": null,
       "grid_gap": null,
       "grid_row": null,
       "grid_template_areas": null,
       "grid_template_columns": null,
       "grid_template_rows": null,
       "height": null,
       "justify_content": null,
       "justify_items": null,
       "left": null,
       "margin": null,
       "max_height": null,
       "max_width": null,
       "min_height": null,
       "min_width": null,
       "object_fit": null,
       "object_position": null,
       "order": null,
       "overflow": null,
       "padding": null,
       "right": null,
       "top": null,
       "visibility": null,
       "width": null
      }
     },
     "b4e9c4080eb149e6963f120153c76115": {
      "model_module": "@jupyter-widgets/base",
      "model_module_version": "2.0.0",
      "model_name": "LayoutModel",
      "state": {
       "_model_module": "@jupyter-widgets/base",
       "_model_module_version": "2.0.0",
       "_model_name": "LayoutModel",
       "_view_count": null,
       "_view_module": "@jupyter-widgets/base",
       "_view_module_version": "2.0.0",
       "_view_name": "LayoutView",
       "align_content": null,
       "align_items": null,
       "align_self": null,
       "border_bottom": null,
       "border_left": null,
       "border_right": null,
       "border_top": null,
       "bottom": null,
       "display": null,
       "flex": null,
       "flex_flow": null,
       "grid_area": null,
       "grid_auto_columns": null,
       "grid_auto_flow": null,
       "grid_auto_rows": null,
       "grid_column": null,
       "grid_gap": null,
       "grid_row": null,
       "grid_template_areas": null,
       "grid_template_columns": null,
       "grid_template_rows": null,
       "height": null,
       "justify_content": null,
       "justify_items": null,
       "left": null,
       "margin": null,
       "max_height": null,
       "max_width": null,
       "min_height": null,
       "min_width": null,
       "object_fit": null,
       "object_position": null,
       "order": null,
       "overflow": null,
       "padding": null,
       "right": null,
       "top": null,
       "visibility": null,
       "width": null
      }
     },
     "c17c05e67a57462f82a0c5c7bd94382d": {
      "model_module": "@jupyter-widgets/controls",
      "model_module_version": "2.0.0",
      "model_name": "HBoxModel",
      "state": {
       "_dom_classes": [],
       "_model_module": "@jupyter-widgets/controls",
       "_model_module_version": "2.0.0",
       "_model_name": "HBoxModel",
       "_view_count": null,
       "_view_module": "@jupyter-widgets/controls",
       "_view_module_version": "2.0.0",
       "_view_name": "HBoxView",
       "box_style": "",
       "children": [
        "IPY_MODEL_db795c1cdc0d4caa9d68dcc1c29004bd",
        "IPY_MODEL_8312d0a1d794436db3e561b3c5976c54",
        "IPY_MODEL_6ebcf1b28e7249e38afff19759dc9eb2"
       ],
       "layout": "IPY_MODEL_81013ac8fa5949528da89c961d44c3cc",
       "tabbable": null,
       "tooltip": null
      }
     },
     "c263f3c44af3443badff795ed33cf058": {
      "model_module": "@jupyter-widgets/base",
      "model_module_version": "2.0.0",
      "model_name": "LayoutModel",
      "state": {
       "_model_module": "@jupyter-widgets/base",
       "_model_module_version": "2.0.0",
       "_model_name": "LayoutModel",
       "_view_count": null,
       "_view_module": "@jupyter-widgets/base",
       "_view_module_version": "2.0.0",
       "_view_name": "LayoutView",
       "align_content": null,
       "align_items": null,
       "align_self": null,
       "border_bottom": null,
       "border_left": null,
       "border_right": null,
       "border_top": null,
       "bottom": null,
       "display": null,
       "flex": null,
       "flex_flow": null,
       "grid_area": null,
       "grid_auto_columns": null,
       "grid_auto_flow": null,
       "grid_auto_rows": null,
       "grid_column": null,
       "grid_gap": null,
       "grid_row": null,
       "grid_template_areas": null,
       "grid_template_columns": null,
       "grid_template_rows": null,
       "height": null,
       "justify_content": null,
       "justify_items": null,
       "left": null,
       "margin": null,
       "max_height": null,
       "max_width": null,
       "min_height": null,
       "min_width": null,
       "object_fit": null,
       "object_position": null,
       "order": null,
       "overflow": null,
       "padding": null,
       "right": null,
       "top": null,
       "visibility": null,
       "width": null
      }
     },
     "c5be1561a9204048bc8fc3b03acb35e0": {
      "model_module": "@jupyter-widgets/controls",
      "model_module_version": "2.0.0",
      "model_name": "HTMLStyleModel",
      "state": {
       "_model_module": "@jupyter-widgets/controls",
       "_model_module_version": "2.0.0",
       "_model_name": "HTMLStyleModel",
       "_view_count": null,
       "_view_module": "@jupyter-widgets/base",
       "_view_module_version": "2.0.0",
       "_view_name": "StyleView",
       "background": null,
       "description_width": "",
       "font_size": null,
       "text_color": null
      }
     },
     "c7e3a4b9e68e44bab1b1501ea1c6956e": {
      "model_module": "@jupyter-widgets/controls",
      "model_module_version": "2.0.0",
      "model_name": "HTMLModel",
      "state": {
       "_dom_classes": [],
       "_model_module": "@jupyter-widgets/controls",
       "_model_module_version": "2.0.0",
       "_model_name": "HTMLModel",
       "_view_count": null,
       "_view_module": "@jupyter-widgets/controls",
       "_view_module_version": "2.0.0",
       "_view_name": "HTMLView",
       "description": "",
       "description_allow_html": false,
       "layout": "IPY_MODEL_c263f3c44af3443badff795ed33cf058",
       "placeholder": "​",
       "style": "IPY_MODEL_b140f0f8083740209b552e137fe2f7bf",
       "tabbable": null,
       "tooltip": null,
       "value": " 1/1 [00:00&lt;00:00, 131.22it/s]"
      }
     },
     "cfb6fcda182c4034b35c89052a7ff555": {
      "model_module": "@jupyter-widgets/controls",
      "model_module_version": "2.0.0",
      "model_name": "HTMLModel",
      "state": {
       "_dom_classes": [],
       "_model_module": "@jupyter-widgets/controls",
       "_model_module_version": "2.0.0",
       "_model_name": "HTMLModel",
       "_view_count": null,
       "_view_module": "@jupyter-widgets/controls",
       "_view_module_version": "2.0.0",
       "_view_name": "HTMLView",
       "description": "",
       "description_allow_html": false,
       "layout": "IPY_MODEL_8a0fe42d4e9c4b13bd968322ee217f8c",
       "placeholder": "​",
       "style": "IPY_MODEL_909015540add48dea1f64a14eede09bb",
       "tabbable": null,
       "tooltip": null,
       "value": " 3512/3512 [00:00&lt;00:00, 49294.72 examples/s]"
      }
     },
     "d3315a180c5644eea5a8b9bdd6509841": {
      "model_module": "@jupyter-widgets/base",
      "model_module_version": "2.0.0",
      "model_name": "LayoutModel",
      "state": {
       "_model_module": "@jupyter-widgets/base",
       "_model_module_version": "2.0.0",
       "_model_name": "LayoutModel",
       "_view_count": null,
       "_view_module": "@jupyter-widgets/base",
       "_view_module_version": "2.0.0",
       "_view_name": "LayoutView",
       "align_content": null,
       "align_items": null,
       "align_self": null,
       "border_bottom": null,
       "border_left": null,
       "border_right": null,
       "border_top": null,
       "bottom": null,
       "display": null,
       "flex": null,
       "flex_flow": null,
       "grid_area": null,
       "grid_auto_columns": null,
       "grid_auto_flow": null,
       "grid_auto_rows": null,
       "grid_column": null,
       "grid_gap": null,
       "grid_row": null,
       "grid_template_areas": null,
       "grid_template_columns": null,
       "grid_template_rows": null,
       "height": null,
       "justify_content": null,
       "justify_items": null,
       "left": null,
       "margin": null,
       "max_height": null,
       "max_width": null,
       "min_height": null,
       "min_width": null,
       "object_fit": null,
       "object_position": null,
       "order": null,
       "overflow": null,
       "padding": null,
       "right": null,
       "top": null,
       "visibility": null,
       "width": null
      }
     },
     "d5dec314ab914e77a5cff10057e64d21": {
      "model_module": "@jupyter-widgets/controls",
      "model_module_version": "2.0.0",
      "model_name": "HTMLModel",
      "state": {
       "_dom_classes": [],
       "_model_module": "@jupyter-widgets/controls",
       "_model_module_version": "2.0.0",
       "_model_name": "HTMLModel",
       "_view_count": null,
       "_view_module": "@jupyter-widgets/controls",
       "_view_module_version": "2.0.0",
       "_view_name": "HTMLView",
       "description": "",
       "description_allow_html": false,
       "layout": "IPY_MODEL_dd3006670a13489693c1cddce64b305b",
       "placeholder": "​",
       "style": "IPY_MODEL_3de91b453e8e4c0a82ccaee9d3dbaa9f",
       "tabbable": null,
       "tooltip": null,
       "value": "README.md: 100%"
      }
     },
     "d7aab5aba66547d19483740b12af523c": {
      "model_module": "@jupyter-widgets/base",
      "model_module_version": "2.0.0",
      "model_name": "LayoutModel",
      "state": {
       "_model_module": "@jupyter-widgets/base",
       "_model_module_version": "2.0.0",
       "_model_name": "LayoutModel",
       "_view_count": null,
       "_view_module": "@jupyter-widgets/base",
       "_view_module_version": "2.0.0",
       "_view_name": "LayoutView",
       "align_content": null,
       "align_items": null,
       "align_self": null,
       "border_bottom": null,
       "border_left": null,
       "border_right": null,
       "border_top": null,
       "bottom": null,
       "display": null,
       "flex": null,
       "flex_flow": null,
       "grid_area": null,
       "grid_auto_columns": null,
       "grid_auto_flow": null,
       "grid_auto_rows": null,
       "grid_column": null,
       "grid_gap": null,
       "grid_row": null,
       "grid_template_areas": null,
       "grid_template_columns": null,
       "grid_template_rows": null,
       "height": null,
       "justify_content": null,
       "justify_items": null,
       "left": null,
       "margin": null,
       "max_height": null,
       "max_width": null,
       "min_height": null,
       "min_width": null,
       "object_fit": null,
       "object_position": null,
       "order": null,
       "overflow": null,
       "padding": null,
       "right": null,
       "top": null,
       "visibility": null,
       "width": null
      }
     },
     "db21fe24321a4a82a6c7629bfe3a65d0": {
      "model_module": "@jupyter-widgets/controls",
      "model_module_version": "2.0.0",
      "model_name": "ProgressStyleModel",
      "state": {
       "_model_module": "@jupyter-widgets/controls",
       "_model_module_version": "2.0.0",
       "_model_name": "ProgressStyleModel",
       "_view_count": null,
       "_view_module": "@jupyter-widgets/base",
       "_view_module_version": "2.0.0",
       "_view_name": "StyleView",
       "bar_color": null,
       "description_width": ""
      }
     },
     "db795c1cdc0d4caa9d68dcc1c29004bd": {
      "model_module": "@jupyter-widgets/controls",
      "model_module_version": "2.0.0",
      "model_name": "HTMLModel",
      "state": {
       "_dom_classes": [],
       "_model_module": "@jupyter-widgets/controls",
       "_model_module_version": "2.0.0",
       "_model_name": "HTMLModel",
       "_view_count": null,
       "_view_module": "@jupyter-widgets/controls",
       "_view_module_version": "2.0.0",
       "_view_name": "HTMLView",
       "description": "",
       "description_allow_html": false,
       "layout": "IPY_MODEL_b3e0173e20fa4bee9a8a20ff50adeab4",
       "placeholder": "​",
       "style": "IPY_MODEL_48985812080b43cca7032be650077ad5",
       "tabbable": null,
       "tooltip": null,
       "value": "combined_dataset.json: 100%"
      }
     },
     "dd3006670a13489693c1cddce64b305b": {
      "model_module": "@jupyter-widgets/base",
      "model_module_version": "2.0.0",
      "model_name": "LayoutModel",
      "state": {
       "_model_module": "@jupyter-widgets/base",
       "_model_module_version": "2.0.0",
       "_model_name": "LayoutModel",
       "_view_count": null,
       "_view_module": "@jupyter-widgets/base",
       "_view_module_version": "2.0.0",
       "_view_name": "LayoutView",
       "align_content": null,
       "align_items": null,
       "align_self": null,
       "border_bottom": null,
       "border_left": null,
       "border_right": null,
       "border_top": null,
       "bottom": null,
       "display": null,
       "flex": null,
       "flex_flow": null,
       "grid_area": null,
       "grid_auto_columns": null,
       "grid_auto_flow": null,
       "grid_auto_rows": null,
       "grid_column": null,
       "grid_gap": null,
       "grid_row": null,
       "grid_template_areas": null,
       "grid_template_columns": null,
       "grid_template_rows": null,
       "height": null,
       "justify_content": null,
       "justify_items": null,
       "left": null,
       "margin": null,
       "max_height": null,
       "max_width": null,
       "min_height": null,
       "min_width": null,
       "object_fit": null,
       "object_position": null,
       "order": null,
       "overflow": null,
       "padding": null,
       "right": null,
       "top": null,
       "visibility": null,
       "width": null
      }
     },
     "e0259004ace54aaa9452a3ded4c3399a": {
      "model_module": "@jupyter-widgets/controls",
      "model_module_version": "2.0.0",
      "model_name": "ProgressStyleModel",
      "state": {
       "_model_module": "@jupyter-widgets/controls",
       "_model_module_version": "2.0.0",
       "_model_name": "ProgressStyleModel",
       "_view_count": null,
       "_view_module": "@jupyter-widgets/base",
       "_view_module_version": "2.0.0",
       "_view_name": "StyleView",
       "bar_color": null,
       "description_width": ""
      }
     },
     "e4081c815b824a8ab04fb1ea23c82217": {
      "model_module": "@jupyter-widgets/controls",
      "model_module_version": "2.0.0",
      "model_name": "HTMLStyleModel",
      "state": {
       "_model_module": "@jupyter-widgets/controls",
       "_model_module_version": "2.0.0",
       "_model_name": "HTMLStyleModel",
       "_view_count": null,
       "_view_module": "@jupyter-widgets/base",
       "_view_module_version": "2.0.0",
       "_view_name": "StyleView",
       "background": null,
       "description_width": "",
       "font_size": null,
       "text_color": null
      }
     }
    },
    "version_major": 2,
    "version_minor": 0
   }
  }
 },
 "nbformat": 4,
 "nbformat_minor": 5
}
