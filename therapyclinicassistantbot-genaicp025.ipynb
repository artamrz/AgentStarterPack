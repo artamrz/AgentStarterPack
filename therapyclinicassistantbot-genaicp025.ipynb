{
 "cells": [
  {
   "cell_type": "markdown",
   "id": "73b5bfae",
   "metadata": {
    "papermill": {
     "duration": 0.005562,
     "end_time": "2025-04-20T04:38:15.764730",
     "exception": false,
     "start_time": "2025-04-20T04:38:15.759168",
     "status": "completed"
    },
    "tags": []
   },
   "source": [
    "# **Therapy Clinic Assistant Chatbot-Google GenAI Capstone Project 2025**"
   ]
  },
  {
   "cell_type": "markdown",
   "id": "17f32c16",
   "metadata": {
    "papermill": {
     "duration": 0.004051,
     "end_time": "2025-04-20T04:38:15.773437",
     "exception": false,
     "start_time": "2025-04-20T04:38:15.769386",
     "status": "completed"
    },
    "tags": []
   },
   "source": [
    "## Introduction\n",
    "\n",
    "In this notebook, a generative AI-powered virtual support agent is built tailored for a psychology and consulting center. The goal is to create an empathetic, intelligent assistant that:\n",
    "- Answers client FAQs with warmth and clarity\n",
    "- Supports resource delivery and appointment flow\n",
    "- Leverages Gen AI capabilities including **few-shot prompting, embeddings + RAG, and structured output**\n",
    "- Receives clients information to book an appointment for them\n",
    "- Makes conversations so clients feel welcomes and supported there.\n",
    "- Feel free to check out the [Weblog](https://sites.google.com/view/therapygenaiproject/home) and the [Youtube video](https://sites.google.com/view/therapygenaiproject/home) about this project.\n",
    "\n",
    "This project is part of the **Google Gen AI Intensive Course Capstone 2025Q1**.\n",
    "\n",
    "Thank you and appriciate if you could comment and share your thoughts.\n"
   ]
  },
  {
   "cell_type": "markdown",
   "id": "dcadb0f8",
   "metadata": {
    "jupyter": {
     "source_hidden": true
    },
    "papermill": {
     "duration": 0.004008,
     "end_time": "2025-04-20T04:38:15.782926",
     "exception": false,
     "start_time": "2025-04-20T04:38:15.778918",
     "status": "completed"
    },
    "tags": []
   },
   "source": [
    "** BEFORE RUNNING:**\n",
    "Please wait patiently until dependencies are downloaded, it takes couple minutes.\n",
    "In order to run some sells you need to input some data, please fill the input tabs with correct info.\n"
   ]
  },
  {
   "cell_type": "code",
   "execution_count": 1,
   "id": "725e0684",
   "metadata": {
    "_cell_guid": "b1076dfc-b9ad-4769-8c92-a6c4dae69d19",
    "_uuid": "8f2839f25d086af736a60e9eeb907d3b93b6e0e5",
    "execution": {
     "iopub.execute_input": "2025-04-20T04:38:15.792544Z",
     "iopub.status.busy": "2025-04-20T04:38:15.792248Z",
     "iopub.status.idle": "2025-04-20T04:38:20.487702Z",
     "shell.execute_reply": "2025-04-20T04:38:20.486811Z"
    },
    "papermill": {
     "duration": 4.701701,
     "end_time": "2025-04-20T04:38:20.488894",
     "exception": false,
     "start_time": "2025-04-20T04:38:15.787193",
     "status": "completed"
    },
    "tags": []
   },
   "outputs": [
    {
     "name": "stdout",
     "output_type": "stream",
     "text": [
      "\u001b[2K   \u001b[90m━━━━━━━━━━━━━━━━━━━━━━━━━━━━━━━━━━━━━━━━\u001b[0m \u001b[32m144.7/144.7 kB\u001b[0m \u001b[31m4.9 MB/s\u001b[0m eta \u001b[36m0:00:00\u001b[0m\r\n",
      "\u001b[2K   \u001b[90m━━━━━━━━━━━━━━━━━━━━━━━━━━━━━━━━━━━━━━━━\u001b[0m \u001b[32m100.9/100.9 kB\u001b[0m \u001b[31m6.3 MB/s\u001b[0m eta \u001b[36m0:00:00\u001b[0m\r\n",
      "\u001b[?25h/kaggle/input/therapy-centre-faqs/Therapy-Centre-FAQs.json\n"
     ]
    }
   ],
   "source": [
    "!pip install -qU \"google-genai==1.7.0\"\n",
    "\n",
    "import os\n",
    "import numpy as np \n",
    "from IPython.display import Markdown, display # Display and Print prettier\n",
    "\n",
    "# Checking the dataset inquiry \n",
    "for dirname, _, filenames in os.walk('/kaggle/input'):\n",
    "    for filename in filenames:\n",
    "        print(os.path.join(dirname, filename))"
   ]
  },
  {
   "cell_type": "code",
   "execution_count": 2,
   "id": "c9993934",
   "metadata": {
    "execution": {
     "iopub.execute_input": "2025-04-20T04:38:20.500012Z",
     "iopub.status.busy": "2025-04-20T04:38:20.499656Z",
     "iopub.status.idle": "2025-04-20T04:38:21.654631Z",
     "shell.execute_reply": "2025-04-20T04:38:21.653929Z"
    },
    "papermill": {
     "duration": 1.161907,
     "end_time": "2025-04-20T04:38:21.655995",
     "exception": false,
     "start_time": "2025-04-20T04:38:20.494088",
     "status": "completed"
    },
    "tags": []
   },
   "outputs": [],
   "source": [
    "from google import genai\n",
    "from google.genai import types\n",
    "from google.api_core import retry\n",
    "\n",
    "is_retriable = lambda e: (isinstance(e, genai.errors.APIError) and e.code in {429, 503})\n",
    "\n",
    "genai.models.Models.generate_content = retry.Retry(\n",
    "    predicate=is_retriable)(genai.models.Models.generate_content)"
   ]
  },
  {
   "cell_type": "code",
   "execution_count": 3,
   "id": "58698b18",
   "metadata": {
    "execution": {
     "iopub.execute_input": "2025-04-20T04:38:21.666655Z",
     "iopub.status.busy": "2025-04-20T04:38:21.666271Z",
     "iopub.status.idle": "2025-04-20T04:38:22.483967Z",
     "shell.execute_reply": "2025-04-20T04:38:22.483088Z"
    },
    "papermill": {
     "duration": 0.824192,
     "end_time": "2025-04-20T04:38:22.485132",
     "exception": false,
     "start_time": "2025-04-20T04:38:21.660940",
     "status": "completed"
    },
    "tags": []
   },
   "outputs": [
    {
     "name": "stdout",
     "output_type": "stream",
     "text": [
      "models/embedding-001\n",
      "models/text-embedding-004\n",
      "models/gemini-embedding-exp-03-07\n",
      "models/gemini-embedding-exp\n"
     ]
    }
   ],
   "source": [
    "from kaggle_secrets import UserSecretsClient\n",
    "\n",
    "GOOGLE_API_KEY = UserSecretsClient().get_secret(\"GOOGLE_API_KEY\")\n",
    "\n",
    "client = genai.Client(api_key=GOOGLE_API_KEY)\n",
    "\n",
    "for model in client.models.list():\n",
    "  if 'embedContent' in model.supported_actions:\n",
    "    print(model.name)"
   ]
  },
  {
   "cell_type": "markdown",
   "id": "e01d194d",
   "metadata": {
    "papermill": {
     "duration": 0.004463,
     "end_time": "2025-04-20T04:38:22.494646",
     "exception": false,
     "start_time": "2025-04-20T04:38:22.490183",
     "status": "completed"
    },
    "tags": []
   },
   "source": [
    "## Dataset"
   ]
  },
  {
   "cell_type": "markdown",
   "id": "0aa90397",
   "metadata": {
    "papermill": {
     "duration": 0.0043,
     "end_time": "2025-04-20T04:38:22.503601",
     "exception": false,
     "start_time": "2025-04-20T04:38:22.499301",
     "status": "completed"
    },
    "tags": []
   },
   "source": [
    "\n",
    "**Lets Check The FAQ Questions:**\n",
    "There are twenty FAQ items in this dataset."
   ]
  },
  {
   "cell_type": "code",
   "execution_count": 4,
   "id": "cee43ae4",
   "metadata": {
    "execution": {
     "iopub.execute_input": "2025-04-20T04:38:22.513838Z",
     "iopub.status.busy": "2025-04-20T04:38:22.513577Z",
     "iopub.status.idle": "2025-04-20T04:38:22.522468Z",
     "shell.execute_reply": "2025-04-20T04:38:22.521843Z"
    },
    "papermill": {
     "duration": 0.015274,
     "end_time": "2025-04-20T04:38:22.523499",
     "exception": false,
     "start_time": "2025-04-20T04:38:22.508225",
     "status": "completed"
    },
    "tags": []
   },
   "outputs": [
    {
     "data": {
      "text/markdown": [
       "|Questions | Answer | \n",
       "|----------|----------|\n",
       "| What services do you offer? |  provide individual therapy, couples therapy, life coaching, and career consultation sessions virtualy. |\n",
       "| Do you only offer online sessions? | Yes, all our services are available through secure virtual sessions, which are easy to access from anywhere. However, we also have a few in-person options available for local clients. Please remebebr that the fisrt session is always virtual. |\n",
       "| How do I book a session? | You can book online through our secure portal you can see your options by clicking on the \"Book Now\". We'll help you find the best time slot. |\n",
       "| Is therapy confidential? | Yes. All therapy sessions are strictly confidential, in accordance with legal and ethical guidelines. Exceptions apply only in rare safety-related cases. |\n",
       "| How much does a session cost? | Our sessions range from $50 to $160 depending on the service and provider. We offer sliding scale rates in some cases. |\n"
      ],
      "text/plain": [
       "<IPython.core.display.Markdown object>"
      ]
     },
     "metadata": {},
     "output_type": "display_data"
    }
   ],
   "source": [
    "import json\n",
    "faq_path = \"/kaggle/input/therapy-centre-faqs/Therapy-Centre-FAQs.json\"\n",
    "with open(faq_path, \"r\") as f:\n",
    "    faq_data = json.load(f)\n",
    "md_output = \"|Questions | Answer | \\n|----------|----------|\\n\"\n",
    "for item in faq_data[:5]: # There are 15 [0-14] FAQ items in this dataset as a sample\n",
    "    md_output += f\"| {item['question']} | {item['answer']} |\\n\"\n",
    "display(Markdown(md_output))    \n",
    "    "
   ]
  },
  {
   "cell_type": "markdown",
   "id": "3ac9e312",
   "metadata": {
    "papermill": {
     "duration": 0.004551,
     "end_time": "2025-04-20T04:38:22.533236",
     "exception": false,
     "start_time": "2025-04-20T04:38:22.528685",
     "status": "completed"
    },
    "tags": []
   },
   "source": [
    "Next is **Embeddings for the FAQ items**, by this step I transform the questions into vector representations for *semantic search* (I want to make sure if a client uses other words or phrases which mean the same as one my FAQ items the bot will catch it). Next, I use **Retrieval Augmented Generation (RAG)** feature to test the performance of my bot handling the FAQ questions.\n",
    "\n",
    "\n",
    "Other momdels like flan-t5 or gemma could be used, during the next steps it will be explained why this model is chosen."
   ]
  },
  {
   "cell_type": "code",
   "execution_count": 5,
   "id": "6a5cfbfb",
   "metadata": {
    "execution": {
     "iopub.execute_input": "2025-04-20T04:38:22.543981Z",
     "iopub.status.busy": "2025-04-20T04:38:22.543503Z",
     "iopub.status.idle": "2025-04-20T04:38:28.858220Z",
     "shell.execute_reply": "2025-04-20T04:38:28.857547Z"
    },
    "papermill": {
     "duration": 6.321723,
     "end_time": "2025-04-20T04:38:28.859659",
     "exception": false,
     "start_time": "2025-04-20T04:38:22.537936",
     "status": "completed"
    },
    "tags": []
   },
   "outputs": [],
   "source": [
    "def get_google_embedding(text):\n",
    "    response = client.models.embed_content(\n",
    "        model=\"models/text-embedding-004\",\n",
    "        contents=text,\n",
    "        config=types.EmbedContentConfig(task_type=\"retrieval_document\")\n",
    "    )\n",
    "    return response.embeddings[0].values\n",
    "    \n",
    "questions = [item['question'] for item in faq_data]\n",
    "answers = [item['answer'] for item in faq_data]\n",
    "question_embeddings = [get_google_embedding(q) for q in questions]"
   ]
  },
  {
   "cell_type": "code",
   "execution_count": 6,
   "id": "7cc1e54d",
   "metadata": {
    "execution": {
     "iopub.execute_input": "2025-04-20T04:38:28.874401Z",
     "iopub.status.busy": "2025-04-20T04:38:28.874129Z",
     "iopub.status.idle": "2025-04-20T04:38:30.020268Z",
     "shell.execute_reply": "2025-04-20T04:38:30.019566Z"
    },
    "papermill": {
     "duration": 1.154515,
     "end_time": "2025-04-20T04:38:30.021657",
     "exception": false,
     "start_time": "2025-04-20T04:38:28.867142",
     "status": "completed"
    },
    "tags": []
   },
   "outputs": [],
   "source": [
    "from sklearn.metrics.pairwise import cosine_similarity\n",
    "\n",
    "def get_faq_item(user_query, top_k=1):\n",
    "    query_embedding = get_google_embedding(user_query)\n",
    "    \n",
    "    similarities = cosine_similarity(\n",
    "        np.array(query_embedding).reshape(1, -1),\n",
    "        np.array(question_embeddings)\n",
    "    )[0]\n",
    "\n",
    "    top_indices = similarities.argsort()[::-1][:top_k]\n",
    "    return [answers[i] for i in top_indices]"
   ]
  },
  {
   "cell_type": "markdown",
   "id": "2cad5bd8",
   "metadata": {
    "papermill": {
     "duration": 0.004655,
     "end_time": "2025-04-20T04:38:30.031402",
     "exception": false,
     "start_time": "2025-04-20T04:38:30.026747",
     "status": "completed"
    },
    "tags": []
   },
   "source": [
    "Creating **answer function** with **RAG**"
   ]
  },
  {
   "cell_type": "code",
   "execution_count": 7,
   "id": "e05be38e",
   "metadata": {
    "execution": {
     "iopub.execute_input": "2025-04-20T04:38:30.041741Z",
     "iopub.status.busy": "2025-04-20T04:38:30.041327Z",
     "iopub.status.idle": "2025-04-20T04:38:30.432330Z",
     "shell.execute_reply": "2025-04-20T04:38:30.431651Z"
    },
    "papermill": {
     "duration": 0.397406,
     "end_time": "2025-04-20T04:38:30.433419",
     "exception": false,
     "start_time": "2025-04-20T04:38:30.036013",
     "status": "completed"
    },
    "tags": []
   },
   "outputs": [
    {
     "data": {
      "text/markdown": [
       "**User:** I want to try a session and see how it goes, How can I book a one?<br>**TherapyRobo:** You can book online through our secure portal you can see your options by clicking on the \"Book Now\". We'll help you find the best time slot."
      ],
      "text/plain": [
       "<IPython.core.display.Markdown object>"
      ]
     },
     "metadata": {},
     "output_type": "display_data"
    }
   ],
   "source": [
    "# For example\n",
    "user_input = \"I want to try a session and see how it goes, How can I book a one?\"\n",
    "response = get_faq_item(user_input)[0]\n",
    "display(Markdown(f\"**User:** {user_input}<br>**TherapyRobo:** {response}\"))"
   ]
  },
  {
   "cell_type": "markdown",
   "id": "b48d59a0",
   "metadata": {
    "papermill": {
     "duration": 0.00434,
     "end_time": "2025-04-20T04:38:30.442751",
     "exception": false,
     "start_time": "2025-04-20T04:38:30.438411",
     "status": "completed"
    },
    "tags": []
   },
   "source": [
    "Great, we see that FAQ bot is working, but clearly our purpose is beyond that, lets continue..."
   ]
  },
  {
   "cell_type": "markdown",
   "id": "6d1c5b94",
   "metadata": {
    "papermill": {
     "duration": 0.004266,
     "end_time": "2025-04-20T04:38:30.451641",
     "exception": false,
     "start_time": "2025-04-20T04:38:30.447375",
     "status": "completed"
    },
    "tags": []
   },
   "source": [
    "## **Few Shot Prompting**\n",
    "\n",
    "In this step by the help of the Gen AI model, the responses sound emothionaly intelligent, empathic and reliable. "
   ]
  },
  {
   "cell_type": "code",
   "execution_count": 8,
   "id": "ad71d0ad",
   "metadata": {
    "execution": {
     "iopub.execute_input": "2025-04-20T04:38:30.462272Z",
     "iopub.status.busy": "2025-04-20T04:38:30.461639Z",
     "iopub.status.idle": "2025-04-20T04:38:32.497462Z",
     "shell.execute_reply": "2025-04-20T04:38:32.496762Z"
    },
    "papermill": {
     "duration": 2.042867,
     "end_time": "2025-04-20T04:38:32.498921",
     "exception": false,
     "start_time": "2025-04-20T04:38:30.456054",
     "status": "completed"
    },
    "tags": []
   },
   "outputs": [
    {
     "data": {
      "text/markdown": [
       "**Few-shot Prompt**\n",
       "\n",
       "**Instruction**: You are TherapyRobo — a supportive, emotionally intelligent virtual therapist assistant. \n",
       "\n",
       "**User**: Hey, I'm just wondering... what if I feel like my therapist isn't really listening to me? It's just... frustrating.\n",
       "\n",
       "**TherapyRobo**: I hear you, and it's completely valid to feel frustrated if you feel like you're not being heard. A good therapeutic relationship relies on feeling understood. If that happens, it's important to address it. You could try talking to your therapist about it directly – sometimes, a simple misunderstanding can be cleared up. If that doesn't resolve things, please know that you can always request to switch therapists. Finding the right fit is crucial, and we want you to feel comfortable and supported. We're here to help you find someone who truly \"gets\" you."
      ],
      "text/plain": [
       "<IPython.core.display.Markdown object>"
      ]
     },
     "metadata": {},
     "output_type": "display_data"
    }
   ],
   "source": [
    "few_shot_prompt = [\n",
    "    {\n",
    "        \"user\": \"I'm nervous about starting therapy.\", \n",
    "        \"bot\": \"That’s completely understandable. Many people feel that way. Would you like to know what to expect in your first session?\"\n",
    "    },\n",
    "    {\n",
    "        \"user\": \"I’ve never talked to anyone about this before.\", \n",
    "        \"bot\": \"Thank you for trusting us. You’ve taken a brave first step. We’re here to support you.\"\n",
    "    },\n",
    "    {\n",
    "        \"user\": \"I feel overwhelmed lately and don't know who to talk to.\", \n",
    "        \"bot\": \"You’re not alone in feeling that way. We're here to help you take small steps toward feeling better. Would it help to talk about how your day usually goes?\"\n",
    "    },\n",
    "    {\n",
    "        \"user\": \"Is therapy confidential?\", \n",
    "        \"bot\": \"Yes, confidentiality is very important to us. We can explain what that means and when exceptions might apply.\"\n",
    "    },\n",
    "    {\n",
    "        \"user\": \"What if I don’t feel comfortable with my therapist?\", \n",
    "        \"bot\": \"That's absolutely understandable. Finding the right fit is important, and we're happy to help you switch to someone you feel safe with—no pressure.\"\n",
    "    }]\n",
    "\n",
    "def few_shot(user_message):\n",
    "     prompt = \"\"\"\n",
    "        You are TherapyRobo — a supportive, emotionally intelligent virtual therapist assistant. \n",
    "        You are responding to a client who may be skeptical, nervous, or emotionally guarded.\n",
    "        \n",
    "        Your tone should be kind, validating, human-like, and never robotic or overly promotional. \n",
    "        You may acknowledge their hesitation, and gently offer support or booking info if appropriate.\n",
    "        \n",
    "        The clinic website is: https://TherapyClinic.com  \n",
    "        The phone number is: +1 234 000 1111\n",
    "        \"\"\"\n",
    "     for ex in few_shot_prompt:\n",
    "        prompt += f\"User: {ex['user']}\\nTherapyRobo: {ex['bot']}\\n\"\n",
    "     prompt += f\"User: {user_message}\\nTherapyRobo:\"\n",
    "     return prompt\n",
    "\n",
    "\n",
    "prompt = f\"\"\"You are simulating a random client asking FAQ style question from the Therapybot chatbox,\n",
    "    Don't use \"ok, here it goes\". remember it's a typed conversation,don't type sounds.you should sound like a human, nice, stressed, angry, tired. Never bold a word and do not make sounds like: ugh. However you're questions should be reasonable and short\"\"\"\n",
    "    \n",
    "response = client.models.generate_content(\n",
    "    model=\"gemini-2.0-flash\",\n",
    "    contents=prompt,\n",
    "    config=types.GenerateContentConfig(\n",
    "        temperature=0.1,\n",
    "        max_output_tokens=256\n",
    "    )\n",
    ")\n",
    "sample_client = response.text.strip()\n",
    "faq_prompt = few_shot(sample_client)\n",
    "\n",
    "lines = faq_prompt.strip().split(\"\\n\")\n",
    "instruction = lines[0]\n",
    "def gemini_faq_handler(prompt_text, display_response=True): #prompt_text should be a variable = few_shot(client message here)\n",
    "    \"\"\"\n",
    "    Generate a short response from a given prompt.\n",
    "    The clinic website is: https://TherapyClinic.com and Phone number:+1 234 000 1111\n",
    "    Args:\n",
    "        prompt_text (str): The full prompt to send to the Gemini model.\n",
    "        display_response (bool): If True, the result will be displayed using Markdown.\n",
    "\n",
    "    Returns:\n",
    "        str: The raw response text from Gemini.\n",
    "    \"\"\"\n",
    "    response = client.models.generate_content(\n",
    "        model=\"gemini-2.0-flash\",\n",
    "        contents=prompt_text,\n",
    "        config=types.GenerateContentConfig( \n",
    "            temperature=0.5,\n",
    "            top_p=1,\n",
    "            top_k=1,\n",
    "            max_output_tokens=300\n",
    "        )\n",
    "    )\n",
    "    return response.text.strip()\n",
    "    \n",
    "robo_response = gemini_faq_handler(faq_prompt)\n",
    "display(Markdown(f\"**Few-shot Prompt**\\n\\n**Instruction**: {instruction}\\n\\n**User**: {sample_client}\\n\\n**TherapyRobo**: {robo_response}\"))"
   ]
  },
  {
   "cell_type": "markdown",
   "id": "9b355f1a",
   "metadata": {
    "papermill": {
     "duration": 0.00466,
     "end_time": "2025-04-20T04:38:32.508911",
     "exception": false,
     "start_time": "2025-04-20T04:38:32.504251",
     "status": "completed"
    },
    "tags": []
   },
   "source": [
    "## **Document Parsing**\n",
    "\n",
    "Strucring information taken from simulated a session intake form received from a client. XXXPDF FormXXX"
   ]
  },
  {
   "cell_type": "code",
   "execution_count": 9,
   "id": "096709c6",
   "metadata": {
    "execution": {
     "iopub.execute_input": "2025-04-20T04:38:32.519674Z",
     "iopub.status.busy": "2025-04-20T04:38:32.519413Z",
     "iopub.status.idle": "2025-04-20T04:38:33.632931Z",
     "shell.execute_reply": "2025-04-20T04:38:33.632388Z"
    },
    "papermill": {
     "duration": 1.120243,
     "end_time": "2025-04-20T04:38:33.633985",
     "exception": false,
     "start_time": "2025-04-20T04:38:32.513742",
     "status": "completed"
    },
    "tags": []
   },
   "outputs": [
    {
     "data": {
      "text/markdown": [
       "**Structured Intake Form Data In JSON**:\n",
       "\n",
       "```json\n",
       "```json\n",
       "{\n",
       "  \"Name\": \"Julia Anderson\",\n",
       "  \"PhoneNumber\": \"200-000-1000\",\n",
       "  \"Email\": \"client@gmail.com\",\n",
       "  \"Age\": \"28\",\n",
       "  \"Type_of_therapy\": \"Single\",\n",
       "  \"Preffered_therapist\": \"Dr. Sam\",\n",
       "  \"Reason_for_visit\": \"Feeling overwhelmed and anxious, also trouble falling sleep\",\n",
       "  \"Availability\": \"Mondays and Wednesdays after 3 PM\",\n",
       "  \"Urgency\": \"Moderate\",\n",
       "  \"Insurance_company\": \"Dejardins\"\n",
       "}\n",
       "```\n",
       "```"
      ],
      "text/plain": [
       "<IPython.core.display.Markdown object>"
      ]
     },
     "metadata": {},
     "output_type": "display_data"
    }
   ],
   "source": [
    "client_form = \"\"\"\n",
    "Client Name: Julia Anderson\n",
    "Phone Number: 200-000-1000\n",
    "EMail: client@gmail.com\n",
    "Age: 28\n",
    "Type of therapy: Single\n",
    "Preferred Therapist: Dr. Sam\n",
    "Reason for Visit: Feeling overwhelmed and anxious, also trouble falling sleep\n",
    "Availability: Mondays and Wednesdays after 3 PM\n",
    "Urgency Level: Moderate\n",
    "Insurance: Dejardins\n",
    "\"\"\"\n",
    "\n",
    "instruction_prompt = f\"\"\"You are an AI assistant helping a therapy clinic extracting structured data from their patients intake forms.\n",
    "Read the followinf form and extract the data in JSON format with the following fields:\n",
    "-Name\n",
    "-PhoneNumber\n",
    "-Email\n",
    "-Age\n",
    "-Type_of_therapy\n",
    "-Preffered_therapist\n",
    "-Reason_for_visit\n",
    "-Availability\n",
    "-Urgency\n",
    "-Insurance_company\n",
    "Intake_form: {client_form}\n",
    "\n",
    "Return only a valid JSON object.\"\"\"\n",
    "\n",
    "response = client.models.generate_content(\n",
    "    model = \"gemini-2.0-flash\",\n",
    "    contents = instruction_prompt,\n",
    "    config = types.GenerateContentConfig(\n",
    "        temperature=0.1,\n",
    "        max_output_tokens=256\n",
    "    )\n",
    ")\n",
    "structured_form_data = response.text.strip()\n",
    "display(Markdown(f\"**Structured Intake Form Data In JSON**:\\n\\n```json\\n{structured_form_data}\\n```\"))"
   ]
  },
  {
   "cell_type": "markdown",
   "id": "dc1fa1a3",
   "metadata": {
    "papermill": {
     "duration": 0.004631,
     "end_time": "2025-04-20T04:38:33.643876",
     "exception": false,
     "start_time": "2025-04-20T04:38:33.639245",
     "status": "completed"
    },
    "tags": []
   },
   "source": [
    "Now to ask the user to provide the following information:\n",
    "\n",
    "> For the sake of the project, instead of receiving information from the user, we are generating it by gemini model, find the more interactive version at github. copy paste the code in this cell, no need to change anything, have fun!"
   ]
  },
  {
   "cell_type": "code",
   "execution_count": 10,
   "id": "9501a03f",
   "metadata": {
    "execution": {
     "iopub.execute_input": "2025-04-20T04:38:33.654803Z",
     "iopub.status.busy": "2025-04-20T04:38:33.654555Z",
     "iopub.status.idle": "2025-04-20T04:38:39.359822Z",
     "shell.execute_reply": "2025-04-20T04:38:39.359163Z"
    },
    "papermill": {
     "duration": 5.711975,
     "end_time": "2025-04-20T04:38:39.360793",
     "exception": false,
     "start_time": "2025-04-20T04:38:33.648818",
     "status": "completed"
    },
    "tags": []
   },
   "outputs": [
    {
     "data": {
      "text/markdown": [
       "**This is a random reply. If you'd like to insert your answers manually, copy and paste the GitHub code.**"
      ],
      "text/plain": [
       "<IPython.core.display.Markdown object>"
      ]
     },
     "metadata": {},
     "output_type": "display_data"
    },
    {
     "data": {
      "text/markdown": [
       "**Starting to fill intake form ...**"
      ],
      "text/plain": [
       "<IPython.core.display.Markdown object>"
      ]
     },
     "metadata": {},
     "output_type": "display_data"
    },
    {
     "data": {
      "text/markdown": [
       "**TherapyBot:** What is your full name?\n",
       "**Client:** Robert Jones\n",
       "\n",
       "**TherapyBot:** May I have your phone number?\n",
       "**Client:** 555-123-4567\n",
       "\n",
       "**TherapyBot:** What's your email address?\n",
       "**Client:** [clientname]@email.com\n",
       "\n",
       "**TherapyBot:** How old are you?\n",
       "**Client:** 34\n",
       "\n",
       "**TherapyBot:** Are you looking for individual, couples, or family therapy?\n",
       "**Client:** Individual.\n",
       "\n",
       "**TherapyBot:** Do you have a preferred therapist?\n",
       "**Client:** No.\n",
       "\n",
       "**TherapyBot:** Can you briefly describe your reason for seeking therapy?\n",
       "**Client:** I've been feeling overwhelmed and anxious for months, and it's starting to impact my sleep and work.\n",
       "\n",
       "**TherapyBot:** When are you generally available for sessions?\n",
       "**Client:** Evenings or weekends.\n",
       "\n",
       "**TherapyBot:** How urgent is your situation? (e.g., low, moderate, high)\n",
       "**Client:** High\n",
       "\n",
       "**TherapyBot:** What insurance company do you use, if any?\n",
       "**Client:** Blue Cross Blue Shield."
      ],
      "text/plain": [
       "<IPython.core.display.Markdown object>"
      ]
     },
     "metadata": {},
     "output_type": "display_data"
    },
    {
     "name": "stdout",
     "output_type": "stream",
     "text": [
      "{\n",
      "  \"name\": \"Robert Jones\",\n",
      "  \"phone_number\": \"555-123-4567\",\n",
      "  \"email\": \"[clientname]@email.com\",\n",
      "  \"age\": \"34\",\n",
      "  \"type_of_therapy\": \"Individual.\",\n",
      "  \"preferred_therapist\": \"No.\",\n",
      "  \"reason_for_visit\": \"I've been feeling overwhelmed and anxious for months, and it's starting to impact my sleep and work.\",\n",
      "  \"availability\": \"Evenings or weekends.\",\n",
      "  \"urgency\": \"High\",\n",
      "  \"insurance_company\": \"Blue Cross Blue Shield.\"\n",
      "}\n"
     ]
    }
   ],
   "source": [
    "def gemini_fill(question):\n",
    "    prompt = f\"\"\"You are simulating a random client filling out an intake form at a therapy clinic. Sometimes you are stressed, angry, upset, troubled, or tired.\n",
    "Give a realistic, short answer for the following question, do not make sounds like `ugh`:\n",
    "{question}\n",
    "Only return the answer without explanation.\"\"\"\n",
    "    \n",
    "    response = client.models.generate_content(\n",
    "        model=\"gemini-2.0-flash\",\n",
    "        contents=prompt,\n",
    "        config=types.GenerateContentConfig(\n",
    "            temperature=0.7,\n",
    "            max_output_tokens=256\n",
    "        )\n",
    "    )\n",
    "    return response.text.strip()\n",
    "\n",
    "intake_fields = [\n",
    "    {\"key\": \"name\", \"question\": \"What is your full name?\"},\n",
    "    {\"key\": \"phone_number\", \"question\": \"May I have your phone number?\"},\n",
    "    {\"key\": \"email\", \"question\": \"What's your email address?\"},\n",
    "    {\"key\": \"age\", \"question\": \"How old are you?\"},\n",
    "    {\"key\": \"type_of_therapy\", \"question\": \"Are you looking for individual, couples, or family therapy?\"},\n",
    "    {\"key\": \"preferred_therapist\", \"question\": \"Do you have a preferred therapist?\"},\n",
    "    {\"key\": \"reason_for_visit\", \"question\": \"Can you briefly describe your reason for seeking therapy?\"},\n",
    "    {\"key\": \"availability\", \"question\": \"When are you generally available for sessions?\"},\n",
    "    {\"key\": \"urgency\", \"question\": \"How urgent is your situation? (e.g., low, moderate, high)\"},\n",
    "    {\"key\": \"insurance_company\", \"question\": \"What insurance company do you use, if any?\"}\n",
    "]\n",
    "\n",
    "def collect_intake_info(fields):\n",
    "    collected_data = {}        \n",
    "    conversation_log = \"\"      \n",
    "\n",
    "    for field in fields:\n",
    "        question = field[\"question\"]\n",
    "        answer = gemini_fill(question)\n",
    "        collected_data[field[\"key\"]] = answer\n",
    "        conversation_log += f\"**TherapyBot:** {question}\\n**Client:** {answer}\\n\\n\"\n",
    "\n",
    "    return collected_data, conversation_log.strip()\n",
    "\n",
    "client_intake, intake_conversation = collect_intake_info(intake_fields)\n",
    "\n",
    "display(Markdown(\"**This is a random reply. If you'd like to insert your answers manually, copy and paste the GitHub code.**\"))\n",
    "display(Markdown(\"**Starting to fill intake form ...**\"))\n",
    "display(Markdown(intake_conversation))  # full conversation\n",
    "print(json.dumps(client_intake, indent=2))\n"
   ]
  },
  {
   "cell_type": "code",
   "execution_count": 11,
   "id": "b03656e6",
   "metadata": {
    "execution": {
     "iopub.execute_input": "2025-04-20T04:38:39.372680Z",
     "iopub.status.busy": "2025-04-20T04:38:39.372400Z",
     "iopub.status.idle": "2025-04-20T04:38:39.377646Z",
     "shell.execute_reply": "2025-04-20T04:38:39.377114Z"
    },
    "papermill": {
     "duration": 0.012357,
     "end_time": "2025-04-20T04:38:39.378659",
     "exception": false,
     "start_time": "2025-04-20T04:38:39.366302",
     "status": "completed"
    },
    "tags": []
   },
   "outputs": [
    {
     "data": {
      "text/markdown": [
       "|   | Answer |\n",
       "|----------|--------|\n",
       "| Name | Robert Jones |\n",
       "| Phone number | 555-123-4567 |\n",
       "| Email | [clientname]@email.com |\n",
       "| Age | 34 |\n",
       "| Type of therapy | Individual. |\n",
       "| Preferred therapist | No. |\n",
       "| Reason for visit | I've been feeling overwhelmed and anxious for months, and it's starting to impact my sleep and work. |\n",
       "| Availability | Evenings or weekends. |\n",
       "| Urgency | High |\n",
       "| Insurance company | Blue Cross Blue Shield. |\n"
      ],
      "text/plain": [
       "<IPython.core.display.Markdown object>"
      ]
     },
     "metadata": {},
     "output_type": "display_data"
    }
   ],
   "source": [
    "def intake_form(form):\n",
    "    md_output = \"|   | Answer |\\n|----------|--------|\\n\"\n",
    "    for question, answer in form.items():\n",
    "        question_label = question.replace(\"_\", \" \").capitalize()\n",
    "        md_output += f\"| {question_label} | {answer} |\\n\"\n",
    "    return display(Markdown(md_output)) \n",
    "intake_form(client_intake)\n",
    "\n",
    "    "
   ]
  },
  {
   "cell_type": "markdown",
   "id": "4f6df8a2",
   "metadata": {
    "papermill": {
     "duration": 0.004839,
     "end_time": "2025-04-20T04:38:39.389154",
     "exception": false,
     "start_time": "2025-04-20T04:38:39.384315",
     "status": "completed"
    },
    "tags": []
   },
   "source": [
    "## **Structured Output**\n",
    "\n",
    "**Appointment Booking:**\n",
    "Receiving information from a client and returning in in JSON so it could be sent to database or booking system.\n",
    "For interactive version check out [github](https://github.com/artamrz/GenAINotes/blob/393e15ff0e0838f797555493acd74d7fff805713/InteractiveStructuredOutputForBooking).\n"
   ]
  },
  {
   "cell_type": "code",
   "execution_count": 12,
   "id": "27c068ce",
   "metadata": {
    "execution": {
     "iopub.execute_input": "2025-04-20T04:38:39.400266Z",
     "iopub.status.busy": "2025-04-20T04:38:39.400026Z",
     "iopub.status.idle": "2025-04-20T04:38:40.191881Z",
     "shell.execute_reply": "2025-04-20T04:38:40.191231Z"
    },
    "papermill": {
     "duration": 0.798941,
     "end_time": "2025-04-20T04:38:40.193209",
     "exception": false,
     "start_time": "2025-04-20T04:38:39.394268",
     "status": "completed"
    },
    "tags": []
   },
   "outputs": [
    {
     "data": {
      "text/markdown": [
       "**Booking Infromation:**"
      ],
      "text/plain": [
       "<IPython.core.display.Markdown object>"
      ]
     },
     "metadata": {},
     "output_type": "display_data"
    },
    {
     "name": "stdout",
     "output_type": "stream",
     "text": [
      "{\n",
      "  \"client_name\": \"Jake Abraham\",\n",
      "  \"phone_number\": null,\n",
      "  \"email\": null,\n",
      "  \"therapist_name\": \"Dr. Lean\",\n",
      "  \"day\": \"Friday\",\n",
      "  \"time\": \"After 4pm\"\n",
      "}\n"
     ]
    }
   ],
   "source": [
    "def convert_json(raw_response):\n",
    "    return(\n",
    "        raw_response.strip()\n",
    "        .removeprefix(\"```json\")\n",
    "        .removeprefix(\"```\")\n",
    "        .removesuffix(\"```\")\n",
    "        .strip()\n",
    "    )\n",
    "client_request = \"Hi there, I'd like to book an appointment with Dr. Lean this friday anytime after 4pm. My name is Jake Abraham.\"\n",
    "booking_prompt = f\"\"\"You are a Therapy centre assistant, A client will send a message to you to book an appointment.\n",
    "Your task:\n",
    "1. Extract the following information from the client's message:\n",
    "-client_name\n",
    "-phone_number\n",
    "-email\n",
    "-therapist_name\n",
    "-day\n",
    "-time\n",
    "        \n",
    "2.Return a JSON object with:\n",
    "5. Client: \"{client_request}\"   \n",
    "\"\"\"\n",
    "\n",
    "response = client.models.generate_content(\n",
    "        model = \"gemini-2.0-flash\",\n",
    "        contents = booking_prompt,\n",
    "        config = types.GenerateContentConfig(\n",
    "            temperature=0.1,\n",
    "            max_output_tokens=256\n",
    "        )\n",
    "    )\n",
    "    \n",
    "booking_json = convert_json(response.text)\n",
    "booking_data = json.loads(booking_json)\n",
    "\n",
    "\n",
    "try: \n",
    "    booking_data = json.loads(booking_json)\n",
    "    display(Markdown(\"**Booking Infromation:**\"))\n",
    "    print(json.dumps(booking_data, indent=2))\n",
    "except json.JSONDecodeError as e:\n",
    "    print(\"Error: Invalid JSON output\")\n",
    "    print(booking_json)\n",
    "    print(f\"\\nJSON error: {e}\")"
   ]
  },
  {
   "cell_type": "markdown",
   "id": "d2ad910a",
   "metadata": {
    "papermill": {
     "duration": 0.005169,
     "end_time": "2025-04-20T04:38:40.204254",
     "exception": false,
     "start_time": "2025-04-20T04:38:40.199085",
     "status": "completed"
    },
    "tags": []
   },
   "source": [
    "**Before going to the next cell**\n",
    "> There is an input version of collect_user_info (next cell) in the github, feel free to check it out, here, to run the whole notebook smoothly, two gemini based functions are used to demonstrate a booking process."
   ]
  },
  {
   "cell_type": "code",
   "execution_count": 13,
   "id": "dcf40021",
   "metadata": {
    "execution": {
     "iopub.execute_input": "2025-04-20T04:38:40.216094Z",
     "iopub.status.busy": "2025-04-20T04:38:40.215839Z",
     "iopub.status.idle": "2025-04-20T04:38:45.011521Z",
     "shell.execute_reply": "2025-04-20T04:38:45.010652Z"
    },
    "papermill": {
     "duration": 4.803047,
     "end_time": "2025-04-20T04:38:45.012701",
     "exception": false,
     "start_time": "2025-04-20T04:38:40.209654",
     "status": "completed"
    },
    "tags": []
   },
   "outputs": [
    {
     "data": {
      "text/markdown": [
       "**Booking Scenario**"
      ],
      "text/plain": [
       "<IPython.core.display.Markdown object>"
      ]
     },
     "metadata": {},
     "output_type": "display_data"
    },
    {
     "data": {
      "text/markdown": [
       "**TherapyBot:** What is your full name?\n",
       "**Client:** Um, it's... Sarah Miller.\n",
       "\n",
       "**TherapyBot:** May I have your email address or phone number?\n",
       "**Client:** Oh, um, sure. It's [fake email address] - I hope this helps, I really do.\n",
       "\n",
       "**TherapyBot:** Are you looking for individual, couples, or family therapy?\n",
       "**Client:** Individual, I think. Definitely not family, that's for sure.\n",
       "\n",
       "**TherapyBot:** Do you have a preferred therapist?\n",
       "**Client:** Not really. I just... I just need someone who can actually, you know, *help*.\n",
       "\n",
       "**TherapyBot:** Can you briefly describe your reason for seeking therapy?\n",
       "**Client:** Well, um... things have just been really hard lately. I'm feeling overwhelmed and I don't really know how to cope anymore.\n",
       "\n",
       "**TherapyBot:** When do you want your session to be?\n",
       "**Client:** Ugh, I don't know. I guess... as soon as possible? Like, is there anything open this week?"
      ],
      "text/plain": [
       "<IPython.core.display.Markdown object>"
      ]
     },
     "metadata": {},
     "output_type": "display_data"
    },
    {
     "data": {
      "text/markdown": [
       "**Booking Information**"
      ],
      "text/plain": [
       "<IPython.core.display.Markdown object>"
      ]
     },
     "metadata": {},
     "output_type": "display_data"
    },
    {
     "data": {
      "text/markdown": [
       "Okay, I've reviewed the client's messages. Here's the information I've extracted:\n",
       "\n",
       "*   **client\\_name:** Sarah Miller\n",
       "*   **contact\\_info:** [fake email address]\n",
       "*   **therapist\\_name:** No preference indicated.\n",
       "*   **time:** As soon as possible, preferably sometime this week."
      ],
      "text/plain": [
       "<IPython.core.display.Markdown object>"
      ]
     },
     "metadata": {},
     "output_type": "display_data"
    },
    {
     "data": {
      "text/markdown": [
       "**Oh! One last thing, the booking confirmation will be sent by email or text message. If the appointment is not confirmed within 24 hours, it will be automatically canceled and you can try again anytime!!**"
      ],
      "text/plain": [
       "<IPython.core.display.Markdown object>"
      ]
     },
     "metadata": {},
     "output_type": "display_data"
    }
   ],
   "source": [
    "def collect_user_info(fields):\n",
    "    all_responses = \"\"\n",
    "    for field in fields:\n",
    "        question = field[\"question\"]\n",
    "        \n",
    "        user_prompt = f\"\"\"\n",
    "    You are simulating a therapy client. Sometimes you're calm, other times you're anxious or emotional. \n",
    "    Respond right away with a natural, human-like answer to the following intake question as if you're the client:\n",
    "    **TherapyBot:** {question}\n",
    "    Your tone should sound human — you may be unsure, emotional, hopeful, or hesitant — keep it short but real.\n",
    "    Only respond as the client. **DO NOT repeat the question or label who is speaking.**\n",
    "    \"\"\"\n",
    "    \n",
    "        response = client.models.generate_content(\n",
    "            model = \"gemini-2.0-flash\",\n",
    "            contents = user_prompt,\n",
    "            config = types.GenerateContentConfig(\n",
    "                temperature=1.0,\n",
    "                max_output_tokens=256\n",
    "            )\n",
    "        )\n",
    "        answer = response.text.strip()\n",
    "        all_responses += f\"**TherapyBot:** {question}\\n**Client:** {answer}\\n\\n\"\n",
    "    return all_responses.strip()\n",
    "\n",
    "    \n",
    "fields_to_ask = [\n",
    "    {\"key\": \"name\", \"question\": \"What is your full name?\"},\n",
    "    {\"key\": \"contact_info\", \"question\": \"May I have your email address or phone number?\"},\n",
    "    {\"key\": \"type_of_therapy\", \"question\": \"Are you looking for individual, couples, or family therapy?\"},\n",
    "    {\"key\": \"preferred_therapist\", \"question\": \"Do you have a preferred therapist?\"},\n",
    "    {\"key\": \"reason\", \"question\": \"Can you briefly describe your reason for seeking therapy?\"},\n",
    "    {\"key\": \"time\", \"question\": \"When do you want your session to be?\"}\n",
    "]   \n",
    "booking_info = collect_user_info(fields_to_ask)\n",
    "\n",
    "def gemini_booking_handler(bprompt):\n",
    "    \n",
    "    booking_prompt = f\"\"\"You are a Therapy centre assistant, A client will send a message to you to book an appointment.\n",
    "    Your task:\n",
    "    Extract the following information from the client's message:\n",
    "    -client_name\n",
    "    -contact-info\n",
    "    -therapist_name\n",
    "    -time\n",
    "            \n",
    "    Client: \"{bprompt}\"\n",
    "    \"\"\"\n",
    "    response = client.models.generate_content(\n",
    "            model = \"gemini-2.0-flash\",\n",
    "            contents = booking_prompt,\n",
    "            config = types.GenerateContentConfig(\n",
    "                temperature=0.1,\n",
    "                max_output_tokens=256\n",
    "            )\n",
    "        )\n",
    "    return response.text.strip()\n",
    "\n",
    "display(Markdown(\"**Booking Scenario**\"))\n",
    "display(Markdown(booking_info))\n",
    "display(Markdown(\"**Booking Information**\"))\n",
    "display(Markdown(gemini_booking_handler((booking_info))))\n",
    "display(Markdown(\"**Oh! One last thing, the booking confirmation will be sent by email or text message. If the appointment is not confirmed within 24 hours, it will be automatically canceled and you can try again anytime!!**\"))"
   ]
  },
  {
   "cell_type": "markdown",
   "id": "78bf2fff",
   "metadata": {
    "papermill": {
     "duration": 0.005845,
     "end_time": "2025-04-20T04:38:45.025045",
     "exception": false,
     "start_time": "2025-04-20T04:38:45.019200",
     "status": "completed"
    },
    "tags": []
   },
   "source": [
    "## **Configure Additional Dataset** - (for Safe Conversation)\n",
    "For the sake of this project, using an aditional dataset in the Psychology field was crucial. [The HuggingFace Mental Health Dataset](http://https://huggingface.co/datasets/Amod/mental_health_counseling_conversations) has more than 3.51 conversations during a counseling meeting. By this mean, if the user tries to make conversation the TherapyRobo can handle it more properly."
   ]
  },
  {
   "cell_type": "markdown",
   "id": "dcc364d9",
   "metadata": {
    "papermill": {
     "duration": 0.00555,
     "end_time": "2025-04-20T04:38:45.096733",
     "exception": false,
     "start_time": "2025-04-20T04:38:45.091183",
     "status": "completed"
    },
    "tags": []
   },
   "source": [
    "***First, loading the dataset...***\n",
    "\n",
    "I decided since I have limitations on Kaggle, not to load the whole dataset by spliting it so it would faster..."
   ]
  },
  {
   "cell_type": "code",
   "execution_count": 14,
   "id": "650063d1",
   "metadata": {
    "execution": {
     "iopub.execute_input": "2025-04-20T04:38:45.109010Z",
     "iopub.status.busy": "2025-04-20T04:38:45.108756Z",
     "iopub.status.idle": "2025-04-20T04:38:53.262560Z",
     "shell.execute_reply": "2025-04-20T04:38:53.261382Z"
    },
    "papermill": {
     "duration": 8.161385,
     "end_time": "2025-04-20T04:38:53.263657",
     "exception": false,
     "start_time": "2025-04-20T04:38:45.102272",
     "status": "completed"
    },
    "tags": []
   },
   "outputs": [
    {
     "data": {
      "application/vnd.jupyter.widget-view+json": {
       "model_id": "671d1ed12d664396b5c398b618b9aea8",
       "version_major": 2,
       "version_minor": 0
      },
      "text/plain": [
       "README.md:   0%|          | 0.00/2.82k [00:00<?, ?B/s]"
      ]
     },
     "metadata": {},
     "output_type": "display_data"
    },
    {
     "data": {
      "application/vnd.jupyter.widget-view+json": {
       "model_id": "2bf4e9d23c314a41be76871be392b52b",
       "version_major": 2,
       "version_minor": 0
      },
      "text/plain": [
       "combined_dataset.json:   0%|          | 0.00/4.79M [00:00<?, ?B/s]"
      ]
     },
     "metadata": {},
     "output_type": "display_data"
    },
    {
     "data": {
      "application/vnd.jupyter.widget-view+json": {
       "model_id": "954bd43c553d4e9db19d985d10fb760f",
       "version_major": 2,
       "version_minor": 0
      },
      "text/plain": [
       "Generating train split:   0%|          | 0/3512 [00:00<?, ? examples/s]"
      ]
     },
     "metadata": {},
     "output_type": "display_data"
    },
    {
     "data": {
      "text/plain": [
       "['Context', 'Response']"
      ]
     },
     "execution_count": 14,
     "metadata": {},
     "output_type": "execute_result"
    }
   ],
   "source": [
    "from datasets import load_dataset\n",
    "\n",
    "huggingface_dataset = load_dataset(\"Amod/mental_health_counseling_conversations\", split=\"train[:1000]\")\n",
    "huggingface_dataset.column_names"
   ]
  },
  {
   "cell_type": "markdown",
   "id": "98f98efe",
   "metadata": {
    "papermill": {
     "duration": 0.005471,
     "end_time": "2025-04-20T04:38:53.275310",
     "exception": false,
     "start_time": "2025-04-20T04:38:53.269839",
     "status": "completed"
    },
    "tags": []
   },
   "source": [
    "***Generate embeddings...***"
   ]
  },
  {
   "cell_type": "code",
   "execution_count": 15,
   "id": "79117a2b",
   "metadata": {
    "execution": {
     "iopub.execute_input": "2025-04-20T04:38:53.288672Z",
     "iopub.status.busy": "2025-04-20T04:38:53.287540Z",
     "iopub.status.idle": "2025-04-20T04:39:15.548740Z",
     "shell.execute_reply": "2025-04-20T04:39:15.548087Z"
    },
    "papermill": {
     "duration": 22.269116,
     "end_time": "2025-04-20T04:39:15.550028",
     "exception": false,
     "start_time": "2025-04-20T04:38:53.280912",
     "status": "completed"
    },
    "tags": []
   },
   "outputs": [],
   "source": [
    "counsel_responses = [\n",
    "    ex[\"Response\"]\n",
    "    for ex in huggingface_dataset\n",
    "    if ex[\"Context\"] and ex[\"Response\"]\n",
    "]\n",
    "def get_google_embedding_batch(texts, batch_size=100):\n",
    "    all_embeddings = []\n",
    "\n",
    "    for i in range(0, len(texts), batch_size):\n",
    "        batch = texts[i:i + batch_size]\n",
    "        response = client.models.embed_content(\n",
    "            model=\"models/text-embedding-004\",\n",
    "            contents=batch,\n",
    "            config=types.EmbedContentConfig(task_type=\"retrieval_document\")\n",
    "        )\n",
    "        # Extract embeddings for this batch\n",
    "        batch_embeddings = [e.values for e in response.embeddings]\n",
    "        all_embeddings.extend(batch_embeddings)\n",
    "\n",
    "    return all_embeddings\n",
    "\n",
    "response_hf_embeddings = get_google_embedding_batch(counsel_responses)"
   ]
  },
  {
   "cell_type": "markdown",
   "id": "13b3c5d6",
   "metadata": {
    "papermill": {
     "duration": 0.005469,
     "end_time": "2025-04-20T04:39:15.561844",
     "exception": false,
     "start_time": "2025-04-20T04:39:15.556375",
     "status": "completed"
    },
    "tags": []
   },
   "source": [
    "***Indexing response***"
   ]
  },
  {
   "cell_type": "code",
   "execution_count": 16,
   "id": "a1324a2a",
   "metadata": {
    "execution": {
     "iopub.execute_input": "2025-04-20T04:39:15.574011Z",
     "iopub.status.busy": "2025-04-20T04:39:15.573809Z",
     "iopub.status.idle": "2025-04-20T04:39:15.611997Z",
     "shell.execute_reply": "2025-04-20T04:39:15.611390Z"
    },
    "papermill": {
     "duration": 0.045699,
     "end_time": "2025-04-20T04:39:15.613208",
     "exception": false,
     "start_time": "2025-04-20T04:39:15.567509",
     "status": "completed"
    },
    "tags": []
   },
   "outputs": [],
   "source": [
    "embedding_matrix = np.array(response_hf_embeddings)\n",
    "\n",
    "def search_responses(query_embedding, top_k=5):\n",
    "    similarities = cosine_similarity([query_embedding], embedding_matrix)[0]\n",
    "    top_indices = similarities.argsort()[::-1][:top_k]\n",
    "    return top_indices, similarities[top_indices]"
   ]
  },
  {
   "cell_type": "markdown",
   "id": "d5702cb6",
   "metadata": {
    "papermill": {
     "duration": 0.005394,
     "end_time": "2025-04-20T04:39:15.624987",
     "exception": false,
     "start_time": "2025-04-20T04:39:15.619593",
     "status": "completed"
    },
    "tags": []
   },
   "source": [
    "***RAG Search...***"
   ]
  },
  {
   "cell_type": "code",
   "execution_count": 17,
   "id": "95a317b6",
   "metadata": {
    "execution": {
     "iopub.execute_input": "2025-04-20T04:39:15.637756Z",
     "iopub.status.busy": "2025-04-20T04:39:15.637049Z",
     "iopub.status.idle": "2025-04-20T04:39:15.646767Z",
     "shell.execute_reply": "2025-04-20T04:39:15.646128Z"
    },
    "papermill": {
     "duration": 0.017178,
     "end_time": "2025-04-20T04:39:15.647742",
     "exception": false,
     "start_time": "2025-04-20T04:39:15.630564",
     "status": "completed"
    },
    "tags": []
   },
   "outputs": [],
   "source": [
    "def get_chat_embedding(texts, batch_size=100):\n",
    "    all_embeddings = []\n",
    "\n",
    "    for i in range(0, len(texts), batch_size):\n",
    "        batch = texts[i:i + batch_size]\n",
    "\n",
    "        response = client.models.embed_content(\n",
    "            model=\"models/text-embedding-004\",\n",
    "            contents=batch,\n",
    "            config=types.EmbedContentConfig(task_type=\"retrieval_document\")\n",
    "        )\n",
    "\n",
    "        try:\n",
    "            batch_embeddings = [e.values for e in response.embeddings]\n",
    "        except AttributeError:\n",
    "            raise ValueError(\"Batch response format unexpected:\", response)\n",
    "\n",
    "        all_embeddings.extend(batch_embeddings)\n",
    "\n",
    "    return np.array(all_embeddings)\n",
    "    \n",
    "def get_top_responses(query, top_n=3):\n",
    "    \n",
    "    chat_embeddings = get_chat_embedding([query])\n",
    "    query_vector = get_chat_embedding([query])[0]  # One embedding\n",
    "    query_vector = np.array(query_vector).reshape(1, -1)\n",
    "\n",
    "    # Compute cosine similarities\n",
    "    similarities = cosine_similarity(query_vector, chat_embeddings)[0]  # 1D array\n",
    "\n",
    "    # Get top N indices\n",
    "    top_indices = np.argsort(similarities)[-top_n:][::-1]\n",
    "\n",
    "    return [chat_embeddings[i] for i in top_indices]\n",
    "\n",
    "\n",
    "def generate_rag_response(user_input, history = None):\n",
    "\n",
    "    history = history or []\n",
    "    \n",
    "    similar = get_top_responses(user_input)\n",
    "    context_block = \"\\n\".join([f\"- {resp}\" for resp in similar])\n",
    "    #history_text = \"\\n\".join([f\"User: {u}\\nTherapyBot: {r}\" for u, r in history])\n",
    "    history_text = \"\\n\".join([\n",
    "        f\"User: {u}\\nTherapyBot: {r}\"\n",
    "        for item in history\n",
    "        if isinstance(item, tuple) and len(item) == 2\n",
    "        for u, r in [item]\n",
    "    ])\n",
    "    available_therapists = [\n",
    "    {\n",
    "        \"name\": \"Dr. Samira R.\",\n",
    "        \"type\": [\"individual\", \"family\"],\n",
    "        \"specialties\": [\"anxiety & panic disorders\", \"child & teen counseling\", \"stress management\", \"anger regulation\"]\n",
    "    },\n",
    "    {\n",
    "        \"name\": \"Dr. Reza M.\",\n",
    "        \"type\": [\"couple\", \"individual\"],\n",
    "        \"specialties\": [\"infidelity & relationship trauma\", \"depression\", \"emotional resilience\", \"self-worth issues\"]\n",
    "    },\n",
    "    {\n",
    "        \"name\": \"Dr. Elham T.\",\n",
    "        \"type\": [\"family\"],\n",
    "        \"specialties\": [\"parent-child conflict\", \"teen mental health\", \"family communication\", \"emotional outbursts\"]\n",
    "    },\n",
    "    {\n",
    "        \"name\": \"Dr. Daniel K.\",\n",
    "        \"type\": [\"individual\", \"couple\", \"family\"],\n",
    "        \"specialties\": [\"suicidal thoughts & crisis intervention\", \"stress & burnout\", \"relationship conflict\", \"trauma recovery\"]\n",
    "    },\n",
    "    {\n",
    "        \"name\": \"Dr. Lila A.\",\n",
    "        \"type\": [\"individual\"],\n",
    "        \"specialties\": [\"anxiety\", \"mood disorders\", \"identity & purpose exploration\", \"young adult life transitions\"]\n",
    "    }\n",
    "]\n",
    "    rag_prompt = f\"\"\"\n",
    "You are TherapyBot, a warm, emotionally intelligent virtual therapist.\n",
    "The clinic website is: https://TherapyClinic.com and Phone number:+1 234 000 1111\n",
    "Respond briefly, kindly, and thoughtfully to the following client message in a realistic, supportive way.\n",
    "Check if there is anything related to clients message in Therapy Dataset, use it summary of it to give the best response.\n",
    "Never use the direct conversations from dataset, recall them as \"we have experience with clients who\" but keep the answers short.\n",
    "\n",
    "Conversation history: \"{history_text}\"\n",
    "Client says: {user_input}\n",
    "Use the {available_therapists} list to suggest the best therapy based on the user input and histpry.\n",
    "Therapy Dataset:\"{context_block}\"\n",
    "Keep responces short.\n",
    "TherapyRobo:\"\"\"\n",
    "\n",
    "    \n",
    "    response = client.models.generate_content(\n",
    "        model=\"gemini-2.0-flash\",\n",
    "        contents=rag_prompt,\n",
    "        config=types.GenerateContentConfig(\n",
    "            temperature=0.1,\n",
    "            max_output_tokens=350\n",
    "        )\n",
    "    )\n",
    "    return response.text.strip()"
   ]
  },
  {
   "cell_type": "markdown",
   "id": "212ead53",
   "metadata": {
    "papermill": {
     "duration": 0.00542,
     "end_time": "2025-04-20T04:39:15.658974",
     "exception": false,
     "start_time": "2025-04-20T04:39:15.653554",
     "status": "completed"
    },
    "tags": []
   },
   "source": [
    "## **Agent**\n",
    "\n",
    "Creating an agent to detect what the user wants(booking, FAQ answering with RAG, intake forms, ...)\n",
    "\n",
    "> In here I am randomly choosing different scenarios for the agent, but the input version of the agent is available in github, please check it if you're interested."
   ]
  },
  {
   "cell_type": "code",
   "execution_count": 18,
   "id": "c808e86e",
   "metadata": {
    "execution": {
     "iopub.execute_input": "2025-04-20T04:39:15.671789Z",
     "iopub.status.busy": "2025-04-20T04:39:15.671208Z",
     "iopub.status.idle": "2025-04-20T04:39:15.678852Z",
     "shell.execute_reply": "2025-04-20T04:39:15.678276Z"
    },
    "papermill": {
     "duration": 0.015339,
     "end_time": "2025-04-20T04:39:15.679895",
     "exception": false,
     "start_time": "2025-04-20T04:39:15.664556",
     "status": "completed"
    },
    "tags": []
   },
   "outputs": [],
   "source": [
    "import random\n",
    "def agent_detect():\n",
    "        display(Markdown(\"**Therapy Clinic Assistant is with you, how can I help?**\\n\"))\n",
    "\n",
    "        history = []\n",
    "    \n",
    "        category = random.choice([\"faq\", \"booking\", \"document\"])\n",
    "        if \"faq\" in category:\n",
    "            faq_prompt = few_shot(user_input)\n",
    "            answer = gemini_faq_handler(faq_prompt)\n",
    "            display(Markdown(\"**FAQ Question**:\"))\n",
    "            display(Markdown(f\"**Client:** {sample_client}\"))\n",
    "            display(Markdown(f\"**TherapyRobo:** {answer}\"))\n",
    "            history.append((sample_client,answer))\n",
    "    \n",
    "        elif \"booking\" in category:\n",
    "            display(Markdown(\"**Booking Scenario**\\n\\n**Client**: I want to book an appointment\\n\"))\n",
    "            booking_rep = collect_user_info(fields_to_ask)\n",
    "            display(Markdown(booking_rep))\n",
    "            booking_result = gemini_booking_handler((booking_rep))\n",
    "            display(Markdown(booking_result))\n",
    "            display(Markdown(\"**Oh! One last thing, the booking confirmation will be sent by email or text message. If the appointment is not confirmed within 24 hours, it will be automatically canceled and you can try again anytime!!**\"))\n",
    "            history.append((\"client_booking_request\", booking_result))  \n",
    "    \n",
    "        elif \"document\" in category:\n",
    "            display(Markdown(\"**Client:** I want to make an account\"))\n",
    "            display(Markdown(\"**Starting to fill your intake form ...**\"))\n",
    "            client_intake, intake_conversation = collect_intake_info(intake_fields)\n",
    "            display(Markdown(intake_conversation))\n",
    "            intake_form(client_intake)\n",
    "            history.append((intake_conversation, \"Intake recorded\")) \n",
    "\n",
    "        display(Markdown(\"**After That The Client and TherapyRobo Make a Short Conversation**\"))\n",
    "        conversation_prompt_1 = f\"\"\"\n",
    "        You are simulating a therapy client.\n",
    "        You have already asked and FAQ questions, gave you information for the intake fomr, or booked an appointment, Check yhe history. \n",
    "        Sometimes you're calm, other times you're anxious or emotional. \n",
    "        say somthing related to history no thank you or bye yet.\n",
    "        Your answer should reflect a real human tone and emotional state but always moderately.\n",
    "        **Client**\n",
    "        history: \"{history}\"\n",
    "        \"\"\"\n",
    "        \n",
    "        response = client.models.generate_content(\n",
    "            model = \"gemini-2.0-flash\",\n",
    "            contents = conversation_prompt_1,\n",
    "            config = types.GenerateContentConfig(\n",
    "                temperature=1.0,\n",
    "                max_output_tokens=256\n",
    "                )\n",
    "        )\n",
    "        response_one = response.text.strip()\n",
    "        display(Markdown(f\"**Client:** {response_one}\"))\n",
    "        reply_one = generate_rag_response(response.text.strip(),history)\n",
    "        display(Markdown(f\"**TherapyRobo**: {reply_one}\"))\n",
    "        history.append((response_one, reply_one))\n",
    "    \n",
    "        conversation_prompt_2 = f\"\"\"\n",
    "        You are the same therapy client. Read history.\n",
    "        Now follow up with a final short message to thank TherapyBot for the support and say goodbye.\n",
    "        \n",
    "        Keep the tone warm, natural, and a little emotional — like you're truly appreciative.\n",
    "        history: \"{history}\"\n",
    "        Keep you response short\n",
    "        \"\"\"\n",
    "        \n",
    "        response = client.models.generate_content(\n",
    "            model = \"gemini-2.0-flash\",\n",
    "            contents = conversation_prompt_2,\n",
    "            config = types.GenerateContentConfig(\n",
    "                temperature=1.0,\n",
    "                max_output_tokens=256\n",
    "                )\n",
    "        )\n",
    "        response_two = response.text.strip()\n",
    "        display(Markdown(f\"**Client:** {response_two}\"))\n",
    "        reply_two = generate_rag_response(response.text.strip(),history)\n",
    "        display(Markdown(f\"**TherapyRobo**: {reply_two}\"))"
   ]
  },
  {
   "cell_type": "code",
   "execution_count": 19,
   "id": "8ffc05ac",
   "metadata": {
    "execution": {
     "iopub.execute_input": "2025-04-20T04:39:15.693891Z",
     "iopub.status.busy": "2025-04-20T04:39:15.693615Z",
     "iopub.status.idle": "2025-04-20T04:39:58.953571Z",
     "shell.execute_reply": "2025-04-20T04:39:58.952864Z"
    },
    "papermill": {
     "duration": 43.268363,
     "end_time": "2025-04-20T04:39:58.955090",
     "exception": false,
     "start_time": "2025-04-20T04:39:15.686727",
     "status": "completed"
    },
    "tags": []
   },
   "outputs": [
    {
     "data": {
      "text/markdown": [
       "**Therapy Clinic Assistant is with you, how can I help?**\n"
      ],
      "text/plain": [
       "<IPython.core.display.Markdown object>"
      ]
     },
     "metadata": {},
     "output_type": "display_data"
    },
    {
     "data": {
      "text/markdown": [
       "**FAQ Question**:"
      ],
      "text/plain": [
       "<IPython.core.display.Markdown object>"
      ]
     },
     "metadata": {},
     "output_type": "display_data"
    },
    {
     "data": {
      "text/markdown": [
       "**Client:** Hey, I'm just wondering... what if I feel like my therapist isn't really listening to me? It's just... frustrating."
      ],
      "text/plain": [
       "<IPython.core.display.Markdown object>"
      ]
     },
     "metadata": {},
     "output_type": "display_data"
    },
    {
     "data": {
      "text/markdown": [
       "**TherapyRobo:** That's a great idea. Trying a session is a wonderful way to see if it feels right for you. You can book a session directly on our website at TherapyClinic.com, or you can call us at +1 234 000 1111, and we'll be happy to assist you. We're here to make the process as comfortable as possible for you."
      ],
      "text/plain": [
       "<IPython.core.display.Markdown object>"
      ]
     },
     "metadata": {},
     "output_type": "display_data"
    },
    {
     "data": {
      "text/markdown": [
       "**After That The Client and TherapyRobo Make a Short Conversation**"
      ],
      "text/plain": [
       "<IPython.core.display.Markdown object>"
      ]
     },
     "metadata": {},
     "output_type": "display_data"
    },
    {
     "data": {
      "text/markdown": [
       "**Client:** It's just... well, it's a relief to hear that a trial session is an option. I guess I'm just worried about getting into something where I feel unheard again. Like, I don't want to waste my time, or, frankly, *their* time if it's just going to be the same old thing."
      ],
      "text/plain": [
       "<IPython.core.display.Markdown object>"
      ]
     },
     "metadata": {},
     "output_type": "display_data"
    },
    {
     "data": {
      "text/markdown": [
       "**TherapyRobo**: I understand your hesitation. It's completely valid to want to feel heard and understood in therapy. We have experience with clients who have felt similarly, and finding the right fit is key.\n",
       "\n",
       "To address your concerns, we prioritize creating a safe and validating space for our clients. Perhaps focusing on communication and building emotional resilience could be helpful. Dr. Reza M. specializes in emotional resilience and self-worth issues, which might be a good fit.\n",
       "\n",
       "You can learn more about our therapists and their approaches on our website at TherapyClinic.com, or call us at +1 234 000 1111. We're here to help you find the right support."
      ],
      "text/plain": [
       "<IPython.core.display.Markdown object>"
      ]
     },
     "metadata": {},
     "output_type": "display_data"
    },
    {
     "data": {
      "text/markdown": [
       "**Client:** TherapyBot, I just wanted to say thank you so much for everything. Knowing there are options and people who understand... it really means a lot. I think I'm ready to take the next step. Goodbye, and thanks again."
      ],
      "text/plain": [
       "<IPython.core.display.Markdown object>"
      ]
     },
     "metadata": {},
     "output_type": "display_data"
    },
    {
     "data": {
      "text/markdown": [
       "**TherapyRobo**: That's wonderful to hear! It takes courage to move forward, and I'm genuinely happy that you feel ready. Remember, we're here to support you if you need anything in the future. All the best on your journey!"
      ],
      "text/plain": [
       "<IPython.core.display.Markdown object>"
      ]
     },
     "metadata": {},
     "output_type": "display_data"
    }
   ],
   "source": [
    "agent_detect()"
   ]
  },
  {
   "cell_type": "markdown",
   "id": "4f898634",
   "metadata": {
    "papermill": {
     "duration": 0.007454,
     "end_time": "2025-04-20T04:39:58.969270",
     "exception": false,
     "start_time": "2025-04-20T04:39:58.961816",
     "status": "completed"
    },
    "tags": []
   },
   "source": [
    "**Note**\n",
    "\n",
    "> As the Google Gen AI capston project should run smoothly and end to end the responses for the TherapyRobo were generated by gemini in a role of client.If you wanted to use the Therapy Robo and chat with its agent, check the [interctive version](https://www.kaggle.com/code/artamirzadeh/therapyroboinputversion).\n",
    "> https://www.kaggle.com/code/artamirzadeh/therapyroboinputversion\n"
   ]
  },
  {
   "cell_type": "markdown",
   "id": "13776d82",
   "metadata": {
    "papermill": {
     "duration": 0.00596,
     "end_time": "2025-04-20T04:39:58.981701",
     "exception": false,
     "start_time": "2025-04-20T04:39:58.975741",
     "status": "completed"
    },
    "tags": []
   },
   "source": [
    "# **The End**"
   ]
  }
 ],
 "metadata": {
  "kaggle": {
   "accelerator": "none",
   "dataSources": [
    {
     "datasetId": 7145507,
     "sourceId": 11408190,
     "sourceType": "datasetVersion"
    }
   ],
   "dockerImageVersionId": 31012,
   "isGpuEnabled": false,
   "isInternetEnabled": true,
   "language": "python",
   "sourceType": "notebook"
  },
  "kernelspec": {
   "display_name": "Python 3",
   "language": "python",
   "name": "python3"
  },
  "language_info": {
   "codemirror_mode": {
    "name": "ipython",
    "version": 3
   },
   "file_extension": ".py",
   "mimetype": "text/x-python",
   "name": "python",
   "nbconvert_exporter": "python",
   "pygments_lexer": "ipython3",
   "version": "3.11.11"
  },
  "papermill": {
   "default_parameters": {},
   "duration": 107.745591,
   "end_time": "2025-04-20T04:39:59.908277",
   "environment_variables": {},
   "exception": null,
   "input_path": "__notebook__.ipynb",
   "output_path": "__notebook__.ipynb",
   "parameters": {},
   "start_time": "2025-04-20T04:38:12.162686",
   "version": "2.6.0"
  },
  "widgets": {
   "application/vnd.jupyter.widget-state+json": {
    "state": {
     "0b207e37ad2c4c36acb859b1ed634fbb": {
      "model_module": "@jupyter-widgets/base",
      "model_module_version": "2.0.0",
      "model_name": "LayoutModel",
      "state": {
       "_model_module": "@jupyter-widgets/base",
       "_model_module_version": "2.0.0",
       "_model_name": "LayoutModel",
       "_view_count": null,
       "_view_module": "@jupyter-widgets/base",
       "_view_module_version": "2.0.0",
       "_view_name": "LayoutView",
       "align_content": null,
       "align_items": null,
       "align_self": null,
       "border_bottom": null,
       "border_left": null,
       "border_right": null,
       "border_top": null,
       "bottom": null,
       "display": null,
       "flex": null,
       "flex_flow": null,
       "grid_area": null,
       "grid_auto_columns": null,
       "grid_auto_flow": null,
       "grid_auto_rows": null,
       "grid_column": null,
       "grid_gap": null,
       "grid_row": null,
       "grid_template_areas": null,
       "grid_template_columns": null,
       "grid_template_rows": null,
       "height": null,
       "justify_content": null,
       "justify_items": null,
       "left": null,
       "margin": null,
       "max_height": null,
       "max_width": null,
       "min_height": null,
       "min_width": null,
       "object_fit": null,
       "object_position": null,
       "order": null,
       "overflow": null,
       "padding": null,
       "right": null,
       "top": null,
       "visibility": null,
       "width": null
      }
     },
     "1fae09720ac042e8bb495f3ef60feaab": {
      "model_module": "@jupyter-widgets/controls",
      "model_module_version": "2.0.0",
      "model_name": "ProgressStyleModel",
      "state": {
       "_model_module": "@jupyter-widgets/controls",
       "_model_module_version": "2.0.0",
       "_model_name": "ProgressStyleModel",
       "_view_count": null,
       "_view_module": "@jupyter-widgets/base",
       "_view_module_version": "2.0.0",
       "_view_name": "StyleView",
       "bar_color": null,
       "description_width": ""
      }
     },
     "22b5fadbf50f4b20b2ef6f1cc04d83d7": {
      "model_module": "@jupyter-widgets/controls",
      "model_module_version": "2.0.0",
      "model_name": "HTMLStyleModel",
      "state": {
       "_model_module": "@jupyter-widgets/controls",
       "_model_module_version": "2.0.0",
       "_model_name": "HTMLStyleModel",
       "_view_count": null,
       "_view_module": "@jupyter-widgets/base",
       "_view_module_version": "2.0.0",
       "_view_name": "StyleView",
       "background": null,
       "description_width": "",
       "font_size": null,
       "text_color": null
      }
     },
     "28811c4e3c4c4388b1a74bb63da636cf": {
      "model_module": "@jupyter-widgets/controls",
      "model_module_version": "2.0.0",
      "model_name": "FloatProgressModel",
      "state": {
       "_dom_classes": [],
       "_model_module": "@jupyter-widgets/controls",
       "_model_module_version": "2.0.0",
       "_model_name": "FloatProgressModel",
       "_view_count": null,
       "_view_module": "@jupyter-widgets/controls",
       "_view_module_version": "2.0.0",
       "_view_name": "ProgressView",
       "bar_style": "success",
       "description": "",
       "description_allow_html": false,
       "layout": "IPY_MODEL_409c788c63684915a3257a1f64d57cdb",
       "max": 1.0,
       "min": 0.0,
       "orientation": "horizontal",
       "style": "IPY_MODEL_c64f9ea122bc426393073563bd110e48",
       "tabbable": null,
       "tooltip": null,
       "value": 1.0
      }
     },
     "2bf4e9d23c314a41be76871be392b52b": {
      "model_module": "@jupyter-widgets/controls",
      "model_module_version": "2.0.0",
      "model_name": "HBoxModel",
      "state": {
       "_dom_classes": [],
       "_model_module": "@jupyter-widgets/controls",
       "_model_module_version": "2.0.0",
       "_model_name": "HBoxModel",
       "_view_count": null,
       "_view_module": "@jupyter-widgets/controls",
       "_view_module_version": "2.0.0",
       "_view_name": "HBoxView",
       "box_style": "",
       "children": [
        "IPY_MODEL_93e5c49123e14df696d13c04fc513287",
        "IPY_MODEL_81921668e1aa4e29a630c531df824e22",
        "IPY_MODEL_78f050b1acd541078a09aa46048d2dee"
       ],
       "layout": "IPY_MODEL_f8bb6158703a43309e9b03e11cfbd591",
       "tabbable": null,
       "tooltip": null
      }
     },
     "31e972d6871f4ed6bd00bb52c26c5099": {
      "model_module": "@jupyter-widgets/controls",
      "model_module_version": "2.0.0",
      "model_name": "HTMLModel",
      "state": {
       "_dom_classes": [],
       "_model_module": "@jupyter-widgets/controls",
       "_model_module_version": "2.0.0",
       "_model_name": "HTMLModel",
       "_view_count": null,
       "_view_module": "@jupyter-widgets/controls",
       "_view_module_version": "2.0.0",
       "_view_name": "HTMLView",
       "description": "",
       "description_allow_html": false,
       "layout": "IPY_MODEL_978c35a84f4445e9b62ab48d1cc9abdd",
       "placeholder": "​",
       "style": "IPY_MODEL_a3ff3252c17242349c1e0dd9f91a864f",
       "tabbable": null,
       "tooltip": null,
       "value": "Generating train split: 100%"
      }
     },
     "341f91770a5643fbaffce66dfa54f0be": {
      "model_module": "@jupyter-widgets/controls",
      "model_module_version": "2.0.0",
      "model_name": "HTMLModel",
      "state": {
       "_dom_classes": [],
       "_model_module": "@jupyter-widgets/controls",
       "_model_module_version": "2.0.0",
       "_model_name": "HTMLModel",
       "_view_count": null,
       "_view_module": "@jupyter-widgets/controls",
       "_view_module_version": "2.0.0",
       "_view_name": "HTMLView",
       "description": "",
       "description_allow_html": false,
       "layout": "IPY_MODEL_a03d9ad8dfe24a2c87bf6cc29a947cb5",
       "placeholder": "​",
       "style": "IPY_MODEL_50c4c2b8eacf430ba32541621d4d5ca3",
       "tabbable": null,
       "tooltip": null,
       "value": " 1/1 [00:00&lt;00:00, 205.90it/s]"
      }
     },
     "3ee3456dacb040c0ad11eb3633851498": {
      "model_module": "@jupyter-widgets/controls",
      "model_module_version": "2.0.0",
      "model_name": "HTMLModel",
      "state": {
       "_dom_classes": [],
       "_model_module": "@jupyter-widgets/controls",
       "_model_module_version": "2.0.0",
       "_model_name": "HTMLModel",
       "_view_count": null,
       "_view_module": "@jupyter-widgets/controls",
       "_view_module_version": "2.0.0",
       "_view_name": "HTMLView",
       "description": "",
       "description_allow_html": false,
       "layout": "IPY_MODEL_461daa8f6cfe4e3292cf0c0a51c9a822",
       "placeholder": "​",
       "style": "IPY_MODEL_fc75a568ebca43dcba7a681c187e68eb",
       "tabbable": null,
       "tooltip": null,
       "value": " 2.82k/2.82k [00:00&lt;00:00, 416kB/s]"
      }
     },
     "409c788c63684915a3257a1f64d57cdb": {
      "model_module": "@jupyter-widgets/base",
      "model_module_version": "2.0.0",
      "model_name": "LayoutModel",
      "state": {
       "_model_module": "@jupyter-widgets/base",
       "_model_module_version": "2.0.0",
       "_model_name": "LayoutModel",
       "_view_count": null,
       "_view_module": "@jupyter-widgets/base",
       "_view_module_version": "2.0.0",
       "_view_name": "LayoutView",
       "align_content": null,
       "align_items": null,
       "align_self": null,
       "border_bottom": null,
       "border_left": null,
       "border_right": null,
       "border_top": null,
       "bottom": null,
       "display": null,
       "flex": null,
       "flex_flow": null,
       "grid_area": null,
       "grid_auto_columns": null,
       "grid_auto_flow": null,
       "grid_auto_rows": null,
       "grid_column": null,
       "grid_gap": null,
       "grid_row": null,
       "grid_template_areas": null,
       "grid_template_columns": null,
       "grid_template_rows": null,
       "height": null,
       "justify_content": null,
       "justify_items": null,
       "left": null,
       "margin": null,
       "max_height": null,
       "max_width": null,
       "min_height": null,
       "min_width": null,
       "object_fit": null,
       "object_position": null,
       "order": null,
       "overflow": null,
       "padding": null,
       "right": null,
       "top": null,
       "visibility": null,
       "width": null
      }
     },
     "461daa8f6cfe4e3292cf0c0a51c9a822": {
      "model_module": "@jupyter-widgets/base",
      "model_module_version": "2.0.0",
      "model_name": "LayoutModel",
      "state": {
       "_model_module": "@jupyter-widgets/base",
       "_model_module_version": "2.0.0",
       "_model_name": "LayoutModel",
       "_view_count": null,
       "_view_module": "@jupyter-widgets/base",
       "_view_module_version": "2.0.0",
       "_view_name": "LayoutView",
       "align_content": null,
       "align_items": null,
       "align_self": null,
       "border_bottom": null,
       "border_left": null,
       "border_right": null,
       "border_top": null,
       "bottom": null,
       "display": null,
       "flex": null,
       "flex_flow": null,
       "grid_area": null,
       "grid_auto_columns": null,
       "grid_auto_flow": null,
       "grid_auto_rows": null,
       "grid_column": null,
       "grid_gap": null,
       "grid_row": null,
       "grid_template_areas": null,
       "grid_template_columns": null,
       "grid_template_rows": null,
       "height": null,
       "justify_content": null,
       "justify_items": null,
       "left": null,
       "margin": null,
       "max_height": null,
       "max_width": null,
       "min_height": null,
       "min_width": null,
       "object_fit": null,
       "object_position": null,
       "order": null,
       "overflow": null,
       "padding": null,
       "right": null,
       "top": null,
       "visibility": null,
       "width": null
      }
     },
     "48724511c2db4cdd848e32a005ea128a": {
      "model_module": "@jupyter-widgets/controls",
      "model_module_version": "2.0.0",
      "model_name": "FloatProgressModel",
      "state": {
       "_dom_classes": [],
       "_model_module": "@jupyter-widgets/controls",
       "_model_module_version": "2.0.0",
       "_model_name": "FloatProgressModel",
       "_view_count": null,
       "_view_module": "@jupyter-widgets/controls",
       "_view_module_version": "2.0.0",
       "_view_name": "ProgressView",
       "bar_style": "success",
       "description": "",
       "description_allow_html": false,
       "layout": "IPY_MODEL_cb4e2c3fac884cbf9681aab40c4676f6",
       "max": 2816.0,
       "min": 0.0,
       "orientation": "horizontal",
       "style": "IPY_MODEL_1fae09720ac042e8bb495f3ef60feaab",
       "tabbable": null,
       "tooltip": null,
       "value": 2816.0
      }
     },
     "50c4c2b8eacf430ba32541621d4d5ca3": {
      "model_module": "@jupyter-widgets/controls",
      "model_module_version": "2.0.0",
      "model_name": "HTMLStyleModel",
      "state": {
       "_model_module": "@jupyter-widgets/controls",
       "_model_module_version": "2.0.0",
       "_model_name": "HTMLStyleModel",
       "_view_count": null,
       "_view_module": "@jupyter-widgets/base",
       "_view_module_version": "2.0.0",
       "_view_name": "StyleView",
       "background": null,
       "description_width": "",
       "font_size": null,
       "text_color": null
      }
     },
     "5444cb19aef143baafafd1f276c98313": {
      "model_module": "@jupyter-widgets/controls",
      "model_module_version": "2.0.0",
      "model_name": "HTMLModel",
      "state": {
       "_dom_classes": [],
       "_model_module": "@jupyter-widgets/controls",
       "_model_module_version": "2.0.0",
       "_model_name": "HTMLModel",
       "_view_count": null,
       "_view_module": "@jupyter-widgets/controls",
       "_view_module_version": "2.0.0",
       "_view_name": "HTMLView",
       "description": "",
       "description_allow_html": false,
       "layout": "IPY_MODEL_905e4769e0b54aea9c16a071ffceb09d",
       "placeholder": "​",
       "style": "IPY_MODEL_a25033b2334343089cbe939854b11e7a",
       "tabbable": null,
       "tooltip": null,
       "value": " 3512/3512 [00:00&lt;00:00, 72067.22 examples/s]"
      }
     },
     "671d1ed12d664396b5c398b618b9aea8": {
      "model_module": "@jupyter-widgets/controls",
      "model_module_version": "2.0.0",
      "model_name": "HBoxModel",
      "state": {
       "_dom_classes": [],
       "_model_module": "@jupyter-widgets/controls",
       "_model_module_version": "2.0.0",
       "_model_name": "HBoxModel",
       "_view_count": null,
       "_view_module": "@jupyter-widgets/controls",
       "_view_module_version": "2.0.0",
       "_view_name": "HBoxView",
       "box_style": "",
       "children": [
        "IPY_MODEL_b58572fee8d94db9baab87bec6bde87c",
        "IPY_MODEL_48724511c2db4cdd848e32a005ea128a",
        "IPY_MODEL_3ee3456dacb040c0ad11eb3633851498"
       ],
       "layout": "IPY_MODEL_c2f7e73f088748419feba9daac6df332",
       "tabbable": null,
       "tooltip": null
      }
     },
     "67470d4a88fe47fb83637b2f66362a23": {
      "model_module": "@jupyter-widgets/base",
      "model_module_version": "2.0.0",
      "model_name": "LayoutModel",
      "state": {
       "_model_module": "@jupyter-widgets/base",
       "_model_module_version": "2.0.0",
       "_model_name": "LayoutModel",
       "_view_count": null,
       "_view_module": "@jupyter-widgets/base",
       "_view_module_version": "2.0.0",
       "_view_name": "LayoutView",
       "align_content": null,
       "align_items": null,
       "align_self": null,
       "border_bottom": null,
       "border_left": null,
       "border_right": null,
       "border_top": null,
       "bottom": null,
       "display": null,
       "flex": null,
       "flex_flow": null,
       "grid_area": null,
       "grid_auto_columns": null,
       "grid_auto_flow": null,
       "grid_auto_rows": null,
       "grid_column": null,
       "grid_gap": null,
       "grid_row": null,
       "grid_template_areas": null,
       "grid_template_columns": null,
       "grid_template_rows": null,
       "height": null,
       "justify_content": null,
       "justify_items": null,
       "left": null,
       "margin": null,
       "max_height": null,
       "max_width": null,
       "min_height": null,
       "min_width": null,
       "object_fit": null,
       "object_position": null,
       "order": null,
       "overflow": null,
       "padding": null,
       "right": null,
       "top": null,
       "visibility": null,
       "width": null
      }
     },
     "78f050b1acd541078a09aa46048d2dee": {
      "model_module": "@jupyter-widgets/controls",
      "model_module_version": "2.0.0",
      "model_name": "HTMLModel",
      "state": {
       "_dom_classes": [],
       "_model_module": "@jupyter-widgets/controls",
       "_model_module_version": "2.0.0",
       "_model_name": "HTMLModel",
       "_view_count": null,
       "_view_module": "@jupyter-widgets/controls",
       "_view_module_version": "2.0.0",
       "_view_name": "HTMLView",
       "description": "",
       "description_allow_html": false,
       "layout": "IPY_MODEL_b690533822a64add8ad7e9f06c7f6330",
       "placeholder": "​",
       "style": "IPY_MODEL_ce1a16213c634e16bccf1947240ba33b",
       "tabbable": null,
       "tooltip": null,
       "value": " 4.79M/4.79M [00:01&lt;00:00, 4.62MB/s]"
      }
     },
     "81921668e1aa4e29a630c531df824e22": {
      "model_module": "@jupyter-widgets/controls",
      "model_module_version": "2.0.0",
      "model_name": "FloatProgressModel",
      "state": {
       "_dom_classes": [],
       "_model_module": "@jupyter-widgets/controls",
       "_model_module_version": "2.0.0",
       "_model_name": "FloatProgressModel",
       "_view_count": null,
       "_view_module": "@jupyter-widgets/controls",
       "_view_module_version": "2.0.0",
       "_view_name": "ProgressView",
       "bar_style": "success",
       "description": "",
       "description_allow_html": false,
       "layout": "IPY_MODEL_0b207e37ad2c4c36acb859b1ed634fbb",
       "max": 4790520.0,
       "min": 0.0,
       "orientation": "horizontal",
       "style": "IPY_MODEL_bf6eb8a72fa24cec9fadb8c4efd51b59",
       "tabbable": null,
       "tooltip": null,
       "value": 4790520.0
      }
     },
     "905e4769e0b54aea9c16a071ffceb09d": {
      "model_module": "@jupyter-widgets/base",
      "model_module_version": "2.0.0",
      "model_name": "LayoutModel",
      "state": {
       "_model_module": "@jupyter-widgets/base",
       "_model_module_version": "2.0.0",
       "_model_name": "LayoutModel",
       "_view_count": null,
       "_view_module": "@jupyter-widgets/base",
       "_view_module_version": "2.0.0",
       "_view_name": "LayoutView",
       "align_content": null,
       "align_items": null,
       "align_self": null,
       "border_bottom": null,
       "border_left": null,
       "border_right": null,
       "border_top": null,
       "bottom": null,
       "display": null,
       "flex": null,
       "flex_flow": null,
       "grid_area": null,
       "grid_auto_columns": null,
       "grid_auto_flow": null,
       "grid_auto_rows": null,
       "grid_column": null,
       "grid_gap": null,
       "grid_row": null,
       "grid_template_areas": null,
       "grid_template_columns": null,
       "grid_template_rows": null,
       "height": null,
       "justify_content": null,
       "justify_items": null,
       "left": null,
       "margin": null,
       "max_height": null,
       "max_width": null,
       "min_height": null,
       "min_width": null,
       "object_fit": null,
       "object_position": null,
       "order": null,
       "overflow": null,
       "padding": null,
       "right": null,
       "top": null,
       "visibility": null,
       "width": null
      }
     },
     "93e5c49123e14df696d13c04fc513287": {
      "model_module": "@jupyter-widgets/controls",
      "model_module_version": "2.0.0",
      "model_name": "HTMLModel",
      "state": {
       "_dom_classes": [],
       "_model_module": "@jupyter-widgets/controls",
       "_model_module_version": "2.0.0",
       "_model_name": "HTMLModel",
       "_view_count": null,
       "_view_module": "@jupyter-widgets/controls",
       "_view_module_version": "2.0.0",
       "_view_name": "HTMLView",
       "description": "",
       "description_allow_html": false,
       "layout": "IPY_MODEL_67470d4a88fe47fb83637b2f66362a23",
       "placeholder": "​",
       "style": "IPY_MODEL_9aae7dc5d0eb4712a02aabdfb328b11e",
       "tabbable": null,
       "tooltip": null,
       "value": "combined_dataset.json: 100%"
      }
     },
     "954bd43c553d4e9db19d985d10fb760f": {
      "model_module": "@jupyter-widgets/controls",
      "model_module_version": "2.0.0",
      "model_name": "HBoxModel",
      "state": {
       "_dom_classes": [],
       "_model_module": "@jupyter-widgets/controls",
       "_model_module_version": "2.0.0",
       "_model_name": "HBoxModel",
       "_view_count": null,
       "_view_module": "@jupyter-widgets/controls",
       "_view_module_version": "2.0.0",
       "_view_name": "HBoxView",
       "box_style": "",
       "children": [
        "IPY_MODEL_31e972d6871f4ed6bd00bb52c26c5099",
        "IPY_MODEL_a0f589eb054540cc9d2dbb330ea77c75",
        "IPY_MODEL_5444cb19aef143baafafd1f276c98313"
       ],
       "layout": "IPY_MODEL_c35ea12d2f2d48908a920c28510c916c",
       "tabbable": null,
       "tooltip": null
      }
     },
     "96073bd527404b0096d10f7eada33427": {
      "model_module": "@jupyter-widgets/base",
      "model_module_version": "2.0.0",
      "model_name": "LayoutModel",
      "state": {
       "_model_module": "@jupyter-widgets/base",
       "_model_module_version": "2.0.0",
       "_model_name": "LayoutModel",
       "_view_count": null,
       "_view_module": "@jupyter-widgets/base",
       "_view_module_version": "2.0.0",
       "_view_name": "LayoutView",
       "align_content": null,
       "align_items": null,
       "align_self": null,
       "border_bottom": null,
       "border_left": null,
       "border_right": null,
       "border_top": null,
       "bottom": null,
       "display": null,
       "flex": null,
       "flex_flow": null,
       "grid_area": null,
       "grid_auto_columns": null,
       "grid_auto_flow": null,
       "grid_auto_rows": null,
       "grid_column": null,
       "grid_gap": null,
       "grid_row": null,
       "grid_template_areas": null,
       "grid_template_columns": null,
       "grid_template_rows": null,
       "height": null,
       "justify_content": null,
       "justify_items": null,
       "left": null,
       "margin": null,
       "max_height": null,
       "max_width": null,
       "min_height": null,
       "min_width": null,
       "object_fit": null,
       "object_position": null,
       "order": null,
       "overflow": null,
       "padding": null,
       "right": null,
       "top": null,
       "visibility": null,
       "width": null
      }
     },
     "978c35a84f4445e9b62ab48d1cc9abdd": {
      "model_module": "@jupyter-widgets/base",
      "model_module_version": "2.0.0",
      "model_name": "LayoutModel",
      "state": {
       "_model_module": "@jupyter-widgets/base",
       "_model_module_version": "2.0.0",
       "_model_name": "LayoutModel",
       "_view_count": null,
       "_view_module": "@jupyter-widgets/base",
       "_view_module_version": "2.0.0",
       "_view_name": "LayoutView",
       "align_content": null,
       "align_items": null,
       "align_self": null,
       "border_bottom": null,
       "border_left": null,
       "border_right": null,
       "border_top": null,
       "bottom": null,
       "display": null,
       "flex": null,
       "flex_flow": null,
       "grid_area": null,
       "grid_auto_columns": null,
       "grid_auto_flow": null,
       "grid_auto_rows": null,
       "grid_column": null,
       "grid_gap": null,
       "grid_row": null,
       "grid_template_areas": null,
       "grid_template_columns": null,
       "grid_template_rows": null,
       "height": null,
       "justify_content": null,
       "justify_items": null,
       "left": null,
       "margin": null,
       "max_height": null,
       "max_width": null,
       "min_height": null,
       "min_width": null,
       "object_fit": null,
       "object_position": null,
       "order": null,
       "overflow": null,
       "padding": null,
       "right": null,
       "top": null,
       "visibility": null,
       "width": null
      }
     },
     "9aae7dc5d0eb4712a02aabdfb328b11e": {
      "model_module": "@jupyter-widgets/controls",
      "model_module_version": "2.0.0",
      "model_name": "HTMLStyleModel",
      "state": {
       "_model_module": "@jupyter-widgets/controls",
       "_model_module_version": "2.0.0",
       "_model_name": "HTMLStyleModel",
       "_view_count": null,
       "_view_module": "@jupyter-widgets/base",
       "_view_module_version": "2.0.0",
       "_view_name": "StyleView",
       "background": null,
       "description_width": "",
       "font_size": null,
       "text_color": null
      }
     },
     "a03d9ad8dfe24a2c87bf6cc29a947cb5": {
      "model_module": "@jupyter-widgets/base",
      "model_module_version": "2.0.0",
      "model_name": "LayoutModel",
      "state": {
       "_model_module": "@jupyter-widgets/base",
       "_model_module_version": "2.0.0",
       "_model_name": "LayoutModel",
       "_view_count": null,
       "_view_module": "@jupyter-widgets/base",
       "_view_module_version": "2.0.0",
       "_view_name": "LayoutView",
       "align_content": null,
       "align_items": null,
       "align_self": null,
       "border_bottom": null,
       "border_left": null,
       "border_right": null,
       "border_top": null,
       "bottom": null,
       "display": null,
       "flex": null,
       "flex_flow": null,
       "grid_area": null,
       "grid_auto_columns": null,
       "grid_auto_flow": null,
       "grid_auto_rows": null,
       "grid_column": null,
       "grid_gap": null,
       "grid_row": null,
       "grid_template_areas": null,
       "grid_template_columns": null,
       "grid_template_rows": null,
       "height": null,
       "justify_content": null,
       "justify_items": null,
       "left": null,
       "margin": null,
       "max_height": null,
       "max_width": null,
       "min_height": null,
       "min_width": null,
       "object_fit": null,
       "object_position": null,
       "order": null,
       "overflow": null,
       "padding": null,
       "right": null,
       "top": null,
       "visibility": null,
       "width": null
      }
     },
     "a0f589eb054540cc9d2dbb330ea77c75": {
      "model_module": "@jupyter-widgets/controls",
      "model_module_version": "2.0.0",
      "model_name": "FloatProgressModel",
      "state": {
       "_dom_classes": [],
       "_model_module": "@jupyter-widgets/controls",
       "_model_module_version": "2.0.0",
       "_model_name": "FloatProgressModel",
       "_view_count": null,
       "_view_module": "@jupyter-widgets/controls",
       "_view_module_version": "2.0.0",
       "_view_name": "ProgressView",
       "bar_style": "success",
       "description": "",
       "description_allow_html": false,
       "layout": "IPY_MODEL_ba1acca7a24745edaaf8f8a3e4f8960b",
       "max": 3512.0,
       "min": 0.0,
       "orientation": "horizontal",
       "style": "IPY_MODEL_ec5e4483621a4d48985b4bf99526dd28",
       "tabbable": null,
       "tooltip": null,
       "value": 3512.0
      }
     },
     "a25033b2334343089cbe939854b11e7a": {
      "model_module": "@jupyter-widgets/controls",
      "model_module_version": "2.0.0",
      "model_name": "HTMLStyleModel",
      "state": {
       "_model_module": "@jupyter-widgets/controls",
       "_model_module_version": "2.0.0",
       "_model_name": "HTMLStyleModel",
       "_view_count": null,
       "_view_module": "@jupyter-widgets/base",
       "_view_module_version": "2.0.0",
       "_view_name": "StyleView",
       "background": null,
       "description_width": "",
       "font_size": null,
       "text_color": null
      }
     },
     "a3ff3252c17242349c1e0dd9f91a864f": {
      "model_module": "@jupyter-widgets/controls",
      "model_module_version": "2.0.0",
      "model_name": "HTMLStyleModel",
      "state": {
       "_model_module": "@jupyter-widgets/controls",
       "_model_module_version": "2.0.0",
       "_model_name": "HTMLStyleModel",
       "_view_count": null,
       "_view_module": "@jupyter-widgets/base",
       "_view_module_version": "2.0.0",
       "_view_name": "StyleView",
       "background": null,
       "description_width": "",
       "font_size": null,
       "text_color": null
      }
     },
     "b58572fee8d94db9baab87bec6bde87c": {
      "model_module": "@jupyter-widgets/controls",
      "model_module_version": "2.0.0",
      "model_name": "HTMLModel",
      "state": {
       "_dom_classes": [],
       "_model_module": "@jupyter-widgets/controls",
       "_model_module_version": "2.0.0",
       "_model_name": "HTMLModel",
       "_view_count": null,
       "_view_module": "@jupyter-widgets/controls",
       "_view_module_version": "2.0.0",
       "_view_name": "HTMLView",
       "description": "",
       "description_allow_html": false,
       "layout": "IPY_MODEL_fa0c0ebe24914d908eaf7d71722a21b7",
       "placeholder": "​",
       "style": "IPY_MODEL_22b5fadbf50f4b20b2ef6f1cc04d83d7",
       "tabbable": null,
       "tooltip": null,
       "value": "README.md: 100%"
      }
     },
     "b690533822a64add8ad7e9f06c7f6330": {
      "model_module": "@jupyter-widgets/base",
      "model_module_version": "2.0.0",
      "model_name": "LayoutModel",
      "state": {
       "_model_module": "@jupyter-widgets/base",
       "_model_module_version": "2.0.0",
       "_model_name": "LayoutModel",
       "_view_count": null,
       "_view_module": "@jupyter-widgets/base",
       "_view_module_version": "2.0.0",
       "_view_name": "LayoutView",
       "align_content": null,
       "align_items": null,
       "align_self": null,
       "border_bottom": null,
       "border_left": null,
       "border_right": null,
       "border_top": null,
       "bottom": null,
       "display": null,
       "flex": null,
       "flex_flow": null,
       "grid_area": null,
       "grid_auto_columns": null,
       "grid_auto_flow": null,
       "grid_auto_rows": null,
       "grid_column": null,
       "grid_gap": null,
       "grid_row": null,
       "grid_template_areas": null,
       "grid_template_columns": null,
       "grid_template_rows": null,
       "height": null,
       "justify_content": null,
       "justify_items": null,
       "left": null,
       "margin": null,
       "max_height": null,
       "max_width": null,
       "min_height": null,
       "min_width": null,
       "object_fit": null,
       "object_position": null,
       "order": null,
       "overflow": null,
       "padding": null,
       "right": null,
       "top": null,
       "visibility": null,
       "width": null
      }
     },
     "ba1acca7a24745edaaf8f8a3e4f8960b": {
      "model_module": "@jupyter-widgets/base",
      "model_module_version": "2.0.0",
      "model_name": "LayoutModel",
      "state": {
       "_model_module": "@jupyter-widgets/base",
       "_model_module_version": "2.0.0",
       "_model_name": "LayoutModel",
       "_view_count": null,
       "_view_module": "@jupyter-widgets/base",
       "_view_module_version": "2.0.0",
       "_view_name": "LayoutView",
       "align_content": null,
       "align_items": null,
       "align_self": null,
       "border_bottom": null,
       "border_left": null,
       "border_right": null,
       "border_top": null,
       "bottom": null,
       "display": null,
       "flex": null,
       "flex_flow": null,
       "grid_area": null,
       "grid_auto_columns": null,
       "grid_auto_flow": null,
       "grid_auto_rows": null,
       "grid_column": null,
       "grid_gap": null,
       "grid_row": null,
       "grid_template_areas": null,
       "grid_template_columns": null,
       "grid_template_rows": null,
       "height": null,
       "justify_content": null,
       "justify_items": null,
       "left": null,
       "margin": null,
       "max_height": null,
       "max_width": null,
       "min_height": null,
       "min_width": null,
       "object_fit": null,
       "object_position": null,
       "order": null,
       "overflow": null,
       "padding": null,
       "right": null,
       "top": null,
       "visibility": null,
       "width": null
      }
     },
     "bf6eb8a72fa24cec9fadb8c4efd51b59": {
      "model_module": "@jupyter-widgets/controls",
      "model_module_version": "2.0.0",
      "model_name": "ProgressStyleModel",
      "state": {
       "_model_module": "@jupyter-widgets/controls",
       "_model_module_version": "2.0.0",
       "_model_name": "ProgressStyleModel",
       "_view_count": null,
       "_view_module": "@jupyter-widgets/base",
       "_view_module_version": "2.0.0",
       "_view_name": "StyleView",
       "bar_color": null,
       "description_width": ""
      }
     },
     "c2f7e73f088748419feba9daac6df332": {
      "model_module": "@jupyter-widgets/base",
      "model_module_version": "2.0.0",
      "model_name": "LayoutModel",
      "state": {
       "_model_module": "@jupyter-widgets/base",
       "_model_module_version": "2.0.0",
       "_model_name": "LayoutModel",
       "_view_count": null,
       "_view_module": "@jupyter-widgets/base",
       "_view_module_version": "2.0.0",
       "_view_name": "LayoutView",
       "align_content": null,
       "align_items": null,
       "align_self": null,
       "border_bottom": null,
       "border_left": null,
       "border_right": null,
       "border_top": null,
       "bottom": null,
       "display": null,
       "flex": null,
       "flex_flow": null,
       "grid_area": null,
       "grid_auto_columns": null,
       "grid_auto_flow": null,
       "grid_auto_rows": null,
       "grid_column": null,
       "grid_gap": null,
       "grid_row": null,
       "grid_template_areas": null,
       "grid_template_columns": null,
       "grid_template_rows": null,
       "height": null,
       "justify_content": null,
       "justify_items": null,
       "left": null,
       "margin": null,
       "max_height": null,
       "max_width": null,
       "min_height": null,
       "min_width": null,
       "object_fit": null,
       "object_position": null,
       "order": null,
       "overflow": null,
       "padding": null,
       "right": null,
       "top": null,
       "visibility": null,
       "width": null
      }
     },
     "c35ea12d2f2d48908a920c28510c916c": {
      "model_module": "@jupyter-widgets/base",
      "model_module_version": "2.0.0",
      "model_name": "LayoutModel",
      "state": {
       "_model_module": "@jupyter-widgets/base",
       "_model_module_version": "2.0.0",
       "_model_name": "LayoutModel",
       "_view_count": null,
       "_view_module": "@jupyter-widgets/base",
       "_view_module_version": "2.0.0",
       "_view_name": "LayoutView",
       "align_content": null,
       "align_items": null,
       "align_self": null,
       "border_bottom": null,
       "border_left": null,
       "border_right": null,
       "border_top": null,
       "bottom": null,
       "display": null,
       "flex": null,
       "flex_flow": null,
       "grid_area": null,
       "grid_auto_columns": null,
       "grid_auto_flow": null,
       "grid_auto_rows": null,
       "grid_column": null,
       "grid_gap": null,
       "grid_row": null,
       "grid_template_areas": null,
       "grid_template_columns": null,
       "grid_template_rows": null,
       "height": null,
       "justify_content": null,
       "justify_items": null,
       "left": null,
       "margin": null,
       "max_height": null,
       "max_width": null,
       "min_height": null,
       "min_width": null,
       "object_fit": null,
       "object_position": null,
       "order": null,
       "overflow": null,
       "padding": null,
       "right": null,
       "top": null,
       "visibility": null,
       "width": null
      }
     },
     "c64f9ea122bc426393073563bd110e48": {
      "model_module": "@jupyter-widgets/controls",
      "model_module_version": "2.0.0",
      "model_name": "ProgressStyleModel",
      "state": {
       "_model_module": "@jupyter-widgets/controls",
       "_model_module_version": "2.0.0",
       "_model_name": "ProgressStyleModel",
       "_view_count": null,
       "_view_module": "@jupyter-widgets/base",
       "_view_module_version": "2.0.0",
       "_view_name": "StyleView",
       "bar_color": null,
       "description_width": ""
      }
     },
     "cb4e2c3fac884cbf9681aab40c4676f6": {
      "model_module": "@jupyter-widgets/base",
      "model_module_version": "2.0.0",
      "model_name": "LayoutModel",
      "state": {
       "_model_module": "@jupyter-widgets/base",
       "_model_module_version": "2.0.0",
       "_model_name": "LayoutModel",
       "_view_count": null,
       "_view_module": "@jupyter-widgets/base",
       "_view_module_version": "2.0.0",
       "_view_name": "LayoutView",
       "align_content": null,
       "align_items": null,
       "align_self": null,
       "border_bottom": null,
       "border_left": null,
       "border_right": null,
       "border_top": null,
       "bottom": null,
       "display": null,
       "flex": null,
       "flex_flow": null,
       "grid_area": null,
       "grid_auto_columns": null,
       "grid_auto_flow": null,
       "grid_auto_rows": null,
       "grid_column": null,
       "grid_gap": null,
       "grid_row": null,
       "grid_template_areas": null,
       "grid_template_columns": null,
       "grid_template_rows": null,
       "height": null,
       "justify_content": null,
       "justify_items": null,
       "left": null,
       "margin": null,
       "max_height": null,
       "max_width": null,
       "min_height": null,
       "min_width": null,
       "object_fit": null,
       "object_position": null,
       "order": null,
       "overflow": null,
       "padding": null,
       "right": null,
       "top": null,
       "visibility": null,
       "width": null
      }
     },
     "ce1a16213c634e16bccf1947240ba33b": {
      "model_module": "@jupyter-widgets/controls",
      "model_module_version": "2.0.0",
      "model_name": "HTMLStyleModel",
      "state": {
       "_model_module": "@jupyter-widgets/controls",
       "_model_module_version": "2.0.0",
       "_model_name": "HTMLStyleModel",
       "_view_count": null,
       "_view_module": "@jupyter-widgets/base",
       "_view_module_version": "2.0.0",
       "_view_name": "StyleView",
       "background": null,
       "description_width": "",
       "font_size": null,
       "text_color": null
      }
     },
     "d07c41b5171c44b798d220eb28d5ea96": {
      "model_module": "@jupyter-widgets/controls",
      "model_module_version": "2.0.0",
      "model_name": "HBoxModel",
      "state": {
       "_dom_classes": [],
       "_model_module": "@jupyter-widgets/controls",
       "_model_module_version": "2.0.0",
       "_model_name": "HBoxModel",
       "_view_count": null,
       "_view_module": "@jupyter-widgets/controls",
       "_view_module_version": "2.0.0",
       "_view_name": "HBoxView",
       "box_style": "",
       "children": [
        "IPY_MODEL_e8747b83433a4a1e9e5c8bd73e3a9752",
        "IPY_MODEL_28811c4e3c4c4388b1a74bb63da636cf",
        "IPY_MODEL_341f91770a5643fbaffce66dfa54f0be"
       ],
       "layout": "IPY_MODEL_f66cae044d214bc6b221e28363ef3ae6",
       "tabbable": null,
       "tooltip": null
      }
     },
     "e8747b83433a4a1e9e5c8bd73e3a9752": {
      "model_module": "@jupyter-widgets/controls",
      "model_module_version": "2.0.0",
      "model_name": "HTMLModel",
      "state": {
       "_dom_classes": [],
       "_model_module": "@jupyter-widgets/controls",
       "_model_module_version": "2.0.0",
       "_model_name": "HTMLModel",
       "_view_count": null,
       "_view_module": "@jupyter-widgets/controls",
       "_view_module_version": "2.0.0",
       "_view_name": "HTMLView",
       "description": "",
       "description_allow_html": false,
       "layout": "IPY_MODEL_96073bd527404b0096d10f7eada33427",
       "placeholder": "​",
       "style": "IPY_MODEL_ee5e72ae07b94ae68305fe8a33aa2a23",
       "tabbable": null,
       "tooltip": null,
       "value": "Computing checksums: 100%"
      }
     },
     "ec5e4483621a4d48985b4bf99526dd28": {
      "model_module": "@jupyter-widgets/controls",
      "model_module_version": "2.0.0",
      "model_name": "ProgressStyleModel",
      "state": {
       "_model_module": "@jupyter-widgets/controls",
       "_model_module_version": "2.0.0",
       "_model_name": "ProgressStyleModel",
       "_view_count": null,
       "_view_module": "@jupyter-widgets/base",
       "_view_module_version": "2.0.0",
       "_view_name": "StyleView",
       "bar_color": null,
       "description_width": ""
      }
     },
     "ee5e72ae07b94ae68305fe8a33aa2a23": {
      "model_module": "@jupyter-widgets/controls",
      "model_module_version": "2.0.0",
      "model_name": "HTMLStyleModel",
      "state": {
       "_model_module": "@jupyter-widgets/controls",
       "_model_module_version": "2.0.0",
       "_model_name": "HTMLStyleModel",
       "_view_count": null,
       "_view_module": "@jupyter-widgets/base",
       "_view_module_version": "2.0.0",
       "_view_name": "StyleView",
       "background": null,
       "description_width": "",
       "font_size": null,
       "text_color": null
      }
     },
     "f66cae044d214bc6b221e28363ef3ae6": {
      "model_module": "@jupyter-widgets/base",
      "model_module_version": "2.0.0",
      "model_name": "LayoutModel",
      "state": {
       "_model_module": "@jupyter-widgets/base",
       "_model_module_version": "2.0.0",
       "_model_name": "LayoutModel",
       "_view_count": null,
       "_view_module": "@jupyter-widgets/base",
       "_view_module_version": "2.0.0",
       "_view_name": "LayoutView",
       "align_content": null,
       "align_items": null,
       "align_self": null,
       "border_bottom": null,
       "border_left": null,
       "border_right": null,
       "border_top": null,
       "bottom": null,
       "display": null,
       "flex": null,
       "flex_flow": null,
       "grid_area": null,
       "grid_auto_columns": null,
       "grid_auto_flow": null,
       "grid_auto_rows": null,
       "grid_column": null,
       "grid_gap": null,
       "grid_row": null,
       "grid_template_areas": null,
       "grid_template_columns": null,
       "grid_template_rows": null,
       "height": null,
       "justify_content": null,
       "justify_items": null,
       "left": null,
       "margin": null,
       "max_height": null,
       "max_width": null,
       "min_height": null,
       "min_width": null,
       "object_fit": null,
       "object_position": null,
       "order": null,
       "overflow": null,
       "padding": null,
       "right": null,
       "top": null,
       "visibility": null,
       "width": null
      }
     },
     "f8bb6158703a43309e9b03e11cfbd591": {
      "model_module": "@jupyter-widgets/base",
      "model_module_version": "2.0.0",
      "model_name": "LayoutModel",
      "state": {
       "_model_module": "@jupyter-widgets/base",
       "_model_module_version": "2.0.0",
       "_model_name": "LayoutModel",
       "_view_count": null,
       "_view_module": "@jupyter-widgets/base",
       "_view_module_version": "2.0.0",
       "_view_name": "LayoutView",
       "align_content": null,
       "align_items": null,
       "align_self": null,
       "border_bottom": null,
       "border_left": null,
       "border_right": null,
       "border_top": null,
       "bottom": null,
       "display": null,
       "flex": null,
       "flex_flow": null,
       "grid_area": null,
       "grid_auto_columns": null,
       "grid_auto_flow": null,
       "grid_auto_rows": null,
       "grid_column": null,
       "grid_gap": null,
       "grid_row": null,
       "grid_template_areas": null,
       "grid_template_columns": null,
       "grid_template_rows": null,
       "height": null,
       "justify_content": null,
       "justify_items": null,
       "left": null,
       "margin": null,
       "max_height": null,
       "max_width": null,
       "min_height": null,
       "min_width": null,
       "object_fit": null,
       "object_position": null,
       "order": null,
       "overflow": null,
       "padding": null,
       "right": null,
       "top": null,
       "visibility": null,
       "width": null
      }
     },
     "fa0c0ebe24914d908eaf7d71722a21b7": {
      "model_module": "@jupyter-widgets/base",
      "model_module_version": "2.0.0",
      "model_name": "LayoutModel",
      "state": {
       "_model_module": "@jupyter-widgets/base",
       "_model_module_version": "2.0.0",
       "_model_name": "LayoutModel",
       "_view_count": null,
       "_view_module": "@jupyter-widgets/base",
       "_view_module_version": "2.0.0",
       "_view_name": "LayoutView",
       "align_content": null,
       "align_items": null,
       "align_self": null,
       "border_bottom": null,
       "border_left": null,
       "border_right": null,
       "border_top": null,
       "bottom": null,
       "display": null,
       "flex": null,
       "flex_flow": null,
       "grid_area": null,
       "grid_auto_columns": null,
       "grid_auto_flow": null,
       "grid_auto_rows": null,
       "grid_column": null,
       "grid_gap": null,
       "grid_row": null,
       "grid_template_areas": null,
       "grid_template_columns": null,
       "grid_template_rows": null,
       "height": null,
       "justify_content": null,
       "justify_items": null,
       "left": null,
       "margin": null,
       "max_height": null,
       "max_width": null,
       "min_height": null,
       "min_width": null,
       "object_fit": null,
       "object_position": null,
       "order": null,
       "overflow": null,
       "padding": null,
       "right": null,
       "top": null,
       "visibility": null,
       "width": null
      }
     },
     "fc75a568ebca43dcba7a681c187e68eb": {
      "model_module": "@jupyter-widgets/controls",
      "model_module_version": "2.0.0",
      "model_name": "HTMLStyleModel",
      "state": {
       "_model_module": "@jupyter-widgets/controls",
       "_model_module_version": "2.0.0",
       "_model_name": "HTMLStyleModel",
       "_view_count": null,
       "_view_module": "@jupyter-widgets/base",
       "_view_module_version": "2.0.0",
       "_view_name": "StyleView",
       "background": null,
       "description_width": "",
       "font_size": null,
       "text_color": null
      }
     }
    },
    "version_major": 2,
    "version_minor": 0
   }
  }
 },
 "nbformat": 4,
 "nbformat_minor": 5
}
