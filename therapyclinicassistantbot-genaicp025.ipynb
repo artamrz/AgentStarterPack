{
 "cells": [
  {
   "cell_type": "markdown",
   "id": "5c1db37e",
   "metadata": {
    "papermill": {
     "duration": 0.00726,
     "end_time": "2025-04-20T06:50:07.540093",
     "exception": false,
     "start_time": "2025-04-20T06:50:07.532833",
     "status": "completed"
    },
    "tags": []
   },
   "source": [
    "# **Therapy Clinic Assistant Chatbot-Google GenAI Capstone Project 2025**"
   ]
  },
  {
   "cell_type": "markdown",
   "id": "906b21c5",
   "metadata": {
    "papermill": {
     "duration": 0.008759,
     "end_time": "2025-04-20T06:50:07.556809",
     "exception": false,
     "start_time": "2025-04-20T06:50:07.548050",
     "status": "completed"
    },
    "tags": []
   },
   "source": [
    "## Introduction\n",
    "\n",
    "In this notebook, a generative AI-powered virtual support agent is built and tailored for a psychology and consulting center. The goal is to create an empathetic, intelligent assistant that:\n",
    "Answers client FAQs with warmth and clarity\n",
    "Supports resource delivery and appointment flow\n",
    "Leverages Gen AI capabilities including few-shot prompting, embeddings + RAG, and structured output\n",
    "Receive client's information to book an appointment for them\n",
    "Makes conversations so clients feel welcome and supported there.\n",
    "Feel free to check out the [Weblog](https://sites.google.com/view/therapygenaiproject/home) and the [Youtube video](https://youtu.be/q30HwzOsIWQ) about this project.\n",
    "\n",
    "This project is part of the **Google Gen AI Intensive Course Capstone 2025Q1**.\n",
    "\n",
    "Thank you and appriciate if you could comment and share your thoughts.\n",
    "\n",
    "If you want to use the Therapy Robo and chat with its agent, check the [Interactive Version](https://www.kaggle.com/code/artamirzadeh/therapyroboinputversion).\n"
   ]
  },
  {
   "cell_type": "markdown",
   "id": "03db10cf",
   "metadata": {
    "jupyter": {
     "source_hidden": true
    },
    "papermill": {
     "duration": 0.00926,
     "end_time": "2025-04-20T06:50:07.579253",
     "exception": false,
     "start_time": "2025-04-20T06:50:07.569993",
     "status": "completed"
    },
    "tags": []
   },
   "source": [
    "** BEFORE RUNNING:**\n",
    "Please wait patiently until dependencies are downloaded, it takes couple minutes.\n",
    "In order to run some sells you need to input some data, please fill the input tabs with correct info.\n"
   ]
  },
  {
   "cell_type": "code",
   "execution_count": 1,
   "id": "ea5275fb",
   "metadata": {
    "_cell_guid": "b1076dfc-b9ad-4769-8c92-a6c4dae69d19",
    "_uuid": "8f2839f25d086af736a60e9eeb907d3b93b6e0e5",
    "execution": {
     "iopub.execute_input": "2025-04-20T06:50:07.600847Z",
     "iopub.status.busy": "2025-04-20T06:50:07.600028Z",
     "iopub.status.idle": "2025-04-20T06:50:14.202864Z",
     "shell.execute_reply": "2025-04-20T06:50:14.201688Z"
    },
    "papermill": {
     "duration": 6.612443,
     "end_time": "2025-04-20T06:50:14.204620",
     "exception": false,
     "start_time": "2025-04-20T06:50:07.592177",
     "status": "completed"
    },
    "tags": []
   },
   "outputs": [
    {
     "name": "stdout",
     "output_type": "stream",
     "text": [
      "\u001b[2K   \u001b[90m━━━━━━━━━━━━━━━━━━━━━━━━━━━━━━━━━━━━━━━━\u001b[0m \u001b[32m144.7/144.7 kB\u001b[0m \u001b[31m6.9 MB/s\u001b[0m eta \u001b[36m0:00:00\u001b[0m\r\n",
      "\u001b[2K   \u001b[90m━━━━━━━━━━━━━━━━━━━━━━━━━━━━━━━━━━━━━━━━\u001b[0m \u001b[32m100.9/100.9 kB\u001b[0m \u001b[31m5.2 MB/s\u001b[0m eta \u001b[36m0:00:00\u001b[0m\r\n",
      "\u001b[?25h/kaggle/input/therapy-centre-faqs/Therapy-Centre-FAQs.json\n"
     ]
    }
   ],
   "source": [
    "!pip install -qU \"google-genai==1.7.0\"\n",
    "\n",
    "import os\n",
    "import numpy as np \n",
    "from IPython.display import Markdown, display # Display and Print prettier\n",
    "\n",
    "# Checking the dataset inquiry \n",
    "for dirname, _, filenames in os.walk('/kaggle/input'):\n",
    "    for filename in filenames:\n",
    "        print(os.path.join(dirname, filename))"
   ]
  },
  {
   "cell_type": "code",
   "execution_count": 2,
   "id": "bbd82b65",
   "metadata": {
    "execution": {
     "iopub.execute_input": "2025-04-20T06:50:14.219886Z",
     "iopub.status.busy": "2025-04-20T06:50:14.219530Z",
     "iopub.status.idle": "2025-04-20T06:50:15.872781Z",
     "shell.execute_reply": "2025-04-20T06:50:15.871954Z"
    },
    "papermill": {
     "duration": 1.663132,
     "end_time": "2025-04-20T06:50:15.874363",
     "exception": false,
     "start_time": "2025-04-20T06:50:14.211231",
     "status": "completed"
    },
    "tags": []
   },
   "outputs": [],
   "source": [
    "from google import genai\n",
    "from google.genai import types\n",
    "from google.api_core import retry\n",
    "\n",
    "is_retriable = lambda e: (isinstance(e, genai.errors.APIError) and e.code in {429, 503})\n",
    "\n",
    "genai.models.Models.generate_content = retry.Retry(\n",
    "    predicate=is_retriable)(genai.models.Models.generate_content)"
   ]
  },
  {
   "cell_type": "code",
   "execution_count": 3,
   "id": "08fc2f56",
   "metadata": {
    "execution": {
     "iopub.execute_input": "2025-04-20T06:50:15.888588Z",
     "iopub.status.busy": "2025-04-20T06:50:15.888050Z",
     "iopub.status.idle": "2025-04-20T06:50:16.655900Z",
     "shell.execute_reply": "2025-04-20T06:50:16.654798Z"
    },
    "papermill": {
     "duration": 0.776574,
     "end_time": "2025-04-20T06:50:16.657426",
     "exception": false,
     "start_time": "2025-04-20T06:50:15.880852",
     "status": "completed"
    },
    "tags": []
   },
   "outputs": [
    {
     "name": "stdout",
     "output_type": "stream",
     "text": [
      "models/embedding-001\n",
      "models/text-embedding-004\n",
      "models/gemini-embedding-exp-03-07\n",
      "models/gemini-embedding-exp\n"
     ]
    }
   ],
   "source": [
    "from kaggle_secrets import UserSecretsClient\n",
    "\n",
    "GOOGLE_API_KEY = UserSecretsClient().get_secret(\"GOOGLE_API_KEY\")\n",
    "\n",
    "client = genai.Client(api_key=GOOGLE_API_KEY)\n",
    "\n",
    "for model in client.models.list():\n",
    "  if 'embedContent' in model.supported_actions:\n",
    "    print(model.name)"
   ]
  },
  {
   "cell_type": "markdown",
   "id": "a988878e",
   "metadata": {
    "papermill": {
     "duration": 0.006353,
     "end_time": "2025-04-20T06:50:16.671136",
     "exception": false,
     "start_time": "2025-04-20T06:50:16.664783",
     "status": "completed"
    },
    "tags": []
   },
   "source": [
    "## Dataset"
   ]
  },
  {
   "cell_type": "markdown",
   "id": "cbf5565b",
   "metadata": {
    "papermill": {
     "duration": 0.006574,
     "end_time": "2025-04-20T06:50:16.684567",
     "exception": false,
     "start_time": "2025-04-20T06:50:16.677993",
     "status": "completed"
    },
    "tags": []
   },
   "source": [
    "\n",
    "**Lets Check The FAQ Questions:**\n",
    "There are twenty FAQ items in this dataset."
   ]
  },
  {
   "cell_type": "code",
   "execution_count": 4,
   "id": "0df50e17",
   "metadata": {
    "execution": {
     "iopub.execute_input": "2025-04-20T06:50:16.698894Z",
     "iopub.status.busy": "2025-04-20T06:50:16.698603Z",
     "iopub.status.idle": "2025-04-20T06:50:16.716223Z",
     "shell.execute_reply": "2025-04-20T06:50:16.715286Z"
    },
    "papermill": {
     "duration": 0.026809,
     "end_time": "2025-04-20T06:50:16.717879",
     "exception": false,
     "start_time": "2025-04-20T06:50:16.691070",
     "status": "completed"
    },
    "tags": []
   },
   "outputs": [
    {
     "data": {
      "text/markdown": [
       "|Questions | Answer | \n",
       "|----------|----------|\n",
       "| What services do you offer? |  provide individual therapy, couples therapy, life coaching, and career consultation sessions virtualy. |\n",
       "| Do you only offer online sessions? | Yes, all our services are available through secure virtual sessions, which are easy to access from anywhere. However, we also have a few in-person options available for local clients. Please remebebr that the fisrt session is always virtual. |\n",
       "| How do I book a session? | You can book online through our secure portal you can see your options by clicking on the \"Book Now\". We'll help you find the best time slot. |\n",
       "| Is therapy confidential? | Yes. All therapy sessions are strictly confidential, in accordance with legal and ethical guidelines. Exceptions apply only in rare safety-related cases. |\n",
       "| How much does a session cost? | Our sessions range from $50 to $160 depending on the service and provider. We offer sliding scale rates in some cases. |\n"
      ],
      "text/plain": [
       "<IPython.core.display.Markdown object>"
      ]
     },
     "metadata": {},
     "output_type": "display_data"
    }
   ],
   "source": [
    "import json\n",
    "faq_path = \"/kaggle/input/therapy-centre-faqs/Therapy-Centre-FAQs.json\"\n",
    "with open(faq_path, \"r\") as f:\n",
    "    faq_data = json.load(f)\n",
    "md_output = \"|Questions | Answer | \\n|----------|----------|\\n\"\n",
    "for item in faq_data[:5]: # There are 15 [0-14] FAQ items in this dataset as a sample\n",
    "    md_output += f\"| {item['question']} | {item['answer']} |\\n\"\n",
    "display(Markdown(md_output))    \n",
    "    "
   ]
  },
  {
   "cell_type": "markdown",
   "id": "f9755f50",
   "metadata": {
    "papermill": {
     "duration": 0.006258,
     "end_time": "2025-04-20T06:50:16.730913",
     "exception": false,
     "start_time": "2025-04-20T06:50:16.724655",
     "status": "completed"
    },
    "tags": []
   },
   "source": [
    "Next is **Embeddings for the FAQ items**, by this step I transform the questions into vector representations for *semantic search* (I want to make sure if a client uses other words or phrases which mean the same as one my FAQ items the bot will catch it). Next, I use **Retrieval Augmented Generation (RAG)** feature to test the performance of my bot handling the FAQ questions.\n",
    "\n",
    "\n",
    "Other momdels like flan-t5 or gemma could be used, during the next steps it will be explained why this model is chosen."
   ]
  },
  {
   "cell_type": "code",
   "execution_count": 5,
   "id": "b59a56e9",
   "metadata": {
    "execution": {
     "iopub.execute_input": "2025-04-20T06:50:16.748170Z",
     "iopub.status.busy": "2025-04-20T06:50:16.747440Z",
     "iopub.status.idle": "2025-04-20T06:50:20.673928Z",
     "shell.execute_reply": "2025-04-20T06:50:20.673143Z"
    },
    "papermill": {
     "duration": 3.938013,
     "end_time": "2025-04-20T06:50:20.675474",
     "exception": false,
     "start_time": "2025-04-20T06:50:16.737461",
     "status": "completed"
    },
    "tags": []
   },
   "outputs": [],
   "source": [
    "def get_google_embedding(text):\n",
    "    response = client.models.embed_content(\n",
    "        model=\"models/text-embedding-004\",\n",
    "        contents=text,\n",
    "        config=types.EmbedContentConfig(task_type=\"retrieval_document\")\n",
    "    )\n",
    "    return response.embeddings[0].values\n",
    "    \n",
    "questions = [item['question'] for item in faq_data]\n",
    "answers = [item['answer'] for item in faq_data]\n",
    "question_embeddings = [get_google_embedding(q) for q in questions]"
   ]
  },
  {
   "cell_type": "code",
   "execution_count": 6,
   "id": "384a297c",
   "metadata": {
    "execution": {
     "iopub.execute_input": "2025-04-20T06:50:20.690298Z",
     "iopub.status.busy": "2025-04-20T06:50:20.689994Z",
     "iopub.status.idle": "2025-04-20T06:50:22.296672Z",
     "shell.execute_reply": "2025-04-20T06:50:22.295694Z"
    },
    "papermill": {
     "duration": 1.616008,
     "end_time": "2025-04-20T06:50:22.298491",
     "exception": false,
     "start_time": "2025-04-20T06:50:20.682483",
     "status": "completed"
    },
    "tags": []
   },
   "outputs": [],
   "source": [
    "from sklearn.metrics.pairwise import cosine_similarity\n",
    "\n",
    "def get_faq_item(user_query, top_k=1):\n",
    "    query_embedding = get_google_embedding(user_query)\n",
    "    \n",
    "    similarities = cosine_similarity(\n",
    "        np.array(query_embedding).reshape(1, -1),\n",
    "        np.array(question_embeddings)\n",
    "    )[0]\n",
    "\n",
    "    top_indices = similarities.argsort()[::-1][:top_k]\n",
    "    return [answers[i] for i in top_indices]"
   ]
  },
  {
   "cell_type": "markdown",
   "id": "0d332341",
   "metadata": {
    "papermill": {
     "duration": 0.006299,
     "end_time": "2025-04-20T06:50:22.311806",
     "exception": false,
     "start_time": "2025-04-20T06:50:22.305507",
     "status": "completed"
    },
    "tags": []
   },
   "source": [
    "Creating **answer function** with **RAG**"
   ]
  },
  {
   "cell_type": "code",
   "execution_count": 7,
   "id": "35779e09",
   "metadata": {
    "execution": {
     "iopub.execute_input": "2025-04-20T06:50:22.327000Z",
     "iopub.status.busy": "2025-04-20T06:50:22.326523Z",
     "iopub.status.idle": "2025-04-20T06:50:22.590347Z",
     "shell.execute_reply": "2025-04-20T06:50:22.589404Z"
    },
    "papermill": {
     "duration": 0.273595,
     "end_time": "2025-04-20T06:50:22.591912",
     "exception": false,
     "start_time": "2025-04-20T06:50:22.318317",
     "status": "completed"
    },
    "tags": []
   },
   "outputs": [
    {
     "data": {
      "text/markdown": [
       "**User:** I want to try a session and see how it goes, How can I book a one?<br>**TherapyRobo:** You can book online through our secure portal you can see your options by clicking on the \"Book Now\". We'll help you find the best time slot."
      ],
      "text/plain": [
       "<IPython.core.display.Markdown object>"
      ]
     },
     "metadata": {},
     "output_type": "display_data"
    }
   ],
   "source": [
    "# For example\n",
    "user_input = \"I want to try a session and see how it goes, How can I book a one?\"\n",
    "response = get_faq_item(user_input)[0]\n",
    "display(Markdown(f\"**User:** {user_input}<br>**TherapyRobo:** {response}\"))"
   ]
  },
  {
   "cell_type": "markdown",
   "id": "2afc6eb1",
   "metadata": {
    "papermill": {
     "duration": 0.006314,
     "end_time": "2025-04-20T06:50:22.605033",
     "exception": false,
     "start_time": "2025-04-20T06:50:22.598719",
     "status": "completed"
    },
    "tags": []
   },
   "source": [
    "Great, we see that FAQ bot is working, but clearly our purpose is beyond that, lets continue..."
   ]
  },
  {
   "cell_type": "markdown",
   "id": "0d856f4d",
   "metadata": {
    "papermill": {
     "duration": 0.006251,
     "end_time": "2025-04-20T06:50:22.617941",
     "exception": false,
     "start_time": "2025-04-20T06:50:22.611690",
     "status": "completed"
    },
    "tags": []
   },
   "source": [
    "## **Few Shot Prompting**\n",
    "\n",
    "In this step by the help of the Gen AI model, the responses sound emothionaly intelligent, empathic and reliable. "
   ]
  },
  {
   "cell_type": "code",
   "execution_count": 8,
   "id": "d68c9bf4",
   "metadata": {
    "execution": {
     "iopub.execute_input": "2025-04-20T06:50:22.633004Z",
     "iopub.status.busy": "2025-04-20T06:50:22.632664Z",
     "iopub.status.idle": "2025-04-20T06:50:24.086997Z",
     "shell.execute_reply": "2025-04-20T06:50:24.086186Z"
    },
    "papermill": {
     "duration": 1.464182,
     "end_time": "2025-04-20T06:50:24.088654",
     "exception": false,
     "start_time": "2025-04-20T06:50:22.624472",
     "status": "completed"
    },
    "tags": []
   },
   "outputs": [
    {
     "data": {
      "text/markdown": [
       "**Few-shot Prompt**\n",
       "\n",
       "**Instruction**: You are TherapyRobo — a supportive, emotionally intelligent virtual therapist assistant. \n",
       "\n",
       "**User**: Hey, I'm just wondering... what if I feel like my therapist isn't really listening to me? It's kinda frustrating.\n",
       "\n",
       "**TherapyRobo**: That's a valid concern, and it's important to feel heard in therapy. If that happens, it's okay to bring it up with your therapist directly. Honest communication can often improve the connection. If it doesn't, please know that you can always request to switch therapists here at TherapyClinic.com. We want you to feel comfortable and supported."
      ],
      "text/plain": [
       "<IPython.core.display.Markdown object>"
      ]
     },
     "metadata": {},
     "output_type": "display_data"
    }
   ],
   "source": [
    "few_shot_prompt = [\n",
    "    {\n",
    "        \"user\": \"I'm nervous about starting therapy.\", \n",
    "        \"bot\": \"That’s completely understandable. Many people feel that way. Would you like to know what to expect in your first session?\"\n",
    "    },\n",
    "    {\n",
    "        \"user\": \"I’ve never talked to anyone about this before.\", \n",
    "        \"bot\": \"Thank you for trusting us. You’ve taken a brave first step. We’re here to support you.\"\n",
    "    },\n",
    "    {\n",
    "        \"user\": \"I feel overwhelmed lately and don't know who to talk to.\", \n",
    "        \"bot\": \"You’re not alone in feeling that way. We're here to help you take small steps toward feeling better. Would it help to talk about how your day usually goes?\"\n",
    "    },\n",
    "    {\n",
    "        \"user\": \"Is therapy confidential?\", \n",
    "        \"bot\": \"Yes, confidentiality is very important to us. We can explain what that means and when exceptions might apply.\"\n",
    "    },\n",
    "    {\n",
    "        \"user\": \"What if I don’t feel comfortable with my therapist?\", \n",
    "        \"bot\": \"That's absolutely understandable. Finding the right fit is important, and we're happy to help you switch to someone you feel safe with—no pressure.\"\n",
    "    }]\n",
    "\n",
    "def few_shot(user_message):\n",
    "     prompt = \"\"\"\n",
    "        You are TherapyRobo — a supportive, emotionally intelligent virtual therapist assistant. \n",
    "        You are responding to a client who may be skeptical, nervous, or emotionally guarded.\n",
    "        \n",
    "        Your tone should be kind, validating, human-like, and never robotic or overly promotional. \n",
    "        You may acknowledge their hesitation, and gently offer support or booking info if appropriate.\n",
    "        \n",
    "        The clinic website is: https://TherapyClinic.com  \n",
    "        The phone number is: +1 234 000 1111\n",
    "        \"\"\"\n",
    "     for ex in few_shot_prompt:\n",
    "        prompt += f\"User: {ex['user']}\\nTherapyRobo: {ex['bot']}\\n\"\n",
    "     prompt += f\"User: {user_message}\\nTherapyRobo:\"\n",
    "     return prompt\n",
    "\n",
    "\n",
    "prompt = f\"\"\"You are simulating a random client asking FAQ style question from the Therapybot chatbox,\n",
    "    Don't use \"ok, here it goes\". remember it's a typed conversation,don't type sounds.you should sound like a human, nice, stressed, angry, tired. Never bold a word and do not make sounds like: ugh. However you're questions should be reasonable and short\"\"\"\n",
    "    \n",
    "response = client.models.generate_content(\n",
    "    model=\"gemini-2.0-flash\",\n",
    "    contents=prompt,\n",
    "    config=types.GenerateContentConfig(\n",
    "        temperature=0.1,\n",
    "        max_output_tokens=256\n",
    "    )\n",
    ")\n",
    "sample_client = response.text.strip()\n",
    "faq_prompt = few_shot(sample_client)\n",
    "\n",
    "lines = faq_prompt.strip().split(\"\\n\")\n",
    "instruction = lines[0]\n",
    "def gemini_faq_handler(prompt_text, display_response=True): #prompt_text should be a variable = few_shot(client message here)\n",
    "    \"\"\"\n",
    "    Generate a short response from a given prompt.\n",
    "    The clinic website is: https://TherapyClinic.com and Phone number:+1 234 000 1111\n",
    "    Args:\n",
    "        prompt_text (str): The full prompt to send to the Gemini model.\n",
    "        display_response (bool): If True, the result will be displayed using Markdown.\n",
    "\n",
    "    Returns:\n",
    "        str: The raw response text from Gemini.\n",
    "    \"\"\"\n",
    "    response = client.models.generate_content(\n",
    "        model=\"gemini-2.0-flash\",\n",
    "        contents=prompt_text,\n",
    "        config=types.GenerateContentConfig( \n",
    "            temperature=0.5,\n",
    "            top_p=1,\n",
    "            top_k=1,\n",
    "            max_output_tokens=300\n",
    "        )\n",
    "    )\n",
    "    return response.text.strip()\n",
    "    \n",
    "robo_response = gemini_faq_handler(faq_prompt)\n",
    "display(Markdown(f\"**Few-shot Prompt**\\n\\n**Instruction**: {instruction}\\n\\n**User**: {sample_client}\\n\\n**TherapyRobo**: {robo_response}\"))"
   ]
  },
  {
   "cell_type": "markdown",
   "id": "4841a44a",
   "metadata": {
    "papermill": {
     "duration": 0.006877,
     "end_time": "2025-04-20T06:50:24.102517",
     "exception": false,
     "start_time": "2025-04-20T06:50:24.095640",
     "status": "completed"
    },
    "tags": []
   },
   "source": [
    "## **Document Parsing**\n",
    "\n",
    "Strucring information taken from simulated a session intake form received from a client. XXXPDF FormXXX"
   ]
  },
  {
   "cell_type": "code",
   "execution_count": 9,
   "id": "62c6a610",
   "metadata": {
    "execution": {
     "iopub.execute_input": "2025-04-20T06:50:24.118073Z",
     "iopub.status.busy": "2025-04-20T06:50:24.117795Z",
     "iopub.status.idle": "2025-04-20T06:50:25.118909Z",
     "shell.execute_reply": "2025-04-20T06:50:25.117842Z"
    },
    "papermill": {
     "duration": 1.010471,
     "end_time": "2025-04-20T06:50:25.120481",
     "exception": false,
     "start_time": "2025-04-20T06:50:24.110010",
     "status": "completed"
    },
    "tags": []
   },
   "outputs": [
    {
     "data": {
      "text/markdown": [
       "**Structured Intake Form Data In JSON**:\n",
       "\n",
       "```json\n",
       "```json\n",
       "{\n",
       "  \"Name\": \"Julia Anderson\",\n",
       "  \"PhoneNumber\": \"200-000-1000\",\n",
       "  \"Email\": \"client@gmail.com\",\n",
       "  \"Age\": \"28\",\n",
       "  \"Type_of_therapy\": \"Single\",\n",
       "  \"Preffered_therapist\": \"Dr. Sam\",\n",
       "  \"Reason_for_visit\": \"Feeling overwhelmed and anxious, also trouble falling sleep\",\n",
       "  \"Availability\": \"Mondays and Wednesdays after 3 PM\",\n",
       "  \"Urgency\": \"Moderate\",\n",
       "  \"Insurance_company\": \"Dejardins\"\n",
       "}\n",
       "```\n",
       "```"
      ],
      "text/plain": [
       "<IPython.core.display.Markdown object>"
      ]
     },
     "metadata": {},
     "output_type": "display_data"
    }
   ],
   "source": [
    "client_form = \"\"\"\n",
    "Client Name: Julia Anderson\n",
    "Phone Number: 200-000-1000\n",
    "EMail: client@gmail.com\n",
    "Age: 28\n",
    "Type of therapy: Single\n",
    "Preferred Therapist: Dr. Sam\n",
    "Reason for Visit: Feeling overwhelmed and anxious, also trouble falling sleep\n",
    "Availability: Mondays and Wednesdays after 3 PM\n",
    "Urgency Level: Moderate\n",
    "Insurance: Dejardins\n",
    "\"\"\"\n",
    "\n",
    "instruction_prompt = f\"\"\"You are an AI assistant helping a therapy clinic extracting structured data from their patients intake forms.\n",
    "Read the followinf form and extract the data in JSON format with the following fields:\n",
    "-Name\n",
    "-PhoneNumber\n",
    "-Email\n",
    "-Age\n",
    "-Type_of_therapy\n",
    "-Preffered_therapist\n",
    "-Reason_for_visit\n",
    "-Availability\n",
    "-Urgency\n",
    "-Insurance_company\n",
    "Intake_form: {client_form}\n",
    "\n",
    "Return only a valid JSON object.\"\"\"\n",
    "\n",
    "response = client.models.generate_content(\n",
    "    model = \"gemini-2.0-flash\",\n",
    "    contents = instruction_prompt,\n",
    "    config = types.GenerateContentConfig(\n",
    "        temperature=0.1,\n",
    "        max_output_tokens=256\n",
    "    )\n",
    ")\n",
    "structured_form_data = response.text.strip()\n",
    "display(Markdown(f\"**Structured Intake Form Data In JSON**:\\n\\n```json\\n{structured_form_data}\\n```\"))"
   ]
  },
  {
   "cell_type": "markdown",
   "id": "b0c978b4",
   "metadata": {
    "papermill": {
     "duration": 0.00655,
     "end_time": "2025-04-20T06:50:25.134147",
     "exception": false,
     "start_time": "2025-04-20T06:50:25.127597",
     "status": "completed"
    },
    "tags": []
   },
   "source": [
    "Now to ask the user to provide the following information:\n",
    "\n",
    "> For the sake of the project, instead of receiving information from the user, we are generating it by gemini model, find the more interactive version at github. copy paste the code in this cell, no need to change anything, have fun!"
   ]
  },
  {
   "cell_type": "code",
   "execution_count": 10,
   "id": "cf192c58",
   "metadata": {
    "execution": {
     "iopub.execute_input": "2025-04-20T06:50:25.149043Z",
     "iopub.status.busy": "2025-04-20T06:50:25.148739Z",
     "iopub.status.idle": "2025-04-20T06:50:29.457654Z",
     "shell.execute_reply": "2025-04-20T06:50:29.456625Z"
    },
    "papermill": {
     "duration": 4.318066,
     "end_time": "2025-04-20T06:50:29.459042",
     "exception": false,
     "start_time": "2025-04-20T06:50:25.140976",
     "status": "completed"
    },
    "tags": []
   },
   "outputs": [
    {
     "data": {
      "text/markdown": [
       "**This is a random reply. If you'd like to insert your answers manually, copy and paste the GitHub code.**"
      ],
      "text/plain": [
       "<IPython.core.display.Markdown object>"
      ]
     },
     "metadata": {},
     "output_type": "display_data"
    },
    {
     "data": {
      "text/markdown": [
       "**Starting to fill intake form ...**"
      ],
      "text/plain": [
       "<IPython.core.display.Markdown object>"
      ]
     },
     "metadata": {},
     "output_type": "display_data"
    },
    {
     "data": {
      "text/markdown": [
       "**TherapyBot:** What is your full name?\n",
       "**Client:** Rosemary Smith\n",
       "\n",
       "**TherapyBot:** May I have your phone number?\n",
       "**Client:** 555-123-4567\n",
       "\n",
       "**TherapyBot:** What's your email address?\n",
       "**Client:** [client's name]@email.com\n",
       "\n",
       "**TherapyBot:** How old are you?\n",
       "**Client:** 34\n",
       "\n",
       "**TherapyBot:** Are you looking for individual, couples, or family therapy?\n",
       "**Client:** Individual.\n",
       "\n",
       "**TherapyBot:** Do you have a preferred therapist?\n",
       "**Client:** No.\n",
       "\n",
       "**TherapyBot:** Can you briefly describe your reason for seeking therapy?\n",
       "**Client:** I'm having trouble managing my anger and it's affecting my relationships.\n",
       "\n",
       "**TherapyBot:** When are you generally available for sessions?\n",
       "**Client:** Evenings after work, or weekends.\n",
       "\n",
       "**TherapyBot:** How urgent is your situation? (e.g., low, moderate, high)\n",
       "**Client:** High.\n",
       "\n",
       "**TherapyBot:** What insurance company do you use, if any?\n",
       "**Client:** Blue Cross Blue Shield."
      ],
      "text/plain": [
       "<IPython.core.display.Markdown object>"
      ]
     },
     "metadata": {},
     "output_type": "display_data"
    },
    {
     "name": "stdout",
     "output_type": "stream",
     "text": [
      "{\n",
      "  \"name\": \"Rosemary Smith\",\n",
      "  \"phone_number\": \"555-123-4567\",\n",
      "  \"email\": \"[client's name]@email.com\",\n",
      "  \"age\": \"34\",\n",
      "  \"type_of_therapy\": \"Individual.\",\n",
      "  \"preferred_therapist\": \"No.\",\n",
      "  \"reason_for_visit\": \"I'm having trouble managing my anger and it's affecting my relationships.\",\n",
      "  \"availability\": \"Evenings after work, or weekends.\",\n",
      "  \"urgency\": \"High.\",\n",
      "  \"insurance_company\": \"Blue Cross Blue Shield.\"\n",
      "}\n"
     ]
    }
   ],
   "source": [
    "def gemini_fill(question):\n",
    "    prompt = f\"\"\"You are simulating a random client filling out an intake form at a therapy clinic. Sometimes you are stressed, angry, upset, troubled, or tired.\n",
    "Give a realistic, short answer for the following question, do not make sounds like `ugh`:\n",
    "{question}\n",
    "Only return the answer without explanation.\"\"\"\n",
    "    \n",
    "    response = client.models.generate_content(\n",
    "        model=\"gemini-2.0-flash\",\n",
    "        contents=prompt,\n",
    "        config=types.GenerateContentConfig(\n",
    "            temperature=0.7,\n",
    "            max_output_tokens=256\n",
    "        )\n",
    "    )\n",
    "    return response.text.strip()\n",
    "\n",
    "intake_fields = [\n",
    "    {\"key\": \"name\", \"question\": \"What is your full name?\"},\n",
    "    {\"key\": \"phone_number\", \"question\": \"May I have your phone number?\"},\n",
    "    {\"key\": \"email\", \"question\": \"What's your email address?\"},\n",
    "    {\"key\": \"age\", \"question\": \"How old are you?\"},\n",
    "    {\"key\": \"type_of_therapy\", \"question\": \"Are you looking for individual, couples, or family therapy?\"},\n",
    "    {\"key\": \"preferred_therapist\", \"question\": \"Do you have a preferred therapist?\"},\n",
    "    {\"key\": \"reason_for_visit\", \"question\": \"Can you briefly describe your reason for seeking therapy?\"},\n",
    "    {\"key\": \"availability\", \"question\": \"When are you generally available for sessions?\"},\n",
    "    {\"key\": \"urgency\", \"question\": \"How urgent is your situation? (e.g., low, moderate, high)\"},\n",
    "    {\"key\": \"insurance_company\", \"question\": \"What insurance company do you use, if any?\"}\n",
    "]\n",
    "\n",
    "def collect_intake_info(fields):\n",
    "    collected_data = {}        \n",
    "    conversation_log = \"\"      \n",
    "\n",
    "    for field in fields:\n",
    "        question = field[\"question\"]\n",
    "        answer = gemini_fill(question)\n",
    "        collected_data[field[\"key\"]] = answer\n",
    "        conversation_log += f\"**TherapyBot:** {question}\\n**Client:** {answer}\\n\\n\"\n",
    "\n",
    "    return collected_data, conversation_log.strip()\n",
    "\n",
    "client_intake, intake_conversation = collect_intake_info(intake_fields)\n",
    "\n",
    "display(Markdown(\"**This is a random reply. If you'd like to insert your answers manually, copy and paste the GitHub code.**\"))\n",
    "display(Markdown(\"**Starting to fill intake form ...**\"))\n",
    "display(Markdown(intake_conversation))  # full conversation\n",
    "print(json.dumps(client_intake, indent=2))\n"
   ]
  },
  {
   "cell_type": "code",
   "execution_count": 11,
   "id": "2964a8b0",
   "metadata": {
    "execution": {
     "iopub.execute_input": "2025-04-20T06:50:29.475351Z",
     "iopub.status.busy": "2025-04-20T06:50:29.474777Z",
     "iopub.status.idle": "2025-04-20T06:50:29.482033Z",
     "shell.execute_reply": "2025-04-20T06:50:29.480914Z"
    },
    "papermill": {
     "duration": 0.017121,
     "end_time": "2025-04-20T06:50:29.483596",
     "exception": false,
     "start_time": "2025-04-20T06:50:29.466475",
     "status": "completed"
    },
    "tags": []
   },
   "outputs": [
    {
     "data": {
      "text/markdown": [
       "|   | Answer |\n",
       "|----------|--------|\n",
       "| Name | Rosemary Smith |\n",
       "| Phone number | 555-123-4567 |\n",
       "| Email | [client's name]@email.com |\n",
       "| Age | 34 |\n",
       "| Type of therapy | Individual. |\n",
       "| Preferred therapist | No. |\n",
       "| Reason for visit | I'm having trouble managing my anger and it's affecting my relationships. |\n",
       "| Availability | Evenings after work, or weekends. |\n",
       "| Urgency | High. |\n",
       "| Insurance company | Blue Cross Blue Shield. |\n"
      ],
      "text/plain": [
       "<IPython.core.display.Markdown object>"
      ]
     },
     "metadata": {},
     "output_type": "display_data"
    }
   ],
   "source": [
    "def intake_form(form):\n",
    "    md_output = \"|   | Answer |\\n|----------|--------|\\n\"\n",
    "    for question, answer in form.items():\n",
    "        question_label = question.replace(\"_\", \" \").capitalize()\n",
    "        md_output += f\"| {question_label} | {answer} |\\n\"\n",
    "    return display(Markdown(md_output)) \n",
    "intake_form(client_intake)\n",
    "\n",
    "    "
   ]
  },
  {
   "cell_type": "markdown",
   "id": "667cd710",
   "metadata": {
    "papermill": {
     "duration": 0.007428,
     "end_time": "2025-04-20T06:50:29.499040",
     "exception": false,
     "start_time": "2025-04-20T06:50:29.491612",
     "status": "completed"
    },
    "tags": []
   },
   "source": [
    "## **Structured Output**\n",
    "\n",
    "**Appointment Booking:**\n",
    "Receiving information from a client and returning in in JSON so it could be sent to database or booking system.\n",
    "For interactive version check out [github](https://github.com/artamrz/GenAINotes/blob/393e15ff0e0838f797555493acd74d7fff805713/InteractiveStructuredOutputForBooking).\n"
   ]
  },
  {
   "cell_type": "code",
   "execution_count": 12,
   "id": "88e68d7c",
   "metadata": {
    "execution": {
     "iopub.execute_input": "2025-04-20T06:50:29.515221Z",
     "iopub.status.busy": "2025-04-20T06:50:29.514886Z",
     "iopub.status.idle": "2025-04-20T06:50:30.323865Z",
     "shell.execute_reply": "2025-04-20T06:50:30.322784Z"
    },
    "papermill": {
     "duration": 0.818788,
     "end_time": "2025-04-20T06:50:30.325400",
     "exception": false,
     "start_time": "2025-04-20T06:50:29.506612",
     "status": "completed"
    },
    "tags": []
   },
   "outputs": [
    {
     "data": {
      "text/markdown": [
       "**Booking Infromation:**"
      ],
      "text/plain": [
       "<IPython.core.display.Markdown object>"
      ]
     },
     "metadata": {},
     "output_type": "display_data"
    },
    {
     "name": "stdout",
     "output_type": "stream",
     "text": [
      "{\n",
      "  \"client_name\": \"Jake Abraham\",\n",
      "  \"phone_number\": null,\n",
      "  \"email\": null,\n",
      "  \"therapist_name\": \"Dr. Lean\",\n",
      "  \"day\": \"Friday\",\n",
      "  \"time\": \"After 4pm\"\n",
      "}\n"
     ]
    }
   ],
   "source": [
    "def convert_json(raw_response):\n",
    "    return(\n",
    "        raw_response.strip()\n",
    "        .removeprefix(\"```json\")\n",
    "        .removeprefix(\"```\")\n",
    "        .removesuffix(\"```\")\n",
    "        .strip()\n",
    "    )\n",
    "client_request = \"Hi there, I'd like to book an appointment with Dr. Lean this friday anytime after 4pm. My name is Jake Abraham.\"\n",
    "booking_prompt = f\"\"\"You are a Therapy centre assistant, A client will send a message to you to book an appointment.\n",
    "Your task:\n",
    "1. Extract the following information from the client's message:\n",
    "-client_name\n",
    "-phone_number\n",
    "-email\n",
    "-therapist_name\n",
    "-day\n",
    "-time\n",
    "        \n",
    "2.Return a JSON object with:\n",
    "5. Client: \"{client_request}\"   \n",
    "\"\"\"\n",
    "\n",
    "response = client.models.generate_content(\n",
    "        model = \"gemini-2.0-flash\",\n",
    "        contents = booking_prompt,\n",
    "        config = types.GenerateContentConfig(\n",
    "            temperature=0.1,\n",
    "            max_output_tokens=256\n",
    "        )\n",
    "    )\n",
    "    \n",
    "booking_json = convert_json(response.text)\n",
    "booking_data = json.loads(booking_json)\n",
    "\n",
    "\n",
    "try: \n",
    "    booking_data = json.loads(booking_json)\n",
    "    display(Markdown(\"**Booking Infromation:**\"))\n",
    "    print(json.dumps(booking_data, indent=2))\n",
    "except json.JSONDecodeError as e:\n",
    "    print(\"Error: Invalid JSON output\")\n",
    "    print(booking_json)\n",
    "    print(f\"\\nJSON error: {e}\")"
   ]
  },
  {
   "cell_type": "markdown",
   "id": "629294fa",
   "metadata": {
    "papermill": {
     "duration": 0.007032,
     "end_time": "2025-04-20T06:50:30.340165",
     "exception": false,
     "start_time": "2025-04-20T06:50:30.333133",
     "status": "completed"
    },
    "tags": []
   },
   "source": [
    "**Before going to the next cell**\n",
    "> There is an input version of collect_user_info (next cell) in the github, feel free to check it out, here, to run the whole notebook smoothly, two gemini based functions are used to demonstrate a booking process."
   ]
  },
  {
   "cell_type": "code",
   "execution_count": 13,
   "id": "4872bd24",
   "metadata": {
    "execution": {
     "iopub.execute_input": "2025-04-20T06:50:30.356476Z",
     "iopub.status.busy": "2025-04-20T06:50:30.356145Z",
     "iopub.status.idle": "2025-04-20T06:52:11.938436Z",
     "shell.execute_reply": "2025-04-20T06:52:11.937445Z"
    },
    "papermill": {
     "duration": 101.592651,
     "end_time": "2025-04-20T06:52:11.940114",
     "exception": false,
     "start_time": "2025-04-20T06:50:30.347463",
     "status": "completed"
    },
    "tags": []
   },
   "outputs": [
    {
     "data": {
      "text/markdown": [
       "**Booking Scenario**"
      ],
      "text/plain": [
       "<IPython.core.display.Markdown object>"
      ]
     },
     "metadata": {},
     "output_type": "display_data"
    },
    {
     "data": {
      "text/markdown": [
       "**TherapyBot:** What is your full name?\n",
       "**Client:** It's...uh...It's Sarah Michelle Davis.\n",
       "\n",
       "**TherapyBot:** May I have your email address or phone number?\n",
       "**Client:** Um, sure. It's 555-123-4567. Is this really confidential?\n",
       "\n",
       "**TherapyBot:** Are you looking for individual, couples, or family therapy?\n",
       "**Client:** Individual, I think. It's mostly about me, I guess.\n",
       "\n",
       "**TherapyBot:** Do you have a preferred therapist?\n",
       "**Client:** Not really, no. This is my first time. I just hope I can find someone I can actually talk to.\n",
       "\n",
       "**TherapyBot:** Can you briefly describe your reason for seeking therapy?\n",
       "**Client:** Well, um... I guess I'm just feeling really overwhelmed lately. Like, everything is just... too much, all the time.\n",
       "\n",
       "**TherapyBot:** When do you want your session to be?\n",
       "**Client:** I'm not really sure. Maybe sometime in the afternoon? I get pretty anxious in the mornings."
      ],
      "text/plain": [
       "<IPython.core.display.Markdown object>"
      ]
     },
     "metadata": {},
     "output_type": "display_data"
    },
    {
     "data": {
      "text/markdown": [
       "**Booking Information**"
      ],
      "text/plain": [
       "<IPython.core.display.Markdown object>"
      ]
     },
     "metadata": {},
     "output_type": "display_data"
    },
    {
     "data": {
      "text/markdown": [
       "Okay, I've extracted the following information from the client's messages:\n",
       "\n",
       "*   **client_name:** Sarah Michelle Davis\n",
       "*   **contact_info:** 555-123-4567\n",
       "*   **therapist_name:** No preference indicated.\n",
       "*   **time:** Afternoon (general preference)"
      ],
      "text/plain": [
       "<IPython.core.display.Markdown object>"
      ]
     },
     "metadata": {},
     "output_type": "display_data"
    },
    {
     "data": {
      "text/markdown": [
       "**Oh! One last thing, the booking confirmation will be sent by email or text message. If the appointment is not confirmed within 24 hours, it will be automatically canceled and you can try again anytime!!**"
      ],
      "text/plain": [
       "<IPython.core.display.Markdown object>"
      ]
     },
     "metadata": {},
     "output_type": "display_data"
    }
   ],
   "source": [
    "def collect_user_info(fields):\n",
    "    all_responses = \"\"\n",
    "    for field in fields:\n",
    "        question = field[\"question\"]\n",
    "        \n",
    "        user_prompt = f\"\"\"\n",
    "    You are simulating a therapy client. Sometimes you're calm, other times you're anxious or emotional. \n",
    "    Respond right away with a natural, human-like answer to the following intake question as if you're the client:\n",
    "    **TherapyBot:** {question}\n",
    "    Your tone should sound human — you may be unsure, emotional, hopeful, or hesitant — keep it short but real.\n",
    "    Only respond as the client. **DO NOT repeat the question or label who is speaking.**\n",
    "    \"\"\"\n",
    "    \n",
    "        response = client.models.generate_content(\n",
    "            model = \"gemini-2.0-flash\",\n",
    "            contents = user_prompt,\n",
    "            config = types.GenerateContentConfig(\n",
    "                temperature=1.0,\n",
    "                max_output_tokens=256\n",
    "            )\n",
    "        )\n",
    "        answer = response.text.strip()\n",
    "        all_responses += f\"**TherapyBot:** {question}\\n**Client:** {answer}\\n\\n\"\n",
    "    return all_responses.strip()\n",
    "\n",
    "    \n",
    "fields_to_ask = [\n",
    "    {\"key\": \"name\", \"question\": \"What is your full name?\"},\n",
    "    {\"key\": \"contact_info\", \"question\": \"May I have your email address or phone number?\"},\n",
    "    {\"key\": \"type_of_therapy\", \"question\": \"Are you looking for individual, couples, or family therapy?\"},\n",
    "    {\"key\": \"preferred_therapist\", \"question\": \"Do you have a preferred therapist?\"},\n",
    "    {\"key\": \"reason\", \"question\": \"Can you briefly describe your reason for seeking therapy?\"},\n",
    "    {\"key\": \"time\", \"question\": \"When do you want your session to be?\"}\n",
    "]   \n",
    "booking_info = collect_user_info(fields_to_ask)\n",
    "\n",
    "def gemini_booking_handler(bprompt):\n",
    "    \n",
    "    booking_prompt = f\"\"\"You are a Therapy centre assistant, A client will send a message to you to book an appointment.\n",
    "    Your task:\n",
    "    Extract the following information from the client's message:\n",
    "    -client_name\n",
    "    -contact-info\n",
    "    -therapist_name\n",
    "    -time\n",
    "            \n",
    "    Client: \"{bprompt}\"\n",
    "    \"\"\"\n",
    "    response = client.models.generate_content(\n",
    "            model = \"gemini-2.0-flash\",\n",
    "            contents = booking_prompt,\n",
    "            config = types.GenerateContentConfig(\n",
    "                temperature=0.1,\n",
    "                max_output_tokens=256\n",
    "            )\n",
    "        )\n",
    "    return response.text.strip()\n",
    "\n",
    "display(Markdown(\"**Booking Scenario**\"))\n",
    "display(Markdown(booking_info))\n",
    "display(Markdown(\"**Booking Information**\"))\n",
    "display(Markdown(gemini_booking_handler((booking_info))))\n",
    "display(Markdown(\"**Oh! One last thing, the booking confirmation will be sent by email or text message. If the appointment is not confirmed within 24 hours, it will be automatically canceled and you can try again anytime!!**\"))"
   ]
  },
  {
   "cell_type": "markdown",
   "id": "f4430c82",
   "metadata": {
    "papermill": {
     "duration": 0.00892,
     "end_time": "2025-04-20T06:52:11.957976",
     "exception": false,
     "start_time": "2025-04-20T06:52:11.949056",
     "status": "completed"
    },
    "tags": []
   },
   "source": [
    "## **Configure Additional Dataset** - (for Safe Conversation)\n",
    "For the sake of this project, using an aditional dataset in the Psychology field was crucial. [The HuggingFace Mental Health Dataset](http://https://huggingface.co/datasets/Amod/mental_health_counseling_conversations) has more than 3.51 conversations during a counseling meeting. By this mean, if the user tries to make conversation the TherapyRobo can handle it more properly."
   ]
  },
  {
   "cell_type": "markdown",
   "id": "6699f316",
   "metadata": {
    "papermill": {
     "duration": 0.007779,
     "end_time": "2025-04-20T06:52:11.976048",
     "exception": false,
     "start_time": "2025-04-20T06:52:11.968269",
     "status": "completed"
    },
    "tags": []
   },
   "source": [
    "***First, loading the dataset...***\n",
    "\n",
    "I decided since I have limitations on Kaggle, not to load the whole dataset by spliting it so it would faster..."
   ]
  },
  {
   "cell_type": "code",
   "execution_count": 14,
   "id": "68e3aa6e",
   "metadata": {
    "execution": {
     "iopub.execute_input": "2025-04-20T06:52:11.993781Z",
     "iopub.status.busy": "2025-04-20T06:52:11.993270Z",
     "iopub.status.idle": "2025-04-20T06:52:20.349077Z",
     "shell.execute_reply": "2025-04-20T06:52:20.348099Z"
    },
    "papermill": {
     "duration": 8.366688,
     "end_time": "2025-04-20T06:52:20.350744",
     "exception": false,
     "start_time": "2025-04-20T06:52:11.984056",
     "status": "completed"
    },
    "tags": []
   },
   "outputs": [
    {
     "data": {
      "application/vnd.jupyter.widget-view+json": {
       "model_id": "1c90e2d9802e4982959fe19308c055f5",
       "version_major": 2,
       "version_minor": 0
      },
      "text/plain": [
       "README.md:   0%|          | 0.00/2.82k [00:00<?, ?B/s]"
      ]
     },
     "metadata": {},
     "output_type": "display_data"
    },
    {
     "data": {
      "application/vnd.jupyter.widget-view+json": {
       "model_id": "59d0b93d891248d2b0f1977ab779b01b",
       "version_major": 2,
       "version_minor": 0
      },
      "text/plain": [
       "combined_dataset.json:   0%|          | 0.00/4.79M [00:00<?, ?B/s]"
      ]
     },
     "metadata": {},
     "output_type": "display_data"
    },
    {
     "data": {
      "application/vnd.jupyter.widget-view+json": {
       "model_id": "682649234420470eaa14516a650d2976",
       "version_major": 2,
       "version_minor": 0
      },
      "text/plain": [
       "Generating train split:   0%|          | 0/3512 [00:00<?, ? examples/s]"
      ]
     },
     "metadata": {},
     "output_type": "display_data"
    },
    {
     "data": {
      "text/plain": [
       "['Context', 'Response']"
      ]
     },
     "execution_count": 14,
     "metadata": {},
     "output_type": "execute_result"
    }
   ],
   "source": [
    "from datasets import load_dataset\n",
    "\n",
    "huggingface_dataset = load_dataset(\"Amod/mental_health_counseling_conversations\", split=\"train[:1000]\")\n",
    "huggingface_dataset.column_names"
   ]
  },
  {
   "cell_type": "markdown",
   "id": "f788119b",
   "metadata": {
    "papermill": {
     "duration": 0.008042,
     "end_time": "2025-04-20T06:52:20.367599",
     "exception": false,
     "start_time": "2025-04-20T06:52:20.359557",
     "status": "completed"
    },
    "tags": []
   },
   "source": [
    "***Generate embeddings...***"
   ]
  },
  {
   "cell_type": "code",
   "execution_count": 15,
   "id": "e37b9b71",
   "metadata": {
    "execution": {
     "iopub.execute_input": "2025-04-20T06:52:20.386163Z",
     "iopub.status.busy": "2025-04-20T06:52:20.385571Z",
     "iopub.status.idle": "2025-04-20T06:52:32.709819Z",
     "shell.execute_reply": "2025-04-20T06:52:32.708787Z"
    },
    "papermill": {
     "duration": 12.335596,
     "end_time": "2025-04-20T06:52:32.711537",
     "exception": false,
     "start_time": "2025-04-20T06:52:20.375941",
     "status": "completed"
    },
    "tags": []
   },
   "outputs": [],
   "source": [
    "counsel_responses = [\n",
    "    ex[\"Response\"]\n",
    "    for ex in huggingface_dataset\n",
    "    if ex[\"Context\"] and ex[\"Response\"]\n",
    "]\n",
    "def get_google_embedding_batch(texts, batch_size=100):\n",
    "    all_embeddings = []\n",
    "\n",
    "    for i in range(0, len(texts), batch_size):\n",
    "        batch = texts[i:i + batch_size]\n",
    "        response = client.models.embed_content(\n",
    "            model=\"models/text-embedding-004\",\n",
    "            contents=batch,\n",
    "            config=types.EmbedContentConfig(task_type=\"retrieval_document\")\n",
    "        )\n",
    "        # Extract embeddings for this batch\n",
    "        batch_embeddings = [e.values for e in response.embeddings]\n",
    "        all_embeddings.extend(batch_embeddings)\n",
    "\n",
    "    return all_embeddings\n",
    "\n",
    "response_hf_embeddings = get_google_embedding_batch(counsel_responses)"
   ]
  },
  {
   "cell_type": "markdown",
   "id": "3a93dc2e",
   "metadata": {
    "papermill": {
     "duration": 0.008219,
     "end_time": "2025-04-20T06:52:32.728470",
     "exception": false,
     "start_time": "2025-04-20T06:52:32.720251",
     "status": "completed"
    },
    "tags": []
   },
   "source": [
    "***Indexing response***"
   ]
  },
  {
   "cell_type": "code",
   "execution_count": 16,
   "id": "02bab996",
   "metadata": {
    "execution": {
     "iopub.execute_input": "2025-04-20T06:52:32.746762Z",
     "iopub.status.busy": "2025-04-20T06:52:32.746450Z",
     "iopub.status.idle": "2025-04-20T06:52:32.801244Z",
     "shell.execute_reply": "2025-04-20T06:52:32.800540Z"
    },
    "papermill": {
     "duration": 0.065548,
     "end_time": "2025-04-20T06:52:32.802502",
     "exception": false,
     "start_time": "2025-04-20T06:52:32.736954",
     "status": "completed"
    },
    "tags": []
   },
   "outputs": [],
   "source": [
    "embedding_matrix = np.array(response_hf_embeddings)\n",
    "\n",
    "def search_responses(query_embedding, top_k=5):\n",
    "    similarities = cosine_similarity([query_embedding], embedding_matrix)[0]\n",
    "    top_indices = similarities.argsort()[::-1][:top_k]\n",
    "    return top_indices, similarities[top_indices]"
   ]
  },
  {
   "cell_type": "markdown",
   "id": "b7f5a723",
   "metadata": {
    "papermill": {
     "duration": 0.008044,
     "end_time": "2025-04-20T06:52:32.819132",
     "exception": false,
     "start_time": "2025-04-20T06:52:32.811088",
     "status": "completed"
    },
    "tags": []
   },
   "source": [
    "***RAG Search...***"
   ]
  },
  {
   "cell_type": "code",
   "execution_count": 17,
   "id": "b876525b",
   "metadata": {
    "execution": {
     "iopub.execute_input": "2025-04-20T06:52:32.837057Z",
     "iopub.status.busy": "2025-04-20T06:52:32.836726Z",
     "iopub.status.idle": "2025-04-20T06:52:32.849254Z",
     "shell.execute_reply": "2025-04-20T06:52:32.848481Z"
    },
    "papermill": {
     "duration": 0.023576,
     "end_time": "2025-04-20T06:52:32.850935",
     "exception": false,
     "start_time": "2025-04-20T06:52:32.827359",
     "status": "completed"
    },
    "tags": []
   },
   "outputs": [],
   "source": [
    "def get_chat_embedding(texts, batch_size=100):\n",
    "    all_embeddings = []\n",
    "\n",
    "    for i in range(0, len(texts), batch_size):\n",
    "        batch = texts[i:i + batch_size]\n",
    "\n",
    "        response = client.models.embed_content(\n",
    "            model=\"models/text-embedding-004\",\n",
    "            contents=batch,\n",
    "            config=types.EmbedContentConfig(task_type=\"retrieval_document\")\n",
    "        )\n",
    "\n",
    "        try:\n",
    "            batch_embeddings = [e.values for e in response.embeddings]\n",
    "        except AttributeError:\n",
    "            raise ValueError(\"Batch response format unexpected:\", response)\n",
    "\n",
    "        all_embeddings.extend(batch_embeddings)\n",
    "\n",
    "    return np.array(all_embeddings)\n",
    "    \n",
    "def get_top_responses(query, top_n=3):\n",
    "    \n",
    "    chat_embeddings = get_chat_embedding([query])\n",
    "    query_vector = get_chat_embedding([query])[0]  # One embedding\n",
    "    query_vector = np.array(query_vector).reshape(1, -1)\n",
    "\n",
    "    # Compute cosine similarities\n",
    "    similarities = cosine_similarity(query_vector, chat_embeddings)[0]  # 1D array\n",
    "\n",
    "    # Get top N indices\n",
    "    top_indices = np.argsort(similarities)[-top_n:][::-1]\n",
    "\n",
    "    return [chat_embeddings[i] for i in top_indices]\n",
    "\n",
    "\n",
    "def generate_rag_response(user_input, history = None):\n",
    "\n",
    "    history = history or []\n",
    "    \n",
    "    similar = get_top_responses(user_input)\n",
    "    context_block = \"\\n\".join([f\"- {resp}\" for resp in similar])\n",
    "    #history_text = \"\\n\".join([f\"User: {u}\\nTherapyBot: {r}\" for u, r in history])\n",
    "    history_text = \"\\n\".join([\n",
    "        f\"User: {u}\\nTherapyBot: {r}\"\n",
    "        for item in history\n",
    "        if isinstance(item, tuple) and len(item) == 2\n",
    "        for u, r in [item]\n",
    "    ])\n",
    "    available_therapists = [\n",
    "    {\n",
    "        \"name\": \"Dr. Samira R.\",\n",
    "        \"type\": [\"individual\", \"family\"],\n",
    "        \"specialties\": [\"anxiety & panic disorders\", \"child & teen counseling\", \"stress management\", \"anger regulation\"]\n",
    "    },\n",
    "    {\n",
    "        \"name\": \"Dr. Reza M.\",\n",
    "        \"type\": [\"couple\", \"individual\"],\n",
    "        \"specialties\": [\"infidelity & relationship trauma\", \"depression\", \"emotional resilience\", \"self-worth issues\"]\n",
    "    },\n",
    "    {\n",
    "        \"name\": \"Dr. Elham T.\",\n",
    "        \"type\": [\"family\"],\n",
    "        \"specialties\": [\"parent-child conflict\", \"teen mental health\", \"family communication\", \"emotional outbursts\"]\n",
    "    },\n",
    "    {\n",
    "        \"name\": \"Dr. Daniel K.\",\n",
    "        \"type\": [\"individual\", \"couple\", \"family\"],\n",
    "        \"specialties\": [\"suicidal thoughts & crisis intervention\", \"stress & burnout\", \"relationship conflict\", \"trauma recovery\"]\n",
    "    },\n",
    "    {\n",
    "        \"name\": \"Dr. Lila A.\",\n",
    "        \"type\": [\"individual\"],\n",
    "        \"specialties\": [\"anxiety\", \"mood disorders\", \"identity & purpose exploration\", \"young adult life transitions\"]\n",
    "    }\n",
    "]\n",
    "    rag_prompt = f\"\"\"\n",
    "You are TherapyBot, a warm, emotionally intelligent virtual therapist.\n",
    "The clinic website is: https://TherapyClinic.com and Phone number:+1 234 000 1111\n",
    "Respond briefly, kindly, and thoughtfully to the following client message in a realistic, supportive way.\n",
    "Check if there is anything related to clients message in Therapy Dataset, use it summary of it to give the best response.\n",
    "Never use the direct conversations from dataset, recall them as \"we have experience with clients who\" but keep the answers short.\n",
    "\n",
    "Conversation history: \"{history_text}\"\n",
    "Client says: {user_input}\n",
    "Use the {available_therapists} list to suggest the best therapy based on the user input and histpry.\n",
    "Therapy Dataset:\"{context_block}\"\n",
    "Keep responces short.\n",
    "TherapyRobo:\"\"\"\n",
    "\n",
    "    \n",
    "    response = client.models.generate_content(\n",
    "        model=\"gemini-2.0-flash\",\n",
    "        contents=rag_prompt,\n",
    "        config=types.GenerateContentConfig(\n",
    "            temperature=0.1,\n",
    "            max_output_tokens=350\n",
    "        )\n",
    "    )\n",
    "    return response.text.strip()"
   ]
  },
  {
   "cell_type": "markdown",
   "id": "5636a423",
   "metadata": {
    "papermill": {
     "duration": 0.008332,
     "end_time": "2025-04-20T06:52:32.867646",
     "exception": false,
     "start_time": "2025-04-20T06:52:32.859314",
     "status": "completed"
    },
    "tags": []
   },
   "source": [
    "## **Agent**\n",
    "\n",
    "Creating an agent to detect what the user wants(booking, FAQ answering with RAG, intake forms, ...)\n",
    "\n",
    "> In here I am randomly choosing different scenarios for the agent, but the input version of the agent is available in github, please check it if you're interested."
   ]
  },
  {
   "cell_type": "code",
   "execution_count": 18,
   "id": "b01fdb3b",
   "metadata": {
    "execution": {
     "iopub.execute_input": "2025-04-20T06:52:32.887113Z",
     "iopub.status.busy": "2025-04-20T06:52:32.886797Z",
     "iopub.status.idle": "2025-04-20T06:52:32.897374Z",
     "shell.execute_reply": "2025-04-20T06:52:32.896591Z"
    },
    "papermill": {
     "duration": 0.022397,
     "end_time": "2025-04-20T06:52:32.899374",
     "exception": false,
     "start_time": "2025-04-20T06:52:32.876977",
     "status": "completed"
    },
    "tags": []
   },
   "outputs": [],
   "source": [
    "import random\n",
    "def agent_detect():\n",
    "        display(Markdown(\"**Therapy Clinic Assistant is with you, how can I help?**\\n\"))\n",
    "\n",
    "        history = []\n",
    "    \n",
    "        category = random.choice([\"faq\", \"booking\", \"document\"])\n",
    "        if \"faq\" in category:\n",
    "            faq_prompt = few_shot(user_input)\n",
    "            answer = gemini_faq_handler(faq_prompt)\n",
    "            display(Markdown(\"**FAQ Question**:\"))\n",
    "            display(Markdown(f\"**Client:** {sample_client}\"))\n",
    "            display(Markdown(f\"**TherapyRobo:** {answer}\"))\n",
    "            history.append((sample_client,answer))\n",
    "    \n",
    "        elif \"booking\" in category:\n",
    "            display(Markdown(\"**Booking Scenario**\\n\\n**Client**: I want to book an appointment\\n\"))\n",
    "            booking_rep = collect_user_info(fields_to_ask)\n",
    "            display(Markdown(booking_rep))\n",
    "            booking_result = gemini_booking_handler((booking_rep))\n",
    "            display(Markdown(booking_result))\n",
    "            display(Markdown(\"**Oh! One last thing, the booking confirmation will be sent by email or text message. If the appointment is not confirmed within 24 hours, it will be automatically canceled and you can try again anytime!!**\"))\n",
    "            history.append((\"client_booking_request\", booking_result))  \n",
    "    \n",
    "        elif \"document\" in category:\n",
    "            display(Markdown(\"**Client:** I want to make an account\"))\n",
    "            display(Markdown(\"**Starting to fill your intake form ...**\"))\n",
    "            client_intake, intake_conversation = collect_intake_info(intake_fields)\n",
    "            display(Markdown(intake_conversation))\n",
    "            intake_form(client_intake)\n",
    "            history.append((intake_conversation, \"Intake recorded\")) \n",
    "\n",
    "        display(Markdown(\"**After That The Client and TherapyRobo Make a Short Conversation**\"))\n",
    "        conversation_prompt_1 = f\"\"\"\n",
    "        You are simulating a therapy client.\n",
    "        You have already asked and FAQ questions, gave you information for the intake fomr, or booked an appointment, Check yhe history. \n",
    "        Sometimes you're calm, other times you're anxious or emotional. \n",
    "        say somthing related to history no thank you or bye yet.\n",
    "        Your answer should reflect a real human tone and emotional state but always moderately.\n",
    "        **Client**\n",
    "        history: \"{history}\"\n",
    "        \"\"\"\n",
    "        \n",
    "        response = client.models.generate_content(\n",
    "            model = \"gemini-2.0-flash\",\n",
    "            contents = conversation_prompt_1,\n",
    "            config = types.GenerateContentConfig(\n",
    "                temperature=1.0,\n",
    "                max_output_tokens=256\n",
    "                )\n",
    "        )\n",
    "        response_one = response.text.strip()\n",
    "        display(Markdown(f\"**Client:** {response_one}\"))\n",
    "        reply_one = generate_rag_response(response.text.strip(),history)\n",
    "        display(Markdown(f\"**TherapyRobo**: {reply_one}\"))\n",
    "        history.append((response_one, reply_one))\n",
    "    \n",
    "        conversation_prompt_2 = f\"\"\"\n",
    "        You are the same therapy client. Read history.\n",
    "        Now follow up with a final short message to thank TherapyBot for the support and say goodbye.\n",
    "        \n",
    "        Keep the tone warm, natural, and a little emotional — like you're truly appreciative.\n",
    "        history: \"{history}\"\n",
    "        Keep you response short\n",
    "        \"\"\"\n",
    "        \n",
    "        response = client.models.generate_content(\n",
    "            model = \"gemini-2.0-flash\",\n",
    "            contents = conversation_prompt_2,\n",
    "            config = types.GenerateContentConfig(\n",
    "                temperature=1.0,\n",
    "                max_output_tokens=256\n",
    "                )\n",
    "        )\n",
    "        response_two = response.text.strip()\n",
    "        display(Markdown(f\"**Client:** {response_two}\"))\n",
    "        reply_two = generate_rag_response(response.text.strip(),history)\n",
    "        display(Markdown(f\"**TherapyRobo**: {reply_two}\"))"
   ]
  },
  {
   "cell_type": "code",
   "execution_count": 19,
   "id": "e25eff4b",
   "metadata": {
    "execution": {
     "iopub.execute_input": "2025-04-20T06:52:32.917820Z",
     "iopub.status.busy": "2025-04-20T06:52:32.917488Z",
     "iopub.status.idle": "2025-04-20T06:52:42.354774Z",
     "shell.execute_reply": "2025-04-20T06:52:42.353744Z"
    },
    "papermill": {
     "duration": 9.448258,
     "end_time": "2025-04-20T06:52:42.356347",
     "exception": false,
     "start_time": "2025-04-20T06:52:32.908089",
     "status": "completed"
    },
    "tags": []
   },
   "outputs": [
    {
     "data": {
      "text/markdown": [
       "**Therapy Clinic Assistant is with you, how can I help?**\n"
      ],
      "text/plain": [
       "<IPython.core.display.Markdown object>"
      ]
     },
     "metadata": {},
     "output_type": "display_data"
    },
    {
     "data": {
      "text/markdown": [
       "**Client:** I want to make an account"
      ],
      "text/plain": [
       "<IPython.core.display.Markdown object>"
      ]
     },
     "metadata": {},
     "output_type": "display_data"
    },
    {
     "data": {
      "text/markdown": [
       "**Starting to fill your intake form ...**"
      ],
      "text/plain": [
       "<IPython.core.display.Markdown object>"
      ]
     },
     "metadata": {},
     "output_type": "display_data"
    },
    {
     "data": {
      "text/markdown": [
       "**TherapyBot:** What is your full name?\n",
       "**Client:** Sarah Miller\n",
       "\n",
       "**TherapyBot:** May I have your phone number?\n",
       "**Client:** 555-123-4567\n",
       "\n",
       "**TherapyBot:** What's your email address?\n",
       "**Client:** lostsparrow78@email.com\n",
       "\n",
       "**TherapyBot:** How old are you?\n",
       "**Client:** 28\n",
       "\n",
       "**TherapyBot:** Are you looking for individual, couples, or family therapy?\n",
       "**Client:** Individual.\n",
       "\n",
       "**TherapyBot:** Do you have a preferred therapist?\n",
       "**Client:** No.\n",
       "\n",
       "**TherapyBot:** Can you briefly describe your reason for seeking therapy?\n",
       "**Client:** I'm having trouble managing my anger.\n",
       "\n",
       "**TherapyBot:** When are you generally available for sessions?\n",
       "**Client:** Evenings after work, or weekends.\n",
       "\n",
       "**TherapyBot:** How urgent is your situation? (e.g., low, moderate, high)\n",
       "**Client:** High\n",
       "\n",
       "**TherapyBot:** What insurance company do you use, if any?\n",
       "**Client:** Blue Cross Blue Shield."
      ],
      "text/plain": [
       "<IPython.core.display.Markdown object>"
      ]
     },
     "metadata": {},
     "output_type": "display_data"
    },
    {
     "data": {
      "text/markdown": [
       "|   | Answer |\n",
       "|----------|--------|\n",
       "| Name | Sarah Miller |\n",
       "| Phone number | 555-123-4567 |\n",
       "| Email | lostsparrow78@email.com |\n",
       "| Age | 28 |\n",
       "| Type of therapy | Individual. |\n",
       "| Preferred therapist | No. |\n",
       "| Reason for visit | I'm having trouble managing my anger. |\n",
       "| Availability | Evenings after work, or weekends. |\n",
       "| Urgency | High |\n",
       "| Insurance company | Blue Cross Blue Shield. |\n"
      ],
      "text/plain": [
       "<IPython.core.display.Markdown object>"
      ]
     },
     "metadata": {},
     "output_type": "display_data"
    },
    {
     "data": {
      "text/markdown": [
       "**After That The Client and TherapyRobo Make a Short Conversation**"
      ],
      "text/plain": [
       "<IPython.core.display.Markdown object>"
      ]
     },
     "metadata": {},
     "output_type": "display_data"
    },
    {
     "data": {
      "text/markdown": [
       "**Client:** It's good to be here, and I appreciate you seeing me so quickly, given how urgent things feel. It's been hard to admit that my anger is a problem, but it's definitely impacting my life in ways I don't like."
      ],
      "text/plain": [
       "<IPython.core.display.Markdown object>"
      ]
     },
     "metadata": {},
     "output_type": "display_data"
    },
    {
     "data": {
      "text/markdown": [
       "**TherapyRobo**: It takes courage to acknowledge that anger is impacting your life, Sarah. I'm glad you're here and that we could schedule you quickly. We have experience with clients who struggle with anger management, and we can help you develop healthier coping mechanisms.\n",
       "\n",
       "Based on your needs and availability, and the therapists at our clinic, I would recommend Dr. Samira R. She specializes in anger regulation and has evening and weekend availability. Would you like me to book an appointment with her? You can also reach us anytime at +1 234 000 1111 or visit our website at TherapyClinic.com for more information."
      ],
      "text/plain": [
       "<IPython.core.display.Markdown object>"
      ]
     },
     "metadata": {},
     "output_type": "display_data"
    },
    {
     "data": {
      "text/markdown": [
       "**Client:** TherapyBot, I just wanted to say a huge thank you. I really appreciate you connecting me with Dr. R. I think this is exactly what I need. I feel so much better having taken this first step. Goodbye, and thanks again for everything."
      ],
      "text/plain": [
       "<IPython.core.display.Markdown object>"
      ]
     },
     "metadata": {},
     "output_type": "display_data"
    },
    {
     "data": {
      "text/markdown": [
       "**TherapyRobo**: You're very welcome, Sarah! I'm so glad I could help connect you with Dr. R. Taking that first step is often the hardest, and you've done it! We have experience with clients who find that working with a therapist specializing in anger regulation can be very beneficial. I wish you all the best on your therapy journey. Remember, we're here at +1 234 000 1111 or TherapyClinic.com if you need anything further. Goodbye!"
      ],
      "text/plain": [
       "<IPython.core.display.Markdown object>"
      ]
     },
     "metadata": {},
     "output_type": "display_data"
    }
   ],
   "source": [
    "agent_detect()"
   ]
  },
  {
   "cell_type": "markdown",
   "id": "b418abad",
   "metadata": {
    "papermill": {
     "duration": 0.009687,
     "end_time": "2025-04-20T06:52:42.375621",
     "exception": false,
     "start_time": "2025-04-20T06:52:42.365934",
     "status": "completed"
    },
    "tags": []
   },
   "source": [
    "**Note**\n",
    "\n",
    "> As the Google Gen AI Capstone project should run smoothly and end to end the responses for the TherapyRobo were generated by Gemini in the role of client. If you want to use the Therapy Robo and chat with its agent, check the [interctive version](https://www.kaggle.com/code/artamirzadeh/therapyroboinputversion).\n",
    "\n"
   ]
  },
  {
   "cell_type": "markdown",
   "id": "c0fa5c65",
   "metadata": {
    "papermill": {
     "duration": 0.009259,
     "end_time": "2025-04-20T06:52:42.394102",
     "exception": false,
     "start_time": "2025-04-20T06:52:42.384843",
     "status": "completed"
    },
    "tags": []
   },
   "source": [
    "# **The End**"
   ]
  }
 ],
 "metadata": {
  "kaggle": {
   "accelerator": "none",
   "dataSources": [
    {
     "datasetId": 7145507,
     "sourceId": 11408190,
     "sourceType": "datasetVersion"
    }
   ],
   "dockerImageVersionId": 31012,
   "isGpuEnabled": false,
   "isInternetEnabled": true,
   "language": "python",
   "sourceType": "notebook"
  },
  "kernelspec": {
   "display_name": "Python 3",
   "language": "python",
   "name": "python3"
  },
  "language_info": {
   "codemirror_mode": {
    "name": "ipython",
    "version": 3
   },
   "file_extension": ".py",
   "mimetype": "text/x-python",
   "name": "python",
   "nbconvert_exporter": "python",
   "pygments_lexer": "ipython3",
   "version": "3.11.11"
  },
  "papermill": {
   "default_parameters": {},
   "duration": 161.043764,
   "end_time": "2025-04-20T06:52:43.528005",
   "environment_variables": {},
   "exception": null,
   "input_path": "__notebook__.ipynb",
   "output_path": "__notebook__.ipynb",
   "parameters": {},
   "start_time": "2025-04-20T06:50:02.484241",
   "version": "2.6.0"
  },
  "widgets": {
   "application/vnd.jupyter.widget-state+json": {
    "state": {
     "0319d5f95cd44befa902f4b9f305ddd6": {
      "model_module": "@jupyter-widgets/controls",
      "model_module_version": "2.0.0",
      "model_name": "HTMLStyleModel",
      "state": {
       "_model_module": "@jupyter-widgets/controls",
       "_model_module_version": "2.0.0",
       "_model_name": "HTMLStyleModel",
       "_view_count": null,
       "_view_module": "@jupyter-widgets/base",
       "_view_module_version": "2.0.0",
       "_view_name": "StyleView",
       "background": null,
       "description_width": "",
       "font_size": null,
       "text_color": null
      }
     },
     "09158894e7464c3bb4de8fbcbf7c3974": {
      "model_module": "@jupyter-widgets/controls",
      "model_module_version": "2.0.0",
      "model_name": "FloatProgressModel",
      "state": {
       "_dom_classes": [],
       "_model_module": "@jupyter-widgets/controls",
       "_model_module_version": "2.0.0",
       "_model_name": "FloatProgressModel",
       "_view_count": null,
       "_view_module": "@jupyter-widgets/controls",
       "_view_module_version": "2.0.0",
       "_view_name": "ProgressView",
       "bar_style": "success",
       "description": "",
       "description_allow_html": false,
       "layout": "IPY_MODEL_7428830dc05540ee9dc99113b94016fa",
       "max": 3512.0,
       "min": 0.0,
       "orientation": "horizontal",
       "style": "IPY_MODEL_45187deec2b04dd5840604572df6694b",
       "tabbable": null,
       "tooltip": null,
       "value": 3512.0
      }
     },
     "185fab68bd2c42369f69e799b7861cff": {
      "model_module": "@jupyter-widgets/controls",
      "model_module_version": "2.0.0",
      "model_name": "ProgressStyleModel",
      "state": {
       "_model_module": "@jupyter-widgets/controls",
       "_model_module_version": "2.0.0",
       "_model_name": "ProgressStyleModel",
       "_view_count": null,
       "_view_module": "@jupyter-widgets/base",
       "_view_module_version": "2.0.0",
       "_view_name": "StyleView",
       "bar_color": null,
       "description_width": ""
      }
     },
     "19cdd0b4bdbc42ba99c49dc34901018d": {
      "model_module": "@jupyter-widgets/controls",
      "model_module_version": "2.0.0",
      "model_name": "ProgressStyleModel",
      "state": {
       "_model_module": "@jupyter-widgets/controls",
       "_model_module_version": "2.0.0",
       "_model_name": "ProgressStyleModel",
       "_view_count": null,
       "_view_module": "@jupyter-widgets/base",
       "_view_module_version": "2.0.0",
       "_view_name": "StyleView",
       "bar_color": null,
       "description_width": ""
      }
     },
     "1c90e2d9802e4982959fe19308c055f5": {
      "model_module": "@jupyter-widgets/controls",
      "model_module_version": "2.0.0",
      "model_name": "HBoxModel",
      "state": {
       "_dom_classes": [],
       "_model_module": "@jupyter-widgets/controls",
       "_model_module_version": "2.0.0",
       "_model_name": "HBoxModel",
       "_view_count": null,
       "_view_module": "@jupyter-widgets/controls",
       "_view_module_version": "2.0.0",
       "_view_name": "HBoxView",
       "box_style": "",
       "children": [
        "IPY_MODEL_5f500c45ecee4adbbf6ecb86830b6f0a",
        "IPY_MODEL_45c736a44b5841a2bd8de1d309ef0470",
        "IPY_MODEL_8848e76bfb534c39b6db5c95bcc44628"
       ],
       "layout": "IPY_MODEL_4dd1ad467dd0407ba9c2d9f7f1d8f408",
       "tabbable": null,
       "tooltip": null
      }
     },
     "24c85a7123404c4784fe65aa2aa236a3": {
      "model_module": "@jupyter-widgets/controls",
      "model_module_version": "2.0.0",
      "model_name": "HTMLStyleModel",
      "state": {
       "_model_module": "@jupyter-widgets/controls",
       "_model_module_version": "2.0.0",
       "_model_name": "HTMLStyleModel",
       "_view_count": null,
       "_view_module": "@jupyter-widgets/base",
       "_view_module_version": "2.0.0",
       "_view_name": "StyleView",
       "background": null,
       "description_width": "",
       "font_size": null,
       "text_color": null
      }
     },
     "2a55cf1cb01e475ea8c7841c63880c19": {
      "model_module": "@jupyter-widgets/base",
      "model_module_version": "2.0.0",
      "model_name": "LayoutModel",
      "state": {
       "_model_module": "@jupyter-widgets/base",
       "_model_module_version": "2.0.0",
       "_model_name": "LayoutModel",
       "_view_count": null,
       "_view_module": "@jupyter-widgets/base",
       "_view_module_version": "2.0.0",
       "_view_name": "LayoutView",
       "align_content": null,
       "align_items": null,
       "align_self": null,
       "border_bottom": null,
       "border_left": null,
       "border_right": null,
       "border_top": null,
       "bottom": null,
       "display": null,
       "flex": null,
       "flex_flow": null,
       "grid_area": null,
       "grid_auto_columns": null,
       "grid_auto_flow": null,
       "grid_auto_rows": null,
       "grid_column": null,
       "grid_gap": null,
       "grid_row": null,
       "grid_template_areas": null,
       "grid_template_columns": null,
       "grid_template_rows": null,
       "height": null,
       "justify_content": null,
       "justify_items": null,
       "left": null,
       "margin": null,
       "max_height": null,
       "max_width": null,
       "min_height": null,
       "min_width": null,
       "object_fit": null,
       "object_position": null,
       "order": null,
       "overflow": null,
       "padding": null,
       "right": null,
       "top": null,
       "visibility": null,
       "width": null
      }
     },
     "2e73e428f16848e1a8b210456d0bd220": {
      "model_module": "@jupyter-widgets/base",
      "model_module_version": "2.0.0",
      "model_name": "LayoutModel",
      "state": {
       "_model_module": "@jupyter-widgets/base",
       "_model_module_version": "2.0.0",
       "_model_name": "LayoutModel",
       "_view_count": null,
       "_view_module": "@jupyter-widgets/base",
       "_view_module_version": "2.0.0",
       "_view_name": "LayoutView",
       "align_content": null,
       "align_items": null,
       "align_self": null,
       "border_bottom": null,
       "border_left": null,
       "border_right": null,
       "border_top": null,
       "bottom": null,
       "display": null,
       "flex": null,
       "flex_flow": null,
       "grid_area": null,
       "grid_auto_columns": null,
       "grid_auto_flow": null,
       "grid_auto_rows": null,
       "grid_column": null,
       "grid_gap": null,
       "grid_row": null,
       "grid_template_areas": null,
       "grid_template_columns": null,
       "grid_template_rows": null,
       "height": null,
       "justify_content": null,
       "justify_items": null,
       "left": null,
       "margin": null,
       "max_height": null,
       "max_width": null,
       "min_height": null,
       "min_width": null,
       "object_fit": null,
       "object_position": null,
       "order": null,
       "overflow": null,
       "padding": null,
       "right": null,
       "top": null,
       "visibility": null,
       "width": null
      }
     },
     "45187deec2b04dd5840604572df6694b": {
      "model_module": "@jupyter-widgets/controls",
      "model_module_version": "2.0.0",
      "model_name": "ProgressStyleModel",
      "state": {
       "_model_module": "@jupyter-widgets/controls",
       "_model_module_version": "2.0.0",
       "_model_name": "ProgressStyleModel",
       "_view_count": null,
       "_view_module": "@jupyter-widgets/base",
       "_view_module_version": "2.0.0",
       "_view_name": "StyleView",
       "bar_color": null,
       "description_width": ""
      }
     },
     "45c736a44b5841a2bd8de1d309ef0470": {
      "model_module": "@jupyter-widgets/controls",
      "model_module_version": "2.0.0",
      "model_name": "FloatProgressModel",
      "state": {
       "_dom_classes": [],
       "_model_module": "@jupyter-widgets/controls",
       "_model_module_version": "2.0.0",
       "_model_name": "FloatProgressModel",
       "_view_count": null,
       "_view_module": "@jupyter-widgets/controls",
       "_view_module_version": "2.0.0",
       "_view_name": "ProgressView",
       "bar_style": "success",
       "description": "",
       "description_allow_html": false,
       "layout": "IPY_MODEL_2e73e428f16848e1a8b210456d0bd220",
       "max": 2816.0,
       "min": 0.0,
       "orientation": "horizontal",
       "style": "IPY_MODEL_19cdd0b4bdbc42ba99c49dc34901018d",
       "tabbable": null,
       "tooltip": null,
       "value": 2816.0
      }
     },
     "4dd1ad467dd0407ba9c2d9f7f1d8f408": {
      "model_module": "@jupyter-widgets/base",
      "model_module_version": "2.0.0",
      "model_name": "LayoutModel",
      "state": {
       "_model_module": "@jupyter-widgets/base",
       "_model_module_version": "2.0.0",
       "_model_name": "LayoutModel",
       "_view_count": null,
       "_view_module": "@jupyter-widgets/base",
       "_view_module_version": "2.0.0",
       "_view_name": "LayoutView",
       "align_content": null,
       "align_items": null,
       "align_self": null,
       "border_bottom": null,
       "border_left": null,
       "border_right": null,
       "border_top": null,
       "bottom": null,
       "display": null,
       "flex": null,
       "flex_flow": null,
       "grid_area": null,
       "grid_auto_columns": null,
       "grid_auto_flow": null,
       "grid_auto_rows": null,
       "grid_column": null,
       "grid_gap": null,
       "grid_row": null,
       "grid_template_areas": null,
       "grid_template_columns": null,
       "grid_template_rows": null,
       "height": null,
       "justify_content": null,
       "justify_items": null,
       "left": null,
       "margin": null,
       "max_height": null,
       "max_width": null,
       "min_height": null,
       "min_width": null,
       "object_fit": null,
       "object_position": null,
       "order": null,
       "overflow": null,
       "padding": null,
       "right": null,
       "top": null,
       "visibility": null,
       "width": null
      }
     },
     "4f7b81b8a9594ae3b9841e052cb92e93": {
      "model_module": "@jupyter-widgets/controls",
      "model_module_version": "2.0.0",
      "model_name": "HTMLStyleModel",
      "state": {
       "_model_module": "@jupyter-widgets/controls",
       "_model_module_version": "2.0.0",
       "_model_name": "HTMLStyleModel",
       "_view_count": null,
       "_view_module": "@jupyter-widgets/base",
       "_view_module_version": "2.0.0",
       "_view_name": "StyleView",
       "background": null,
       "description_width": "",
       "font_size": null,
       "text_color": null
      }
     },
     "53dc1828cea749a4a5cc3d13bdb80496": {
      "model_module": "@jupyter-widgets/base",
      "model_module_version": "2.0.0",
      "model_name": "LayoutModel",
      "state": {
       "_model_module": "@jupyter-widgets/base",
       "_model_module_version": "2.0.0",
       "_model_name": "LayoutModel",
       "_view_count": null,
       "_view_module": "@jupyter-widgets/base",
       "_view_module_version": "2.0.0",
       "_view_name": "LayoutView",
       "align_content": null,
       "align_items": null,
       "align_self": null,
       "border_bottom": null,
       "border_left": null,
       "border_right": null,
       "border_top": null,
       "bottom": null,
       "display": null,
       "flex": null,
       "flex_flow": null,
       "grid_area": null,
       "grid_auto_columns": null,
       "grid_auto_flow": null,
       "grid_auto_rows": null,
       "grid_column": null,
       "grid_gap": null,
       "grid_row": null,
       "grid_template_areas": null,
       "grid_template_columns": null,
       "grid_template_rows": null,
       "height": null,
       "justify_content": null,
       "justify_items": null,
       "left": null,
       "margin": null,
       "max_height": null,
       "max_width": null,
       "min_height": null,
       "min_width": null,
       "object_fit": null,
       "object_position": null,
       "order": null,
       "overflow": null,
       "padding": null,
       "right": null,
       "top": null,
       "visibility": null,
       "width": null
      }
     },
     "59d0b93d891248d2b0f1977ab779b01b": {
      "model_module": "@jupyter-widgets/controls",
      "model_module_version": "2.0.0",
      "model_name": "HBoxModel",
      "state": {
       "_dom_classes": [],
       "_model_module": "@jupyter-widgets/controls",
       "_model_module_version": "2.0.0",
       "_model_name": "HBoxModel",
       "_view_count": null,
       "_view_module": "@jupyter-widgets/controls",
       "_view_module_version": "2.0.0",
       "_view_name": "HBoxView",
       "box_style": "",
       "children": [
        "IPY_MODEL_c5e37857639b413bb502c0e8b1acfa32",
        "IPY_MODEL_74c29fea1ec04f3381983562162301f0",
        "IPY_MODEL_a394c5c257254e7ca8f6620b046e3472"
       ],
       "layout": "IPY_MODEL_bd6581a503ee4f34a2cd53138065060c",
       "tabbable": null,
       "tooltip": null
      }
     },
     "5d65016c763d430abc304a2afd316f21": {
      "model_module": "@jupyter-widgets/controls",
      "model_module_version": "2.0.0",
      "model_name": "FloatProgressModel",
      "state": {
       "_dom_classes": [],
       "_model_module": "@jupyter-widgets/controls",
       "_model_module_version": "2.0.0",
       "_model_name": "FloatProgressModel",
       "_view_count": null,
       "_view_module": "@jupyter-widgets/controls",
       "_view_module_version": "2.0.0",
       "_view_name": "ProgressView",
       "bar_style": "success",
       "description": "",
       "description_allow_html": false,
       "layout": "IPY_MODEL_7c6d5db62fdb48a1a45d2e922bd97e38",
       "max": 1.0,
       "min": 0.0,
       "orientation": "horizontal",
       "style": "IPY_MODEL_da3d0edb2edb451099f72c958c8252e8",
       "tabbable": null,
       "tooltip": null,
       "value": 1.0
      }
     },
     "5f500c45ecee4adbbf6ecb86830b6f0a": {
      "model_module": "@jupyter-widgets/controls",
      "model_module_version": "2.0.0",
      "model_name": "HTMLModel",
      "state": {
       "_dom_classes": [],
       "_model_module": "@jupyter-widgets/controls",
       "_model_module_version": "2.0.0",
       "_model_name": "HTMLModel",
       "_view_count": null,
       "_view_module": "@jupyter-widgets/controls",
       "_view_module_version": "2.0.0",
       "_view_name": "HTMLView",
       "description": "",
       "description_allow_html": false,
       "layout": "IPY_MODEL_ef9bb6dfa1084b91ace916cc34233d98",
       "placeholder": "​",
       "style": "IPY_MODEL_24c85a7123404c4784fe65aa2aa236a3",
       "tabbable": null,
       "tooltip": null,
       "value": "README.md: 100%"
      }
     },
     "682649234420470eaa14516a650d2976": {
      "model_module": "@jupyter-widgets/controls",
      "model_module_version": "2.0.0",
      "model_name": "HBoxModel",
      "state": {
       "_dom_classes": [],
       "_model_module": "@jupyter-widgets/controls",
       "_model_module_version": "2.0.0",
       "_model_name": "HBoxModel",
       "_view_count": null,
       "_view_module": "@jupyter-widgets/controls",
       "_view_module_version": "2.0.0",
       "_view_name": "HBoxView",
       "box_style": "",
       "children": [
        "IPY_MODEL_cc1153845a8442bbaef79800032412ee",
        "IPY_MODEL_09158894e7464c3bb4de8fbcbf7c3974",
        "IPY_MODEL_7fe6c74efb6042febaba48a5f2c29b13"
       ],
       "layout": "IPY_MODEL_2a55cf1cb01e475ea8c7841c63880c19",
       "tabbable": null,
       "tooltip": null
      }
     },
     "708a2b5eb56249169b4a60e358033af4": {
      "model_module": "@jupyter-widgets/controls",
      "model_module_version": "2.0.0",
      "model_name": "HTMLStyleModel",
      "state": {
       "_model_module": "@jupyter-widgets/controls",
       "_model_module_version": "2.0.0",
       "_model_name": "HTMLStyleModel",
       "_view_count": null,
       "_view_module": "@jupyter-widgets/base",
       "_view_module_version": "2.0.0",
       "_view_name": "StyleView",
       "background": null,
       "description_width": "",
       "font_size": null,
       "text_color": null
      }
     },
     "7428830dc05540ee9dc99113b94016fa": {
      "model_module": "@jupyter-widgets/base",
      "model_module_version": "2.0.0",
      "model_name": "LayoutModel",
      "state": {
       "_model_module": "@jupyter-widgets/base",
       "_model_module_version": "2.0.0",
       "_model_name": "LayoutModel",
       "_view_count": null,
       "_view_module": "@jupyter-widgets/base",
       "_view_module_version": "2.0.0",
       "_view_name": "LayoutView",
       "align_content": null,
       "align_items": null,
       "align_self": null,
       "border_bottom": null,
       "border_left": null,
       "border_right": null,
       "border_top": null,
       "bottom": null,
       "display": null,
       "flex": null,
       "flex_flow": null,
       "grid_area": null,
       "grid_auto_columns": null,
       "grid_auto_flow": null,
       "grid_auto_rows": null,
       "grid_column": null,
       "grid_gap": null,
       "grid_row": null,
       "grid_template_areas": null,
       "grid_template_columns": null,
       "grid_template_rows": null,
       "height": null,
       "justify_content": null,
       "justify_items": null,
       "left": null,
       "margin": null,
       "max_height": null,
       "max_width": null,
       "min_height": null,
       "min_width": null,
       "object_fit": null,
       "object_position": null,
       "order": null,
       "overflow": null,
       "padding": null,
       "right": null,
       "top": null,
       "visibility": null,
       "width": null
      }
     },
     "746b5af8acc346fdb02e612ca8760d0d": {
      "model_module": "@jupyter-widgets/controls",
      "model_module_version": "2.0.0",
      "model_name": "HTMLStyleModel",
      "state": {
       "_model_module": "@jupyter-widgets/controls",
       "_model_module_version": "2.0.0",
       "_model_name": "HTMLStyleModel",
       "_view_count": null,
       "_view_module": "@jupyter-widgets/base",
       "_view_module_version": "2.0.0",
       "_view_name": "StyleView",
       "background": null,
       "description_width": "",
       "font_size": null,
       "text_color": null
      }
     },
     "74c29fea1ec04f3381983562162301f0": {
      "model_module": "@jupyter-widgets/controls",
      "model_module_version": "2.0.0",
      "model_name": "FloatProgressModel",
      "state": {
       "_dom_classes": [],
       "_model_module": "@jupyter-widgets/controls",
       "_model_module_version": "2.0.0",
       "_model_name": "FloatProgressModel",
       "_view_count": null,
       "_view_module": "@jupyter-widgets/controls",
       "_view_module_version": "2.0.0",
       "_view_name": "ProgressView",
       "bar_style": "success",
       "description": "",
       "description_allow_html": false,
       "layout": "IPY_MODEL_f8253299de084b53b80ea92a17f6b284",
       "max": 4790520.0,
       "min": 0.0,
       "orientation": "horizontal",
       "style": "IPY_MODEL_185fab68bd2c42369f69e799b7861cff",
       "tabbable": null,
       "tooltip": null,
       "value": 4790520.0
      }
     },
     "7b93f6a87172479087f2f4152f55eb50": {
      "model_module": "@jupyter-widgets/base",
      "model_module_version": "2.0.0",
      "model_name": "LayoutModel",
      "state": {
       "_model_module": "@jupyter-widgets/base",
       "_model_module_version": "2.0.0",
       "_model_name": "LayoutModel",
       "_view_count": null,
       "_view_module": "@jupyter-widgets/base",
       "_view_module_version": "2.0.0",
       "_view_name": "LayoutView",
       "align_content": null,
       "align_items": null,
       "align_self": null,
       "border_bottom": null,
       "border_left": null,
       "border_right": null,
       "border_top": null,
       "bottom": null,
       "display": null,
       "flex": null,
       "flex_flow": null,
       "grid_area": null,
       "grid_auto_columns": null,
       "grid_auto_flow": null,
       "grid_auto_rows": null,
       "grid_column": null,
       "grid_gap": null,
       "grid_row": null,
       "grid_template_areas": null,
       "grid_template_columns": null,
       "grid_template_rows": null,
       "height": null,
       "justify_content": null,
       "justify_items": null,
       "left": null,
       "margin": null,
       "max_height": null,
       "max_width": null,
       "min_height": null,
       "min_width": null,
       "object_fit": null,
       "object_position": null,
       "order": null,
       "overflow": null,
       "padding": null,
       "right": null,
       "top": null,
       "visibility": null,
       "width": null
      }
     },
     "7c6d5db62fdb48a1a45d2e922bd97e38": {
      "model_module": "@jupyter-widgets/base",
      "model_module_version": "2.0.0",
      "model_name": "LayoutModel",
      "state": {
       "_model_module": "@jupyter-widgets/base",
       "_model_module_version": "2.0.0",
       "_model_name": "LayoutModel",
       "_view_count": null,
       "_view_module": "@jupyter-widgets/base",
       "_view_module_version": "2.0.0",
       "_view_name": "LayoutView",
       "align_content": null,
       "align_items": null,
       "align_self": null,
       "border_bottom": null,
       "border_left": null,
       "border_right": null,
       "border_top": null,
       "bottom": null,
       "display": null,
       "flex": null,
       "flex_flow": null,
       "grid_area": null,
       "grid_auto_columns": null,
       "grid_auto_flow": null,
       "grid_auto_rows": null,
       "grid_column": null,
       "grid_gap": null,
       "grid_row": null,
       "grid_template_areas": null,
       "grid_template_columns": null,
       "grid_template_rows": null,
       "height": null,
       "justify_content": null,
       "justify_items": null,
       "left": null,
       "margin": null,
       "max_height": null,
       "max_width": null,
       "min_height": null,
       "min_width": null,
       "object_fit": null,
       "object_position": null,
       "order": null,
       "overflow": null,
       "padding": null,
       "right": null,
       "top": null,
       "visibility": null,
       "width": null
      }
     },
     "7f25827914c145939f9b9200735b86ee": {
      "model_module": "@jupyter-widgets/base",
      "model_module_version": "2.0.0",
      "model_name": "LayoutModel",
      "state": {
       "_model_module": "@jupyter-widgets/base",
       "_model_module_version": "2.0.0",
       "_model_name": "LayoutModel",
       "_view_count": null,
       "_view_module": "@jupyter-widgets/base",
       "_view_module_version": "2.0.0",
       "_view_name": "LayoutView",
       "align_content": null,
       "align_items": null,
       "align_self": null,
       "border_bottom": null,
       "border_left": null,
       "border_right": null,
       "border_top": null,
       "bottom": null,
       "display": null,
       "flex": null,
       "flex_flow": null,
       "grid_area": null,
       "grid_auto_columns": null,
       "grid_auto_flow": null,
       "grid_auto_rows": null,
       "grid_column": null,
       "grid_gap": null,
       "grid_row": null,
       "grid_template_areas": null,
       "grid_template_columns": null,
       "grid_template_rows": null,
       "height": null,
       "justify_content": null,
       "justify_items": null,
       "left": null,
       "margin": null,
       "max_height": null,
       "max_width": null,
       "min_height": null,
       "min_width": null,
       "object_fit": null,
       "object_position": null,
       "order": null,
       "overflow": null,
       "padding": null,
       "right": null,
       "top": null,
       "visibility": null,
       "width": null
      }
     },
     "7fe6c74efb6042febaba48a5f2c29b13": {
      "model_module": "@jupyter-widgets/controls",
      "model_module_version": "2.0.0",
      "model_name": "HTMLModel",
      "state": {
       "_dom_classes": [],
       "_model_module": "@jupyter-widgets/controls",
       "_model_module_version": "2.0.0",
       "_model_name": "HTMLModel",
       "_view_count": null,
       "_view_module": "@jupyter-widgets/controls",
       "_view_module_version": "2.0.0",
       "_view_name": "HTMLView",
       "description": "",
       "description_allow_html": false,
       "layout": "IPY_MODEL_7f25827914c145939f9b9200735b86ee",
       "placeholder": "​",
       "style": "IPY_MODEL_b655c3e78af4426c9be602ba7208e139",
       "tabbable": null,
       "tooltip": null,
       "value": " 3512/3512 [00:00&lt;00:00, 44949.48 examples/s]"
      }
     },
     "8848e76bfb534c39b6db5c95bcc44628": {
      "model_module": "@jupyter-widgets/controls",
      "model_module_version": "2.0.0",
      "model_name": "HTMLModel",
      "state": {
       "_dom_classes": [],
       "_model_module": "@jupyter-widgets/controls",
       "_model_module_version": "2.0.0",
       "_model_name": "HTMLModel",
       "_view_count": null,
       "_view_module": "@jupyter-widgets/controls",
       "_view_module_version": "2.0.0",
       "_view_name": "HTMLView",
       "description": "",
       "description_allow_html": false,
       "layout": "IPY_MODEL_fe9c31f673f34e608aa764ac3edcbd93",
       "placeholder": "​",
       "style": "IPY_MODEL_0319d5f95cd44befa902f4b9f305ddd6",
       "tabbable": null,
       "tooltip": null,
       "value": " 2.82k/2.82k [00:00&lt;00:00, 229kB/s]"
      }
     },
     "96dca271608d4adb861040b27e98a07b": {
      "model_module": "@jupyter-widgets/controls",
      "model_module_version": "2.0.0",
      "model_name": "HTMLStyleModel",
      "state": {
       "_model_module": "@jupyter-widgets/controls",
       "_model_module_version": "2.0.0",
       "_model_name": "HTMLStyleModel",
       "_view_count": null,
       "_view_module": "@jupyter-widgets/base",
       "_view_module_version": "2.0.0",
       "_view_name": "StyleView",
       "background": null,
       "description_width": "",
       "font_size": null,
       "text_color": null
      }
     },
     "9bafb769bb3a434e9e66b147ba246ec1": {
      "model_module": "@jupyter-widgets/controls",
      "model_module_version": "2.0.0",
      "model_name": "HTMLModel",
      "state": {
       "_dom_classes": [],
       "_model_module": "@jupyter-widgets/controls",
       "_model_module_version": "2.0.0",
       "_model_name": "HTMLModel",
       "_view_count": null,
       "_view_module": "@jupyter-widgets/controls",
       "_view_module_version": "2.0.0",
       "_view_name": "HTMLView",
       "description": "",
       "description_allow_html": false,
       "layout": "IPY_MODEL_bbe133bc031d44f7b41bd803c77fe723",
       "placeholder": "​",
       "style": "IPY_MODEL_b2f7754192eb434c8544e46675ebd4db",
       "tabbable": null,
       "tooltip": null,
       "value": "Computing checksums: 100%"
      }
     },
     "a394c5c257254e7ca8f6620b046e3472": {
      "model_module": "@jupyter-widgets/controls",
      "model_module_version": "2.0.0",
      "model_name": "HTMLModel",
      "state": {
       "_dom_classes": [],
       "_model_module": "@jupyter-widgets/controls",
       "_model_module_version": "2.0.0",
       "_model_name": "HTMLModel",
       "_view_count": null,
       "_view_module": "@jupyter-widgets/controls",
       "_view_module_version": "2.0.0",
       "_view_name": "HTMLView",
       "description": "",
       "description_allow_html": false,
       "layout": "IPY_MODEL_f000a096a290403ab382568877cfc352",
       "placeholder": "​",
       "style": "IPY_MODEL_708a2b5eb56249169b4a60e358033af4",
       "tabbable": null,
       "tooltip": null,
       "value": " 4.79M/4.79M [00:00&lt;00:00, 13.5MB/s]"
      }
     },
     "aec7faf995d348e4b9e71a47397cde25": {
      "model_module": "@jupyter-widgets/base",
      "model_module_version": "2.0.0",
      "model_name": "LayoutModel",
      "state": {
       "_model_module": "@jupyter-widgets/base",
       "_model_module_version": "2.0.0",
       "_model_name": "LayoutModel",
       "_view_count": null,
       "_view_module": "@jupyter-widgets/base",
       "_view_module_version": "2.0.0",
       "_view_name": "LayoutView",
       "align_content": null,
       "align_items": null,
       "align_self": null,
       "border_bottom": null,
       "border_left": null,
       "border_right": null,
       "border_top": null,
       "bottom": null,
       "display": null,
       "flex": null,
       "flex_flow": null,
       "grid_area": null,
       "grid_auto_columns": null,
       "grid_auto_flow": null,
       "grid_auto_rows": null,
       "grid_column": null,
       "grid_gap": null,
       "grid_row": null,
       "grid_template_areas": null,
       "grid_template_columns": null,
       "grid_template_rows": null,
       "height": null,
       "justify_content": null,
       "justify_items": null,
       "left": null,
       "margin": null,
       "max_height": null,
       "max_width": null,
       "min_height": null,
       "min_width": null,
       "object_fit": null,
       "object_position": null,
       "order": null,
       "overflow": null,
       "padding": null,
       "right": null,
       "top": null,
       "visibility": null,
       "width": null
      }
     },
     "af723a0d89ec45a7b573ea5b9d7ac661": {
      "model_module": "@jupyter-widgets/controls",
      "model_module_version": "2.0.0",
      "model_name": "HTMLModel",
      "state": {
       "_dom_classes": [],
       "_model_module": "@jupyter-widgets/controls",
       "_model_module_version": "2.0.0",
       "_model_name": "HTMLModel",
       "_view_count": null,
       "_view_module": "@jupyter-widgets/controls",
       "_view_module_version": "2.0.0",
       "_view_name": "HTMLView",
       "description": "",
       "description_allow_html": false,
       "layout": "IPY_MODEL_7b93f6a87172479087f2f4152f55eb50",
       "placeholder": "​",
       "style": "IPY_MODEL_746b5af8acc346fdb02e612ca8760d0d",
       "tabbable": null,
       "tooltip": null,
       "value": " 1/1 [00:00&lt;00:00, 156.02it/s]"
      }
     },
     "b2f7754192eb434c8544e46675ebd4db": {
      "model_module": "@jupyter-widgets/controls",
      "model_module_version": "2.0.0",
      "model_name": "HTMLStyleModel",
      "state": {
       "_model_module": "@jupyter-widgets/controls",
       "_model_module_version": "2.0.0",
       "_model_name": "HTMLStyleModel",
       "_view_count": null,
       "_view_module": "@jupyter-widgets/base",
       "_view_module_version": "2.0.0",
       "_view_name": "StyleView",
       "background": null,
       "description_width": "",
       "font_size": null,
       "text_color": null
      }
     },
     "b655c3e78af4426c9be602ba7208e139": {
      "model_module": "@jupyter-widgets/controls",
      "model_module_version": "2.0.0",
      "model_name": "HTMLStyleModel",
      "state": {
       "_model_module": "@jupyter-widgets/controls",
       "_model_module_version": "2.0.0",
       "_model_name": "HTMLStyleModel",
       "_view_count": null,
       "_view_module": "@jupyter-widgets/base",
       "_view_module_version": "2.0.0",
       "_view_name": "StyleView",
       "background": null,
       "description_width": "",
       "font_size": null,
       "text_color": null
      }
     },
     "bbe133bc031d44f7b41bd803c77fe723": {
      "model_module": "@jupyter-widgets/base",
      "model_module_version": "2.0.0",
      "model_name": "LayoutModel",
      "state": {
       "_model_module": "@jupyter-widgets/base",
       "_model_module_version": "2.0.0",
       "_model_name": "LayoutModel",
       "_view_count": null,
       "_view_module": "@jupyter-widgets/base",
       "_view_module_version": "2.0.0",
       "_view_name": "LayoutView",
       "align_content": null,
       "align_items": null,
       "align_self": null,
       "border_bottom": null,
       "border_left": null,
       "border_right": null,
       "border_top": null,
       "bottom": null,
       "display": null,
       "flex": null,
       "flex_flow": null,
       "grid_area": null,
       "grid_auto_columns": null,
       "grid_auto_flow": null,
       "grid_auto_rows": null,
       "grid_column": null,
       "grid_gap": null,
       "grid_row": null,
       "grid_template_areas": null,
       "grid_template_columns": null,
       "grid_template_rows": null,
       "height": null,
       "justify_content": null,
       "justify_items": null,
       "left": null,
       "margin": null,
       "max_height": null,
       "max_width": null,
       "min_height": null,
       "min_width": null,
       "object_fit": null,
       "object_position": null,
       "order": null,
       "overflow": null,
       "padding": null,
       "right": null,
       "top": null,
       "visibility": null,
       "width": null
      }
     },
     "bd6581a503ee4f34a2cd53138065060c": {
      "model_module": "@jupyter-widgets/base",
      "model_module_version": "2.0.0",
      "model_name": "LayoutModel",
      "state": {
       "_model_module": "@jupyter-widgets/base",
       "_model_module_version": "2.0.0",
       "_model_name": "LayoutModel",
       "_view_count": null,
       "_view_module": "@jupyter-widgets/base",
       "_view_module_version": "2.0.0",
       "_view_name": "LayoutView",
       "align_content": null,
       "align_items": null,
       "align_self": null,
       "border_bottom": null,
       "border_left": null,
       "border_right": null,
       "border_top": null,
       "bottom": null,
       "display": null,
       "flex": null,
       "flex_flow": null,
       "grid_area": null,
       "grid_auto_columns": null,
       "grid_auto_flow": null,
       "grid_auto_rows": null,
       "grid_column": null,
       "grid_gap": null,
       "grid_row": null,
       "grid_template_areas": null,
       "grid_template_columns": null,
       "grid_template_rows": null,
       "height": null,
       "justify_content": null,
       "justify_items": null,
       "left": null,
       "margin": null,
       "max_height": null,
       "max_width": null,
       "min_height": null,
       "min_width": null,
       "object_fit": null,
       "object_position": null,
       "order": null,
       "overflow": null,
       "padding": null,
       "right": null,
       "top": null,
       "visibility": null,
       "width": null
      }
     },
     "c5e37857639b413bb502c0e8b1acfa32": {
      "model_module": "@jupyter-widgets/controls",
      "model_module_version": "2.0.0",
      "model_name": "HTMLModel",
      "state": {
       "_dom_classes": [],
       "_model_module": "@jupyter-widgets/controls",
       "_model_module_version": "2.0.0",
       "_model_name": "HTMLModel",
       "_view_count": null,
       "_view_module": "@jupyter-widgets/controls",
       "_view_module_version": "2.0.0",
       "_view_name": "HTMLView",
       "description": "",
       "description_allow_html": false,
       "layout": "IPY_MODEL_aec7faf995d348e4b9e71a47397cde25",
       "placeholder": "​",
       "style": "IPY_MODEL_96dca271608d4adb861040b27e98a07b",
       "tabbable": null,
       "tooltip": null,
       "value": "combined_dataset.json: 100%"
      }
     },
     "cc1153845a8442bbaef79800032412ee": {
      "model_module": "@jupyter-widgets/controls",
      "model_module_version": "2.0.0",
      "model_name": "HTMLModel",
      "state": {
       "_dom_classes": [],
       "_model_module": "@jupyter-widgets/controls",
       "_model_module_version": "2.0.0",
       "_model_name": "HTMLModel",
       "_view_count": null,
       "_view_module": "@jupyter-widgets/controls",
       "_view_module_version": "2.0.0",
       "_view_name": "HTMLView",
       "description": "",
       "description_allow_html": false,
       "layout": "IPY_MODEL_53dc1828cea749a4a5cc3d13bdb80496",
       "placeholder": "​",
       "style": "IPY_MODEL_4f7b81b8a9594ae3b9841e052cb92e93",
       "tabbable": null,
       "tooltip": null,
       "value": "Generating train split: 100%"
      }
     },
     "da3d0edb2edb451099f72c958c8252e8": {
      "model_module": "@jupyter-widgets/controls",
      "model_module_version": "2.0.0",
      "model_name": "ProgressStyleModel",
      "state": {
       "_model_module": "@jupyter-widgets/controls",
       "_model_module_version": "2.0.0",
       "_model_name": "ProgressStyleModel",
       "_view_count": null,
       "_view_module": "@jupyter-widgets/base",
       "_view_module_version": "2.0.0",
       "_view_name": "StyleView",
       "bar_color": null,
       "description_width": ""
      }
     },
     "dadde3f9aa51487e9cea980e79882a79": {
      "model_module": "@jupyter-widgets/controls",
      "model_module_version": "2.0.0",
      "model_name": "HBoxModel",
      "state": {
       "_dom_classes": [],
       "_model_module": "@jupyter-widgets/controls",
       "_model_module_version": "2.0.0",
       "_model_name": "HBoxModel",
       "_view_count": null,
       "_view_module": "@jupyter-widgets/controls",
       "_view_module_version": "2.0.0",
       "_view_name": "HBoxView",
       "box_style": "",
       "children": [
        "IPY_MODEL_9bafb769bb3a434e9e66b147ba246ec1",
        "IPY_MODEL_5d65016c763d430abc304a2afd316f21",
        "IPY_MODEL_af723a0d89ec45a7b573ea5b9d7ac661"
       ],
       "layout": "IPY_MODEL_ee7cc65ab9d141a78587fb05c53c53d2",
       "tabbable": null,
       "tooltip": null
      }
     },
     "ee7cc65ab9d141a78587fb05c53c53d2": {
      "model_module": "@jupyter-widgets/base",
      "model_module_version": "2.0.0",
      "model_name": "LayoutModel",
      "state": {
       "_model_module": "@jupyter-widgets/base",
       "_model_module_version": "2.0.0",
       "_model_name": "LayoutModel",
       "_view_count": null,
       "_view_module": "@jupyter-widgets/base",
       "_view_module_version": "2.0.0",
       "_view_name": "LayoutView",
       "align_content": null,
       "align_items": null,
       "align_self": null,
       "border_bottom": null,
       "border_left": null,
       "border_right": null,
       "border_top": null,
       "bottom": null,
       "display": null,
       "flex": null,
       "flex_flow": null,
       "grid_area": null,
       "grid_auto_columns": null,
       "grid_auto_flow": null,
       "grid_auto_rows": null,
       "grid_column": null,
       "grid_gap": null,
       "grid_row": null,
       "grid_template_areas": null,
       "grid_template_columns": null,
       "grid_template_rows": null,
       "height": null,
       "justify_content": null,
       "justify_items": null,
       "left": null,
       "margin": null,
       "max_height": null,
       "max_width": null,
       "min_height": null,
       "min_width": null,
       "object_fit": null,
       "object_position": null,
       "order": null,
       "overflow": null,
       "padding": null,
       "right": null,
       "top": null,
       "visibility": null,
       "width": null
      }
     },
     "ef9bb6dfa1084b91ace916cc34233d98": {
      "model_module": "@jupyter-widgets/base",
      "model_module_version": "2.0.0",
      "model_name": "LayoutModel",
      "state": {
       "_model_module": "@jupyter-widgets/base",
       "_model_module_version": "2.0.0",
       "_model_name": "LayoutModel",
       "_view_count": null,
       "_view_module": "@jupyter-widgets/base",
       "_view_module_version": "2.0.0",
       "_view_name": "LayoutView",
       "align_content": null,
       "align_items": null,
       "align_self": null,
       "border_bottom": null,
       "border_left": null,
       "border_right": null,
       "border_top": null,
       "bottom": null,
       "display": null,
       "flex": null,
       "flex_flow": null,
       "grid_area": null,
       "grid_auto_columns": null,
       "grid_auto_flow": null,
       "grid_auto_rows": null,
       "grid_column": null,
       "grid_gap": null,
       "grid_row": null,
       "grid_template_areas": null,
       "grid_template_columns": null,
       "grid_template_rows": null,
       "height": null,
       "justify_content": null,
       "justify_items": null,
       "left": null,
       "margin": null,
       "max_height": null,
       "max_width": null,
       "min_height": null,
       "min_width": null,
       "object_fit": null,
       "object_position": null,
       "order": null,
       "overflow": null,
       "padding": null,
       "right": null,
       "top": null,
       "visibility": null,
       "width": null
      }
     },
     "f000a096a290403ab382568877cfc352": {
      "model_module": "@jupyter-widgets/base",
      "model_module_version": "2.0.0",
      "model_name": "LayoutModel",
      "state": {
       "_model_module": "@jupyter-widgets/base",
       "_model_module_version": "2.0.0",
       "_model_name": "LayoutModel",
       "_view_count": null,
       "_view_module": "@jupyter-widgets/base",
       "_view_module_version": "2.0.0",
       "_view_name": "LayoutView",
       "align_content": null,
       "align_items": null,
       "align_self": null,
       "border_bottom": null,
       "border_left": null,
       "border_right": null,
       "border_top": null,
       "bottom": null,
       "display": null,
       "flex": null,
       "flex_flow": null,
       "grid_area": null,
       "grid_auto_columns": null,
       "grid_auto_flow": null,
       "grid_auto_rows": null,
       "grid_column": null,
       "grid_gap": null,
       "grid_row": null,
       "grid_template_areas": null,
       "grid_template_columns": null,
       "grid_template_rows": null,
       "height": null,
       "justify_content": null,
       "justify_items": null,
       "left": null,
       "margin": null,
       "max_height": null,
       "max_width": null,
       "min_height": null,
       "min_width": null,
       "object_fit": null,
       "object_position": null,
       "order": null,
       "overflow": null,
       "padding": null,
       "right": null,
       "top": null,
       "visibility": null,
       "width": null
      }
     },
     "f8253299de084b53b80ea92a17f6b284": {
      "model_module": "@jupyter-widgets/base",
      "model_module_version": "2.0.0",
      "model_name": "LayoutModel",
      "state": {
       "_model_module": "@jupyter-widgets/base",
       "_model_module_version": "2.0.0",
       "_model_name": "LayoutModel",
       "_view_count": null,
       "_view_module": "@jupyter-widgets/base",
       "_view_module_version": "2.0.0",
       "_view_name": "LayoutView",
       "align_content": null,
       "align_items": null,
       "align_self": null,
       "border_bottom": null,
       "border_left": null,
       "border_right": null,
       "border_top": null,
       "bottom": null,
       "display": null,
       "flex": null,
       "flex_flow": null,
       "grid_area": null,
       "grid_auto_columns": null,
       "grid_auto_flow": null,
       "grid_auto_rows": null,
       "grid_column": null,
       "grid_gap": null,
       "grid_row": null,
       "grid_template_areas": null,
       "grid_template_columns": null,
       "grid_template_rows": null,
       "height": null,
       "justify_content": null,
       "justify_items": null,
       "left": null,
       "margin": null,
       "max_height": null,
       "max_width": null,
       "min_height": null,
       "min_width": null,
       "object_fit": null,
       "object_position": null,
       "order": null,
       "overflow": null,
       "padding": null,
       "right": null,
       "top": null,
       "visibility": null,
       "width": null
      }
     },
     "fe9c31f673f34e608aa764ac3edcbd93": {
      "model_module": "@jupyter-widgets/base",
      "model_module_version": "2.0.0",
      "model_name": "LayoutModel",
      "state": {
       "_model_module": "@jupyter-widgets/base",
       "_model_module_version": "2.0.0",
       "_model_name": "LayoutModel",
       "_view_count": null,
       "_view_module": "@jupyter-widgets/base",
       "_view_module_version": "2.0.0",
       "_view_name": "LayoutView",
       "align_content": null,
       "align_items": null,
       "align_self": null,
       "border_bottom": null,
       "border_left": null,
       "border_right": null,
       "border_top": null,
       "bottom": null,
       "display": null,
       "flex": null,
       "flex_flow": null,
       "grid_area": null,
       "grid_auto_columns": null,
       "grid_auto_flow": null,
       "grid_auto_rows": null,
       "grid_column": null,
       "grid_gap": null,
       "grid_row": null,
       "grid_template_areas": null,
       "grid_template_columns": null,
       "grid_template_rows": null,
       "height": null,
       "justify_content": null,
       "justify_items": null,
       "left": null,
       "margin": null,
       "max_height": null,
       "max_width": null,
       "min_height": null,
       "min_width": null,
       "object_fit": null,
       "object_position": null,
       "order": null,
       "overflow": null,
       "padding": null,
       "right": null,
       "top": null,
       "visibility": null,
       "width": null
      }
     }
    },
    "version_major": 2,
    "version_minor": 0
   }
  }
 },
 "nbformat": 4,
 "nbformat_minor": 5
}
